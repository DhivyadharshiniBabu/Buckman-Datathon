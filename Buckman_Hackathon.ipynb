{
  "cells": [
    {
      "cell_type": "code",
      "execution_count": 3,
      "metadata": {
        "id": "7omok2Lo89U5"
      },
      "outputs": [],
      "source": [
        "import pandas as pd\n",
        "import numpy as np\n",
        "import plotly.express as px\n",
        "from sklearn.preprocessing import LabelEncoder\n",
        "import plotly.graph_objects as go"
      ]
    },
    {
      "cell_type": "code",
      "execution_count": 4,
      "metadata": {
        "colab": {
          "base_uri": "https://localhost:8080/",
          "height": 556
        },
        "id": "di-V0Y5y9D93",
        "outputId": "a249631c-4450-4efc-8a17-781a06458042"
      },
      "outputs": [
        {
          "data": {
            "text/html": [
              "<div>\n",
              "<style scoped>\n",
              "    .dataframe tbody tr th:only-of-type {\n",
              "        vertical-align: middle;\n",
              "    }\n",
              "\n",
              "    .dataframe tbody tr th {\n",
              "        vertical-align: top;\n",
              "    }\n",
              "\n",
              "    .dataframe thead th {\n",
              "        text-align: right;\n",
              "    }\n",
              "</style>\n",
              "<table border=\"1\" class=\"dataframe\">\n",
              "  <thead>\n",
              "    <tr style=\"text-align: right;\">\n",
              "      <th></th>\n",
              "      <th>S. No.</th>\n",
              "      <th>City</th>\n",
              "      <th>Gender</th>\n",
              "      <th>Marital Status</th>\n",
              "      <th>Age</th>\n",
              "      <th>Education</th>\n",
              "      <th>Role</th>\n",
              "      <th>Number of investors in family</th>\n",
              "      <th>Household Income</th>\n",
              "      <th>Percentage of Investment</th>\n",
              "      <th>Source of Awareness about Investment</th>\n",
              "      <th>Knowledge level about different investment product</th>\n",
              "      <th>Knowledge level about sharemarket</th>\n",
              "      <th>Knowledge about Govt. Schemes</th>\n",
              "      <th>Investment Influencer</th>\n",
              "      <th>Investment Experience</th>\n",
              "      <th>Risk Level</th>\n",
              "      <th>Return Earned</th>\n",
              "      <th>Reason for Investment</th>\n",
              "    </tr>\n",
              "  </thead>\n",
              "  <tbody>\n",
              "    <tr>\n",
              "      <th>0</th>\n",
              "      <td>1</td>\n",
              "      <td>New York</td>\n",
              "      <td>Men</td>\n",
              "      <td>Never Married</td>\n",
              "      <td>Early Working</td>\n",
              "      <td>Secondary</td>\n",
              "      <td>Marketing and Sales Executive</td>\n",
              "      <td>2</td>\n",
              "      <td>US$ 2736 to US$ 8205</td>\n",
              "      <td>Don't Want to Reveal</td>\n",
              "      <td>Television</td>\n",
              "      <td>7</td>\n",
              "      <td>9</td>\n",
              "      <td>4</td>\n",
              "      <td>Family Reference</td>\n",
              "      <td>Less Than 1 Year</td>\n",
              "      <td>Low</td>\n",
              "      <td>Negative Return</td>\n",
              "      <td>Tax</td>\n",
              "    </tr>\n",
              "    <tr>\n",
              "      <th>1</th>\n",
              "      <td>2</td>\n",
              "      <td>New York</td>\n",
              "      <td>Women</td>\n",
              "      <td>Married</td>\n",
              "      <td>Early Working</td>\n",
              "      <td>Middle</td>\n",
              "      <td>Advertising and Promotion Executive</td>\n",
              "      <td>2</td>\n",
              "      <td>US$ 19146 to US$ 24615</td>\n",
              "      <td>Don't Want to Reveal</td>\n",
              "      <td>Workers</td>\n",
              "      <td>7</td>\n",
              "      <td>5</td>\n",
              "      <td>2</td>\n",
              "      <td>Workers Reference</td>\n",
              "      <td>Less Than 1 Year</td>\n",
              "      <td>Low</td>\n",
              "      <td>10 to 12</td>\n",
              "      <td>Others</td>\n",
              "    </tr>\n",
              "    <tr>\n",
              "      <th>2</th>\n",
              "      <td>3</td>\n",
              "      <td>Seattle</td>\n",
              "      <td>Women</td>\n",
              "      <td>Married</td>\n",
              "      <td>Early Working</td>\n",
              "      <td>Teritary</td>\n",
              "      <td>Training and Development Executive</td>\n",
              "      <td>2</td>\n",
              "      <td>US$ 2736 to US$ 8205</td>\n",
              "      <td>Above 26%</td>\n",
              "      <td>Family</td>\n",
              "      <td>4</td>\n",
              "      <td>3</td>\n",
              "      <td>2</td>\n",
              "      <td>Friends Reference</td>\n",
              "      <td>Above 9 Years</td>\n",
              "      <td>Low</td>\n",
              "      <td>1 to 4</td>\n",
              "      <td>Return</td>\n",
              "    </tr>\n",
              "    <tr>\n",
              "      <th>3</th>\n",
              "      <td>4</td>\n",
              "      <td>San Francisco</td>\n",
              "      <td>Men</td>\n",
              "      <td>Never Married</td>\n",
              "      <td>Elderly</td>\n",
              "      <td>Uneducated</td>\n",
              "      <td>Training and Development Executive</td>\n",
              "      <td>5</td>\n",
              "      <td>US$ 19146 to US$ 24615</td>\n",
              "      <td>16% to 20%</td>\n",
              "      <td>Family</td>\n",
              "      <td>5</td>\n",
              "      <td>1</td>\n",
              "      <td>3</td>\n",
              "      <td>Friends Reference</td>\n",
              "      <td>7 Years to 9 Years</td>\n",
              "      <td>Low</td>\n",
              "      <td>10 to 12</td>\n",
              "      <td>Tax</td>\n",
              "    </tr>\n",
              "    <tr>\n",
              "      <th>4</th>\n",
              "      <td>5</td>\n",
              "      <td>San Francisco</td>\n",
              "      <td>Men</td>\n",
              "      <td>Married</td>\n",
              "      <td>Prime Working</td>\n",
              "      <td>Primary</td>\n",
              "      <td>Computer and Information System Executive</td>\n",
              "      <td>2</td>\n",
              "      <td>US$ 13676 to US$ 19145</td>\n",
              "      <td>16% to 20%</td>\n",
              "      <td>Workers</td>\n",
              "      <td>6</td>\n",
              "      <td>10</td>\n",
              "      <td>5</td>\n",
              "      <td>Family Reference</td>\n",
              "      <td>Above 9 Years</td>\n",
              "      <td>Low</td>\n",
              "      <td>5 to 6</td>\n",
              "      <td>Fun and Exitement</td>\n",
              "    </tr>\n",
              "  </tbody>\n",
              "</table>\n",
              "</div>"
            ],
            "text/plain": [
              "   S. No.           City Gender Marital Status            Age   Education  \\\n",
              "0       1       New York    Men  Never Married  Early Working   Secondary   \n",
              "1       2       New York  Women        Married  Early Working      Middle   \n",
              "2       3        Seattle  Women        Married  Early Working    Teritary   \n",
              "3       4  San Francisco    Men  Never Married        Elderly  Uneducated   \n",
              "4       5  San Francisco    Men        Married  Prime Working     Primary   \n",
              "\n",
              "                                        Role  Number of investors in family  \\\n",
              "0              Marketing and Sales Executive                              2   \n",
              "1        Advertising and Promotion Executive                              2   \n",
              "2         Training and Development Executive                              2   \n",
              "3         Training and Development Executive                              5   \n",
              "4  Computer and Information System Executive                              2   \n",
              "\n",
              "         Household Income Percentage of Investment  \\\n",
              "0    US$ 2736 to US$ 8205     Don't Want to Reveal   \n",
              "1  US$ 19146 to US$ 24615     Don't Want to Reveal   \n",
              "2    US$ 2736 to US$ 8205                Above 26%   \n",
              "3  US$ 19146 to US$ 24615               16% to 20%   \n",
              "4  US$ 13676 to US$ 19145               16% to 20%   \n",
              "\n",
              "  Source of Awareness about Investment  \\\n",
              "0                           Television   \n",
              "1                              Workers   \n",
              "2                               Family   \n",
              "3                               Family   \n",
              "4                              Workers   \n",
              "\n",
              "   Knowledge level about different investment product  \\\n",
              "0                                                  7    \n",
              "1                                                  7    \n",
              "2                                                  4    \n",
              "3                                                  5    \n",
              "4                                                  6    \n",
              "\n",
              "   Knowledge level about sharemarket  Knowledge about Govt. Schemes  \\\n",
              "0                                  9                              4   \n",
              "1                                  5                              2   \n",
              "2                                  3                              2   \n",
              "3                                  1                              3   \n",
              "4                                 10                              5   \n",
              "\n",
              "  Investment Influencer Investment Experience Risk Level    Return Earned  \\\n",
              "0      Family Reference      Less Than 1 Year        Low  Negative Return   \n",
              "1     Workers Reference      Less Than 1 Year        Low        10 to 12    \n",
              "2     Friends Reference         Above 9 Years        Low           1 to 4   \n",
              "3     Friends Reference    7 Years to 9 Years        Low        10 to 12    \n",
              "4      Family Reference         Above 9 Years        Low           5 to 6   \n",
              "\n",
              "  Reason for Investment  \n",
              "0                   Tax  \n",
              "1                Others  \n",
              "2                Return  \n",
              "3                   Tax  \n",
              "4     Fun and Exitement  "
            ]
          },
          "execution_count": 4,
          "metadata": {},
          "output_type": "execute_result"
        }
      ],
      "source": [
        "# df=pd.read_excel('/content/drive/MyDrive/Buckman/Sample Data for shortlisting.xlsx')\n",
        "# df.head()\n",
        "\n",
        "df=pd.read_excel('C:/DATA SCIENCE/PLACEMENT/Buckman/Sample Data for shortlisting.xlsx')\n",
        "df.head()"
      ]
    },
    {
      "cell_type": "markdown",
      "metadata": {
        "id": "KIfACvMDxkCn"
      },
      "source": [
        "# **Data Cleaning**"
      ]
    },
    {
      "cell_type": "code",
      "execution_count": 5,
      "metadata": {
        "colab": {
          "base_uri": "https://localhost:8080/",
          "height": 604
        },
        "id": "BZW6s5Ty-UKj",
        "outputId": "a721aa4f-2a8a-4dbc-9887-5236d0138a4a"
      },
      "outputs": [
        {
          "data": {
            "text/html": [
              "<div>\n",
              "<style scoped>\n",
              "    .dataframe tbody tr th:only-of-type {\n",
              "        vertical-align: middle;\n",
              "    }\n",
              "\n",
              "    .dataframe tbody tr th {\n",
              "        vertical-align: top;\n",
              "    }\n",
              "\n",
              "    .dataframe thead th {\n",
              "        text-align: right;\n",
              "    }\n",
              "</style>\n",
              "<table border=\"1\" class=\"dataframe\">\n",
              "  <thead>\n",
              "    <tr style=\"text-align: right;\">\n",
              "      <th></th>\n",
              "      <th>City</th>\n",
              "      <th>Gender</th>\n",
              "      <th>Marital Status</th>\n",
              "      <th>Age</th>\n",
              "      <th>Education</th>\n",
              "      <th>Role</th>\n",
              "      <th>Number of investors in family</th>\n",
              "      <th>Household Income</th>\n",
              "      <th>Percentage of Investment</th>\n",
              "      <th>Source of Awareness about Investment</th>\n",
              "      <th>Knowledge level about different investment product</th>\n",
              "      <th>Knowledge level about sharemarket</th>\n",
              "      <th>Knowledge about Govt. Schemes</th>\n",
              "      <th>Investment Influencer</th>\n",
              "      <th>Investment Experience</th>\n",
              "      <th>Risk Level</th>\n",
              "      <th>Return Earned</th>\n",
              "      <th>Reason for Investment</th>\n",
              "    </tr>\n",
              "    <tr>\n",
              "      <th>S. No.</th>\n",
              "      <th></th>\n",
              "      <th></th>\n",
              "      <th></th>\n",
              "      <th></th>\n",
              "      <th></th>\n",
              "      <th></th>\n",
              "      <th></th>\n",
              "      <th></th>\n",
              "      <th></th>\n",
              "      <th></th>\n",
              "      <th></th>\n",
              "      <th></th>\n",
              "      <th></th>\n",
              "      <th></th>\n",
              "      <th></th>\n",
              "      <th></th>\n",
              "      <th></th>\n",
              "      <th></th>\n",
              "    </tr>\n",
              "  </thead>\n",
              "  <tbody>\n",
              "    <tr>\n",
              "      <th>1</th>\n",
              "      <td>New York</td>\n",
              "      <td>Men</td>\n",
              "      <td>Never Married</td>\n",
              "      <td>Early Working</td>\n",
              "      <td>Secondary</td>\n",
              "      <td>Marketing and Sales Executive</td>\n",
              "      <td>2</td>\n",
              "      <td>US$ 2736 to US$ 8205</td>\n",
              "      <td>Don't Want to Reveal</td>\n",
              "      <td>Television</td>\n",
              "      <td>7</td>\n",
              "      <td>9</td>\n",
              "      <td>4</td>\n",
              "      <td>Family Reference</td>\n",
              "      <td>Less Than 1 Year</td>\n",
              "      <td>Low</td>\n",
              "      <td>Negative Return</td>\n",
              "      <td>Tax</td>\n",
              "    </tr>\n",
              "    <tr>\n",
              "      <th>2</th>\n",
              "      <td>New York</td>\n",
              "      <td>Women</td>\n",
              "      <td>Married</td>\n",
              "      <td>Early Working</td>\n",
              "      <td>Middle</td>\n",
              "      <td>Advertising and Promotion Executive</td>\n",
              "      <td>2</td>\n",
              "      <td>US$ 19146 to US$ 24615</td>\n",
              "      <td>Don't Want to Reveal</td>\n",
              "      <td>Workers</td>\n",
              "      <td>7</td>\n",
              "      <td>5</td>\n",
              "      <td>2</td>\n",
              "      <td>Workers Reference</td>\n",
              "      <td>Less Than 1 Year</td>\n",
              "      <td>Low</td>\n",
              "      <td>10 to 12</td>\n",
              "      <td>Others</td>\n",
              "    </tr>\n",
              "    <tr>\n",
              "      <th>3</th>\n",
              "      <td>Seattle</td>\n",
              "      <td>Women</td>\n",
              "      <td>Married</td>\n",
              "      <td>Early Working</td>\n",
              "      <td>Teritary</td>\n",
              "      <td>Training and Development Executive</td>\n",
              "      <td>2</td>\n",
              "      <td>US$ 2736 to US$ 8205</td>\n",
              "      <td>Above 26%</td>\n",
              "      <td>Family</td>\n",
              "      <td>4</td>\n",
              "      <td>3</td>\n",
              "      <td>2</td>\n",
              "      <td>Friends Reference</td>\n",
              "      <td>Above 9 Years</td>\n",
              "      <td>Low</td>\n",
              "      <td>1 to 4</td>\n",
              "      <td>Return</td>\n",
              "    </tr>\n",
              "    <tr>\n",
              "      <th>4</th>\n",
              "      <td>San Francisco</td>\n",
              "      <td>Men</td>\n",
              "      <td>Never Married</td>\n",
              "      <td>Elderly</td>\n",
              "      <td>Uneducated</td>\n",
              "      <td>Training and Development Executive</td>\n",
              "      <td>5</td>\n",
              "      <td>US$ 19146 to US$ 24615</td>\n",
              "      <td>16% to 20%</td>\n",
              "      <td>Family</td>\n",
              "      <td>5</td>\n",
              "      <td>1</td>\n",
              "      <td>3</td>\n",
              "      <td>Friends Reference</td>\n",
              "      <td>7 Years to 9 Years</td>\n",
              "      <td>Low</td>\n",
              "      <td>10 to 12</td>\n",
              "      <td>Tax</td>\n",
              "    </tr>\n",
              "    <tr>\n",
              "      <th>5</th>\n",
              "      <td>San Francisco</td>\n",
              "      <td>Men</td>\n",
              "      <td>Married</td>\n",
              "      <td>Prime Working</td>\n",
              "      <td>Primary</td>\n",
              "      <td>Computer and Information System Executive</td>\n",
              "      <td>2</td>\n",
              "      <td>US$ 13676 to US$ 19145</td>\n",
              "      <td>16% to 20%</td>\n",
              "      <td>Workers</td>\n",
              "      <td>6</td>\n",
              "      <td>10</td>\n",
              "      <td>5</td>\n",
              "      <td>Family Reference</td>\n",
              "      <td>Above 9 Years</td>\n",
              "      <td>Low</td>\n",
              "      <td>5 to 6</td>\n",
              "      <td>Fun and Exitement</td>\n",
              "    </tr>\n",
              "  </tbody>\n",
              "</table>\n",
              "</div>"
            ],
            "text/plain": [
              "                 City Gender Marital Status            Age   Education  \\\n",
              "S. No.                                                                   \n",
              "1            New York    Men  Never Married  Early Working   Secondary   \n",
              "2            New York  Women        Married  Early Working      Middle   \n",
              "3             Seattle  Women        Married  Early Working    Teritary   \n",
              "4       San Francisco    Men  Never Married        Elderly  Uneducated   \n",
              "5       San Francisco    Men        Married  Prime Working     Primary   \n",
              "\n",
              "                                             Role  \\\n",
              "S. No.                                              \n",
              "1                   Marketing and Sales Executive   \n",
              "2             Advertising and Promotion Executive   \n",
              "3              Training and Development Executive   \n",
              "4              Training and Development Executive   \n",
              "5       Computer and Information System Executive   \n",
              "\n",
              "        Number of investors in family        Household Income  \\\n",
              "S. No.                                                          \n",
              "1                                   2    US$ 2736 to US$ 8205   \n",
              "2                                   2  US$ 19146 to US$ 24615   \n",
              "3                                   2    US$ 2736 to US$ 8205   \n",
              "4                                   5  US$ 19146 to US$ 24615   \n",
              "5                                   2  US$ 13676 to US$ 19145   \n",
              "\n",
              "       Percentage of Investment Source of Awareness about Investment  \\\n",
              "S. No.                                                                 \n",
              "1          Don't Want to Reveal                           Television   \n",
              "2          Don't Want to Reveal                              Workers   \n",
              "3                     Above 26%                               Family   \n",
              "4                    16% to 20%                               Family   \n",
              "5                    16% to 20%                              Workers   \n",
              "\n",
              "        Knowledge level about different investment product  \\\n",
              "S. No.                                                       \n",
              "1                                                       7    \n",
              "2                                                       7    \n",
              "3                                                       4    \n",
              "4                                                       5    \n",
              "5                                                       6    \n",
              "\n",
              "        Knowledge level about sharemarket  Knowledge about Govt. Schemes  \\\n",
              "S. No.                                                                     \n",
              "1                                       9                              4   \n",
              "2                                       5                              2   \n",
              "3                                       3                              2   \n",
              "4                                       1                              3   \n",
              "5                                      10                              5   \n",
              "\n",
              "       Investment Influencer Investment Experience Risk Level  \\\n",
              "S. No.                                                          \n",
              "1           Family Reference      Less Than 1 Year        Low   \n",
              "2          Workers Reference      Less Than 1 Year        Low   \n",
              "3          Friends Reference         Above 9 Years        Low   \n",
              "4          Friends Reference    7 Years to 9 Years        Low   \n",
              "5           Family Reference         Above 9 Years        Low   \n",
              "\n",
              "          Return Earned Reason for Investment  \n",
              "S. No.                                         \n",
              "1       Negative Return                   Tax  \n",
              "2             10 to 12                 Others  \n",
              "3                1 to 4                Return  \n",
              "4             10 to 12                    Tax  \n",
              "5                5 to 6     Fun and Exitement  "
            ]
          },
          "execution_count": 5,
          "metadata": {},
          "output_type": "execute_result"
        }
      ],
      "source": [
        "df.set_index('S. No.',inplace=True)\n",
        "df.head()"
      ]
    },
    {
      "cell_type": "code",
      "execution_count": 6,
      "metadata": {
        "id": "59uXRPNZBS0R"
      },
      "outputs": [],
      "source": [
        "def split_income(value):\n",
        "    value = value.replace(',', '')  # Remove commas if present\n",
        "    if ' to ' in value:\n",
        "        # Split the range and convert to integers\n",
        "        income_range = value.split(' to ')\n",
        "        lower_income = int(''.join(char for char in income_range[0] if char.isdigit()))\n",
        "        upper_income = int(''.join(char for char in income_range[1] if char.isdigit()))\n",
        "    elif 'Above' in value:\n",
        "        # Extract the upper limit from \"Above\" format and set lower limit greater\n",
        "        upper_limit = int(''.join(char for char in value if char.isdigit()))\n",
        "        lower_income = upper_limit + 1  # Set lower income greater than upper limit\n",
        "        upper_income = np.inf\n",
        "    else:\n",
        "        # Convert the single value to integer\n",
        "        lower_income = int(''.join(char for char in value if char.isdigit()))\n",
        "        upper_income = lower_income  # Set upper income equal to lower income for single value\n",
        "    return lower_income, upper_income"
      ]
    },
    {
      "cell_type": "code",
      "execution_count": 7,
      "metadata": {
        "colab": {
          "base_uri": "https://localhost:8080/"
        },
        "id": "2ZMk2RzdnKki",
        "outputId": "22b3e75a-8654-410d-b6b0-8cad2a9d93cb"
      },
      "outputs": [
        {
          "name": "stdout",
          "output_type": "stream",
          "text": [
            "                 City Gender Marital Status            Age   Education  \\\n",
            "S. No.                                                                   \n",
            "1            New York    Men  Never Married  Early Working   Secondary   \n",
            "2            New York  Women        Married  Early Working      Middle   \n",
            "3             Seattle  Women        Married  Early Working    Teritary   \n",
            "4       San Francisco    Men  Never Married        Elderly  Uneducated   \n",
            "5       San Francisco    Men        Married  Prime Working     Primary   \n",
            "...               ...    ...            ...            ...         ...   \n",
            "806           Seattle    Men        Married  Early Working   Secondary   \n",
            "807           Seattle    Men  Never Married       Children   Secondary   \n",
            "808     San Francisco    Men  Never Married       Children  Uneducated   \n",
            "809           Memphis  Women        Married       Children  Uneducated   \n",
            "810          New York    Men  Never Married  Prime Working      Middle   \n",
            "\n",
            "                                             Role  \\\n",
            "S. No.                                              \n",
            "1                   Marketing and Sales Executive   \n",
            "2             Advertising and Promotion Executive   \n",
            "3              Training and Development Executive   \n",
            "4              Training and Development Executive   \n",
            "5       Computer and Information System Executive   \n",
            "...                                           ...   \n",
            "806                                Top Executives   \n",
            "807                                Top Executives   \n",
            "808           Advertising and Promotion Executive   \n",
            "809                 Marketing and Sales Executive   \n",
            "810            Training and Development Executive   \n",
            "\n",
            "        Number of investors in family        Household Income  \\\n",
            "S. No.                                                          \n",
            "1                                   2    US$ 2736 to US$ 8205   \n",
            "2                                   2  US$ 19146 to US$ 24615   \n",
            "3                                   2    US$ 2736 to US$ 8205   \n",
            "4                                   5  US$ 19146 to US$ 24615   \n",
            "5                                   2  US$ 13676 to US$ 19145   \n",
            "...                               ...                     ...   \n",
            "806                                 1                US$ 2735   \n",
            "807                                 4         Above US$ 30086   \n",
            "808                                 1  US$ 13676 to US$ 19145   \n",
            "809                                 3  US$ 19146 to US$ 24615   \n",
            "810                                 1         Above US$ 30086   \n",
            "\n",
            "       Percentage of Investment Source of Awareness about Investment  \\\n",
            "S. No.                                                                 \n",
            "1          Don't Want to Reveal                           Television   \n",
            "2          Don't Want to Reveal                              Workers   \n",
            "3                     Above 26%                               Family   \n",
            "4                    16% to 20%                               Family   \n",
            "5                    16% to 20%                              Workers   \n",
            "...                         ...                                  ...   \n",
            "806        Don't Want to Reveal                              Friends   \n",
            "807                  11% to 15%                             Magazine   \n",
            "808                  11% to 15%                               Others   \n",
            "809                  16% to 20%                              Workers   \n",
            "810                   Above 26%                          Flash Board   \n",
            "\n",
            "        Knowledge level about different investment product  \\\n",
            "S. No.                                                       \n",
            "1                                                       7    \n",
            "2                                                       7    \n",
            "3                                                       4    \n",
            "4                                                       5    \n",
            "5                                                       6    \n",
            "...                                                   ...    \n",
            "806                                                     2    \n",
            "807                                                     1    \n",
            "808                                                     1    \n",
            "809                                                     6    \n",
            "810                                                     3    \n",
            "\n",
            "        Knowledge level about sharemarket  Knowledge about Govt. Schemes  \\\n",
            "S. No.                                                                     \n",
            "1                                       9                              4   \n",
            "2                                       5                              2   \n",
            "3                                       3                              2   \n",
            "4                                       1                              3   \n",
            "5                                      10                              5   \n",
            "...                                   ...                            ...   \n",
            "806                                     3                              1   \n",
            "807                                     9                              3   \n",
            "808                                     5                              5   \n",
            "809                                     5                              2   \n",
            "810                                     1                              4   \n",
            "\n",
            "       Investment Influencer Investment Experience Risk Level  \\\n",
            "S. No.                                                          \n",
            "1           Family Reference      Less Than 1 Year        Low   \n",
            "2          Workers Reference      Less Than 1 Year        Low   \n",
            "3          Friends Reference         Above 9 Years        Low   \n",
            "4          Friends Reference    7 Years to 9 Years        Low   \n",
            "5           Family Reference         Above 9 Years        Low   \n",
            "...                      ...                   ...        ...   \n",
            "806           Intermediaries    7 Years to 9 Years     Medium   \n",
            "807        Workers Reference    7 Years to 9 Years        Low   \n",
            "808             Social Media      Less Than 1 Year       High   \n",
            "809             Social Media     1 Year to 3 Years       High   \n",
            "810             Institutions    4 Years to 6 Years       High   \n",
            "\n",
            "          Return Earned Reason for Investment  Lower Income  Upper Income  \n",
            "S. No.                                                                     \n",
            "1       Negative Return                   Tax        2736.0        8205.0  \n",
            "2             10 to 12                 Others       19146.0       24615.0  \n",
            "3                1 to 4                Return        2736.0        8205.0  \n",
            "4             10 to 12                    Tax       19146.0       24615.0  \n",
            "5                5 to 6     Fun and Exitement       13676.0       19145.0  \n",
            "...                 ...                   ...           ...           ...  \n",
            "806           10 to 12                 Return        2735.0        2735.0  \n",
            "807     Negative Return             Inflation       30087.0           inf  \n",
            "808           10 to 12                    Tax       13676.0       19145.0  \n",
            "809     Negative Return                Return       19146.0       24615.0  \n",
            "810              5 to 6     Fun and Exitement       30087.0           inf  \n",
            "\n",
            "[810 rows x 20 columns]\n"
          ]
        }
      ],
      "source": [
        "df[['Lower Income', 'Upper Income']] = df['Household Income'].apply(lambda x: pd.Series(split_income(x)))\n",
        "\n",
        "print(df)"
      ]
    },
    {
      "cell_type": "code",
      "execution_count": 8,
      "metadata": {
        "colab": {
          "base_uri": "https://localhost:8080/"
        },
        "id": "56-9X4aL0ktB",
        "outputId": "0c21dc72-8008-41c5-d12c-e1eb04c7af70"
      },
      "outputs": [
        {
          "name": "stdout",
          "output_type": "stream",
          "text": [
            "                 City Gender Marital Status            Age   Education  \\\n",
            "S. No.                                                                   \n",
            "1            New York    Men  Never Married  Early Working   Secondary   \n",
            "2            New York  Women        Married  Early Working      Middle   \n",
            "3             Seattle  Women        Married  Early Working    Teritary   \n",
            "4       San Francisco    Men  Never Married        Elderly  Uneducated   \n",
            "5       San Francisco    Men        Married  Prime Working     Primary   \n",
            "...               ...    ...            ...            ...         ...   \n",
            "806           Seattle    Men        Married  Early Working   Secondary   \n",
            "807           Seattle    Men  Never Married       Children   Secondary   \n",
            "808     San Francisco    Men  Never Married       Children  Uneducated   \n",
            "809           Memphis  Women        Married       Children  Uneducated   \n",
            "810          New York    Men  Never Married  Prime Working      Middle   \n",
            "\n",
            "                                             Role  \\\n",
            "S. No.                                              \n",
            "1                   Marketing and Sales Executive   \n",
            "2             Advertising and Promotion Executive   \n",
            "3              Training and Development Executive   \n",
            "4              Training and Development Executive   \n",
            "5       Computer and Information System Executive   \n",
            "...                                           ...   \n",
            "806                                Top Executives   \n",
            "807                                Top Executives   \n",
            "808           Advertising and Promotion Executive   \n",
            "809                 Marketing and Sales Executive   \n",
            "810            Training and Development Executive   \n",
            "\n",
            "        Number of investors in family        Household Income  \\\n",
            "S. No.                                                          \n",
            "1                                   2    US$ 2736 to US$ 8205   \n",
            "2                                   2  US$ 19146 to US$ 24615   \n",
            "3                                   2    US$ 2736 to US$ 8205   \n",
            "4                                   5  US$ 19146 to US$ 24615   \n",
            "5                                   2  US$ 13676 to US$ 19145   \n",
            "...                               ...                     ...   \n",
            "806                                 1                US$ 2735   \n",
            "807                                 4         Above US$ 30086   \n",
            "808                                 1  US$ 13676 to US$ 19145   \n",
            "809                                 3  US$ 19146 to US$ 24615   \n",
            "810                                 1         Above US$ 30086   \n",
            "\n",
            "       Percentage of Investment Source of Awareness about Investment  \\\n",
            "S. No.                                                                 \n",
            "1          Don't Want to Reveal                           Television   \n",
            "2          Don't Want to Reveal                              Workers   \n",
            "3                     Above 26%                               Family   \n",
            "4                    16% to 20%                               Family   \n",
            "5                    16% to 20%                              Workers   \n",
            "...                         ...                                  ...   \n",
            "806        Don't Want to Reveal                              Friends   \n",
            "807                  11% to 15%                             Magazine   \n",
            "808                  11% to 15%                               Others   \n",
            "809                  16% to 20%                              Workers   \n",
            "810                   Above 26%                          Flash Board   \n",
            "\n",
            "        Knowledge level about different investment product  \\\n",
            "S. No.                                                       \n",
            "1                                                       7    \n",
            "2                                                       7    \n",
            "3                                                       4    \n",
            "4                                                       5    \n",
            "5                                                       6    \n",
            "...                                                   ...    \n",
            "806                                                     2    \n",
            "807                                                     1    \n",
            "808                                                     1    \n",
            "809                                                     6    \n",
            "810                                                     3    \n",
            "\n",
            "        Knowledge level about sharemarket  Knowledge about Govt. Schemes  \\\n",
            "S. No.                                                                     \n",
            "1                                       9                              4   \n",
            "2                                       5                              2   \n",
            "3                                       3                              2   \n",
            "4                                       1                              3   \n",
            "5                                      10                              5   \n",
            "...                                   ...                            ...   \n",
            "806                                     3                              1   \n",
            "807                                     9                              3   \n",
            "808                                     5                              5   \n",
            "809                                     5                              2   \n",
            "810                                     1                              4   \n",
            "\n",
            "       Investment Influencer Investment Experience Risk Level  \\\n",
            "S. No.                                                          \n",
            "1           Family Reference      Less Than 1 Year        Low   \n",
            "2          Workers Reference      Less Than 1 Year        Low   \n",
            "3          Friends Reference         Above 9 Years        Low   \n",
            "4          Friends Reference    7 Years to 9 Years        Low   \n",
            "5           Family Reference         Above 9 Years        Low   \n",
            "...                      ...                   ...        ...   \n",
            "806           Intermediaries    7 Years to 9 Years     Medium   \n",
            "807        Workers Reference    7 Years to 9 Years        Low   \n",
            "808             Social Media      Less Than 1 Year       High   \n",
            "809             Social Media     1 Year to 3 Years       High   \n",
            "810             Institutions    4 Years to 6 Years       High   \n",
            "\n",
            "          Return Earned Reason for Investment  Lower Income  Upper Income  \n",
            "S. No.                                                                     \n",
            "1       Negative Return                   Tax        2736.0        8205.0  \n",
            "2             10 to 12                 Others       19146.0       24615.0  \n",
            "3                1 to 4                Return        2736.0        8205.0  \n",
            "4             10 to 12                    Tax       19146.0       24615.0  \n",
            "5                5 to 6     Fun and Exitement       13676.0       19145.0  \n",
            "...                 ...                   ...           ...           ...  \n",
            "806           10 to 12                 Return        2735.0        2735.0  \n",
            "807     Negative Return             Inflation       30087.0           inf  \n",
            "808           10 to 12                    Tax       13676.0       19145.0  \n",
            "809     Negative Return                Return       19146.0       24615.0  \n",
            "810              5 to 6     Fun and Exitement       30087.0           inf  \n",
            "\n",
            "[810 rows x 20 columns]\n"
          ]
        }
      ],
      "source": [
        "mean=df['Upper Income'].mean()\n",
        "mean_without_inf = df[df['Upper Income'] != np.inf]['Upper Income'].mean()\n",
        "df['Upper Income'] = np.where((df['Upper Income'] == np.inf) & (mean_without_inf > df['Lower Income']),\n",
        "                              mean_without_inf, df['Upper Income'])\n",
        "df['Upper Income']=df['Upper Income'].round(1)\n",
        "print(df)"
      ]
    },
    {
      "cell_type": "code",
      "execution_count": 9,
      "metadata": {
        "colab": {
          "base_uri": "https://localhost:8080/"
        },
        "id": "doLe28m5AGME",
        "outputId": "aa90964e-bc01-4419-a09c-654b3946c80c"
      },
      "outputs": [
        {
          "name": "stdout",
          "output_type": "stream",
          "text": [
            "                 City Gender Marital Status            Age   Education  \\\n",
            "S. No.                                                                   \n",
            "1            New York    Men  Never Married  Early Working   Secondary   \n",
            "2            New York  Women        Married  Early Working      Middle   \n",
            "3             Seattle  Women        Married  Early Working    Teritary   \n",
            "4       San Francisco    Men  Never Married        Elderly  Uneducated   \n",
            "5       San Francisco    Men        Married  Prime Working     Primary   \n",
            "...               ...    ...            ...            ...         ...   \n",
            "806           Seattle    Men        Married  Early Working   Secondary   \n",
            "807           Seattle    Men  Never Married       Children   Secondary   \n",
            "808     San Francisco    Men  Never Married       Children  Uneducated   \n",
            "809           Memphis  Women        Married       Children  Uneducated   \n",
            "810          New York    Men  Never Married  Prime Working      Middle   \n",
            "\n",
            "                                             Role  \\\n",
            "S. No.                                              \n",
            "1                   Marketing and Sales Executive   \n",
            "2             Advertising and Promotion Executive   \n",
            "3              Training and Development Executive   \n",
            "4              Training and Development Executive   \n",
            "5       Computer and Information System Executive   \n",
            "...                                           ...   \n",
            "806                                Top Executives   \n",
            "807                                Top Executives   \n",
            "808           Advertising and Promotion Executive   \n",
            "809                 Marketing and Sales Executive   \n",
            "810            Training and Development Executive   \n",
            "\n",
            "        Number of investors in family        Household Income  \\\n",
            "S. No.                                                          \n",
            "1                                   2    US$ 2736 to US$ 8205   \n",
            "2                                   2  US$ 19146 to US$ 24615   \n",
            "3                                   2    US$ 2736 to US$ 8205   \n",
            "4                                   5  US$ 19146 to US$ 24615   \n",
            "5                                   2  US$ 13676 to US$ 19145   \n",
            "...                               ...                     ...   \n",
            "806                                 1                US$ 2735   \n",
            "807                                 4         Above US$ 30086   \n",
            "808                                 1  US$ 13676 to US$ 19145   \n",
            "809                                 3  US$ 19146 to US$ 24615   \n",
            "810                                 1         Above US$ 30086   \n",
            "\n",
            "       Percentage of Investment Source of Awareness about Investment  \\\n",
            "S. No.                                                                 \n",
            "1          Don't Want to Reveal                           Television   \n",
            "2          Don't Want to Reveal                              Workers   \n",
            "3                     Above 26%                               Family   \n",
            "4                    16% to 20%                               Family   \n",
            "5                    16% to 20%                              Workers   \n",
            "...                         ...                                  ...   \n",
            "806        Don't Want to Reveal                              Friends   \n",
            "807                  11% to 15%                             Magazine   \n",
            "808                  11% to 15%                               Others   \n",
            "809                  16% to 20%                              Workers   \n",
            "810                   Above 26%                          Flash Board   \n",
            "\n",
            "        Knowledge level about different investment product  \\\n",
            "S. No.                                                       \n",
            "1                                                       7    \n",
            "2                                                       7    \n",
            "3                                                       4    \n",
            "4                                                       5    \n",
            "5                                                       6    \n",
            "...                                                   ...    \n",
            "806                                                     2    \n",
            "807                                                     1    \n",
            "808                                                     1    \n",
            "809                                                     6    \n",
            "810                                                     3    \n",
            "\n",
            "        Knowledge level about sharemarket  Knowledge about Govt. Schemes  \\\n",
            "S. No.                                                                     \n",
            "1                                       9                              4   \n",
            "2                                       5                              2   \n",
            "3                                       3                              2   \n",
            "4                                       1                              3   \n",
            "5                                      10                              5   \n",
            "...                                   ...                            ...   \n",
            "806                                     3                              1   \n",
            "807                                     9                              3   \n",
            "808                                     5                              5   \n",
            "809                                     5                              2   \n",
            "810                                     1                              4   \n",
            "\n",
            "       Investment Influencer Investment Experience Risk Level  \\\n",
            "S. No.                                                          \n",
            "1           Family Reference      Less Than 1 Year        Low   \n",
            "2          Workers Reference      Less Than 1 Year        Low   \n",
            "3          Friends Reference         Above 9 Years        Low   \n",
            "4          Friends Reference    7 Years to 9 Years        Low   \n",
            "5           Family Reference         Above 9 Years        Low   \n",
            "...                      ...                   ...        ...   \n",
            "806           Intermediaries    7 Years to 9 Years     Medium   \n",
            "807        Workers Reference    7 Years to 9 Years        Low   \n",
            "808             Social Media      Less Than 1 Year       High   \n",
            "809             Social Media     1 Year to 3 Years       High   \n",
            "810             Institutions    4 Years to 6 Years       High   \n",
            "\n",
            "          Return Earned Reason for Investment  Lower Income  Upper Income  \n",
            "S. No.                                                                     \n",
            "1       Negative Return                   Tax        2736.0        8205.0  \n",
            "2             10 to 12                 Others       19146.0       24615.0  \n",
            "3                1 to 4                Return        2736.0        8205.0  \n",
            "4             10 to 12                    Tax       19146.0       24615.0  \n",
            "5                5 to 6     Fun and Exitement       13676.0       19145.0  \n",
            "...                 ...                   ...           ...           ...  \n",
            "806           10 to 12                 Return        2735.0        2735.0  \n",
            "807     Negative Return             Inflation       30087.0      100000.0  \n",
            "808           10 to 12                    Tax       13676.0       19145.0  \n",
            "809     Negative Return                Return       19146.0       24615.0  \n",
            "810              5 to 6     Fun and Exitement       30087.0      100000.0  \n",
            "\n",
            "[810 rows x 20 columns]\n"
          ]
        }
      ],
      "source": [
        "df['Upper Income'] = df['Upper Income'].replace(np.inf, 100000)\n",
        "print(df)"
      ]
    },
    {
      "cell_type": "code",
      "execution_count": 10,
      "metadata": {
        "id": "Kee35JeTpr3V"
      },
      "outputs": [],
      "source": [
        "def clean_percentage(value):\n",
        "    lower_limit = np.nan\n",
        "    upper_limit = np.nan\n",
        "\n",
        "    if 'Above' in value:\n",
        "        digits = ''.join(char for char in value if char.isdigit())\n",
        "        if digits:\n",
        "            upper_limit = int(digits)\n",
        "            lower_limit = upper_limit + 1\n",
        "    elif 'Upto' in value:\n",
        "        digits = ''.join(char for char in value if char.isdigit())\n",
        "        if digits:\n",
        "            lower_limit = 0\n",
        "            upper_limit = int(digits)\n",
        "    elif ' to ' in value:\n",
        "        value_range = value.split(' to ')\n",
        "        if len(value_range) >= 2:\n",
        "            lower_limit_str = value_range[0].rstrip('%')\n",
        "            upper_limit_str = value_range[1].rstrip('%')\n",
        "            if lower_limit_str.isdigit() and upper_limit_str.isdigit():\n",
        "                lower_limit = int(lower_limit_str)\n",
        "                upper_limit = int(upper_limit_str)\n",
        "    elif \"Don't want to reveal\" in value:\n",
        "        lower_limit = np.nan\n",
        "        upper_limit = np.nan\n",
        "    elif value.isdigit():\n",
        "        lower_limit = int(value)\n",
        "        upper_limit = lower_limit\n",
        "\n",
        "    return lower_limit, upper_limit"
      ]
    },
    {
      "cell_type": "code",
      "execution_count": 11,
      "metadata": {
        "colab": {
          "base_uri": "https://localhost:8080/"
        },
        "id": "Q61QNRpVYQva",
        "outputId": "d3838dfa-fe67-4282-a199-dd51989c0509"
      },
      "outputs": [
        {
          "name": "stdout",
          "output_type": "stream",
          "text": [
            "                 City Gender Marital Status             Age   Education  \\\n",
            "S. No.                                                                    \n",
            "1            New York    Men  Never Married   Early Working   Secondary   \n",
            "2            New York  Women        Married   Early Working      Middle   \n",
            "3             Seattle  Women        Married   Early Working    Teritary   \n",
            "4       San Francisco    Men  Never Married         Elderly  Uneducated   \n",
            "5       San Francisco    Men        Married   Prime Working     Primary   \n",
            "6             Memphis  Women  Never Married   Prime Working     Primary   \n",
            "7             Seattle  Women  Never Married   Prime Working    Teritary   \n",
            "8             Houston  Women  Never Married  Mature Working      Middle   \n",
            "9       San Francisco  Women  Never Married         Elderly      Middle   \n",
            "10      San Francisco    Men        Married        Children   Secondary   \n",
            "\n",
            "                                             Role  \\\n",
            "S. No.                                              \n",
            "1                   Marketing and Sales Executive   \n",
            "2             Advertising and Promotion Executive   \n",
            "3              Training and Development Executive   \n",
            "4              Training and Development Executive   \n",
            "5       Computer and Information System Executive   \n",
            "6                   Marketing and Sales Executive   \n",
            "7              Training and Development Executive   \n",
            "8                                  Top Executives   \n",
            "9                   Marketing and Sales Executive   \n",
            "10                                 Top Executives   \n",
            "\n",
            "        Number of investors in family        Household Income  \\\n",
            "S. No.                                                          \n",
            "1                                   2    US$ 2736 to US$ 8205   \n",
            "2                                   2  US$ 19146 to US$ 24615   \n",
            "3                                   2    US$ 2736 to US$ 8205   \n",
            "4                                   5  US$ 19146 to US$ 24615   \n",
            "5                                   2  US$ 13676 to US$ 19145   \n",
            "6                                   5  US$ 19146 to US$ 24615   \n",
            "7                                   5  US$ 19146 to US$ 24615   \n",
            "8                                   3         Above US$ 30086   \n",
            "9                                   3  US$ 24616 to US$ 30085   \n",
            "10                                  1  US$ 13676 to US$ 19145   \n",
            "\n",
            "       Percentage of Investment Source of Awareness about Investment  ...  \\\n",
            "S. No.                                                                ...   \n",
            "1          Don't Want to Reveal                           Television  ...   \n",
            "2          Don't Want to Reveal                              Workers  ...   \n",
            "3                     Above 26%                               Family  ...   \n",
            "4                    16% to 20%                               Family  ...   \n",
            "5                    16% to 20%                              Workers  ...   \n",
            "6                    21% to 25%                             Magazine  ...   \n",
            "7                       Upto 5%                             Magazine  ...   \n",
            "8                    11% to 15%                               Others  ...   \n",
            "9                    21% to 25%                             Magazine  ...   \n",
            "10                    6% to 10%                          Flash Board  ...   \n",
            "\n",
            "        Knowledge about Govt. Schemes  Investment Influencer  \\\n",
            "S. No.                                                         \n",
            "1                                   4       Family Reference   \n",
            "2                                   2      Workers Reference   \n",
            "3                                   2      Friends Reference   \n",
            "4                                   3      Friends Reference   \n",
            "5                                   5       Family Reference   \n",
            "6                                   1           Institutions   \n",
            "7                                   4                 Others   \n",
            "8                                   4       Family Reference   \n",
            "9                                   3                 Others   \n",
            "10                                  3       Family Reference   \n",
            "\n",
            "        Investment Experience Risk Level    Return Earned  \\\n",
            "S. No.                                                      \n",
            "1            Less Than 1 Year        Low  Negative Return   \n",
            "2            Less Than 1 Year        Low        10 to 12    \n",
            "3               Above 9 Years        Low           1 to 4   \n",
            "4          7 Years to 9 Years        Low        10 to 12    \n",
            "5               Above 9 Years        Low           5 to 6   \n",
            "6            Less Than 1 Year       High  Negative Return   \n",
            "7           1 Year to 3 Years        Low  Negative Return   \n",
            "8          4 Years to 6 Years        Low           1 to 4   \n",
            "9          4 Years to 6 Years     Medium  Negative Return   \n",
            "10         4 Years to 6 Years       High        10 to 12    \n",
            "\n",
            "       Reason for Investment Lower Income Upper Income  Lower Percentage  \\\n",
            "S. No.                                                                     \n",
            "1                        Tax       2736.0       8205.0               NaN   \n",
            "2                     Others      19146.0      24615.0               NaN   \n",
            "3                     Return       2736.0       8205.0              27.0   \n",
            "4                        Tax      19146.0      24615.0              16.0   \n",
            "5          Fun and Exitement      13676.0      19145.0              16.0   \n",
            "6                     Status      19146.0      24615.0              21.0   \n",
            "7                     Others      19146.0      24615.0               0.0   \n",
            "8                     Others      30087.0     100000.0              11.0   \n",
            "9          Fun and Exitement      24616.0      30085.0              21.0   \n",
            "10                 Inflation      13676.0      19145.0               6.0   \n",
            "\n",
            "        Upper Percentage  \n",
            "S. No.                    \n",
            "1                    NaN  \n",
            "2                    NaN  \n",
            "3                   26.0  \n",
            "4                   20.0  \n",
            "5                   20.0  \n",
            "6                   25.0  \n",
            "7                    5.0  \n",
            "8                   15.0  \n",
            "9                   25.0  \n",
            "10                  10.0  \n",
            "\n",
            "[10 rows x 22 columns]\n"
          ]
        }
      ],
      "source": [
        "df[['Lower Percentage', 'Upper Percentage']] = df['Percentage of Investment'].apply(lambda x: pd.Series(clean_percentage(x)))\n",
        "\n",
        "# Display the modified DataFrame\n",
        "print(df.head(10))"
      ]
    },
    {
      "cell_type": "code",
      "execution_count": 12,
      "metadata": {
        "colab": {
          "base_uri": "https://localhost:8080/"
        },
        "id": "hNs9AmuAcVCg",
        "outputId": "92e91c2f-21a3-4c31-fc02-7c9af8fdb8d8"
      },
      "outputs": [
        {
          "name": "stdout",
          "output_type": "stream",
          "text": [
            "                 City Gender Marital Status            Age   Education  \\\n",
            "S. No.                                                                   \n",
            "1            New York    Men  Never Married  Early Working   Secondary   \n",
            "2            New York  Women        Married  Early Working      Middle   \n",
            "3             Seattle  Women        Married  Early Working    Teritary   \n",
            "4       San Francisco    Men  Never Married        Elderly  Uneducated   \n",
            "5       San Francisco    Men        Married  Prime Working     Primary   \n",
            "...               ...    ...            ...            ...         ...   \n",
            "806           Seattle    Men        Married  Early Working   Secondary   \n",
            "807           Seattle    Men  Never Married       Children   Secondary   \n",
            "808     San Francisco    Men  Never Married       Children  Uneducated   \n",
            "809           Memphis  Women        Married       Children  Uneducated   \n",
            "810          New York    Men  Never Married  Prime Working      Middle   \n",
            "\n",
            "                                             Role  \\\n",
            "S. No.                                              \n",
            "1                   Marketing and Sales Executive   \n",
            "2             Advertising and Promotion Executive   \n",
            "3              Training and Development Executive   \n",
            "4              Training and Development Executive   \n",
            "5       Computer and Information System Executive   \n",
            "...                                           ...   \n",
            "806                                Top Executives   \n",
            "807                                Top Executives   \n",
            "808           Advertising and Promotion Executive   \n",
            "809                 Marketing and Sales Executive   \n",
            "810            Training and Development Executive   \n",
            "\n",
            "        Number of investors in family        Household Income  \\\n",
            "S. No.                                                          \n",
            "1                                   2    US$ 2736 to US$ 8205   \n",
            "2                                   2  US$ 19146 to US$ 24615   \n",
            "3                                   2    US$ 2736 to US$ 8205   \n",
            "4                                   5  US$ 19146 to US$ 24615   \n",
            "5                                   2  US$ 13676 to US$ 19145   \n",
            "...                               ...                     ...   \n",
            "806                                 1                US$ 2735   \n",
            "807                                 4         Above US$ 30086   \n",
            "808                                 1  US$ 13676 to US$ 19145   \n",
            "809                                 3  US$ 19146 to US$ 24615   \n",
            "810                                 1         Above US$ 30086   \n",
            "\n",
            "       Percentage of Investment Source of Awareness about Investment  ...  \\\n",
            "S. No.                                                                ...   \n",
            "1          Don't Want to Reveal                           Television  ...   \n",
            "2          Don't Want to Reveal                              Workers  ...   \n",
            "3                     Above 26%                               Family  ...   \n",
            "4                    16% to 20%                               Family  ...   \n",
            "5                    16% to 20%                              Workers  ...   \n",
            "...                         ...                                  ...  ...   \n",
            "806        Don't Want to Reveal                              Friends  ...   \n",
            "807                  11% to 15%                             Magazine  ...   \n",
            "808                  11% to 15%                               Others  ...   \n",
            "809                  16% to 20%                              Workers  ...   \n",
            "810                   Above 26%                          Flash Board  ...   \n",
            "\n",
            "        Knowledge about Govt. Schemes  Investment Influencer  \\\n",
            "S. No.                                                         \n",
            "1                                   4       Family Reference   \n",
            "2                                   2      Workers Reference   \n",
            "3                                   2      Friends Reference   \n",
            "4                                   3      Friends Reference   \n",
            "5                                   5       Family Reference   \n",
            "...                               ...                    ...   \n",
            "806                                 1         Intermediaries   \n",
            "807                                 3      Workers Reference   \n",
            "808                                 5           Social Media   \n",
            "809                                 2           Social Media   \n",
            "810                                 4           Institutions   \n",
            "\n",
            "        Investment Experience Risk Level    Return Earned  \\\n",
            "S. No.                                                      \n",
            "1            Less Than 1 Year        Low  Negative Return   \n",
            "2            Less Than 1 Year        Low        10 to 12    \n",
            "3               Above 9 Years        Low           1 to 4   \n",
            "4          7 Years to 9 Years        Low        10 to 12    \n",
            "5               Above 9 Years        Low           5 to 6   \n",
            "...                       ...        ...              ...   \n",
            "806        7 Years to 9 Years     Medium        10 to 12    \n",
            "807        7 Years to 9 Years        Low  Negative Return   \n",
            "808          Less Than 1 Year       High        10 to 12    \n",
            "809         1 Year to 3 Years       High  Negative Return   \n",
            "810        4 Years to 6 Years       High           5 to 6   \n",
            "\n",
            "       Reason for Investment Lower Income Upper Income  Lower Percentage  \\\n",
            "S. No.                                                                     \n",
            "1                        Tax       2736.0       8205.0              13.6   \n",
            "2                     Others      19146.0      24615.0              13.6   \n",
            "3                     Return       2736.0       8205.0              27.0   \n",
            "4                        Tax      19146.0      24615.0              16.0   \n",
            "5          Fun and Exitement      13676.0      19145.0              16.0   \n",
            "...                      ...          ...          ...               ...   \n",
            "806                   Return       2735.0       2735.0              13.6   \n",
            "807                Inflation      30087.0     100000.0              11.0   \n",
            "808                      Tax      13676.0      19145.0              11.0   \n",
            "809                   Return      19146.0      24615.0              16.0   \n",
            "810        Fun and Exitement      30087.0     100000.0              27.0   \n",
            "\n",
            "        Upper Percentage  \n",
            "S. No.                    \n",
            "1                   16.8  \n",
            "2                   16.8  \n",
            "3                   26.0  \n",
            "4                   20.0  \n",
            "5                   20.0  \n",
            "...                  ...  \n",
            "806                 16.8  \n",
            "807                 15.0  \n",
            "808                 15.0  \n",
            "809                 20.0  \n",
            "810                 26.0  \n",
            "\n",
            "[810 rows x 22 columns]\n"
          ]
        }
      ],
      "source": [
        "mean=df['Lower Percentage'].mean()\n",
        "df['Lower Percentage'].fillna(mean,inplace=True)\n",
        "df['Lower Percentage']=df['Lower Percentage'].round(1)\n",
        "mean=df['Upper Percentage'].mean()\n",
        "df['Upper Percentage'].fillna(mean,inplace=True)\n",
        "df['Upper Percentage']=df['Upper Percentage'].round(1)\n",
        "print(df)"
      ]
    },
    {
      "cell_type": "code",
      "execution_count": 13,
      "metadata": {
        "id": "kcDhiZYDhAXv"
      },
      "outputs": [],
      "source": [
        "def clean_experience(value):\n",
        "    years = np.nan\n",
        "\n",
        "    if 'Less Than' in value:\n",
        "        years = 0\n",
        "    elif 'Above' in value:\n",
        "        years_str = ''.join(char for char in value if char.isdigit())\n",
        "        if years_str:\n",
        "            years = int(years_str) + 1\n",
        "    elif ' to ' in value:\n",
        "        value_range = value.split(' to ')\n",
        "        if len(value_range) >= 2:\n",
        "            lower_limit_str = value_range[0].rstrip(' Years')\n",
        "            upper_limit_str = value_range[1].rstrip(' Years')\n",
        "            if lower_limit_str.isdigit() and upper_limit_str.isdigit():\n",
        "                lower_limit = int(lower_limit_str)\n",
        "                upper_limit = int(upper_limit_str)\n",
        "                years = (lower_limit + upper_limit) // 2  # Average of the range\n",
        "    elif value.isdigit():\n",
        "        years = int(value)\n",
        "\n",
        "    return years\n"
      ]
    },
    {
      "cell_type": "code",
      "execution_count": 14,
      "metadata": {
        "colab": {
          "base_uri": "https://localhost:8080/"
        },
        "id": "KmKpveZZiaCA",
        "outputId": "db7acafa-9339-4542-e899-c5c3d9d7f05b"
      },
      "outputs": [
        {
          "name": "stdout",
          "output_type": "stream",
          "text": [
            "                 City Gender Marital Status             Age   Education  \\\n",
            "S. No.                                                                    \n",
            "1            New York    Men  Never Married   Early Working   Secondary   \n",
            "2            New York  Women        Married   Early Working      Middle   \n",
            "3             Seattle  Women        Married   Early Working    Teritary   \n",
            "4       San Francisco    Men  Never Married         Elderly  Uneducated   \n",
            "5       San Francisco    Men        Married   Prime Working     Primary   \n",
            "6             Memphis  Women  Never Married   Prime Working     Primary   \n",
            "7             Seattle  Women  Never Married   Prime Working    Teritary   \n",
            "8             Houston  Women  Never Married  Mature Working      Middle   \n",
            "9       San Francisco  Women  Never Married         Elderly      Middle   \n",
            "10      San Francisco    Men        Married        Children   Secondary   \n",
            "\n",
            "                                             Role  \\\n",
            "S. No.                                              \n",
            "1                   Marketing and Sales Executive   \n",
            "2             Advertising and Promotion Executive   \n",
            "3              Training and Development Executive   \n",
            "4              Training and Development Executive   \n",
            "5       Computer and Information System Executive   \n",
            "6                   Marketing and Sales Executive   \n",
            "7              Training and Development Executive   \n",
            "8                                  Top Executives   \n",
            "9                   Marketing and Sales Executive   \n",
            "10                                 Top Executives   \n",
            "\n",
            "        Number of investors in family        Household Income  \\\n",
            "S. No.                                                          \n",
            "1                                   2    US$ 2736 to US$ 8205   \n",
            "2                                   2  US$ 19146 to US$ 24615   \n",
            "3                                   2    US$ 2736 to US$ 8205   \n",
            "4                                   5  US$ 19146 to US$ 24615   \n",
            "5                                   2  US$ 13676 to US$ 19145   \n",
            "6                                   5  US$ 19146 to US$ 24615   \n",
            "7                                   5  US$ 19146 to US$ 24615   \n",
            "8                                   3         Above US$ 30086   \n",
            "9                                   3  US$ 24616 to US$ 30085   \n",
            "10                                  1  US$ 13676 to US$ 19145   \n",
            "\n",
            "       Percentage of Investment Source of Awareness about Investment  ...  \\\n",
            "S. No.                                                                ...   \n",
            "1          Don't Want to Reveal                           Television  ...   \n",
            "2          Don't Want to Reveal                              Workers  ...   \n",
            "3                     Above 26%                               Family  ...   \n",
            "4                    16% to 20%                               Family  ...   \n",
            "5                    16% to 20%                              Workers  ...   \n",
            "6                    21% to 25%                             Magazine  ...   \n",
            "7                       Upto 5%                             Magazine  ...   \n",
            "8                    11% to 15%                               Others  ...   \n",
            "9                    21% to 25%                             Magazine  ...   \n",
            "10                    6% to 10%                          Flash Board  ...   \n",
            "\n",
            "        Investment Influencer  Investment Experience  Risk Level  \\\n",
            "S. No.                                                             \n",
            "1            Family Reference       Less Than 1 Year         Low   \n",
            "2           Workers Reference       Less Than 1 Year         Low   \n",
            "3           Friends Reference          Above 9 Years         Low   \n",
            "4           Friends Reference     7 Years to 9 Years         Low   \n",
            "5            Family Reference          Above 9 Years         Low   \n",
            "6                Institutions       Less Than 1 Year        High   \n",
            "7                      Others      1 Year to 3 Years         Low   \n",
            "8            Family Reference     4 Years to 6 Years         Low   \n",
            "9                      Others     4 Years to 6 Years      Medium   \n",
            "10           Family Reference     4 Years to 6 Years        High   \n",
            "\n",
            "          Return Earned Reason for Investment Lower Income Upper Income  \\\n",
            "S. No.                                                                    \n",
            "1       Negative Return                   Tax       2736.0       8205.0   \n",
            "2             10 to 12                 Others      19146.0      24615.0   \n",
            "3                1 to 4                Return       2736.0       8205.0   \n",
            "4             10 to 12                    Tax      19146.0      24615.0   \n",
            "5                5 to 6     Fun and Exitement      13676.0      19145.0   \n",
            "6       Negative Return                Status      19146.0      24615.0   \n",
            "7       Negative Return                Others      19146.0      24615.0   \n",
            "8                1 to 4                Others      30087.0     100000.0   \n",
            "9       Negative Return     Fun and Exitement      24616.0      30085.0   \n",
            "10            10 to 12              Inflation      13676.0      19145.0   \n",
            "\n",
            "       Lower Percentage  Upper Percentage  Average Investment Experience  \n",
            "S. No.                                                                    \n",
            "1                  13.6              16.8                              0  \n",
            "2                  13.6              16.8                              0  \n",
            "3                  27.0              26.0                             10  \n",
            "4                  16.0              20.0                              8  \n",
            "5                  16.0              20.0                             10  \n",
            "6                  21.0              25.0                              0  \n",
            "7                   0.0               5.0                              2  \n",
            "8                  11.0              15.0                              5  \n",
            "9                  21.0              25.0                              5  \n",
            "10                  6.0              10.0                              5  \n",
            "\n",
            "[10 rows x 23 columns]\n"
          ]
        }
      ],
      "source": [
        "df['Average Investment Experience'] = df['Investment Experience'].apply(clean_experience)\n",
        "print(df.head(10))"
      ]
    },
    {
      "cell_type": "code",
      "execution_count": 15,
      "metadata": {
        "colab": {
          "base_uri": "https://localhost:8080/"
        },
        "id": "IuSbZEafk8C9",
        "outputId": "13c89de3-631c-48e5-adcd-feb3832b4d21"
      },
      "outputs": [
        {
          "name": "stdout",
          "output_type": "stream",
          "text": [
            "['Negative Return' '10 to 12 ' '1 to 4' '5 to 6' '7 to 9' 'More than 13']\n"
          ]
        }
      ],
      "source": [
        "class_labels = df['Return Earned'].unique()\n",
        "print(class_labels)"
      ]
    },
    {
      "cell_type": "code",
      "execution_count": 16,
      "metadata": {
        "colab": {
          "base_uri": "https://localhost:8080/"
        },
        "id": "DPKbFTi8nRXD",
        "outputId": "127338b5-0df4-41d8-dbcb-a8aeee7475e9"
      },
      "outputs": [
        {
          "name": "stdout",
          "output_type": "stream",
          "text": [
            "                 City Gender Marital Status            Age   Education  \\\n",
            "S. No.                                                                   \n",
            "1            New York    Men  Never Married  Early Working   Secondary   \n",
            "2            New York  Women        Married  Early Working      Middle   \n",
            "3             Seattle  Women        Married  Early Working    Teritary   \n",
            "4       San Francisco    Men  Never Married        Elderly  Uneducated   \n",
            "5       San Francisco    Men        Married  Prime Working     Primary   \n",
            "...               ...    ...            ...            ...         ...   \n",
            "806           Seattle    Men        Married  Early Working   Secondary   \n",
            "807           Seattle    Men  Never Married       Children   Secondary   \n",
            "808     San Francisco    Men  Never Married       Children  Uneducated   \n",
            "809           Memphis  Women        Married       Children  Uneducated   \n",
            "810          New York    Men  Never Married  Prime Working      Middle   \n",
            "\n",
            "                                             Role  \\\n",
            "S. No.                                              \n",
            "1                   Marketing and Sales Executive   \n",
            "2             Advertising and Promotion Executive   \n",
            "3              Training and Development Executive   \n",
            "4              Training and Development Executive   \n",
            "5       Computer and Information System Executive   \n",
            "...                                           ...   \n",
            "806                                Top Executives   \n",
            "807                                Top Executives   \n",
            "808           Advertising and Promotion Executive   \n",
            "809                 Marketing and Sales Executive   \n",
            "810            Training and Development Executive   \n",
            "\n",
            "        Number of investors in family        Household Income  \\\n",
            "S. No.                                                          \n",
            "1                                   2    US$ 2736 to US$ 8205   \n",
            "2                                   2  US$ 19146 to US$ 24615   \n",
            "3                                   2    US$ 2736 to US$ 8205   \n",
            "4                                   5  US$ 19146 to US$ 24615   \n",
            "5                                   2  US$ 13676 to US$ 19145   \n",
            "...                               ...                     ...   \n",
            "806                                 1                US$ 2735   \n",
            "807                                 4         Above US$ 30086   \n",
            "808                                 1  US$ 13676 to US$ 19145   \n",
            "809                                 3  US$ 19146 to US$ 24615   \n",
            "810                                 1         Above US$ 30086   \n",
            "\n",
            "       Percentage of Investment Source of Awareness about Investment  ...  \\\n",
            "S. No.                                                                ...   \n",
            "1          Don't Want to Reveal                           Television  ...   \n",
            "2          Don't Want to Reveal                              Workers  ...   \n",
            "3                     Above 26%                               Family  ...   \n",
            "4                    16% to 20%                               Family  ...   \n",
            "5                    16% to 20%                              Workers  ...   \n",
            "...                         ...                                  ...  ...   \n",
            "806        Don't Want to Reveal                              Friends  ...   \n",
            "807                  11% to 15%                             Magazine  ...   \n",
            "808                  11% to 15%                               Others  ...   \n",
            "809                  16% to 20%                              Workers  ...   \n",
            "810                   Above 26%                          Flash Board  ...   \n",
            "\n",
            "        Investment Experience  Risk Level    Return Earned  \\\n",
            "S. No.                                                       \n",
            "1            Less Than 1 Year         Low  Negative Return   \n",
            "2            Less Than 1 Year         Low        10 to 12    \n",
            "3               Above 9 Years         Low           1 to 4   \n",
            "4          7 Years to 9 Years         Low        10 to 12    \n",
            "5               Above 9 Years         Low           5 to 6   \n",
            "...                       ...         ...              ...   \n",
            "806        7 Years to 9 Years      Medium        10 to 12    \n",
            "807        7 Years to 9 Years         Low  Negative Return   \n",
            "808          Less Than 1 Year        High        10 to 12    \n",
            "809         1 Year to 3 Years        High  Negative Return   \n",
            "810        4 Years to 6 Years        High           5 to 6   \n",
            "\n",
            "       Reason for Investment Lower Income Upper Income Lower Percentage  \\\n",
            "S. No.                                                                    \n",
            "1                        Tax       2736.0       8205.0             13.6   \n",
            "2                     Others      19146.0      24615.0             13.6   \n",
            "3                     Return       2736.0       8205.0             27.0   \n",
            "4                        Tax      19146.0      24615.0             16.0   \n",
            "5          Fun and Exitement      13676.0      19145.0             16.0   \n",
            "...                      ...          ...          ...              ...   \n",
            "806                   Return       2735.0       2735.0             13.6   \n",
            "807                Inflation      30087.0     100000.0             11.0   \n",
            "808                      Tax      13676.0      19145.0             11.0   \n",
            "809                   Return      19146.0      24615.0             16.0   \n",
            "810        Fun and Exitement      30087.0     100000.0             27.0   \n",
            "\n",
            "       Upper Percentage  Average Investment Experience  Return Encoded  \n",
            "S. No.                                                                  \n",
            "1                  16.8                              0               5  \n",
            "2                  16.8                              0               1  \n",
            "3                  26.0                             10               0  \n",
            "4                  20.0                              8               1  \n",
            "5                  20.0                             10               2  \n",
            "...                 ...                            ...             ...  \n",
            "806                16.8                              8               1  \n",
            "807                15.0                              8               5  \n",
            "808                15.0                              0               1  \n",
            "809                20.0                              2               5  \n",
            "810                26.0                              5               2  \n",
            "\n",
            "[810 rows x 24 columns]\n"
          ]
        }
      ],
      "source": [
        "label_encoder = LabelEncoder()\n",
        "\n",
        "# Fit and transform the \"Returns Earned\" column\n",
        "df['Return Encoded'] = label_encoder.fit_transform(df['Return Earned'])\n",
        "\n",
        "# Display the encoded DataFrame\n",
        "print(df)"
      ]
    },
    {
      "cell_type": "code",
      "execution_count": 17,
      "metadata": {
        "colab": {
          "base_uri": "https://localhost:8080/"
        },
        "id": "y2ybf8_vpEWK",
        "outputId": "fe2ca5b3-0e4e-40dd-9a1a-91c56b66fd86"
      },
      "outputs": [
        {
          "name": "stdout",
          "output_type": "stream",
          "text": [
            "                 City Gender Marital Status            Age   Education  \\\n",
            "S. No.                                                                   \n",
            "1            New York    Men  Never Married  Early Working   Secondary   \n",
            "2            New York  Women        Married  Early Working      Middle   \n",
            "3             Seattle  Women        Married  Early Working    Teritary   \n",
            "4       San Francisco    Men  Never Married        Elderly  Uneducated   \n",
            "5       San Francisco    Men        Married  Prime Working     Primary   \n",
            "...               ...    ...            ...            ...         ...   \n",
            "806           Seattle    Men        Married  Early Working   Secondary   \n",
            "807           Seattle    Men  Never Married       Children   Secondary   \n",
            "808     San Francisco    Men  Never Married       Children  Uneducated   \n",
            "809           Memphis  Women        Married       Children  Uneducated   \n",
            "810          New York    Men  Never Married  Prime Working      Middle   \n",
            "\n",
            "                                             Role  \\\n",
            "S. No.                                              \n",
            "1                   Marketing and Sales Executive   \n",
            "2             Advertising and Promotion Executive   \n",
            "3              Training and Development Executive   \n",
            "4              Training and Development Executive   \n",
            "5       Computer and Information System Executive   \n",
            "...                                           ...   \n",
            "806                                Top Executives   \n",
            "807                                Top Executives   \n",
            "808           Advertising and Promotion Executive   \n",
            "809                 Marketing and Sales Executive   \n",
            "810            Training and Development Executive   \n",
            "\n",
            "        Number of investors in family  Lower Income  Upper Income  \\\n",
            "S. No.                                                              \n",
            "1                                   2        2736.0        8205.0   \n",
            "2                                   2       19146.0       24615.0   \n",
            "3                                   2        2736.0        8205.0   \n",
            "4                                   5       19146.0       24615.0   \n",
            "5                                   2       13676.0       19145.0   \n",
            "...                               ...           ...           ...   \n",
            "806                                 1        2735.0        2735.0   \n",
            "807                                 4       30087.0      100000.0   \n",
            "808                                 1       13676.0       19145.0   \n",
            "809                                 3       19146.0       24615.0   \n",
            "810                                 1       30087.0      100000.0   \n",
            "\n",
            "        Lower Percentage  Upper Percentage  \\\n",
            "S. No.                                       \n",
            "1                   13.6              16.8   \n",
            "2                   13.6              16.8   \n",
            "3                   27.0              26.0   \n",
            "4                   16.0              20.0   \n",
            "5                   16.0              20.0   \n",
            "...                  ...               ...   \n",
            "806                 13.6              16.8   \n",
            "807                 11.0              15.0   \n",
            "808                 11.0              15.0   \n",
            "809                 16.0              20.0   \n",
            "810                 27.0              26.0   \n",
            "\n",
            "       Source of Awareness about Investment  Average Investment Experience  \\\n",
            "S. No.                                                                       \n",
            "1                                Television                              0   \n",
            "2                                   Workers                              0   \n",
            "3                                    Family                             10   \n",
            "4                                    Family                              8   \n",
            "5                                   Workers                             10   \n",
            "...                                     ...                            ...   \n",
            "806                                 Friends                              8   \n",
            "807                                Magazine                              8   \n",
            "808                                  Others                              0   \n",
            "809                                 Workers                              2   \n",
            "810                             Flash Board                              5   \n",
            "\n",
            "       Risk Level Reason for Investment    Return Earned  \n",
            "S. No.                                                    \n",
            "1             Low                   Tax  Negative Return  \n",
            "2             Low                Others        10 to 12   \n",
            "3             Low                Return           1 to 4  \n",
            "4             Low                   Tax        10 to 12   \n",
            "5             Low     Fun and Exitement           5 to 6  \n",
            "...           ...                   ...              ...  \n",
            "806        Medium                Return        10 to 12   \n",
            "807           Low             Inflation  Negative Return  \n",
            "808          High                   Tax        10 to 12   \n",
            "809          High                Return  Negative Return  \n",
            "810          High     Fun and Exitement           5 to 6  \n",
            "\n",
            "[810 rows x 16 columns]\n"
          ]
        }
      ],
      "source": [
        "columns_newdf=['City','Gender','Marital Status','Age','Education','Role','Number of investors in family','Lower Income','Upper Income',\n",
        "               'Lower Percentage','Upper Percentage','Source of Awareness about Investment','Average Investment Experience','Risk Level','Reason for Investment','Return Earned']\n",
        "\n",
        "data=df[columns_newdf]\n",
        "print(data)"
      ]
    },
    {
      "cell_type": "code",
      "execution_count": 18,
      "metadata": {
        "id": "h6rW0AtgtCV9"
      },
      "outputs": [],
      "source": [
        "data.to_excel('modified investments.xlsx',index=False)"
      ]
    },
    {
      "cell_type": "markdown",
      "metadata": {
        "id": "qg0d8-DyEvvU"
      },
      "source": [
        "# **Data Exploration**"
      ]
    },
    {
      "cell_type": "code",
      "execution_count": 19,
      "metadata": {
        "colab": {
          "base_uri": "https://localhost:8080/"
        },
        "id": "PbIDzwFKBezY",
        "outputId": "73ececcb-ce54-48c0-bd60-4f51cb7d3caf"
      },
      "outputs": [
        {
          "name": "stdout",
          "output_type": "stream",
          "text": [
            "   index  Gender\n",
            "0  Women     427\n",
            "1    Men     383\n"
          ]
        }
      ],
      "source": [
        "gender_distribution = data['Gender'].value_counts().reset_index()\n",
        "print(gender_distribution)"
      ]
    },
    {
      "cell_type": "code",
      "execution_count": 20,
      "metadata": {
        "colab": {
          "base_uri": "https://localhost:8080/"
        },
        "id": "6DlpEZ0gFZKZ",
        "outputId": "495cdc89-826b-4604-8dfc-b9c4a3700774"
      },
      "outputs": [
        {
          "name": "stdout",
          "output_type": "stream",
          "text": [
            "           index  Marital Status\n",
            "0  Never Married             405\n",
            "1        Married             405\n"
          ]
        }
      ],
      "source": [
        "marital_status_distribution = df['Marital Status'].value_counts().reset_index()\n",
        "print(marital_status_distribution)"
      ]
    },
    {
      "cell_type": "code",
      "execution_count": 21,
      "metadata": {
        "colab": {
          "base_uri": "https://localhost:8080/"
        },
        "id": "DpkcsOhMFeRB",
        "outputId": "c7be1723-7ff0-4b90-e1b4-54028f8a17b9"
      },
      "outputs": [
        {
          "name": "stdout",
          "output_type": "stream",
          "text": [
            "            index  Age\n",
            "0  Mature Working  183\n",
            "1   Prime Working  163\n",
            "2        Children  159\n",
            "3         Elderly  158\n",
            "4   Early Working  147\n"
          ]
        }
      ],
      "source": [
        "age_distribution = df['Age'].value_counts().reset_index()\n",
        "print(age_distribution)"
      ]
    },
    {
      "cell_type": "code",
      "execution_count": 22,
      "metadata": {
        "colab": {
          "base_uri": "https://localhost:8080/",
          "height": 1000
        },
        "id": "rIxcfYaAF0DO",
        "outputId": "f1411e19-0cef-40ad-f2bd-f5dd9fe271fd"
      },
      "outputs": [
        {
          "data": {
            "application/vnd.plotly.v1+json": {
              "config": {
                "plotlyServerURL": "https://plot.ly"
              },
              "data": [
                {
                  "domain": {
                    "x": [
                      0,
                      1
                    ],
                    "y": [
                      0,
                      1
                    ]
                  },
                  "hovertemplate": "Gender=%{label}<br>Count=%{value}<extra></extra>",
                  "labels": [
                    "Women",
                    "Men"
                  ],
                  "legendgroup": "",
                  "name": "",
                  "showlegend": true,
                  "type": "pie",
                  "values": [
                    427,
                    383
                  ]
                }
              ],
              "layout": {
                "legend": {
                  "tracegroupgap": 0
                },
                "template": {
                  "data": {
                    "bar": [
                      {
                        "error_x": {
                          "color": "#2a3f5f"
                        },
                        "error_y": {
                          "color": "#2a3f5f"
                        },
                        "marker": {
                          "line": {
                            "color": "#E5ECF6",
                            "width": 0.5
                          },
                          "pattern": {
                            "fillmode": "overlay",
                            "size": 10,
                            "solidity": 0.2
                          }
                        },
                        "type": "bar"
                      }
                    ],
                    "barpolar": [
                      {
                        "marker": {
                          "line": {
                            "color": "#E5ECF6",
                            "width": 0.5
                          },
                          "pattern": {
                            "fillmode": "overlay",
                            "size": 10,
                            "solidity": 0.2
                          }
                        },
                        "type": "barpolar"
                      }
                    ],
                    "carpet": [
                      {
                        "aaxis": {
                          "endlinecolor": "#2a3f5f",
                          "gridcolor": "white",
                          "linecolor": "white",
                          "minorgridcolor": "white",
                          "startlinecolor": "#2a3f5f"
                        },
                        "baxis": {
                          "endlinecolor": "#2a3f5f",
                          "gridcolor": "white",
                          "linecolor": "white",
                          "minorgridcolor": "white",
                          "startlinecolor": "#2a3f5f"
                        },
                        "type": "carpet"
                      }
                    ],
                    "choropleth": [
                      {
                        "colorbar": {
                          "outlinewidth": 0,
                          "ticks": ""
                        },
                        "type": "choropleth"
                      }
                    ],
                    "contour": [
                      {
                        "colorbar": {
                          "outlinewidth": 0,
                          "ticks": ""
                        },
                        "colorscale": [
                          [
                            0,
                            "#0d0887"
                          ],
                          [
                            0.1111111111111111,
                            "#46039f"
                          ],
                          [
                            0.2222222222222222,
                            "#7201a8"
                          ],
                          [
                            0.3333333333333333,
                            "#9c179e"
                          ],
                          [
                            0.4444444444444444,
                            "#bd3786"
                          ],
                          [
                            0.5555555555555556,
                            "#d8576b"
                          ],
                          [
                            0.6666666666666666,
                            "#ed7953"
                          ],
                          [
                            0.7777777777777778,
                            "#fb9f3a"
                          ],
                          [
                            0.8888888888888888,
                            "#fdca26"
                          ],
                          [
                            1,
                            "#f0f921"
                          ]
                        ],
                        "type": "contour"
                      }
                    ],
                    "contourcarpet": [
                      {
                        "colorbar": {
                          "outlinewidth": 0,
                          "ticks": ""
                        },
                        "type": "contourcarpet"
                      }
                    ],
                    "heatmap": [
                      {
                        "colorbar": {
                          "outlinewidth": 0,
                          "ticks": ""
                        },
                        "colorscale": [
                          [
                            0,
                            "#0d0887"
                          ],
                          [
                            0.1111111111111111,
                            "#46039f"
                          ],
                          [
                            0.2222222222222222,
                            "#7201a8"
                          ],
                          [
                            0.3333333333333333,
                            "#9c179e"
                          ],
                          [
                            0.4444444444444444,
                            "#bd3786"
                          ],
                          [
                            0.5555555555555556,
                            "#d8576b"
                          ],
                          [
                            0.6666666666666666,
                            "#ed7953"
                          ],
                          [
                            0.7777777777777778,
                            "#fb9f3a"
                          ],
                          [
                            0.8888888888888888,
                            "#fdca26"
                          ],
                          [
                            1,
                            "#f0f921"
                          ]
                        ],
                        "type": "heatmap"
                      }
                    ],
                    "heatmapgl": [
                      {
                        "colorbar": {
                          "outlinewidth": 0,
                          "ticks": ""
                        },
                        "colorscale": [
                          [
                            0,
                            "#0d0887"
                          ],
                          [
                            0.1111111111111111,
                            "#46039f"
                          ],
                          [
                            0.2222222222222222,
                            "#7201a8"
                          ],
                          [
                            0.3333333333333333,
                            "#9c179e"
                          ],
                          [
                            0.4444444444444444,
                            "#bd3786"
                          ],
                          [
                            0.5555555555555556,
                            "#d8576b"
                          ],
                          [
                            0.6666666666666666,
                            "#ed7953"
                          ],
                          [
                            0.7777777777777778,
                            "#fb9f3a"
                          ],
                          [
                            0.8888888888888888,
                            "#fdca26"
                          ],
                          [
                            1,
                            "#f0f921"
                          ]
                        ],
                        "type": "heatmapgl"
                      }
                    ],
                    "histogram": [
                      {
                        "marker": {
                          "pattern": {
                            "fillmode": "overlay",
                            "size": 10,
                            "solidity": 0.2
                          }
                        },
                        "type": "histogram"
                      }
                    ],
                    "histogram2d": [
                      {
                        "colorbar": {
                          "outlinewidth": 0,
                          "ticks": ""
                        },
                        "colorscale": [
                          [
                            0,
                            "#0d0887"
                          ],
                          [
                            0.1111111111111111,
                            "#46039f"
                          ],
                          [
                            0.2222222222222222,
                            "#7201a8"
                          ],
                          [
                            0.3333333333333333,
                            "#9c179e"
                          ],
                          [
                            0.4444444444444444,
                            "#bd3786"
                          ],
                          [
                            0.5555555555555556,
                            "#d8576b"
                          ],
                          [
                            0.6666666666666666,
                            "#ed7953"
                          ],
                          [
                            0.7777777777777778,
                            "#fb9f3a"
                          ],
                          [
                            0.8888888888888888,
                            "#fdca26"
                          ],
                          [
                            1,
                            "#f0f921"
                          ]
                        ],
                        "type": "histogram2d"
                      }
                    ],
                    "histogram2dcontour": [
                      {
                        "colorbar": {
                          "outlinewidth": 0,
                          "ticks": ""
                        },
                        "colorscale": [
                          [
                            0,
                            "#0d0887"
                          ],
                          [
                            0.1111111111111111,
                            "#46039f"
                          ],
                          [
                            0.2222222222222222,
                            "#7201a8"
                          ],
                          [
                            0.3333333333333333,
                            "#9c179e"
                          ],
                          [
                            0.4444444444444444,
                            "#bd3786"
                          ],
                          [
                            0.5555555555555556,
                            "#d8576b"
                          ],
                          [
                            0.6666666666666666,
                            "#ed7953"
                          ],
                          [
                            0.7777777777777778,
                            "#fb9f3a"
                          ],
                          [
                            0.8888888888888888,
                            "#fdca26"
                          ],
                          [
                            1,
                            "#f0f921"
                          ]
                        ],
                        "type": "histogram2dcontour"
                      }
                    ],
                    "mesh3d": [
                      {
                        "colorbar": {
                          "outlinewidth": 0,
                          "ticks": ""
                        },
                        "type": "mesh3d"
                      }
                    ],
                    "parcoords": [
                      {
                        "line": {
                          "colorbar": {
                            "outlinewidth": 0,
                            "ticks": ""
                          }
                        },
                        "type": "parcoords"
                      }
                    ],
                    "pie": [
                      {
                        "automargin": true,
                        "type": "pie"
                      }
                    ],
                    "scatter": [
                      {
                        "fillpattern": {
                          "fillmode": "overlay",
                          "size": 10,
                          "solidity": 0.2
                        },
                        "type": "scatter"
                      }
                    ],
                    "scatter3d": [
                      {
                        "line": {
                          "colorbar": {
                            "outlinewidth": 0,
                            "ticks": ""
                          }
                        },
                        "marker": {
                          "colorbar": {
                            "outlinewidth": 0,
                            "ticks": ""
                          }
                        },
                        "type": "scatter3d"
                      }
                    ],
                    "scattercarpet": [
                      {
                        "marker": {
                          "colorbar": {
                            "outlinewidth": 0,
                            "ticks": ""
                          }
                        },
                        "type": "scattercarpet"
                      }
                    ],
                    "scattergeo": [
                      {
                        "marker": {
                          "colorbar": {
                            "outlinewidth": 0,
                            "ticks": ""
                          }
                        },
                        "type": "scattergeo"
                      }
                    ],
                    "scattergl": [
                      {
                        "marker": {
                          "colorbar": {
                            "outlinewidth": 0,
                            "ticks": ""
                          }
                        },
                        "type": "scattergl"
                      }
                    ],
                    "scattermapbox": [
                      {
                        "marker": {
                          "colorbar": {
                            "outlinewidth": 0,
                            "ticks": ""
                          }
                        },
                        "type": "scattermapbox"
                      }
                    ],
                    "scatterpolar": [
                      {
                        "marker": {
                          "colorbar": {
                            "outlinewidth": 0,
                            "ticks": ""
                          }
                        },
                        "type": "scatterpolar"
                      }
                    ],
                    "scatterpolargl": [
                      {
                        "marker": {
                          "colorbar": {
                            "outlinewidth": 0,
                            "ticks": ""
                          }
                        },
                        "type": "scatterpolargl"
                      }
                    ],
                    "scatterternary": [
                      {
                        "marker": {
                          "colorbar": {
                            "outlinewidth": 0,
                            "ticks": ""
                          }
                        },
                        "type": "scatterternary"
                      }
                    ],
                    "surface": [
                      {
                        "colorbar": {
                          "outlinewidth": 0,
                          "ticks": ""
                        },
                        "colorscale": [
                          [
                            0,
                            "#0d0887"
                          ],
                          [
                            0.1111111111111111,
                            "#46039f"
                          ],
                          [
                            0.2222222222222222,
                            "#7201a8"
                          ],
                          [
                            0.3333333333333333,
                            "#9c179e"
                          ],
                          [
                            0.4444444444444444,
                            "#bd3786"
                          ],
                          [
                            0.5555555555555556,
                            "#d8576b"
                          ],
                          [
                            0.6666666666666666,
                            "#ed7953"
                          ],
                          [
                            0.7777777777777778,
                            "#fb9f3a"
                          ],
                          [
                            0.8888888888888888,
                            "#fdca26"
                          ],
                          [
                            1,
                            "#f0f921"
                          ]
                        ],
                        "type": "surface"
                      }
                    ],
                    "table": [
                      {
                        "cells": {
                          "fill": {
                            "color": "#EBF0F8"
                          },
                          "line": {
                            "color": "white"
                          }
                        },
                        "header": {
                          "fill": {
                            "color": "#C8D4E3"
                          },
                          "line": {
                            "color": "white"
                          }
                        },
                        "type": "table"
                      }
                    ]
                  },
                  "layout": {
                    "annotationdefaults": {
                      "arrowcolor": "#2a3f5f",
                      "arrowhead": 0,
                      "arrowwidth": 1
                    },
                    "autotypenumbers": "strict",
                    "coloraxis": {
                      "colorbar": {
                        "outlinewidth": 0,
                        "ticks": ""
                      }
                    },
                    "colorscale": {
                      "diverging": [
                        [
                          0,
                          "#8e0152"
                        ],
                        [
                          0.1,
                          "#c51b7d"
                        ],
                        [
                          0.2,
                          "#de77ae"
                        ],
                        [
                          0.3,
                          "#f1b6da"
                        ],
                        [
                          0.4,
                          "#fde0ef"
                        ],
                        [
                          0.5,
                          "#f7f7f7"
                        ],
                        [
                          0.6,
                          "#e6f5d0"
                        ],
                        [
                          0.7,
                          "#b8e186"
                        ],
                        [
                          0.8,
                          "#7fbc41"
                        ],
                        [
                          0.9,
                          "#4d9221"
                        ],
                        [
                          1,
                          "#276419"
                        ]
                      ],
                      "sequential": [
                        [
                          0,
                          "#0d0887"
                        ],
                        [
                          0.1111111111111111,
                          "#46039f"
                        ],
                        [
                          0.2222222222222222,
                          "#7201a8"
                        ],
                        [
                          0.3333333333333333,
                          "#9c179e"
                        ],
                        [
                          0.4444444444444444,
                          "#bd3786"
                        ],
                        [
                          0.5555555555555556,
                          "#d8576b"
                        ],
                        [
                          0.6666666666666666,
                          "#ed7953"
                        ],
                        [
                          0.7777777777777778,
                          "#fb9f3a"
                        ],
                        [
                          0.8888888888888888,
                          "#fdca26"
                        ],
                        [
                          1,
                          "#f0f921"
                        ]
                      ],
                      "sequentialminus": [
                        [
                          0,
                          "#0d0887"
                        ],
                        [
                          0.1111111111111111,
                          "#46039f"
                        ],
                        [
                          0.2222222222222222,
                          "#7201a8"
                        ],
                        [
                          0.3333333333333333,
                          "#9c179e"
                        ],
                        [
                          0.4444444444444444,
                          "#bd3786"
                        ],
                        [
                          0.5555555555555556,
                          "#d8576b"
                        ],
                        [
                          0.6666666666666666,
                          "#ed7953"
                        ],
                        [
                          0.7777777777777778,
                          "#fb9f3a"
                        ],
                        [
                          0.8888888888888888,
                          "#fdca26"
                        ],
                        [
                          1,
                          "#f0f921"
                        ]
                      ]
                    },
                    "colorway": [
                      "#636efa",
                      "#EF553B",
                      "#00cc96",
                      "#ab63fa",
                      "#FFA15A",
                      "#19d3f3",
                      "#FF6692",
                      "#B6E880",
                      "#FF97FF",
                      "#FECB52"
                    ],
                    "font": {
                      "color": "#2a3f5f"
                    },
                    "geo": {
                      "bgcolor": "white",
                      "lakecolor": "white",
                      "landcolor": "#E5ECF6",
                      "showlakes": true,
                      "showland": true,
                      "subunitcolor": "white"
                    },
                    "hoverlabel": {
                      "align": "left"
                    },
                    "hovermode": "closest",
                    "mapbox": {
                      "style": "light"
                    },
                    "paper_bgcolor": "white",
                    "plot_bgcolor": "#E5ECF6",
                    "polar": {
                      "angularaxis": {
                        "gridcolor": "white",
                        "linecolor": "white",
                        "ticks": ""
                      },
                      "bgcolor": "#E5ECF6",
                      "radialaxis": {
                        "gridcolor": "white",
                        "linecolor": "white",
                        "ticks": ""
                      }
                    },
                    "scene": {
                      "xaxis": {
                        "backgroundcolor": "#E5ECF6",
                        "gridcolor": "white",
                        "gridwidth": 2,
                        "linecolor": "white",
                        "showbackground": true,
                        "ticks": "",
                        "zerolinecolor": "white"
                      },
                      "yaxis": {
                        "backgroundcolor": "#E5ECF6",
                        "gridcolor": "white",
                        "gridwidth": 2,
                        "linecolor": "white",
                        "showbackground": true,
                        "ticks": "",
                        "zerolinecolor": "white"
                      },
                      "zaxis": {
                        "backgroundcolor": "#E5ECF6",
                        "gridcolor": "white",
                        "gridwidth": 2,
                        "linecolor": "white",
                        "showbackground": true,
                        "ticks": "",
                        "zerolinecolor": "white"
                      }
                    },
                    "shapedefaults": {
                      "line": {
                        "color": "#2a3f5f"
                      }
                    },
                    "ternary": {
                      "aaxis": {
                        "gridcolor": "white",
                        "linecolor": "white",
                        "ticks": ""
                      },
                      "baxis": {
                        "gridcolor": "white",
                        "linecolor": "white",
                        "ticks": ""
                      },
                      "bgcolor": "#E5ECF6",
                      "caxis": {
                        "gridcolor": "white",
                        "linecolor": "white",
                        "ticks": ""
                      }
                    },
                    "title": {
                      "x": 0.05
                    },
                    "xaxis": {
                      "automargin": true,
                      "gridcolor": "white",
                      "linecolor": "white",
                      "ticks": "",
                      "title": {
                        "standoff": 15
                      },
                      "zerolinecolor": "white",
                      "zerolinewidth": 2
                    },
                    "yaxis": {
                      "automargin": true,
                      "gridcolor": "white",
                      "linecolor": "white",
                      "ticks": "",
                      "title": {
                        "standoff": 15
                      },
                      "zerolinecolor": "white",
                      "zerolinewidth": 2
                    }
                  }
                },
                "title": {
                  "text": "Gender Distribution"
                }
              }
            }
          },
          "metadata": {},
          "output_type": "display_data"
        },
        {
          "data": {
            "application/vnd.plotly.v1+json": {
              "config": {
                "plotlyServerURL": "https://plot.ly"
              },
              "data": [
                {
                  "domain": {
                    "x": [
                      0,
                      1
                    ],
                    "y": [
                      0,
                      1
                    ]
                  },
                  "hovertemplate": "Marital Status=%{label}<br>Count=%{value}<extra></extra>",
                  "labels": [
                    "Never Married",
                    "Married"
                  ],
                  "legendgroup": "",
                  "name": "",
                  "showlegend": true,
                  "type": "pie",
                  "values": [
                    405,
                    405
                  ]
                }
              ],
              "layout": {
                "legend": {
                  "tracegroupgap": 0
                },
                "template": {
                  "data": {
                    "bar": [
                      {
                        "error_x": {
                          "color": "#2a3f5f"
                        },
                        "error_y": {
                          "color": "#2a3f5f"
                        },
                        "marker": {
                          "line": {
                            "color": "#E5ECF6",
                            "width": 0.5
                          },
                          "pattern": {
                            "fillmode": "overlay",
                            "size": 10,
                            "solidity": 0.2
                          }
                        },
                        "type": "bar"
                      }
                    ],
                    "barpolar": [
                      {
                        "marker": {
                          "line": {
                            "color": "#E5ECF6",
                            "width": 0.5
                          },
                          "pattern": {
                            "fillmode": "overlay",
                            "size": 10,
                            "solidity": 0.2
                          }
                        },
                        "type": "barpolar"
                      }
                    ],
                    "carpet": [
                      {
                        "aaxis": {
                          "endlinecolor": "#2a3f5f",
                          "gridcolor": "white",
                          "linecolor": "white",
                          "minorgridcolor": "white",
                          "startlinecolor": "#2a3f5f"
                        },
                        "baxis": {
                          "endlinecolor": "#2a3f5f",
                          "gridcolor": "white",
                          "linecolor": "white",
                          "minorgridcolor": "white",
                          "startlinecolor": "#2a3f5f"
                        },
                        "type": "carpet"
                      }
                    ],
                    "choropleth": [
                      {
                        "colorbar": {
                          "outlinewidth": 0,
                          "ticks": ""
                        },
                        "type": "choropleth"
                      }
                    ],
                    "contour": [
                      {
                        "colorbar": {
                          "outlinewidth": 0,
                          "ticks": ""
                        },
                        "colorscale": [
                          [
                            0,
                            "#0d0887"
                          ],
                          [
                            0.1111111111111111,
                            "#46039f"
                          ],
                          [
                            0.2222222222222222,
                            "#7201a8"
                          ],
                          [
                            0.3333333333333333,
                            "#9c179e"
                          ],
                          [
                            0.4444444444444444,
                            "#bd3786"
                          ],
                          [
                            0.5555555555555556,
                            "#d8576b"
                          ],
                          [
                            0.6666666666666666,
                            "#ed7953"
                          ],
                          [
                            0.7777777777777778,
                            "#fb9f3a"
                          ],
                          [
                            0.8888888888888888,
                            "#fdca26"
                          ],
                          [
                            1,
                            "#f0f921"
                          ]
                        ],
                        "type": "contour"
                      }
                    ],
                    "contourcarpet": [
                      {
                        "colorbar": {
                          "outlinewidth": 0,
                          "ticks": ""
                        },
                        "type": "contourcarpet"
                      }
                    ],
                    "heatmap": [
                      {
                        "colorbar": {
                          "outlinewidth": 0,
                          "ticks": ""
                        },
                        "colorscale": [
                          [
                            0,
                            "#0d0887"
                          ],
                          [
                            0.1111111111111111,
                            "#46039f"
                          ],
                          [
                            0.2222222222222222,
                            "#7201a8"
                          ],
                          [
                            0.3333333333333333,
                            "#9c179e"
                          ],
                          [
                            0.4444444444444444,
                            "#bd3786"
                          ],
                          [
                            0.5555555555555556,
                            "#d8576b"
                          ],
                          [
                            0.6666666666666666,
                            "#ed7953"
                          ],
                          [
                            0.7777777777777778,
                            "#fb9f3a"
                          ],
                          [
                            0.8888888888888888,
                            "#fdca26"
                          ],
                          [
                            1,
                            "#f0f921"
                          ]
                        ],
                        "type": "heatmap"
                      }
                    ],
                    "heatmapgl": [
                      {
                        "colorbar": {
                          "outlinewidth": 0,
                          "ticks": ""
                        },
                        "colorscale": [
                          [
                            0,
                            "#0d0887"
                          ],
                          [
                            0.1111111111111111,
                            "#46039f"
                          ],
                          [
                            0.2222222222222222,
                            "#7201a8"
                          ],
                          [
                            0.3333333333333333,
                            "#9c179e"
                          ],
                          [
                            0.4444444444444444,
                            "#bd3786"
                          ],
                          [
                            0.5555555555555556,
                            "#d8576b"
                          ],
                          [
                            0.6666666666666666,
                            "#ed7953"
                          ],
                          [
                            0.7777777777777778,
                            "#fb9f3a"
                          ],
                          [
                            0.8888888888888888,
                            "#fdca26"
                          ],
                          [
                            1,
                            "#f0f921"
                          ]
                        ],
                        "type": "heatmapgl"
                      }
                    ],
                    "histogram": [
                      {
                        "marker": {
                          "pattern": {
                            "fillmode": "overlay",
                            "size": 10,
                            "solidity": 0.2
                          }
                        },
                        "type": "histogram"
                      }
                    ],
                    "histogram2d": [
                      {
                        "colorbar": {
                          "outlinewidth": 0,
                          "ticks": ""
                        },
                        "colorscale": [
                          [
                            0,
                            "#0d0887"
                          ],
                          [
                            0.1111111111111111,
                            "#46039f"
                          ],
                          [
                            0.2222222222222222,
                            "#7201a8"
                          ],
                          [
                            0.3333333333333333,
                            "#9c179e"
                          ],
                          [
                            0.4444444444444444,
                            "#bd3786"
                          ],
                          [
                            0.5555555555555556,
                            "#d8576b"
                          ],
                          [
                            0.6666666666666666,
                            "#ed7953"
                          ],
                          [
                            0.7777777777777778,
                            "#fb9f3a"
                          ],
                          [
                            0.8888888888888888,
                            "#fdca26"
                          ],
                          [
                            1,
                            "#f0f921"
                          ]
                        ],
                        "type": "histogram2d"
                      }
                    ],
                    "histogram2dcontour": [
                      {
                        "colorbar": {
                          "outlinewidth": 0,
                          "ticks": ""
                        },
                        "colorscale": [
                          [
                            0,
                            "#0d0887"
                          ],
                          [
                            0.1111111111111111,
                            "#46039f"
                          ],
                          [
                            0.2222222222222222,
                            "#7201a8"
                          ],
                          [
                            0.3333333333333333,
                            "#9c179e"
                          ],
                          [
                            0.4444444444444444,
                            "#bd3786"
                          ],
                          [
                            0.5555555555555556,
                            "#d8576b"
                          ],
                          [
                            0.6666666666666666,
                            "#ed7953"
                          ],
                          [
                            0.7777777777777778,
                            "#fb9f3a"
                          ],
                          [
                            0.8888888888888888,
                            "#fdca26"
                          ],
                          [
                            1,
                            "#f0f921"
                          ]
                        ],
                        "type": "histogram2dcontour"
                      }
                    ],
                    "mesh3d": [
                      {
                        "colorbar": {
                          "outlinewidth": 0,
                          "ticks": ""
                        },
                        "type": "mesh3d"
                      }
                    ],
                    "parcoords": [
                      {
                        "line": {
                          "colorbar": {
                            "outlinewidth": 0,
                            "ticks": ""
                          }
                        },
                        "type": "parcoords"
                      }
                    ],
                    "pie": [
                      {
                        "automargin": true,
                        "type": "pie"
                      }
                    ],
                    "scatter": [
                      {
                        "fillpattern": {
                          "fillmode": "overlay",
                          "size": 10,
                          "solidity": 0.2
                        },
                        "type": "scatter"
                      }
                    ],
                    "scatter3d": [
                      {
                        "line": {
                          "colorbar": {
                            "outlinewidth": 0,
                            "ticks": ""
                          }
                        },
                        "marker": {
                          "colorbar": {
                            "outlinewidth": 0,
                            "ticks": ""
                          }
                        },
                        "type": "scatter3d"
                      }
                    ],
                    "scattercarpet": [
                      {
                        "marker": {
                          "colorbar": {
                            "outlinewidth": 0,
                            "ticks": ""
                          }
                        },
                        "type": "scattercarpet"
                      }
                    ],
                    "scattergeo": [
                      {
                        "marker": {
                          "colorbar": {
                            "outlinewidth": 0,
                            "ticks": ""
                          }
                        },
                        "type": "scattergeo"
                      }
                    ],
                    "scattergl": [
                      {
                        "marker": {
                          "colorbar": {
                            "outlinewidth": 0,
                            "ticks": ""
                          }
                        },
                        "type": "scattergl"
                      }
                    ],
                    "scattermapbox": [
                      {
                        "marker": {
                          "colorbar": {
                            "outlinewidth": 0,
                            "ticks": ""
                          }
                        },
                        "type": "scattermapbox"
                      }
                    ],
                    "scatterpolar": [
                      {
                        "marker": {
                          "colorbar": {
                            "outlinewidth": 0,
                            "ticks": ""
                          }
                        },
                        "type": "scatterpolar"
                      }
                    ],
                    "scatterpolargl": [
                      {
                        "marker": {
                          "colorbar": {
                            "outlinewidth": 0,
                            "ticks": ""
                          }
                        },
                        "type": "scatterpolargl"
                      }
                    ],
                    "scatterternary": [
                      {
                        "marker": {
                          "colorbar": {
                            "outlinewidth": 0,
                            "ticks": ""
                          }
                        },
                        "type": "scatterternary"
                      }
                    ],
                    "surface": [
                      {
                        "colorbar": {
                          "outlinewidth": 0,
                          "ticks": ""
                        },
                        "colorscale": [
                          [
                            0,
                            "#0d0887"
                          ],
                          [
                            0.1111111111111111,
                            "#46039f"
                          ],
                          [
                            0.2222222222222222,
                            "#7201a8"
                          ],
                          [
                            0.3333333333333333,
                            "#9c179e"
                          ],
                          [
                            0.4444444444444444,
                            "#bd3786"
                          ],
                          [
                            0.5555555555555556,
                            "#d8576b"
                          ],
                          [
                            0.6666666666666666,
                            "#ed7953"
                          ],
                          [
                            0.7777777777777778,
                            "#fb9f3a"
                          ],
                          [
                            0.8888888888888888,
                            "#fdca26"
                          ],
                          [
                            1,
                            "#f0f921"
                          ]
                        ],
                        "type": "surface"
                      }
                    ],
                    "table": [
                      {
                        "cells": {
                          "fill": {
                            "color": "#EBF0F8"
                          },
                          "line": {
                            "color": "white"
                          }
                        },
                        "header": {
                          "fill": {
                            "color": "#C8D4E3"
                          },
                          "line": {
                            "color": "white"
                          }
                        },
                        "type": "table"
                      }
                    ]
                  },
                  "layout": {
                    "annotationdefaults": {
                      "arrowcolor": "#2a3f5f",
                      "arrowhead": 0,
                      "arrowwidth": 1
                    },
                    "autotypenumbers": "strict",
                    "coloraxis": {
                      "colorbar": {
                        "outlinewidth": 0,
                        "ticks": ""
                      }
                    },
                    "colorscale": {
                      "diverging": [
                        [
                          0,
                          "#8e0152"
                        ],
                        [
                          0.1,
                          "#c51b7d"
                        ],
                        [
                          0.2,
                          "#de77ae"
                        ],
                        [
                          0.3,
                          "#f1b6da"
                        ],
                        [
                          0.4,
                          "#fde0ef"
                        ],
                        [
                          0.5,
                          "#f7f7f7"
                        ],
                        [
                          0.6,
                          "#e6f5d0"
                        ],
                        [
                          0.7,
                          "#b8e186"
                        ],
                        [
                          0.8,
                          "#7fbc41"
                        ],
                        [
                          0.9,
                          "#4d9221"
                        ],
                        [
                          1,
                          "#276419"
                        ]
                      ],
                      "sequential": [
                        [
                          0,
                          "#0d0887"
                        ],
                        [
                          0.1111111111111111,
                          "#46039f"
                        ],
                        [
                          0.2222222222222222,
                          "#7201a8"
                        ],
                        [
                          0.3333333333333333,
                          "#9c179e"
                        ],
                        [
                          0.4444444444444444,
                          "#bd3786"
                        ],
                        [
                          0.5555555555555556,
                          "#d8576b"
                        ],
                        [
                          0.6666666666666666,
                          "#ed7953"
                        ],
                        [
                          0.7777777777777778,
                          "#fb9f3a"
                        ],
                        [
                          0.8888888888888888,
                          "#fdca26"
                        ],
                        [
                          1,
                          "#f0f921"
                        ]
                      ],
                      "sequentialminus": [
                        [
                          0,
                          "#0d0887"
                        ],
                        [
                          0.1111111111111111,
                          "#46039f"
                        ],
                        [
                          0.2222222222222222,
                          "#7201a8"
                        ],
                        [
                          0.3333333333333333,
                          "#9c179e"
                        ],
                        [
                          0.4444444444444444,
                          "#bd3786"
                        ],
                        [
                          0.5555555555555556,
                          "#d8576b"
                        ],
                        [
                          0.6666666666666666,
                          "#ed7953"
                        ],
                        [
                          0.7777777777777778,
                          "#fb9f3a"
                        ],
                        [
                          0.8888888888888888,
                          "#fdca26"
                        ],
                        [
                          1,
                          "#f0f921"
                        ]
                      ]
                    },
                    "colorway": [
                      "#636efa",
                      "#EF553B",
                      "#00cc96",
                      "#ab63fa",
                      "#FFA15A",
                      "#19d3f3",
                      "#FF6692",
                      "#B6E880",
                      "#FF97FF",
                      "#FECB52"
                    ],
                    "font": {
                      "color": "#2a3f5f"
                    },
                    "geo": {
                      "bgcolor": "white",
                      "lakecolor": "white",
                      "landcolor": "#E5ECF6",
                      "showlakes": true,
                      "showland": true,
                      "subunitcolor": "white"
                    },
                    "hoverlabel": {
                      "align": "left"
                    },
                    "hovermode": "closest",
                    "mapbox": {
                      "style": "light"
                    },
                    "paper_bgcolor": "white",
                    "plot_bgcolor": "#E5ECF6",
                    "polar": {
                      "angularaxis": {
                        "gridcolor": "white",
                        "linecolor": "white",
                        "ticks": ""
                      },
                      "bgcolor": "#E5ECF6",
                      "radialaxis": {
                        "gridcolor": "white",
                        "linecolor": "white",
                        "ticks": ""
                      }
                    },
                    "scene": {
                      "xaxis": {
                        "backgroundcolor": "#E5ECF6",
                        "gridcolor": "white",
                        "gridwidth": 2,
                        "linecolor": "white",
                        "showbackground": true,
                        "ticks": "",
                        "zerolinecolor": "white"
                      },
                      "yaxis": {
                        "backgroundcolor": "#E5ECF6",
                        "gridcolor": "white",
                        "gridwidth": 2,
                        "linecolor": "white",
                        "showbackground": true,
                        "ticks": "",
                        "zerolinecolor": "white"
                      },
                      "zaxis": {
                        "backgroundcolor": "#E5ECF6",
                        "gridcolor": "white",
                        "gridwidth": 2,
                        "linecolor": "white",
                        "showbackground": true,
                        "ticks": "",
                        "zerolinecolor": "white"
                      }
                    },
                    "shapedefaults": {
                      "line": {
                        "color": "#2a3f5f"
                      }
                    },
                    "ternary": {
                      "aaxis": {
                        "gridcolor": "white",
                        "linecolor": "white",
                        "ticks": ""
                      },
                      "baxis": {
                        "gridcolor": "white",
                        "linecolor": "white",
                        "ticks": ""
                      },
                      "bgcolor": "#E5ECF6",
                      "caxis": {
                        "gridcolor": "white",
                        "linecolor": "white",
                        "ticks": ""
                      }
                    },
                    "title": {
                      "x": 0.05
                    },
                    "xaxis": {
                      "automargin": true,
                      "gridcolor": "white",
                      "linecolor": "white",
                      "ticks": "",
                      "title": {
                        "standoff": 15
                      },
                      "zerolinecolor": "white",
                      "zerolinewidth": 2
                    },
                    "yaxis": {
                      "automargin": true,
                      "gridcolor": "white",
                      "linecolor": "white",
                      "ticks": "",
                      "title": {
                        "standoff": 15
                      },
                      "zerolinecolor": "white",
                      "zerolinewidth": 2
                    }
                  }
                },
                "title": {
                  "text": "Marital Status Distribution"
                }
              }
            }
          },
          "metadata": {},
          "output_type": "display_data"
        },
        {
          "data": {
            "application/vnd.plotly.v1+json": {
              "config": {
                "plotlyServerURL": "https://plot.ly"
              },
              "data": [
                {
                  "alignmentgroup": "True",
                  "hovertemplate": "Age=%{x}<br>Count=%{y}<extra></extra>",
                  "legendgroup": "",
                  "marker": {
                    "color": "#636efa",
                    "pattern": {
                      "shape": ""
                    }
                  },
                  "name": "",
                  "offsetgroup": "",
                  "orientation": "v",
                  "showlegend": false,
                  "textposition": "auto",
                  "type": "bar",
                  "x": [
                    "Mature Working",
                    "Prime Working",
                    "Children",
                    "Elderly",
                    "Early Working"
                  ],
                  "xaxis": "x",
                  "y": [
                    183,
                    163,
                    159,
                    158,
                    147
                  ],
                  "yaxis": "y"
                }
              ],
              "layout": {
                "barmode": "relative",
                "legend": {
                  "tracegroupgap": 0
                },
                "template": {
                  "data": {
                    "bar": [
                      {
                        "error_x": {
                          "color": "#2a3f5f"
                        },
                        "error_y": {
                          "color": "#2a3f5f"
                        },
                        "marker": {
                          "line": {
                            "color": "#E5ECF6",
                            "width": 0.5
                          },
                          "pattern": {
                            "fillmode": "overlay",
                            "size": 10,
                            "solidity": 0.2
                          }
                        },
                        "type": "bar"
                      }
                    ],
                    "barpolar": [
                      {
                        "marker": {
                          "line": {
                            "color": "#E5ECF6",
                            "width": 0.5
                          },
                          "pattern": {
                            "fillmode": "overlay",
                            "size": 10,
                            "solidity": 0.2
                          }
                        },
                        "type": "barpolar"
                      }
                    ],
                    "carpet": [
                      {
                        "aaxis": {
                          "endlinecolor": "#2a3f5f",
                          "gridcolor": "white",
                          "linecolor": "white",
                          "minorgridcolor": "white",
                          "startlinecolor": "#2a3f5f"
                        },
                        "baxis": {
                          "endlinecolor": "#2a3f5f",
                          "gridcolor": "white",
                          "linecolor": "white",
                          "minorgridcolor": "white",
                          "startlinecolor": "#2a3f5f"
                        },
                        "type": "carpet"
                      }
                    ],
                    "choropleth": [
                      {
                        "colorbar": {
                          "outlinewidth": 0,
                          "ticks": ""
                        },
                        "type": "choropleth"
                      }
                    ],
                    "contour": [
                      {
                        "colorbar": {
                          "outlinewidth": 0,
                          "ticks": ""
                        },
                        "colorscale": [
                          [
                            0,
                            "#0d0887"
                          ],
                          [
                            0.1111111111111111,
                            "#46039f"
                          ],
                          [
                            0.2222222222222222,
                            "#7201a8"
                          ],
                          [
                            0.3333333333333333,
                            "#9c179e"
                          ],
                          [
                            0.4444444444444444,
                            "#bd3786"
                          ],
                          [
                            0.5555555555555556,
                            "#d8576b"
                          ],
                          [
                            0.6666666666666666,
                            "#ed7953"
                          ],
                          [
                            0.7777777777777778,
                            "#fb9f3a"
                          ],
                          [
                            0.8888888888888888,
                            "#fdca26"
                          ],
                          [
                            1,
                            "#f0f921"
                          ]
                        ],
                        "type": "contour"
                      }
                    ],
                    "contourcarpet": [
                      {
                        "colorbar": {
                          "outlinewidth": 0,
                          "ticks": ""
                        },
                        "type": "contourcarpet"
                      }
                    ],
                    "heatmap": [
                      {
                        "colorbar": {
                          "outlinewidth": 0,
                          "ticks": ""
                        },
                        "colorscale": [
                          [
                            0,
                            "#0d0887"
                          ],
                          [
                            0.1111111111111111,
                            "#46039f"
                          ],
                          [
                            0.2222222222222222,
                            "#7201a8"
                          ],
                          [
                            0.3333333333333333,
                            "#9c179e"
                          ],
                          [
                            0.4444444444444444,
                            "#bd3786"
                          ],
                          [
                            0.5555555555555556,
                            "#d8576b"
                          ],
                          [
                            0.6666666666666666,
                            "#ed7953"
                          ],
                          [
                            0.7777777777777778,
                            "#fb9f3a"
                          ],
                          [
                            0.8888888888888888,
                            "#fdca26"
                          ],
                          [
                            1,
                            "#f0f921"
                          ]
                        ],
                        "type": "heatmap"
                      }
                    ],
                    "heatmapgl": [
                      {
                        "colorbar": {
                          "outlinewidth": 0,
                          "ticks": ""
                        },
                        "colorscale": [
                          [
                            0,
                            "#0d0887"
                          ],
                          [
                            0.1111111111111111,
                            "#46039f"
                          ],
                          [
                            0.2222222222222222,
                            "#7201a8"
                          ],
                          [
                            0.3333333333333333,
                            "#9c179e"
                          ],
                          [
                            0.4444444444444444,
                            "#bd3786"
                          ],
                          [
                            0.5555555555555556,
                            "#d8576b"
                          ],
                          [
                            0.6666666666666666,
                            "#ed7953"
                          ],
                          [
                            0.7777777777777778,
                            "#fb9f3a"
                          ],
                          [
                            0.8888888888888888,
                            "#fdca26"
                          ],
                          [
                            1,
                            "#f0f921"
                          ]
                        ],
                        "type": "heatmapgl"
                      }
                    ],
                    "histogram": [
                      {
                        "marker": {
                          "pattern": {
                            "fillmode": "overlay",
                            "size": 10,
                            "solidity": 0.2
                          }
                        },
                        "type": "histogram"
                      }
                    ],
                    "histogram2d": [
                      {
                        "colorbar": {
                          "outlinewidth": 0,
                          "ticks": ""
                        },
                        "colorscale": [
                          [
                            0,
                            "#0d0887"
                          ],
                          [
                            0.1111111111111111,
                            "#46039f"
                          ],
                          [
                            0.2222222222222222,
                            "#7201a8"
                          ],
                          [
                            0.3333333333333333,
                            "#9c179e"
                          ],
                          [
                            0.4444444444444444,
                            "#bd3786"
                          ],
                          [
                            0.5555555555555556,
                            "#d8576b"
                          ],
                          [
                            0.6666666666666666,
                            "#ed7953"
                          ],
                          [
                            0.7777777777777778,
                            "#fb9f3a"
                          ],
                          [
                            0.8888888888888888,
                            "#fdca26"
                          ],
                          [
                            1,
                            "#f0f921"
                          ]
                        ],
                        "type": "histogram2d"
                      }
                    ],
                    "histogram2dcontour": [
                      {
                        "colorbar": {
                          "outlinewidth": 0,
                          "ticks": ""
                        },
                        "colorscale": [
                          [
                            0,
                            "#0d0887"
                          ],
                          [
                            0.1111111111111111,
                            "#46039f"
                          ],
                          [
                            0.2222222222222222,
                            "#7201a8"
                          ],
                          [
                            0.3333333333333333,
                            "#9c179e"
                          ],
                          [
                            0.4444444444444444,
                            "#bd3786"
                          ],
                          [
                            0.5555555555555556,
                            "#d8576b"
                          ],
                          [
                            0.6666666666666666,
                            "#ed7953"
                          ],
                          [
                            0.7777777777777778,
                            "#fb9f3a"
                          ],
                          [
                            0.8888888888888888,
                            "#fdca26"
                          ],
                          [
                            1,
                            "#f0f921"
                          ]
                        ],
                        "type": "histogram2dcontour"
                      }
                    ],
                    "mesh3d": [
                      {
                        "colorbar": {
                          "outlinewidth": 0,
                          "ticks": ""
                        },
                        "type": "mesh3d"
                      }
                    ],
                    "parcoords": [
                      {
                        "line": {
                          "colorbar": {
                            "outlinewidth": 0,
                            "ticks": ""
                          }
                        },
                        "type": "parcoords"
                      }
                    ],
                    "pie": [
                      {
                        "automargin": true,
                        "type": "pie"
                      }
                    ],
                    "scatter": [
                      {
                        "fillpattern": {
                          "fillmode": "overlay",
                          "size": 10,
                          "solidity": 0.2
                        },
                        "type": "scatter"
                      }
                    ],
                    "scatter3d": [
                      {
                        "line": {
                          "colorbar": {
                            "outlinewidth": 0,
                            "ticks": ""
                          }
                        },
                        "marker": {
                          "colorbar": {
                            "outlinewidth": 0,
                            "ticks": ""
                          }
                        },
                        "type": "scatter3d"
                      }
                    ],
                    "scattercarpet": [
                      {
                        "marker": {
                          "colorbar": {
                            "outlinewidth": 0,
                            "ticks": ""
                          }
                        },
                        "type": "scattercarpet"
                      }
                    ],
                    "scattergeo": [
                      {
                        "marker": {
                          "colorbar": {
                            "outlinewidth": 0,
                            "ticks": ""
                          }
                        },
                        "type": "scattergeo"
                      }
                    ],
                    "scattergl": [
                      {
                        "marker": {
                          "colorbar": {
                            "outlinewidth": 0,
                            "ticks": ""
                          }
                        },
                        "type": "scattergl"
                      }
                    ],
                    "scattermapbox": [
                      {
                        "marker": {
                          "colorbar": {
                            "outlinewidth": 0,
                            "ticks": ""
                          }
                        },
                        "type": "scattermapbox"
                      }
                    ],
                    "scatterpolar": [
                      {
                        "marker": {
                          "colorbar": {
                            "outlinewidth": 0,
                            "ticks": ""
                          }
                        },
                        "type": "scatterpolar"
                      }
                    ],
                    "scatterpolargl": [
                      {
                        "marker": {
                          "colorbar": {
                            "outlinewidth": 0,
                            "ticks": ""
                          }
                        },
                        "type": "scatterpolargl"
                      }
                    ],
                    "scatterternary": [
                      {
                        "marker": {
                          "colorbar": {
                            "outlinewidth": 0,
                            "ticks": ""
                          }
                        },
                        "type": "scatterternary"
                      }
                    ],
                    "surface": [
                      {
                        "colorbar": {
                          "outlinewidth": 0,
                          "ticks": ""
                        },
                        "colorscale": [
                          [
                            0,
                            "#0d0887"
                          ],
                          [
                            0.1111111111111111,
                            "#46039f"
                          ],
                          [
                            0.2222222222222222,
                            "#7201a8"
                          ],
                          [
                            0.3333333333333333,
                            "#9c179e"
                          ],
                          [
                            0.4444444444444444,
                            "#bd3786"
                          ],
                          [
                            0.5555555555555556,
                            "#d8576b"
                          ],
                          [
                            0.6666666666666666,
                            "#ed7953"
                          ],
                          [
                            0.7777777777777778,
                            "#fb9f3a"
                          ],
                          [
                            0.8888888888888888,
                            "#fdca26"
                          ],
                          [
                            1,
                            "#f0f921"
                          ]
                        ],
                        "type": "surface"
                      }
                    ],
                    "table": [
                      {
                        "cells": {
                          "fill": {
                            "color": "#EBF0F8"
                          },
                          "line": {
                            "color": "white"
                          }
                        },
                        "header": {
                          "fill": {
                            "color": "#C8D4E3"
                          },
                          "line": {
                            "color": "white"
                          }
                        },
                        "type": "table"
                      }
                    ]
                  },
                  "layout": {
                    "annotationdefaults": {
                      "arrowcolor": "#2a3f5f",
                      "arrowhead": 0,
                      "arrowwidth": 1
                    },
                    "autotypenumbers": "strict",
                    "coloraxis": {
                      "colorbar": {
                        "outlinewidth": 0,
                        "ticks": ""
                      }
                    },
                    "colorscale": {
                      "diverging": [
                        [
                          0,
                          "#8e0152"
                        ],
                        [
                          0.1,
                          "#c51b7d"
                        ],
                        [
                          0.2,
                          "#de77ae"
                        ],
                        [
                          0.3,
                          "#f1b6da"
                        ],
                        [
                          0.4,
                          "#fde0ef"
                        ],
                        [
                          0.5,
                          "#f7f7f7"
                        ],
                        [
                          0.6,
                          "#e6f5d0"
                        ],
                        [
                          0.7,
                          "#b8e186"
                        ],
                        [
                          0.8,
                          "#7fbc41"
                        ],
                        [
                          0.9,
                          "#4d9221"
                        ],
                        [
                          1,
                          "#276419"
                        ]
                      ],
                      "sequential": [
                        [
                          0,
                          "#0d0887"
                        ],
                        [
                          0.1111111111111111,
                          "#46039f"
                        ],
                        [
                          0.2222222222222222,
                          "#7201a8"
                        ],
                        [
                          0.3333333333333333,
                          "#9c179e"
                        ],
                        [
                          0.4444444444444444,
                          "#bd3786"
                        ],
                        [
                          0.5555555555555556,
                          "#d8576b"
                        ],
                        [
                          0.6666666666666666,
                          "#ed7953"
                        ],
                        [
                          0.7777777777777778,
                          "#fb9f3a"
                        ],
                        [
                          0.8888888888888888,
                          "#fdca26"
                        ],
                        [
                          1,
                          "#f0f921"
                        ]
                      ],
                      "sequentialminus": [
                        [
                          0,
                          "#0d0887"
                        ],
                        [
                          0.1111111111111111,
                          "#46039f"
                        ],
                        [
                          0.2222222222222222,
                          "#7201a8"
                        ],
                        [
                          0.3333333333333333,
                          "#9c179e"
                        ],
                        [
                          0.4444444444444444,
                          "#bd3786"
                        ],
                        [
                          0.5555555555555556,
                          "#d8576b"
                        ],
                        [
                          0.6666666666666666,
                          "#ed7953"
                        ],
                        [
                          0.7777777777777778,
                          "#fb9f3a"
                        ],
                        [
                          0.8888888888888888,
                          "#fdca26"
                        ],
                        [
                          1,
                          "#f0f921"
                        ]
                      ]
                    },
                    "colorway": [
                      "#636efa",
                      "#EF553B",
                      "#00cc96",
                      "#ab63fa",
                      "#FFA15A",
                      "#19d3f3",
                      "#FF6692",
                      "#B6E880",
                      "#FF97FF",
                      "#FECB52"
                    ],
                    "font": {
                      "color": "#2a3f5f"
                    },
                    "geo": {
                      "bgcolor": "white",
                      "lakecolor": "white",
                      "landcolor": "#E5ECF6",
                      "showlakes": true,
                      "showland": true,
                      "subunitcolor": "white"
                    },
                    "hoverlabel": {
                      "align": "left"
                    },
                    "hovermode": "closest",
                    "mapbox": {
                      "style": "light"
                    },
                    "paper_bgcolor": "white",
                    "plot_bgcolor": "#E5ECF6",
                    "polar": {
                      "angularaxis": {
                        "gridcolor": "white",
                        "linecolor": "white",
                        "ticks": ""
                      },
                      "bgcolor": "#E5ECF6",
                      "radialaxis": {
                        "gridcolor": "white",
                        "linecolor": "white",
                        "ticks": ""
                      }
                    },
                    "scene": {
                      "xaxis": {
                        "backgroundcolor": "#E5ECF6",
                        "gridcolor": "white",
                        "gridwidth": 2,
                        "linecolor": "white",
                        "showbackground": true,
                        "ticks": "",
                        "zerolinecolor": "white"
                      },
                      "yaxis": {
                        "backgroundcolor": "#E5ECF6",
                        "gridcolor": "white",
                        "gridwidth": 2,
                        "linecolor": "white",
                        "showbackground": true,
                        "ticks": "",
                        "zerolinecolor": "white"
                      },
                      "zaxis": {
                        "backgroundcolor": "#E5ECF6",
                        "gridcolor": "white",
                        "gridwidth": 2,
                        "linecolor": "white",
                        "showbackground": true,
                        "ticks": "",
                        "zerolinecolor": "white"
                      }
                    },
                    "shapedefaults": {
                      "line": {
                        "color": "#2a3f5f"
                      }
                    },
                    "ternary": {
                      "aaxis": {
                        "gridcolor": "white",
                        "linecolor": "white",
                        "ticks": ""
                      },
                      "baxis": {
                        "gridcolor": "white",
                        "linecolor": "white",
                        "ticks": ""
                      },
                      "bgcolor": "#E5ECF6",
                      "caxis": {
                        "gridcolor": "white",
                        "linecolor": "white",
                        "ticks": ""
                      }
                    },
                    "title": {
                      "x": 0.05
                    },
                    "xaxis": {
                      "automargin": true,
                      "gridcolor": "white",
                      "linecolor": "white",
                      "ticks": "",
                      "title": {
                        "standoff": 15
                      },
                      "zerolinecolor": "white",
                      "zerolinewidth": 2
                    },
                    "yaxis": {
                      "automargin": true,
                      "gridcolor": "white",
                      "linecolor": "white",
                      "ticks": "",
                      "title": {
                        "standoff": 15
                      },
                      "zerolinecolor": "white",
                      "zerolinewidth": 2
                    }
                  }
                },
                "title": {
                  "text": "Age Distribution"
                },
                "xaxis": {
                  "anchor": "y",
                  "domain": [
                    0,
                    1
                  ],
                  "title": {
                    "text": "Age"
                  }
                },
                "yaxis": {
                  "anchor": "x",
                  "domain": [
                    0,
                    1
                  ],
                  "title": {
                    "text": "Count"
                  }
                }
              }
            }
          },
          "metadata": {},
          "output_type": "display_data"
        }
      ],
      "source": [
        "gender_distribution.columns = ['Gender', 'Count']\n",
        "marital_status_distribution.columns = ['Marital Status', 'Count']\n",
        "age_distribution.columns = ['Age', 'Count']\n",
        "gender_fig = px.pie(gender_distribution, names='Gender', values='Count', title='Gender Distribution')\n",
        "marital_fig = px.pie(marital_status_distribution, names='Marital Status', values='Count', title='Marital Status Distribution')\n",
        "age_fig = px.bar(age_distribution, x='Age', y='Count', title='Age Distribution')\n",
        "\n",
        "# Show the plots\n",
        "gender_fig.show()\n",
        "marital_fig.show()\n",
        "age_fig.show()\n"
      ]
    },
    {
      "cell_type": "code",
      "execution_count": 23,
      "metadata": {
        "colab": {
          "base_uri": "https://localhost:8080/"
        },
        "id": "Nz8ZJR-qQQJ8",
        "outputId": "c40cba73-52d8-4738-ba61-fe567f944401"
      },
      "outputs": [
        {
          "name": "stdout",
          "output_type": "stream",
          "text": [
            "        index  Education\n",
            "0    Teritary        172\n",
            "1      Middle        171\n",
            "2  Uneducated        162\n",
            "3   Secondary        161\n",
            "4     Primary        144\n",
            "                                       index  Role\n",
            "0                             Top Executives   175\n",
            "1         Training and Development Executive   172\n",
            "2              Marketing and Sales Executive   162\n",
            "3  Computer and Information System Executive   160\n",
            "4        Advertising and Promotion Executive   141\n",
            "     index  Lower Income\n",
            "0  30087.0           123\n",
            "1   2735.0           121\n",
            "2  13676.0           118\n",
            "3   2736.0           115\n",
            "4  19146.0           115\n",
            "5   8206.0           114\n",
            "6  24616.0           104\n",
            "      index  Upper Income\n",
            "0  100000.0           123\n",
            "1    2735.0           121\n",
            "2   19145.0           118\n",
            "3    8205.0           115\n",
            "4   24615.0           115\n",
            "5   13675.0           114\n",
            "6   30085.0           104\n"
          ]
        }
      ],
      "source": [
        "edu = data['Education'].value_counts().reset_index()\n",
        "print(edu)\n",
        "\n",
        "role = data['Role'].value_counts().reset_index()\n",
        "print(role)\n",
        "\n",
        "lower=data['Lower Income'].value_counts().reset_index()\n",
        "print(lower)\n",
        "\n",
        "upper=data['Upper Income'].value_counts().reset_index()\n",
        "print(upper)"
      ]
    },
    {
      "cell_type": "code",
      "execution_count": 24,
      "metadata": {
        "colab": {
          "base_uri": "https://localhost:8080/",
          "height": 542
        },
        "id": "YLLzfCf6Ri0E",
        "outputId": "9127f84f-49f9-4782-bf87-d573001c10cb"
      },
      "outputs": [
        {
          "data": {
            "application/vnd.plotly.v1+json": {
              "config": {
                "plotlyServerURL": "https://plot.ly"
              },
              "data": [
                {
                  "alignmentgroup": "True",
                  "hovertemplate": "Role=Advertising and Promotion Executive<br>Education=%{x}<br>Count=%{y}<extra></extra>",
                  "legendgroup": "Advertising and Promotion Executive",
                  "marker": {
                    "color": "#636efa",
                    "pattern": {
                      "shape": ""
                    }
                  },
                  "name": "Advertising and Promotion Executive",
                  "offsetgroup": "Advertising and Promotion Executive",
                  "orientation": "v",
                  "showlegend": true,
                  "textposition": "auto",
                  "type": "bar",
                  "x": [
                    "Middle",
                    "Primary",
                    "Secondary",
                    "Teritary",
                    "Uneducated"
                  ],
                  "xaxis": "x",
                  "y": [
                    28,
                    24,
                    37,
                    30,
                    22
                  ],
                  "yaxis": "y"
                },
                {
                  "alignmentgroup": "True",
                  "hovertemplate": "Role=Computer and Information System Executive<br>Education=%{x}<br>Count=%{y}<extra></extra>",
                  "legendgroup": "Computer and Information System Executive",
                  "marker": {
                    "color": "#EF553B",
                    "pattern": {
                      "shape": ""
                    }
                  },
                  "name": "Computer and Information System Executive",
                  "offsetgroup": "Computer and Information System Executive",
                  "orientation": "v",
                  "showlegend": true,
                  "textposition": "auto",
                  "type": "bar",
                  "x": [
                    "Middle",
                    "Primary",
                    "Secondary",
                    "Teritary",
                    "Uneducated"
                  ],
                  "xaxis": "x",
                  "y": [
                    33,
                    34,
                    29,
                    33,
                    31
                  ],
                  "yaxis": "y"
                },
                {
                  "alignmentgroup": "True",
                  "hovertemplate": "Role=Marketing and Sales Executive<br>Education=%{x}<br>Count=%{y}<extra></extra>",
                  "legendgroup": "Marketing and Sales Executive",
                  "marker": {
                    "color": "#00cc96",
                    "pattern": {
                      "shape": ""
                    }
                  },
                  "name": "Marketing and Sales Executive",
                  "offsetgroup": "Marketing and Sales Executive",
                  "orientation": "v",
                  "showlegend": true,
                  "textposition": "auto",
                  "type": "bar",
                  "x": [
                    "Middle",
                    "Primary",
                    "Secondary",
                    "Teritary",
                    "Uneducated"
                  ],
                  "xaxis": "x",
                  "y": [
                    41,
                    27,
                    24,
                    31,
                    39
                  ],
                  "yaxis": "y"
                },
                {
                  "alignmentgroup": "True",
                  "hovertemplate": "Role=Top Executives<br>Education=%{x}<br>Count=%{y}<extra></extra>",
                  "legendgroup": "Top Executives",
                  "marker": {
                    "color": "#ab63fa",
                    "pattern": {
                      "shape": ""
                    }
                  },
                  "name": "Top Executives",
                  "offsetgroup": "Top Executives",
                  "orientation": "v",
                  "showlegend": true,
                  "textposition": "auto",
                  "type": "bar",
                  "x": [
                    "Middle",
                    "Primary",
                    "Secondary",
                    "Teritary",
                    "Uneducated"
                  ],
                  "xaxis": "x",
                  "y": [
                    35,
                    27,
                    35,
                    40,
                    38
                  ],
                  "yaxis": "y"
                },
                {
                  "alignmentgroup": "True",
                  "hovertemplate": "Role=Training and Development Executive<br>Education=%{x}<br>Count=%{y}<extra></extra>",
                  "legendgroup": "Training and Development Executive",
                  "marker": {
                    "color": "#FFA15A",
                    "pattern": {
                      "shape": ""
                    }
                  },
                  "name": "Training and Development Executive",
                  "offsetgroup": "Training and Development Executive",
                  "orientation": "v",
                  "showlegend": true,
                  "textposition": "auto",
                  "type": "bar",
                  "x": [
                    "Middle",
                    "Primary",
                    "Secondary",
                    "Teritary",
                    "Uneducated"
                  ],
                  "xaxis": "x",
                  "y": [
                    34,
                    32,
                    36,
                    38,
                    32
                  ],
                  "yaxis": "y"
                }
              ],
              "layout": {
                "barmode": "stack",
                "legend": {
                  "title": {
                    "text": "Role"
                  },
                  "tracegroupgap": 0
                },
                "template": {
                  "data": {
                    "bar": [
                      {
                        "error_x": {
                          "color": "#2a3f5f"
                        },
                        "error_y": {
                          "color": "#2a3f5f"
                        },
                        "marker": {
                          "line": {
                            "color": "#E5ECF6",
                            "width": 0.5
                          },
                          "pattern": {
                            "fillmode": "overlay",
                            "size": 10,
                            "solidity": 0.2
                          }
                        },
                        "type": "bar"
                      }
                    ],
                    "barpolar": [
                      {
                        "marker": {
                          "line": {
                            "color": "#E5ECF6",
                            "width": 0.5
                          },
                          "pattern": {
                            "fillmode": "overlay",
                            "size": 10,
                            "solidity": 0.2
                          }
                        },
                        "type": "barpolar"
                      }
                    ],
                    "carpet": [
                      {
                        "aaxis": {
                          "endlinecolor": "#2a3f5f",
                          "gridcolor": "white",
                          "linecolor": "white",
                          "minorgridcolor": "white",
                          "startlinecolor": "#2a3f5f"
                        },
                        "baxis": {
                          "endlinecolor": "#2a3f5f",
                          "gridcolor": "white",
                          "linecolor": "white",
                          "minorgridcolor": "white",
                          "startlinecolor": "#2a3f5f"
                        },
                        "type": "carpet"
                      }
                    ],
                    "choropleth": [
                      {
                        "colorbar": {
                          "outlinewidth": 0,
                          "ticks": ""
                        },
                        "type": "choropleth"
                      }
                    ],
                    "contour": [
                      {
                        "colorbar": {
                          "outlinewidth": 0,
                          "ticks": ""
                        },
                        "colorscale": [
                          [
                            0,
                            "#0d0887"
                          ],
                          [
                            0.1111111111111111,
                            "#46039f"
                          ],
                          [
                            0.2222222222222222,
                            "#7201a8"
                          ],
                          [
                            0.3333333333333333,
                            "#9c179e"
                          ],
                          [
                            0.4444444444444444,
                            "#bd3786"
                          ],
                          [
                            0.5555555555555556,
                            "#d8576b"
                          ],
                          [
                            0.6666666666666666,
                            "#ed7953"
                          ],
                          [
                            0.7777777777777778,
                            "#fb9f3a"
                          ],
                          [
                            0.8888888888888888,
                            "#fdca26"
                          ],
                          [
                            1,
                            "#f0f921"
                          ]
                        ],
                        "type": "contour"
                      }
                    ],
                    "contourcarpet": [
                      {
                        "colorbar": {
                          "outlinewidth": 0,
                          "ticks": ""
                        },
                        "type": "contourcarpet"
                      }
                    ],
                    "heatmap": [
                      {
                        "colorbar": {
                          "outlinewidth": 0,
                          "ticks": ""
                        },
                        "colorscale": [
                          [
                            0,
                            "#0d0887"
                          ],
                          [
                            0.1111111111111111,
                            "#46039f"
                          ],
                          [
                            0.2222222222222222,
                            "#7201a8"
                          ],
                          [
                            0.3333333333333333,
                            "#9c179e"
                          ],
                          [
                            0.4444444444444444,
                            "#bd3786"
                          ],
                          [
                            0.5555555555555556,
                            "#d8576b"
                          ],
                          [
                            0.6666666666666666,
                            "#ed7953"
                          ],
                          [
                            0.7777777777777778,
                            "#fb9f3a"
                          ],
                          [
                            0.8888888888888888,
                            "#fdca26"
                          ],
                          [
                            1,
                            "#f0f921"
                          ]
                        ],
                        "type": "heatmap"
                      }
                    ],
                    "heatmapgl": [
                      {
                        "colorbar": {
                          "outlinewidth": 0,
                          "ticks": ""
                        },
                        "colorscale": [
                          [
                            0,
                            "#0d0887"
                          ],
                          [
                            0.1111111111111111,
                            "#46039f"
                          ],
                          [
                            0.2222222222222222,
                            "#7201a8"
                          ],
                          [
                            0.3333333333333333,
                            "#9c179e"
                          ],
                          [
                            0.4444444444444444,
                            "#bd3786"
                          ],
                          [
                            0.5555555555555556,
                            "#d8576b"
                          ],
                          [
                            0.6666666666666666,
                            "#ed7953"
                          ],
                          [
                            0.7777777777777778,
                            "#fb9f3a"
                          ],
                          [
                            0.8888888888888888,
                            "#fdca26"
                          ],
                          [
                            1,
                            "#f0f921"
                          ]
                        ],
                        "type": "heatmapgl"
                      }
                    ],
                    "histogram": [
                      {
                        "marker": {
                          "pattern": {
                            "fillmode": "overlay",
                            "size": 10,
                            "solidity": 0.2
                          }
                        },
                        "type": "histogram"
                      }
                    ],
                    "histogram2d": [
                      {
                        "colorbar": {
                          "outlinewidth": 0,
                          "ticks": ""
                        },
                        "colorscale": [
                          [
                            0,
                            "#0d0887"
                          ],
                          [
                            0.1111111111111111,
                            "#46039f"
                          ],
                          [
                            0.2222222222222222,
                            "#7201a8"
                          ],
                          [
                            0.3333333333333333,
                            "#9c179e"
                          ],
                          [
                            0.4444444444444444,
                            "#bd3786"
                          ],
                          [
                            0.5555555555555556,
                            "#d8576b"
                          ],
                          [
                            0.6666666666666666,
                            "#ed7953"
                          ],
                          [
                            0.7777777777777778,
                            "#fb9f3a"
                          ],
                          [
                            0.8888888888888888,
                            "#fdca26"
                          ],
                          [
                            1,
                            "#f0f921"
                          ]
                        ],
                        "type": "histogram2d"
                      }
                    ],
                    "histogram2dcontour": [
                      {
                        "colorbar": {
                          "outlinewidth": 0,
                          "ticks": ""
                        },
                        "colorscale": [
                          [
                            0,
                            "#0d0887"
                          ],
                          [
                            0.1111111111111111,
                            "#46039f"
                          ],
                          [
                            0.2222222222222222,
                            "#7201a8"
                          ],
                          [
                            0.3333333333333333,
                            "#9c179e"
                          ],
                          [
                            0.4444444444444444,
                            "#bd3786"
                          ],
                          [
                            0.5555555555555556,
                            "#d8576b"
                          ],
                          [
                            0.6666666666666666,
                            "#ed7953"
                          ],
                          [
                            0.7777777777777778,
                            "#fb9f3a"
                          ],
                          [
                            0.8888888888888888,
                            "#fdca26"
                          ],
                          [
                            1,
                            "#f0f921"
                          ]
                        ],
                        "type": "histogram2dcontour"
                      }
                    ],
                    "mesh3d": [
                      {
                        "colorbar": {
                          "outlinewidth": 0,
                          "ticks": ""
                        },
                        "type": "mesh3d"
                      }
                    ],
                    "parcoords": [
                      {
                        "line": {
                          "colorbar": {
                            "outlinewidth": 0,
                            "ticks": ""
                          }
                        },
                        "type": "parcoords"
                      }
                    ],
                    "pie": [
                      {
                        "automargin": true,
                        "type": "pie"
                      }
                    ],
                    "scatter": [
                      {
                        "fillpattern": {
                          "fillmode": "overlay",
                          "size": 10,
                          "solidity": 0.2
                        },
                        "type": "scatter"
                      }
                    ],
                    "scatter3d": [
                      {
                        "line": {
                          "colorbar": {
                            "outlinewidth": 0,
                            "ticks": ""
                          }
                        },
                        "marker": {
                          "colorbar": {
                            "outlinewidth": 0,
                            "ticks": ""
                          }
                        },
                        "type": "scatter3d"
                      }
                    ],
                    "scattercarpet": [
                      {
                        "marker": {
                          "colorbar": {
                            "outlinewidth": 0,
                            "ticks": ""
                          }
                        },
                        "type": "scattercarpet"
                      }
                    ],
                    "scattergeo": [
                      {
                        "marker": {
                          "colorbar": {
                            "outlinewidth": 0,
                            "ticks": ""
                          }
                        },
                        "type": "scattergeo"
                      }
                    ],
                    "scattergl": [
                      {
                        "marker": {
                          "colorbar": {
                            "outlinewidth": 0,
                            "ticks": ""
                          }
                        },
                        "type": "scattergl"
                      }
                    ],
                    "scattermapbox": [
                      {
                        "marker": {
                          "colorbar": {
                            "outlinewidth": 0,
                            "ticks": ""
                          }
                        },
                        "type": "scattermapbox"
                      }
                    ],
                    "scatterpolar": [
                      {
                        "marker": {
                          "colorbar": {
                            "outlinewidth": 0,
                            "ticks": ""
                          }
                        },
                        "type": "scatterpolar"
                      }
                    ],
                    "scatterpolargl": [
                      {
                        "marker": {
                          "colorbar": {
                            "outlinewidth": 0,
                            "ticks": ""
                          }
                        },
                        "type": "scatterpolargl"
                      }
                    ],
                    "scatterternary": [
                      {
                        "marker": {
                          "colorbar": {
                            "outlinewidth": 0,
                            "ticks": ""
                          }
                        },
                        "type": "scatterternary"
                      }
                    ],
                    "surface": [
                      {
                        "colorbar": {
                          "outlinewidth": 0,
                          "ticks": ""
                        },
                        "colorscale": [
                          [
                            0,
                            "#0d0887"
                          ],
                          [
                            0.1111111111111111,
                            "#46039f"
                          ],
                          [
                            0.2222222222222222,
                            "#7201a8"
                          ],
                          [
                            0.3333333333333333,
                            "#9c179e"
                          ],
                          [
                            0.4444444444444444,
                            "#bd3786"
                          ],
                          [
                            0.5555555555555556,
                            "#d8576b"
                          ],
                          [
                            0.6666666666666666,
                            "#ed7953"
                          ],
                          [
                            0.7777777777777778,
                            "#fb9f3a"
                          ],
                          [
                            0.8888888888888888,
                            "#fdca26"
                          ],
                          [
                            1,
                            "#f0f921"
                          ]
                        ],
                        "type": "surface"
                      }
                    ],
                    "table": [
                      {
                        "cells": {
                          "fill": {
                            "color": "#EBF0F8"
                          },
                          "line": {
                            "color": "white"
                          }
                        },
                        "header": {
                          "fill": {
                            "color": "#C8D4E3"
                          },
                          "line": {
                            "color": "white"
                          }
                        },
                        "type": "table"
                      }
                    ]
                  },
                  "layout": {
                    "annotationdefaults": {
                      "arrowcolor": "#2a3f5f",
                      "arrowhead": 0,
                      "arrowwidth": 1
                    },
                    "autotypenumbers": "strict",
                    "coloraxis": {
                      "colorbar": {
                        "outlinewidth": 0,
                        "ticks": ""
                      }
                    },
                    "colorscale": {
                      "diverging": [
                        [
                          0,
                          "#8e0152"
                        ],
                        [
                          0.1,
                          "#c51b7d"
                        ],
                        [
                          0.2,
                          "#de77ae"
                        ],
                        [
                          0.3,
                          "#f1b6da"
                        ],
                        [
                          0.4,
                          "#fde0ef"
                        ],
                        [
                          0.5,
                          "#f7f7f7"
                        ],
                        [
                          0.6,
                          "#e6f5d0"
                        ],
                        [
                          0.7,
                          "#b8e186"
                        ],
                        [
                          0.8,
                          "#7fbc41"
                        ],
                        [
                          0.9,
                          "#4d9221"
                        ],
                        [
                          1,
                          "#276419"
                        ]
                      ],
                      "sequential": [
                        [
                          0,
                          "#0d0887"
                        ],
                        [
                          0.1111111111111111,
                          "#46039f"
                        ],
                        [
                          0.2222222222222222,
                          "#7201a8"
                        ],
                        [
                          0.3333333333333333,
                          "#9c179e"
                        ],
                        [
                          0.4444444444444444,
                          "#bd3786"
                        ],
                        [
                          0.5555555555555556,
                          "#d8576b"
                        ],
                        [
                          0.6666666666666666,
                          "#ed7953"
                        ],
                        [
                          0.7777777777777778,
                          "#fb9f3a"
                        ],
                        [
                          0.8888888888888888,
                          "#fdca26"
                        ],
                        [
                          1,
                          "#f0f921"
                        ]
                      ],
                      "sequentialminus": [
                        [
                          0,
                          "#0d0887"
                        ],
                        [
                          0.1111111111111111,
                          "#46039f"
                        ],
                        [
                          0.2222222222222222,
                          "#7201a8"
                        ],
                        [
                          0.3333333333333333,
                          "#9c179e"
                        ],
                        [
                          0.4444444444444444,
                          "#bd3786"
                        ],
                        [
                          0.5555555555555556,
                          "#d8576b"
                        ],
                        [
                          0.6666666666666666,
                          "#ed7953"
                        ],
                        [
                          0.7777777777777778,
                          "#fb9f3a"
                        ],
                        [
                          0.8888888888888888,
                          "#fdca26"
                        ],
                        [
                          1,
                          "#f0f921"
                        ]
                      ]
                    },
                    "colorway": [
                      "#636efa",
                      "#EF553B",
                      "#00cc96",
                      "#ab63fa",
                      "#FFA15A",
                      "#19d3f3",
                      "#FF6692",
                      "#B6E880",
                      "#FF97FF",
                      "#FECB52"
                    ],
                    "font": {
                      "color": "#2a3f5f"
                    },
                    "geo": {
                      "bgcolor": "white",
                      "lakecolor": "white",
                      "landcolor": "#E5ECF6",
                      "showlakes": true,
                      "showland": true,
                      "subunitcolor": "white"
                    },
                    "hoverlabel": {
                      "align": "left"
                    },
                    "hovermode": "closest",
                    "mapbox": {
                      "style": "light"
                    },
                    "paper_bgcolor": "white",
                    "plot_bgcolor": "#E5ECF6",
                    "polar": {
                      "angularaxis": {
                        "gridcolor": "white",
                        "linecolor": "white",
                        "ticks": ""
                      },
                      "bgcolor": "#E5ECF6",
                      "radialaxis": {
                        "gridcolor": "white",
                        "linecolor": "white",
                        "ticks": ""
                      }
                    },
                    "scene": {
                      "xaxis": {
                        "backgroundcolor": "#E5ECF6",
                        "gridcolor": "white",
                        "gridwidth": 2,
                        "linecolor": "white",
                        "showbackground": true,
                        "ticks": "",
                        "zerolinecolor": "white"
                      },
                      "yaxis": {
                        "backgroundcolor": "#E5ECF6",
                        "gridcolor": "white",
                        "gridwidth": 2,
                        "linecolor": "white",
                        "showbackground": true,
                        "ticks": "",
                        "zerolinecolor": "white"
                      },
                      "zaxis": {
                        "backgroundcolor": "#E5ECF6",
                        "gridcolor": "white",
                        "gridwidth": 2,
                        "linecolor": "white",
                        "showbackground": true,
                        "ticks": "",
                        "zerolinecolor": "white"
                      }
                    },
                    "shapedefaults": {
                      "line": {
                        "color": "#2a3f5f"
                      }
                    },
                    "ternary": {
                      "aaxis": {
                        "gridcolor": "white",
                        "linecolor": "white",
                        "ticks": ""
                      },
                      "baxis": {
                        "gridcolor": "white",
                        "linecolor": "white",
                        "ticks": ""
                      },
                      "bgcolor": "#E5ECF6",
                      "caxis": {
                        "gridcolor": "white",
                        "linecolor": "white",
                        "ticks": ""
                      }
                    },
                    "title": {
                      "x": 0.05
                    },
                    "xaxis": {
                      "automargin": true,
                      "gridcolor": "white",
                      "linecolor": "white",
                      "ticks": "",
                      "title": {
                        "standoff": 15
                      },
                      "zerolinecolor": "white",
                      "zerolinewidth": 2
                    },
                    "yaxis": {
                      "automargin": true,
                      "gridcolor": "white",
                      "linecolor": "white",
                      "ticks": "",
                      "title": {
                        "standoff": 15
                      },
                      "zerolinecolor": "white",
                      "zerolinewidth": 2
                    }
                  }
                },
                "title": {
                  "text": "Demographic Distribution"
                },
                "xaxis": {
                  "anchor": "y",
                  "domain": [
                    0,
                    1
                  ],
                  "title": {
                    "text": "Education"
                  }
                },
                "yaxis": {
                  "anchor": "x",
                  "domain": [
                    0,
                    1
                  ],
                  "title": {
                    "text": "Count"
                  }
                }
              }
            }
          },
          "metadata": {},
          "output_type": "display_data"
        }
      ],
      "source": [
        "# edu.columns = ['Education', 'Count']\n",
        "# role.columns = ['Role', 'Count']\n",
        "# lower.columns = ['Lower Income in Dollars', 'Count']\n",
        "# upper.columns = ['Upper Income in Dollars','Count']\n",
        "grouped_df = df.groupby(['Education', 'Role']).size().reset_index(name='Count')\n",
        "stacked_fig = px.bar(grouped_df, x='Education', y='Count', color='Role', title='Demographic Distribution',\n",
        "                      barmode='stack')\n",
        "stacked_fig.show()"
      ]
    },
    {
      "cell_type": "code",
      "execution_count": 25,
      "metadata": {
        "colab": {
          "base_uri": "https://localhost:8080/",
          "height": 542
        },
        "id": "xPs6VKEeWgOV",
        "outputId": "5a60a32b-0133-4107-c9ac-bc23085394ad"
      },
      "outputs": [
        {
          "data": {
            "application/vnd.plotly.v1+json": {
              "config": {
                "plotlyServerURL": "https://plot.ly"
              },
              "data": [
                {
                  "branchvalues": "total",
                  "domain": {
                    "x": [
                      0,
                      1
                    ],
                    "y": [
                      0,
                      1
                    ]
                  },
                  "hovertemplate": "labels=%{label}<br>Count=%{value}<br>parent=%{parent}<br>id=%{id}<extra></extra>",
                  "ids": [
                    "Advertising and Promotion Executive/Middle",
                    "Computer and Information System Executive/Middle",
                    "Marketing and Sales Executive/Middle",
                    "Top Executives/Middle",
                    "Training and Development Executive/Middle",
                    "Advertising and Promotion Executive/Primary",
                    "Computer and Information System Executive/Primary",
                    "Marketing and Sales Executive/Primary",
                    "Top Executives/Primary",
                    "Training and Development Executive/Primary",
                    "Advertising and Promotion Executive/Secondary",
                    "Computer and Information System Executive/Secondary",
                    "Marketing and Sales Executive/Secondary",
                    "Top Executives/Secondary",
                    "Training and Development Executive/Secondary",
                    "Advertising and Promotion Executive/Teritary",
                    "Computer and Information System Executive/Teritary",
                    "Marketing and Sales Executive/Teritary",
                    "Top Executives/Teritary",
                    "Training and Development Executive/Teritary",
                    "Advertising and Promotion Executive/Uneducated",
                    "Computer and Information System Executive/Uneducated",
                    "Marketing and Sales Executive/Uneducated",
                    "Top Executives/Uneducated",
                    "Training and Development Executive/Uneducated",
                    "Advertising and Promotion Executive",
                    "Computer and Information System Executive",
                    "Marketing and Sales Executive",
                    "Top Executives",
                    "Training and Development Executive"
                  ],
                  "labels": [
                    "Middle",
                    "Middle",
                    "Middle",
                    "Middle",
                    "Middle",
                    "Primary",
                    "Primary",
                    "Primary",
                    "Primary",
                    "Primary",
                    "Secondary",
                    "Secondary",
                    "Secondary",
                    "Secondary",
                    "Secondary",
                    "Teritary",
                    "Teritary",
                    "Teritary",
                    "Teritary",
                    "Teritary",
                    "Uneducated",
                    "Uneducated",
                    "Uneducated",
                    "Uneducated",
                    "Uneducated",
                    "Advertising and Promotion Executive",
                    "Computer and Information System Executive",
                    "Marketing and Sales Executive",
                    "Top Executives",
                    "Training and Development Executive"
                  ],
                  "name": "",
                  "parents": [
                    "Advertising and Promotion Executive",
                    "Computer and Information System Executive",
                    "Marketing and Sales Executive",
                    "Top Executives",
                    "Training and Development Executive",
                    "Advertising and Promotion Executive",
                    "Computer and Information System Executive",
                    "Marketing and Sales Executive",
                    "Top Executives",
                    "Training and Development Executive",
                    "Advertising and Promotion Executive",
                    "Computer and Information System Executive",
                    "Marketing and Sales Executive",
                    "Top Executives",
                    "Training and Development Executive",
                    "Advertising and Promotion Executive",
                    "Computer and Information System Executive",
                    "Marketing and Sales Executive",
                    "Top Executives",
                    "Training and Development Executive",
                    "Advertising and Promotion Executive",
                    "Computer and Information System Executive",
                    "Marketing and Sales Executive",
                    "Top Executives",
                    "Training and Development Executive",
                    "",
                    "",
                    "",
                    "",
                    ""
                  ],
                  "type": "sunburst",
                  "values": [
                    28,
                    33,
                    41,
                    35,
                    34,
                    24,
                    34,
                    27,
                    27,
                    32,
                    37,
                    29,
                    24,
                    35,
                    36,
                    30,
                    33,
                    31,
                    40,
                    38,
                    22,
                    31,
                    39,
                    38,
                    32,
                    141,
                    160,
                    162,
                    175,
                    172
                  ]
                }
              ],
              "layout": {
                "legend": {
                  "tracegroupgap": 0
                },
                "template": {
                  "data": {
                    "bar": [
                      {
                        "error_x": {
                          "color": "#2a3f5f"
                        },
                        "error_y": {
                          "color": "#2a3f5f"
                        },
                        "marker": {
                          "line": {
                            "color": "#E5ECF6",
                            "width": 0.5
                          },
                          "pattern": {
                            "fillmode": "overlay",
                            "size": 10,
                            "solidity": 0.2
                          }
                        },
                        "type": "bar"
                      }
                    ],
                    "barpolar": [
                      {
                        "marker": {
                          "line": {
                            "color": "#E5ECF6",
                            "width": 0.5
                          },
                          "pattern": {
                            "fillmode": "overlay",
                            "size": 10,
                            "solidity": 0.2
                          }
                        },
                        "type": "barpolar"
                      }
                    ],
                    "carpet": [
                      {
                        "aaxis": {
                          "endlinecolor": "#2a3f5f",
                          "gridcolor": "white",
                          "linecolor": "white",
                          "minorgridcolor": "white",
                          "startlinecolor": "#2a3f5f"
                        },
                        "baxis": {
                          "endlinecolor": "#2a3f5f",
                          "gridcolor": "white",
                          "linecolor": "white",
                          "minorgridcolor": "white",
                          "startlinecolor": "#2a3f5f"
                        },
                        "type": "carpet"
                      }
                    ],
                    "choropleth": [
                      {
                        "colorbar": {
                          "outlinewidth": 0,
                          "ticks": ""
                        },
                        "type": "choropleth"
                      }
                    ],
                    "contour": [
                      {
                        "colorbar": {
                          "outlinewidth": 0,
                          "ticks": ""
                        },
                        "colorscale": [
                          [
                            0,
                            "#0d0887"
                          ],
                          [
                            0.1111111111111111,
                            "#46039f"
                          ],
                          [
                            0.2222222222222222,
                            "#7201a8"
                          ],
                          [
                            0.3333333333333333,
                            "#9c179e"
                          ],
                          [
                            0.4444444444444444,
                            "#bd3786"
                          ],
                          [
                            0.5555555555555556,
                            "#d8576b"
                          ],
                          [
                            0.6666666666666666,
                            "#ed7953"
                          ],
                          [
                            0.7777777777777778,
                            "#fb9f3a"
                          ],
                          [
                            0.8888888888888888,
                            "#fdca26"
                          ],
                          [
                            1,
                            "#f0f921"
                          ]
                        ],
                        "type": "contour"
                      }
                    ],
                    "contourcarpet": [
                      {
                        "colorbar": {
                          "outlinewidth": 0,
                          "ticks": ""
                        },
                        "type": "contourcarpet"
                      }
                    ],
                    "heatmap": [
                      {
                        "colorbar": {
                          "outlinewidth": 0,
                          "ticks": ""
                        },
                        "colorscale": [
                          [
                            0,
                            "#0d0887"
                          ],
                          [
                            0.1111111111111111,
                            "#46039f"
                          ],
                          [
                            0.2222222222222222,
                            "#7201a8"
                          ],
                          [
                            0.3333333333333333,
                            "#9c179e"
                          ],
                          [
                            0.4444444444444444,
                            "#bd3786"
                          ],
                          [
                            0.5555555555555556,
                            "#d8576b"
                          ],
                          [
                            0.6666666666666666,
                            "#ed7953"
                          ],
                          [
                            0.7777777777777778,
                            "#fb9f3a"
                          ],
                          [
                            0.8888888888888888,
                            "#fdca26"
                          ],
                          [
                            1,
                            "#f0f921"
                          ]
                        ],
                        "type": "heatmap"
                      }
                    ],
                    "heatmapgl": [
                      {
                        "colorbar": {
                          "outlinewidth": 0,
                          "ticks": ""
                        },
                        "colorscale": [
                          [
                            0,
                            "#0d0887"
                          ],
                          [
                            0.1111111111111111,
                            "#46039f"
                          ],
                          [
                            0.2222222222222222,
                            "#7201a8"
                          ],
                          [
                            0.3333333333333333,
                            "#9c179e"
                          ],
                          [
                            0.4444444444444444,
                            "#bd3786"
                          ],
                          [
                            0.5555555555555556,
                            "#d8576b"
                          ],
                          [
                            0.6666666666666666,
                            "#ed7953"
                          ],
                          [
                            0.7777777777777778,
                            "#fb9f3a"
                          ],
                          [
                            0.8888888888888888,
                            "#fdca26"
                          ],
                          [
                            1,
                            "#f0f921"
                          ]
                        ],
                        "type": "heatmapgl"
                      }
                    ],
                    "histogram": [
                      {
                        "marker": {
                          "pattern": {
                            "fillmode": "overlay",
                            "size": 10,
                            "solidity": 0.2
                          }
                        },
                        "type": "histogram"
                      }
                    ],
                    "histogram2d": [
                      {
                        "colorbar": {
                          "outlinewidth": 0,
                          "ticks": ""
                        },
                        "colorscale": [
                          [
                            0,
                            "#0d0887"
                          ],
                          [
                            0.1111111111111111,
                            "#46039f"
                          ],
                          [
                            0.2222222222222222,
                            "#7201a8"
                          ],
                          [
                            0.3333333333333333,
                            "#9c179e"
                          ],
                          [
                            0.4444444444444444,
                            "#bd3786"
                          ],
                          [
                            0.5555555555555556,
                            "#d8576b"
                          ],
                          [
                            0.6666666666666666,
                            "#ed7953"
                          ],
                          [
                            0.7777777777777778,
                            "#fb9f3a"
                          ],
                          [
                            0.8888888888888888,
                            "#fdca26"
                          ],
                          [
                            1,
                            "#f0f921"
                          ]
                        ],
                        "type": "histogram2d"
                      }
                    ],
                    "histogram2dcontour": [
                      {
                        "colorbar": {
                          "outlinewidth": 0,
                          "ticks": ""
                        },
                        "colorscale": [
                          [
                            0,
                            "#0d0887"
                          ],
                          [
                            0.1111111111111111,
                            "#46039f"
                          ],
                          [
                            0.2222222222222222,
                            "#7201a8"
                          ],
                          [
                            0.3333333333333333,
                            "#9c179e"
                          ],
                          [
                            0.4444444444444444,
                            "#bd3786"
                          ],
                          [
                            0.5555555555555556,
                            "#d8576b"
                          ],
                          [
                            0.6666666666666666,
                            "#ed7953"
                          ],
                          [
                            0.7777777777777778,
                            "#fb9f3a"
                          ],
                          [
                            0.8888888888888888,
                            "#fdca26"
                          ],
                          [
                            1,
                            "#f0f921"
                          ]
                        ],
                        "type": "histogram2dcontour"
                      }
                    ],
                    "mesh3d": [
                      {
                        "colorbar": {
                          "outlinewidth": 0,
                          "ticks": ""
                        },
                        "type": "mesh3d"
                      }
                    ],
                    "parcoords": [
                      {
                        "line": {
                          "colorbar": {
                            "outlinewidth": 0,
                            "ticks": ""
                          }
                        },
                        "type": "parcoords"
                      }
                    ],
                    "pie": [
                      {
                        "automargin": true,
                        "type": "pie"
                      }
                    ],
                    "scatter": [
                      {
                        "fillpattern": {
                          "fillmode": "overlay",
                          "size": 10,
                          "solidity": 0.2
                        },
                        "type": "scatter"
                      }
                    ],
                    "scatter3d": [
                      {
                        "line": {
                          "colorbar": {
                            "outlinewidth": 0,
                            "ticks": ""
                          }
                        },
                        "marker": {
                          "colorbar": {
                            "outlinewidth": 0,
                            "ticks": ""
                          }
                        },
                        "type": "scatter3d"
                      }
                    ],
                    "scattercarpet": [
                      {
                        "marker": {
                          "colorbar": {
                            "outlinewidth": 0,
                            "ticks": ""
                          }
                        },
                        "type": "scattercarpet"
                      }
                    ],
                    "scattergeo": [
                      {
                        "marker": {
                          "colorbar": {
                            "outlinewidth": 0,
                            "ticks": ""
                          }
                        },
                        "type": "scattergeo"
                      }
                    ],
                    "scattergl": [
                      {
                        "marker": {
                          "colorbar": {
                            "outlinewidth": 0,
                            "ticks": ""
                          }
                        },
                        "type": "scattergl"
                      }
                    ],
                    "scattermapbox": [
                      {
                        "marker": {
                          "colorbar": {
                            "outlinewidth": 0,
                            "ticks": ""
                          }
                        },
                        "type": "scattermapbox"
                      }
                    ],
                    "scatterpolar": [
                      {
                        "marker": {
                          "colorbar": {
                            "outlinewidth": 0,
                            "ticks": ""
                          }
                        },
                        "type": "scatterpolar"
                      }
                    ],
                    "scatterpolargl": [
                      {
                        "marker": {
                          "colorbar": {
                            "outlinewidth": 0,
                            "ticks": ""
                          }
                        },
                        "type": "scatterpolargl"
                      }
                    ],
                    "scatterternary": [
                      {
                        "marker": {
                          "colorbar": {
                            "outlinewidth": 0,
                            "ticks": ""
                          }
                        },
                        "type": "scatterternary"
                      }
                    ],
                    "surface": [
                      {
                        "colorbar": {
                          "outlinewidth": 0,
                          "ticks": ""
                        },
                        "colorscale": [
                          [
                            0,
                            "#0d0887"
                          ],
                          [
                            0.1111111111111111,
                            "#46039f"
                          ],
                          [
                            0.2222222222222222,
                            "#7201a8"
                          ],
                          [
                            0.3333333333333333,
                            "#9c179e"
                          ],
                          [
                            0.4444444444444444,
                            "#bd3786"
                          ],
                          [
                            0.5555555555555556,
                            "#d8576b"
                          ],
                          [
                            0.6666666666666666,
                            "#ed7953"
                          ],
                          [
                            0.7777777777777778,
                            "#fb9f3a"
                          ],
                          [
                            0.8888888888888888,
                            "#fdca26"
                          ],
                          [
                            1,
                            "#f0f921"
                          ]
                        ],
                        "type": "surface"
                      }
                    ],
                    "table": [
                      {
                        "cells": {
                          "fill": {
                            "color": "#EBF0F8"
                          },
                          "line": {
                            "color": "white"
                          }
                        },
                        "header": {
                          "fill": {
                            "color": "#C8D4E3"
                          },
                          "line": {
                            "color": "white"
                          }
                        },
                        "type": "table"
                      }
                    ]
                  },
                  "layout": {
                    "annotationdefaults": {
                      "arrowcolor": "#2a3f5f",
                      "arrowhead": 0,
                      "arrowwidth": 1
                    },
                    "autotypenumbers": "strict",
                    "coloraxis": {
                      "colorbar": {
                        "outlinewidth": 0,
                        "ticks": ""
                      }
                    },
                    "colorscale": {
                      "diverging": [
                        [
                          0,
                          "#8e0152"
                        ],
                        [
                          0.1,
                          "#c51b7d"
                        ],
                        [
                          0.2,
                          "#de77ae"
                        ],
                        [
                          0.3,
                          "#f1b6da"
                        ],
                        [
                          0.4,
                          "#fde0ef"
                        ],
                        [
                          0.5,
                          "#f7f7f7"
                        ],
                        [
                          0.6,
                          "#e6f5d0"
                        ],
                        [
                          0.7,
                          "#b8e186"
                        ],
                        [
                          0.8,
                          "#7fbc41"
                        ],
                        [
                          0.9,
                          "#4d9221"
                        ],
                        [
                          1,
                          "#276419"
                        ]
                      ],
                      "sequential": [
                        [
                          0,
                          "#0d0887"
                        ],
                        [
                          0.1111111111111111,
                          "#46039f"
                        ],
                        [
                          0.2222222222222222,
                          "#7201a8"
                        ],
                        [
                          0.3333333333333333,
                          "#9c179e"
                        ],
                        [
                          0.4444444444444444,
                          "#bd3786"
                        ],
                        [
                          0.5555555555555556,
                          "#d8576b"
                        ],
                        [
                          0.6666666666666666,
                          "#ed7953"
                        ],
                        [
                          0.7777777777777778,
                          "#fb9f3a"
                        ],
                        [
                          0.8888888888888888,
                          "#fdca26"
                        ],
                        [
                          1,
                          "#f0f921"
                        ]
                      ],
                      "sequentialminus": [
                        [
                          0,
                          "#0d0887"
                        ],
                        [
                          0.1111111111111111,
                          "#46039f"
                        ],
                        [
                          0.2222222222222222,
                          "#7201a8"
                        ],
                        [
                          0.3333333333333333,
                          "#9c179e"
                        ],
                        [
                          0.4444444444444444,
                          "#bd3786"
                        ],
                        [
                          0.5555555555555556,
                          "#d8576b"
                        ],
                        [
                          0.6666666666666666,
                          "#ed7953"
                        ],
                        [
                          0.7777777777777778,
                          "#fb9f3a"
                        ],
                        [
                          0.8888888888888888,
                          "#fdca26"
                        ],
                        [
                          1,
                          "#f0f921"
                        ]
                      ]
                    },
                    "colorway": [
                      "#636efa",
                      "#EF553B",
                      "#00cc96",
                      "#ab63fa",
                      "#FFA15A",
                      "#19d3f3",
                      "#FF6692",
                      "#B6E880",
                      "#FF97FF",
                      "#FECB52"
                    ],
                    "font": {
                      "color": "#2a3f5f"
                    },
                    "geo": {
                      "bgcolor": "white",
                      "lakecolor": "white",
                      "landcolor": "#E5ECF6",
                      "showlakes": true,
                      "showland": true,
                      "subunitcolor": "white"
                    },
                    "hoverlabel": {
                      "align": "left"
                    },
                    "hovermode": "closest",
                    "mapbox": {
                      "style": "light"
                    },
                    "paper_bgcolor": "white",
                    "plot_bgcolor": "#E5ECF6",
                    "polar": {
                      "angularaxis": {
                        "gridcolor": "white",
                        "linecolor": "white",
                        "ticks": ""
                      },
                      "bgcolor": "#E5ECF6",
                      "radialaxis": {
                        "gridcolor": "white",
                        "linecolor": "white",
                        "ticks": ""
                      }
                    },
                    "scene": {
                      "xaxis": {
                        "backgroundcolor": "#E5ECF6",
                        "gridcolor": "white",
                        "gridwidth": 2,
                        "linecolor": "white",
                        "showbackground": true,
                        "ticks": "",
                        "zerolinecolor": "white"
                      },
                      "yaxis": {
                        "backgroundcolor": "#E5ECF6",
                        "gridcolor": "white",
                        "gridwidth": 2,
                        "linecolor": "white",
                        "showbackground": true,
                        "ticks": "",
                        "zerolinecolor": "white"
                      },
                      "zaxis": {
                        "backgroundcolor": "#E5ECF6",
                        "gridcolor": "white",
                        "gridwidth": 2,
                        "linecolor": "white",
                        "showbackground": true,
                        "ticks": "",
                        "zerolinecolor": "white"
                      }
                    },
                    "shapedefaults": {
                      "line": {
                        "color": "#2a3f5f"
                      }
                    },
                    "ternary": {
                      "aaxis": {
                        "gridcolor": "white",
                        "linecolor": "white",
                        "ticks": ""
                      },
                      "baxis": {
                        "gridcolor": "white",
                        "linecolor": "white",
                        "ticks": ""
                      },
                      "bgcolor": "#E5ECF6",
                      "caxis": {
                        "gridcolor": "white",
                        "linecolor": "white",
                        "ticks": ""
                      }
                    },
                    "title": {
                      "x": 0.05
                    },
                    "xaxis": {
                      "automargin": true,
                      "gridcolor": "white",
                      "linecolor": "white",
                      "ticks": "",
                      "title": {
                        "standoff": 15
                      },
                      "zerolinecolor": "white",
                      "zerolinewidth": 2
                    },
                    "yaxis": {
                      "automargin": true,
                      "gridcolor": "white",
                      "linecolor": "white",
                      "ticks": "",
                      "title": {
                        "standoff": 15
                      },
                      "zerolinecolor": "white",
                      "zerolinewidth": 2
                    }
                  }
                },
                "title": {
                  "text": "Sunburst Chart - Role, Education"
                }
              }
            }
          },
          "metadata": {},
          "output_type": "display_data"
        }
      ],
      "source": [
        "grouped_df = df.groupby(['Role', 'Education']).size().reset_index(name='Count')\n",
        "sunburst_fig = px.sunburst(grouped_df, path=['Role', 'Education'], values='Count',\n",
        "                            title='Sunburst Chart - Role, Education')\n",
        "sunburst_fig.show()"
      ]
    },
    {
      "cell_type": "code",
      "execution_count": 26,
      "metadata": {
        "colab": {
          "base_uri": "https://localhost:8080/",
          "height": 542
        },
        "id": "-BAU6VoOZPth",
        "outputId": "9099e842-303f-457a-8736-24b290841a72"
      },
      "outputs": [
        {
          "data": {
            "application/vnd.plotly.v1+json": {
              "config": {
                "plotlyServerURL": "https://plot.ly"
              },
              "data": [
                {
                  "alignmentgroup": "True",
                  "hovertemplate": "Income Type=Lower Income_2736.0<br>Role=%{x}<br>Income=%{y}<extra></extra>",
                  "legendgroup": "Lower Income_2736.0",
                  "marker": {
                    "color": "#636efa",
                    "pattern": {
                      "shape": ""
                    }
                  },
                  "name": "Lower Income_2736.0",
                  "offsetgroup": "Lower Income_2736.0",
                  "orientation": "v",
                  "showlegend": true,
                  "textposition": "auto",
                  "type": "bar",
                  "x": [
                    "Marketing and Sales Executive",
                    "Training and Development Executive",
                    "Marketing and Sales Executive",
                    "Advertising and Promotion Executive",
                    "Training and Development Executive",
                    "Training and Development Executive",
                    "Computer and Information System Executive",
                    "Training and Development Executive",
                    "Computer and Information System Executive",
                    "Computer and Information System Executive",
                    "Advertising and Promotion Executive",
                    "Marketing and Sales Executive",
                    "Top Executives",
                    "Training and Development Executive",
                    "Training and Development Executive",
                    "Training and Development Executive",
                    "Training and Development Executive",
                    "Advertising and Promotion Executive",
                    "Computer and Information System Executive",
                    "Training and Development Executive",
                    "Computer and Information System Executive",
                    "Computer and Information System Executive",
                    "Top Executives",
                    "Advertising and Promotion Executive",
                    "Marketing and Sales Executive",
                    "Top Executives",
                    "Computer and Information System Executive",
                    "Marketing and Sales Executive",
                    "Advertising and Promotion Executive",
                    "Advertising and Promotion Executive",
                    "Training and Development Executive",
                    "Top Executives",
                    "Top Executives",
                    "Advertising and Promotion Executive",
                    "Training and Development Executive",
                    "Top Executives",
                    "Top Executives",
                    "Top Executives",
                    "Training and Development Executive",
                    "Top Executives",
                    "Top Executives",
                    "Top Executives",
                    "Computer and Information System Executive",
                    "Top Executives",
                    "Computer and Information System Executive",
                    "Top Executives",
                    "Marketing and Sales Executive",
                    "Top Executives",
                    "Advertising and Promotion Executive",
                    "Advertising and Promotion Executive",
                    "Marketing and Sales Executive",
                    "Training and Development Executive",
                    "Advertising and Promotion Executive",
                    "Marketing and Sales Executive",
                    "Top Executives",
                    "Advertising and Promotion Executive",
                    "Computer and Information System Executive",
                    "Marketing and Sales Executive",
                    "Training and Development Executive",
                    "Marketing and Sales Executive",
                    "Marketing and Sales Executive",
                    "Advertising and Promotion Executive",
                    "Computer and Information System Executive",
                    "Marketing and Sales Executive",
                    "Top Executives",
                    "Computer and Information System Executive",
                    "Training and Development Executive",
                    "Training and Development Executive",
                    "Training and Development Executive",
                    "Training and Development Executive",
                    "Training and Development Executive",
                    "Top Executives",
                    "Training and Development Executive",
                    "Computer and Information System Executive",
                    "Advertising and Promotion Executive",
                    "Computer and Information System Executive",
                    "Advertising and Promotion Executive",
                    "Advertising and Promotion Executive",
                    "Top Executives",
                    "Computer and Information System Executive",
                    "Training and Development Executive",
                    "Computer and Information System Executive",
                    "Training and Development Executive",
                    "Computer and Information System Executive",
                    "Training and Development Executive",
                    "Advertising and Promotion Executive",
                    "Training and Development Executive",
                    "Top Executives",
                    "Computer and Information System Executive",
                    "Marketing and Sales Executive",
                    "Computer and Information System Executive",
                    "Computer and Information System Executive",
                    "Advertising and Promotion Executive",
                    "Advertising and Promotion Executive",
                    "Advertising and Promotion Executive",
                    "Marketing and Sales Executive",
                    "Advertising and Promotion Executive",
                    "Marketing and Sales Executive",
                    "Training and Development Executive",
                    "Marketing and Sales Executive",
                    "Training and Development Executive",
                    "Computer and Information System Executive",
                    "Top Executives",
                    "Computer and Information System Executive",
                    "Advertising and Promotion Executive",
                    "Training and Development Executive",
                    "Marketing and Sales Executive",
                    "Computer and Information System Executive",
                    "Top Executives",
                    "Advertising and Promotion Executive",
                    "Computer and Information System Executive",
                    "Advertising and Promotion Executive",
                    "Top Executives",
                    "Marketing and Sales Executive",
                    "Marketing and Sales Executive"
                  ],
                  "xaxis": "x",
                  "y": [
                    2736,
                    2736,
                    2736,
                    2736,
                    2736,
                    2736,
                    2736,
                    2736,
                    2736,
                    2736,
                    2736,
                    2736,
                    2736,
                    2736,
                    2736,
                    2736,
                    2736,
                    2736,
                    2736,
                    2736,
                    2736,
                    2736,
                    2736,
                    2736,
                    2736,
                    2736,
                    2736,
                    2736,
                    2736,
                    2736,
                    2736,
                    2736,
                    2736,
                    2736,
                    2736,
                    2736,
                    2736,
                    2736,
                    2736,
                    2736,
                    2736,
                    2736,
                    2736,
                    2736,
                    2736,
                    2736,
                    2736,
                    2736,
                    2736,
                    2736,
                    2736,
                    2736,
                    2736,
                    2736,
                    2736,
                    2736,
                    2736,
                    2736,
                    2736,
                    2736,
                    2736,
                    2736,
                    2736,
                    2736,
                    2736,
                    2736,
                    2736,
                    2736,
                    2736,
                    2736,
                    2736,
                    2736,
                    2736,
                    2736,
                    2736,
                    2736,
                    2736,
                    2736,
                    2736,
                    2736,
                    2736,
                    2736,
                    2736,
                    2736,
                    2736,
                    2736,
                    2736,
                    2736,
                    2736,
                    2736,
                    2736,
                    2736,
                    2736,
                    2736,
                    2736,
                    2736,
                    2736,
                    2736,
                    2736,
                    2736,
                    2736,
                    2736,
                    2736,
                    2736,
                    2736,
                    2736,
                    2736,
                    2736,
                    2736,
                    2736,
                    2736,
                    2736,
                    2736,
                    2736,
                    2736
                  ],
                  "yaxis": "y"
                },
                {
                  "alignmentgroup": "True",
                  "hovertemplate": "Income Type=Lower Income_19146.0<br>Role=%{x}<br>Income=%{y}<extra></extra>",
                  "legendgroup": "Lower Income_19146.0",
                  "marker": {
                    "color": "#EF553B",
                    "pattern": {
                      "shape": ""
                    }
                  },
                  "name": "Lower Income_19146.0",
                  "offsetgroup": "Lower Income_19146.0",
                  "orientation": "v",
                  "showlegend": true,
                  "textposition": "auto",
                  "type": "bar",
                  "x": [
                    "Advertising and Promotion Executive",
                    "Training and Development Executive",
                    "Marketing and Sales Executive",
                    "Training and Development Executive",
                    "Training and Development Executive",
                    "Top Executives",
                    "Top Executives",
                    "Top Executives",
                    "Computer and Information System Executive",
                    "Training and Development Executive",
                    "Advertising and Promotion Executive",
                    "Advertising and Promotion Executive",
                    "Advertising and Promotion Executive",
                    "Top Executives",
                    "Marketing and Sales Executive",
                    "Top Executives",
                    "Marketing and Sales Executive",
                    "Training and Development Executive",
                    "Training and Development Executive",
                    "Advertising and Promotion Executive",
                    "Training and Development Executive",
                    "Marketing and Sales Executive",
                    "Marketing and Sales Executive",
                    "Marketing and Sales Executive",
                    "Marketing and Sales Executive",
                    "Marketing and Sales Executive",
                    "Computer and Information System Executive",
                    "Advertising and Promotion Executive",
                    "Advertising and Promotion Executive",
                    "Training and Development Executive",
                    "Computer and Information System Executive",
                    "Top Executives",
                    "Computer and Information System Executive",
                    "Training and Development Executive",
                    "Advertising and Promotion Executive",
                    "Computer and Information System Executive",
                    "Marketing and Sales Executive",
                    "Training and Development Executive",
                    "Computer and Information System Executive",
                    "Computer and Information System Executive",
                    "Computer and Information System Executive",
                    "Training and Development Executive",
                    "Top Executives",
                    "Advertising and Promotion Executive",
                    "Top Executives",
                    "Marketing and Sales Executive",
                    "Advertising and Promotion Executive",
                    "Advertising and Promotion Executive",
                    "Top Executives",
                    "Training and Development Executive",
                    "Top Executives",
                    "Top Executives",
                    "Computer and Information System Executive",
                    "Computer and Information System Executive",
                    "Advertising and Promotion Executive",
                    "Training and Development Executive",
                    "Computer and Information System Executive",
                    "Advertising and Promotion Executive",
                    "Top Executives",
                    "Marketing and Sales Executive",
                    "Computer and Information System Executive",
                    "Marketing and Sales Executive",
                    "Marketing and Sales Executive",
                    "Advertising and Promotion Executive",
                    "Training and Development Executive",
                    "Training and Development Executive",
                    "Advertising and Promotion Executive",
                    "Training and Development Executive",
                    "Advertising and Promotion Executive",
                    "Top Executives",
                    "Training and Development Executive",
                    "Training and Development Executive",
                    "Computer and Information System Executive",
                    "Training and Development Executive",
                    "Computer and Information System Executive",
                    "Marketing and Sales Executive",
                    "Advertising and Promotion Executive",
                    "Advertising and Promotion Executive",
                    "Marketing and Sales Executive",
                    "Marketing and Sales Executive",
                    "Top Executives",
                    "Marketing and Sales Executive",
                    "Marketing and Sales Executive",
                    "Computer and Information System Executive",
                    "Training and Development Executive",
                    "Training and Development Executive",
                    "Marketing and Sales Executive",
                    "Computer and Information System Executive",
                    "Training and Development Executive",
                    "Top Executives",
                    "Computer and Information System Executive",
                    "Advertising and Promotion Executive",
                    "Top Executives",
                    "Computer and Information System Executive",
                    "Top Executives",
                    "Top Executives",
                    "Advertising and Promotion Executive",
                    "Top Executives",
                    "Marketing and Sales Executive",
                    "Training and Development Executive",
                    "Computer and Information System Executive",
                    "Training and Development Executive",
                    "Advertising and Promotion Executive",
                    "Top Executives",
                    "Advertising and Promotion Executive",
                    "Marketing and Sales Executive",
                    "Marketing and Sales Executive",
                    "Computer and Information System Executive",
                    "Computer and Information System Executive",
                    "Training and Development Executive",
                    "Top Executives",
                    "Advertising and Promotion Executive",
                    "Marketing and Sales Executive",
                    "Marketing and Sales Executive",
                    "Marketing and Sales Executive"
                  ],
                  "xaxis": "x",
                  "y": [
                    19146,
                    19146,
                    19146,
                    19146,
                    19146,
                    19146,
                    19146,
                    19146,
                    19146,
                    19146,
                    19146,
                    19146,
                    19146,
                    19146,
                    19146,
                    19146,
                    19146,
                    19146,
                    19146,
                    19146,
                    19146,
                    19146,
                    19146,
                    19146,
                    19146,
                    19146,
                    19146,
                    19146,
                    19146,
                    19146,
                    19146,
                    19146,
                    19146,
                    19146,
                    19146,
                    19146,
                    19146,
                    19146,
                    19146,
                    19146,
                    19146,
                    19146,
                    19146,
                    19146,
                    19146,
                    19146,
                    19146,
                    19146,
                    19146,
                    19146,
                    19146,
                    19146,
                    19146,
                    19146,
                    19146,
                    19146,
                    19146,
                    19146,
                    19146,
                    19146,
                    19146,
                    19146,
                    19146,
                    19146,
                    19146,
                    19146,
                    19146,
                    19146,
                    19146,
                    19146,
                    19146,
                    19146,
                    19146,
                    19146,
                    19146,
                    19146,
                    19146,
                    19146,
                    19146,
                    19146,
                    19146,
                    19146,
                    19146,
                    19146,
                    19146,
                    19146,
                    19146,
                    19146,
                    19146,
                    19146,
                    19146,
                    19146,
                    19146,
                    19146,
                    19146,
                    19146,
                    19146,
                    19146,
                    19146,
                    19146,
                    19146,
                    19146,
                    19146,
                    19146,
                    19146,
                    19146,
                    19146,
                    19146,
                    19146,
                    19146,
                    19146,
                    19146,
                    19146,
                    19146,
                    19146
                  ],
                  "yaxis": "y"
                },
                {
                  "alignmentgroup": "True",
                  "hovertemplate": "Income Type=Lower Income_13676.0<br>Role=%{x}<br>Income=%{y}<extra></extra>",
                  "legendgroup": "Lower Income_13676.0",
                  "marker": {
                    "color": "#00cc96",
                    "pattern": {
                      "shape": ""
                    }
                  },
                  "name": "Lower Income_13676.0",
                  "offsetgroup": "Lower Income_13676.0",
                  "orientation": "v",
                  "showlegend": true,
                  "textposition": "auto",
                  "type": "bar",
                  "x": [
                    "Computer and Information System Executive",
                    "Top Executives",
                    "Marketing and Sales Executive",
                    "Marketing and Sales Executive",
                    "Top Executives",
                    "Advertising and Promotion Executive",
                    "Computer and Information System Executive",
                    "Marketing and Sales Executive",
                    "Computer and Information System Executive",
                    "Top Executives",
                    "Top Executives",
                    "Computer and Information System Executive",
                    "Top Executives",
                    "Computer and Information System Executive",
                    "Computer and Information System Executive",
                    "Advertising and Promotion Executive",
                    "Computer and Information System Executive",
                    "Computer and Information System Executive",
                    "Training and Development Executive",
                    "Computer and Information System Executive",
                    "Advertising and Promotion Executive",
                    "Marketing and Sales Executive",
                    "Training and Development Executive",
                    "Computer and Information System Executive",
                    "Training and Development Executive",
                    "Computer and Information System Executive",
                    "Top Executives",
                    "Marketing and Sales Executive",
                    "Training and Development Executive",
                    "Training and Development Executive",
                    "Training and Development Executive",
                    "Computer and Information System Executive",
                    "Top Executives",
                    "Marketing and Sales Executive",
                    "Training and Development Executive",
                    "Computer and Information System Executive",
                    "Top Executives",
                    "Marketing and Sales Executive",
                    "Advertising and Promotion Executive",
                    "Top Executives",
                    "Training and Development Executive",
                    "Training and Development Executive",
                    "Marketing and Sales Executive",
                    "Training and Development Executive",
                    "Training and Development Executive",
                    "Computer and Information System Executive",
                    "Training and Development Executive",
                    "Marketing and Sales Executive",
                    "Training and Development Executive",
                    "Advertising and Promotion Executive",
                    "Advertising and Promotion Executive",
                    "Top Executives",
                    "Computer and Information System Executive",
                    "Computer and Information System Executive",
                    "Computer and Information System Executive",
                    "Training and Development Executive",
                    "Advertising and Promotion Executive",
                    "Computer and Information System Executive",
                    "Computer and Information System Executive",
                    "Marketing and Sales Executive",
                    "Marketing and Sales Executive",
                    "Computer and Information System Executive",
                    "Computer and Information System Executive",
                    "Marketing and Sales Executive",
                    "Top Executives",
                    "Marketing and Sales Executive",
                    "Training and Development Executive",
                    "Top Executives",
                    "Advertising and Promotion Executive",
                    "Training and Development Executive",
                    "Marketing and Sales Executive",
                    "Training and Development Executive",
                    "Training and Development Executive",
                    "Top Executives",
                    "Computer and Information System Executive",
                    "Training and Development Executive",
                    "Training and Development Executive",
                    "Computer and Information System Executive",
                    "Training and Development Executive",
                    "Marketing and Sales Executive",
                    "Marketing and Sales Executive",
                    "Computer and Information System Executive",
                    "Computer and Information System Executive",
                    "Advertising and Promotion Executive",
                    "Training and Development Executive",
                    "Top Executives",
                    "Training and Development Executive",
                    "Advertising and Promotion Executive",
                    "Top Executives",
                    "Training and Development Executive",
                    "Advertising and Promotion Executive",
                    "Training and Development Executive",
                    "Computer and Information System Executive",
                    "Computer and Information System Executive",
                    "Computer and Information System Executive",
                    "Marketing and Sales Executive",
                    "Computer and Information System Executive",
                    "Computer and Information System Executive",
                    "Marketing and Sales Executive",
                    "Marketing and Sales Executive",
                    "Marketing and Sales Executive",
                    "Computer and Information System Executive",
                    "Top Executives",
                    "Computer and Information System Executive",
                    "Top Executives",
                    "Top Executives",
                    "Training and Development Executive",
                    "Advertising and Promotion Executive",
                    "Advertising and Promotion Executive",
                    "Training and Development Executive",
                    "Training and Development Executive",
                    "Computer and Information System Executive",
                    "Advertising and Promotion Executive",
                    "Advertising and Promotion Executive",
                    "Top Executives",
                    "Marketing and Sales Executive",
                    "Marketing and Sales Executive",
                    "Advertising and Promotion Executive"
                  ],
                  "xaxis": "x",
                  "y": [
                    13676,
                    13676,
                    13676,
                    13676,
                    13676,
                    13676,
                    13676,
                    13676,
                    13676,
                    13676,
                    13676,
                    13676,
                    13676,
                    13676,
                    13676,
                    13676,
                    13676,
                    13676,
                    13676,
                    13676,
                    13676,
                    13676,
                    13676,
                    13676,
                    13676,
                    13676,
                    13676,
                    13676,
                    13676,
                    13676,
                    13676,
                    13676,
                    13676,
                    13676,
                    13676,
                    13676,
                    13676,
                    13676,
                    13676,
                    13676,
                    13676,
                    13676,
                    13676,
                    13676,
                    13676,
                    13676,
                    13676,
                    13676,
                    13676,
                    13676,
                    13676,
                    13676,
                    13676,
                    13676,
                    13676,
                    13676,
                    13676,
                    13676,
                    13676,
                    13676,
                    13676,
                    13676,
                    13676,
                    13676,
                    13676,
                    13676,
                    13676,
                    13676,
                    13676,
                    13676,
                    13676,
                    13676,
                    13676,
                    13676,
                    13676,
                    13676,
                    13676,
                    13676,
                    13676,
                    13676,
                    13676,
                    13676,
                    13676,
                    13676,
                    13676,
                    13676,
                    13676,
                    13676,
                    13676,
                    13676,
                    13676,
                    13676,
                    13676,
                    13676,
                    13676,
                    13676,
                    13676,
                    13676,
                    13676,
                    13676,
                    13676,
                    13676,
                    13676,
                    13676,
                    13676,
                    13676,
                    13676,
                    13676,
                    13676,
                    13676,
                    13676,
                    13676,
                    13676,
                    13676,
                    13676,
                    13676,
                    13676,
                    13676
                  ],
                  "yaxis": "y"
                },
                {
                  "alignmentgroup": "True",
                  "hovertemplate": "Income Type=Lower Income_30087.0<br>Role=%{x}<br>Income=%{y}<extra></extra>",
                  "legendgroup": "Lower Income_30087.0",
                  "marker": {
                    "color": "#ab63fa",
                    "pattern": {
                      "shape": ""
                    }
                  },
                  "name": "Lower Income_30087.0",
                  "offsetgroup": "Lower Income_30087.0",
                  "orientation": "v",
                  "showlegend": true,
                  "textposition": "auto",
                  "type": "bar",
                  "x": [
                    "Top Executives",
                    "Advertising and Promotion Executive",
                    "Advertising and Promotion Executive",
                    "Advertising and Promotion Executive",
                    "Top Executives",
                    "Marketing and Sales Executive",
                    "Top Executives",
                    "Top Executives",
                    "Marketing and Sales Executive",
                    "Computer and Information System Executive",
                    "Advertising and Promotion Executive",
                    "Top Executives",
                    "Advertising and Promotion Executive",
                    "Advertising and Promotion Executive",
                    "Top Executives",
                    "Marketing and Sales Executive",
                    "Advertising and Promotion Executive",
                    "Training and Development Executive",
                    "Computer and Information System Executive",
                    "Training and Development Executive",
                    "Marketing and Sales Executive",
                    "Marketing and Sales Executive",
                    "Top Executives",
                    "Marketing and Sales Executive",
                    "Top Executives",
                    "Marketing and Sales Executive",
                    "Marketing and Sales Executive",
                    "Training and Development Executive",
                    "Computer and Information System Executive",
                    "Marketing and Sales Executive",
                    "Training and Development Executive",
                    "Top Executives",
                    "Advertising and Promotion Executive",
                    "Marketing and Sales Executive",
                    "Advertising and Promotion Executive",
                    "Computer and Information System Executive",
                    "Advertising and Promotion Executive",
                    "Training and Development Executive",
                    "Top Executives",
                    "Marketing and Sales Executive",
                    "Training and Development Executive",
                    "Top Executives",
                    "Advertising and Promotion Executive",
                    "Advertising and Promotion Executive",
                    "Computer and Information System Executive",
                    "Advertising and Promotion Executive",
                    "Training and Development Executive",
                    "Advertising and Promotion Executive",
                    "Computer and Information System Executive",
                    "Top Executives",
                    "Advertising and Promotion Executive",
                    "Marketing and Sales Executive",
                    "Computer and Information System Executive",
                    "Training and Development Executive",
                    "Top Executives",
                    "Computer and Information System Executive",
                    "Marketing and Sales Executive",
                    "Training and Development Executive",
                    "Top Executives",
                    "Training and Development Executive",
                    "Top Executives",
                    "Marketing and Sales Executive",
                    "Marketing and Sales Executive",
                    "Advertising and Promotion Executive",
                    "Marketing and Sales Executive",
                    "Training and Development Executive",
                    "Training and Development Executive",
                    "Top Executives",
                    "Training and Development Executive",
                    "Advertising and Promotion Executive",
                    "Computer and Information System Executive",
                    "Top Executives",
                    "Training and Development Executive",
                    "Computer and Information System Executive",
                    "Top Executives",
                    "Training and Development Executive",
                    "Top Executives",
                    "Top Executives",
                    "Top Executives",
                    "Top Executives",
                    "Training and Development Executive",
                    "Advertising and Promotion Executive",
                    "Computer and Information System Executive",
                    "Top Executives",
                    "Top Executives",
                    "Marketing and Sales Executive",
                    "Marketing and Sales Executive",
                    "Marketing and Sales Executive",
                    "Advertising and Promotion Executive",
                    "Training and Development Executive",
                    "Training and Development Executive",
                    "Advertising and Promotion Executive",
                    "Computer and Information System Executive",
                    "Top Executives",
                    "Top Executives",
                    "Top Executives",
                    "Marketing and Sales Executive",
                    "Computer and Information System Executive",
                    "Advertising and Promotion Executive",
                    "Top Executives",
                    "Top Executives",
                    "Top Executives",
                    "Computer and Information System Executive",
                    "Marketing and Sales Executive",
                    "Advertising and Promotion Executive",
                    "Training and Development Executive",
                    "Top Executives",
                    "Top Executives",
                    "Training and Development Executive",
                    "Computer and Information System Executive",
                    "Marketing and Sales Executive",
                    "Computer and Information System Executive",
                    "Computer and Information System Executive",
                    "Training and Development Executive",
                    "Top Executives",
                    "Computer and Information System Executive",
                    "Training and Development Executive",
                    "Top Executives",
                    "Top Executives",
                    "Advertising and Promotion Executive",
                    "Top Executives",
                    "Top Executives",
                    "Training and Development Executive"
                  ],
                  "xaxis": "x",
                  "y": [
                    30087,
                    30087,
                    30087,
                    30087,
                    30087,
                    30087,
                    30087,
                    30087,
                    30087,
                    30087,
                    30087,
                    30087,
                    30087,
                    30087,
                    30087,
                    30087,
                    30087,
                    30087,
                    30087,
                    30087,
                    30087,
                    30087,
                    30087,
                    30087,
                    30087,
                    30087,
                    30087,
                    30087,
                    30087,
                    30087,
                    30087,
                    30087,
                    30087,
                    30087,
                    30087,
                    30087,
                    30087,
                    30087,
                    30087,
                    30087,
                    30087,
                    30087,
                    30087,
                    30087,
                    30087,
                    30087,
                    30087,
                    30087,
                    30087,
                    30087,
                    30087,
                    30087,
                    30087,
                    30087,
                    30087,
                    30087,
                    30087,
                    30087,
                    30087,
                    30087,
                    30087,
                    30087,
                    30087,
                    30087,
                    30087,
                    30087,
                    30087,
                    30087,
                    30087,
                    30087,
                    30087,
                    30087,
                    30087,
                    30087,
                    30087,
                    30087,
                    30087,
                    30087,
                    30087,
                    30087,
                    30087,
                    30087,
                    30087,
                    30087,
                    30087,
                    30087,
                    30087,
                    30087,
                    30087,
                    30087,
                    30087,
                    30087,
                    30087,
                    30087,
                    30087,
                    30087,
                    30087,
                    30087,
                    30087,
                    30087,
                    30087,
                    30087,
                    30087,
                    30087,
                    30087,
                    30087,
                    30087,
                    30087,
                    30087,
                    30087,
                    30087,
                    30087,
                    30087,
                    30087,
                    30087,
                    30087,
                    30087,
                    30087,
                    30087,
                    30087,
                    30087,
                    30087,
                    30087
                  ],
                  "yaxis": "y"
                },
                {
                  "alignmentgroup": "True",
                  "hovertemplate": "Income Type=Lower Income_24616.0<br>Role=%{x}<br>Income=%{y}<extra></extra>",
                  "legendgroup": "Lower Income_24616.0",
                  "marker": {
                    "color": "#FFA15A",
                    "pattern": {
                      "shape": ""
                    }
                  },
                  "name": "Lower Income_24616.0",
                  "offsetgroup": "Lower Income_24616.0",
                  "orientation": "v",
                  "showlegend": true,
                  "textposition": "auto",
                  "type": "bar",
                  "x": [
                    "Marketing and Sales Executive",
                    "Computer and Information System Executive",
                    "Marketing and Sales Executive",
                    "Training and Development Executive",
                    "Marketing and Sales Executive",
                    "Computer and Information System Executive",
                    "Advertising and Promotion Executive",
                    "Top Executives",
                    "Advertising and Promotion Executive",
                    "Top Executives",
                    "Training and Development Executive",
                    "Marketing and Sales Executive",
                    "Advertising and Promotion Executive",
                    "Marketing and Sales Executive",
                    "Marketing and Sales Executive",
                    "Marketing and Sales Executive",
                    "Computer and Information System Executive",
                    "Top Executives",
                    "Training and Development Executive",
                    "Top Executives",
                    "Training and Development Executive",
                    "Marketing and Sales Executive",
                    "Top Executives",
                    "Top Executives",
                    "Top Executives",
                    "Training and Development Executive",
                    "Top Executives",
                    "Training and Development Executive",
                    "Marketing and Sales Executive",
                    "Computer and Information System Executive",
                    "Advertising and Promotion Executive",
                    "Computer and Information System Executive",
                    "Training and Development Executive",
                    "Training and Development Executive",
                    "Top Executives",
                    "Training and Development Executive",
                    "Marketing and Sales Executive",
                    "Computer and Information System Executive",
                    "Computer and Information System Executive",
                    "Computer and Information System Executive",
                    "Top Executives",
                    "Computer and Information System Executive",
                    "Top Executives",
                    "Marketing and Sales Executive",
                    "Marketing and Sales Executive",
                    "Advertising and Promotion Executive",
                    "Training and Development Executive",
                    "Training and Development Executive",
                    "Computer and Information System Executive",
                    "Top Executives",
                    "Training and Development Executive",
                    "Top Executives",
                    "Top Executives",
                    "Training and Development Executive",
                    "Computer and Information System Executive",
                    "Marketing and Sales Executive",
                    "Marketing and Sales Executive",
                    "Advertising and Promotion Executive",
                    "Advertising and Promotion Executive",
                    "Training and Development Executive",
                    "Training and Development Executive",
                    "Top Executives",
                    "Training and Development Executive",
                    "Marketing and Sales Executive",
                    "Marketing and Sales Executive",
                    "Marketing and Sales Executive",
                    "Advertising and Promotion Executive",
                    "Top Executives",
                    "Advertising and Promotion Executive",
                    "Computer and Information System Executive",
                    "Advertising and Promotion Executive",
                    "Marketing and Sales Executive",
                    "Marketing and Sales Executive",
                    "Advertising and Promotion Executive",
                    "Top Executives",
                    "Computer and Information System Executive",
                    "Advertising and Promotion Executive",
                    "Marketing and Sales Executive",
                    "Advertising and Promotion Executive",
                    "Marketing and Sales Executive",
                    "Training and Development Executive",
                    "Top Executives",
                    "Training and Development Executive",
                    "Computer and Information System Executive",
                    "Marketing and Sales Executive",
                    "Top Executives",
                    "Marketing and Sales Executive",
                    "Marketing and Sales Executive",
                    "Computer and Information System Executive",
                    "Top Executives",
                    "Computer and Information System Executive",
                    "Training and Development Executive",
                    "Computer and Information System Executive",
                    "Advertising and Promotion Executive",
                    "Top Executives",
                    "Marketing and Sales Executive",
                    "Top Executives",
                    "Top Executives",
                    "Marketing and Sales Executive",
                    "Advertising and Promotion Executive",
                    "Computer and Information System Executive",
                    "Top Executives",
                    "Computer and Information System Executive",
                    "Top Executives"
                  ],
                  "xaxis": "x",
                  "y": [
                    24616,
                    24616,
                    24616,
                    24616,
                    24616,
                    24616,
                    24616,
                    24616,
                    24616,
                    24616,
                    24616,
                    24616,
                    24616,
                    24616,
                    24616,
                    24616,
                    24616,
                    24616,
                    24616,
                    24616,
                    24616,
                    24616,
                    24616,
                    24616,
                    24616,
                    24616,
                    24616,
                    24616,
                    24616,
                    24616,
                    24616,
                    24616,
                    24616,
                    24616,
                    24616,
                    24616,
                    24616,
                    24616,
                    24616,
                    24616,
                    24616,
                    24616,
                    24616,
                    24616,
                    24616,
                    24616,
                    24616,
                    24616,
                    24616,
                    24616,
                    24616,
                    24616,
                    24616,
                    24616,
                    24616,
                    24616,
                    24616,
                    24616,
                    24616,
                    24616,
                    24616,
                    24616,
                    24616,
                    24616,
                    24616,
                    24616,
                    24616,
                    24616,
                    24616,
                    24616,
                    24616,
                    24616,
                    24616,
                    24616,
                    24616,
                    24616,
                    24616,
                    24616,
                    24616,
                    24616,
                    24616,
                    24616,
                    24616,
                    24616,
                    24616,
                    24616,
                    24616,
                    24616,
                    24616,
                    24616,
                    24616,
                    24616,
                    24616,
                    24616,
                    24616,
                    24616,
                    24616,
                    24616,
                    24616,
                    24616,
                    24616,
                    24616,
                    24616,
                    24616
                  ],
                  "yaxis": "y"
                },
                {
                  "alignmentgroup": "True",
                  "hovertemplate": "Income Type=Lower Income_2735.0<br>Role=%{x}<br>Income=%{y}<extra></extra>",
                  "legendgroup": "Lower Income_2735.0",
                  "marker": {
                    "color": "#19d3f3",
                    "pattern": {
                      "shape": ""
                    }
                  },
                  "name": "Lower Income_2735.0",
                  "offsetgroup": "Lower Income_2735.0",
                  "orientation": "v",
                  "showlegend": true,
                  "textposition": "auto",
                  "type": "bar",
                  "x": [
                    "Marketing and Sales Executive",
                    "Advertising and Promotion Executive",
                    "Marketing and Sales Executive",
                    "Training and Development Executive",
                    "Marketing and Sales Executive",
                    "Marketing and Sales Executive",
                    "Top Executives",
                    "Top Executives",
                    "Marketing and Sales Executive",
                    "Advertising and Promotion Executive",
                    "Computer and Information System Executive",
                    "Training and Development Executive",
                    "Marketing and Sales Executive",
                    "Training and Development Executive",
                    "Advertising and Promotion Executive",
                    "Computer and Information System Executive",
                    "Top Executives",
                    "Top Executives",
                    "Training and Development Executive",
                    "Top Executives",
                    "Computer and Information System Executive",
                    "Computer and Information System Executive",
                    "Top Executives",
                    "Computer and Information System Executive",
                    "Computer and Information System Executive",
                    "Top Executives",
                    "Marketing and Sales Executive",
                    "Marketing and Sales Executive",
                    "Marketing and Sales Executive",
                    "Top Executives",
                    "Marketing and Sales Executive",
                    "Training and Development Executive",
                    "Computer and Information System Executive",
                    "Training and Development Executive",
                    "Training and Development Executive",
                    "Advertising and Promotion Executive",
                    "Top Executives",
                    "Top Executives",
                    "Training and Development Executive",
                    "Advertising and Promotion Executive",
                    "Training and Development Executive",
                    "Marketing and Sales Executive",
                    "Computer and Information System Executive",
                    "Top Executives",
                    "Advertising and Promotion Executive",
                    "Computer and Information System Executive",
                    "Marketing and Sales Executive",
                    "Computer and Information System Executive",
                    "Advertising and Promotion Executive",
                    "Training and Development Executive",
                    "Computer and Information System Executive",
                    "Training and Development Executive",
                    "Top Executives",
                    "Computer and Information System Executive",
                    "Marketing and Sales Executive",
                    "Marketing and Sales Executive",
                    "Top Executives",
                    "Top Executives",
                    "Advertising and Promotion Executive",
                    "Marketing and Sales Executive",
                    "Training and Development Executive",
                    "Training and Development Executive",
                    "Marketing and Sales Executive",
                    "Advertising and Promotion Executive",
                    "Computer and Information System Executive",
                    "Training and Development Executive",
                    "Computer and Information System Executive",
                    "Training and Development Executive",
                    "Advertising and Promotion Executive",
                    "Computer and Information System Executive",
                    "Training and Development Executive",
                    "Marketing and Sales Executive",
                    "Training and Development Executive",
                    "Training and Development Executive",
                    "Top Executives",
                    "Marketing and Sales Executive",
                    "Top Executives",
                    "Advertising and Promotion Executive",
                    "Top Executives",
                    "Top Executives",
                    "Marketing and Sales Executive",
                    "Top Executives",
                    "Marketing and Sales Executive",
                    "Marketing and Sales Executive",
                    "Computer and Information System Executive",
                    "Training and Development Executive",
                    "Advertising and Promotion Executive",
                    "Training and Development Executive",
                    "Computer and Information System Executive",
                    "Top Executives",
                    "Training and Development Executive",
                    "Training and Development Executive",
                    "Top Executives",
                    "Computer and Information System Executive",
                    "Top Executives",
                    "Top Executives",
                    "Top Executives",
                    "Advertising and Promotion Executive",
                    "Advertising and Promotion Executive",
                    "Top Executives",
                    "Top Executives",
                    "Top Executives",
                    "Computer and Information System Executive",
                    "Computer and Information System Executive",
                    "Computer and Information System Executive",
                    "Advertising and Promotion Executive",
                    "Top Executives",
                    "Computer and Information System Executive",
                    "Top Executives",
                    "Training and Development Executive",
                    "Advertising and Promotion Executive",
                    "Training and Development Executive",
                    "Marketing and Sales Executive",
                    "Advertising and Promotion Executive",
                    "Training and Development Executive",
                    "Training and Development Executive",
                    "Advertising and Promotion Executive",
                    "Training and Development Executive",
                    "Training and Development Executive",
                    "Computer and Information System Executive",
                    "Top Executives"
                  ],
                  "xaxis": "x",
                  "y": [
                    2735,
                    2735,
                    2735,
                    2735,
                    2735,
                    2735,
                    2735,
                    2735,
                    2735,
                    2735,
                    2735,
                    2735,
                    2735,
                    2735,
                    2735,
                    2735,
                    2735,
                    2735,
                    2735,
                    2735,
                    2735,
                    2735,
                    2735,
                    2735,
                    2735,
                    2735,
                    2735,
                    2735,
                    2735,
                    2735,
                    2735,
                    2735,
                    2735,
                    2735,
                    2735,
                    2735,
                    2735,
                    2735,
                    2735,
                    2735,
                    2735,
                    2735,
                    2735,
                    2735,
                    2735,
                    2735,
                    2735,
                    2735,
                    2735,
                    2735,
                    2735,
                    2735,
                    2735,
                    2735,
                    2735,
                    2735,
                    2735,
                    2735,
                    2735,
                    2735,
                    2735,
                    2735,
                    2735,
                    2735,
                    2735,
                    2735,
                    2735,
                    2735,
                    2735,
                    2735,
                    2735,
                    2735,
                    2735,
                    2735,
                    2735,
                    2735,
                    2735,
                    2735,
                    2735,
                    2735,
                    2735,
                    2735,
                    2735,
                    2735,
                    2735,
                    2735,
                    2735,
                    2735,
                    2735,
                    2735,
                    2735,
                    2735,
                    2735,
                    2735,
                    2735,
                    2735,
                    2735,
                    2735,
                    2735,
                    2735,
                    2735,
                    2735,
                    2735,
                    2735,
                    2735,
                    2735,
                    2735,
                    2735,
                    2735,
                    2735,
                    2735,
                    2735,
                    2735,
                    2735,
                    2735,
                    2735,
                    2735,
                    2735,
                    2735,
                    2735,
                    2735
                  ],
                  "yaxis": "y"
                },
                {
                  "alignmentgroup": "True",
                  "hovertemplate": "Income Type=Lower Income_8206.0<br>Role=%{x}<br>Income=%{y}<extra></extra>",
                  "legendgroup": "Lower Income_8206.0",
                  "marker": {
                    "color": "#FF6692",
                    "pattern": {
                      "shape": ""
                    }
                  },
                  "name": "Lower Income_8206.0",
                  "offsetgroup": "Lower Income_8206.0",
                  "orientation": "v",
                  "showlegend": true,
                  "textposition": "auto",
                  "type": "bar",
                  "x": [
                    "Marketing and Sales Executive",
                    "Marketing and Sales Executive",
                    "Computer and Information System Executive",
                    "Computer and Information System Executive",
                    "Training and Development Executive",
                    "Advertising and Promotion Executive",
                    "Training and Development Executive",
                    "Training and Development Executive",
                    "Computer and Information System Executive",
                    "Advertising and Promotion Executive",
                    "Advertising and Promotion Executive",
                    "Marketing and Sales Executive",
                    "Marketing and Sales Executive",
                    "Computer and Information System Executive",
                    "Training and Development Executive",
                    "Top Executives",
                    "Advertising and Promotion Executive",
                    "Computer and Information System Executive",
                    "Marketing and Sales Executive",
                    "Top Executives",
                    "Advertising and Promotion Executive",
                    "Training and Development Executive",
                    "Computer and Information System Executive",
                    "Training and Development Executive",
                    "Advertising and Promotion Executive",
                    "Marketing and Sales Executive",
                    "Top Executives",
                    "Computer and Information System Executive",
                    "Top Executives",
                    "Advertising and Promotion Executive",
                    "Marketing and Sales Executive",
                    "Advertising and Promotion Executive",
                    "Training and Development Executive",
                    "Top Executives",
                    "Top Executives",
                    "Training and Development Executive",
                    "Training and Development Executive",
                    "Computer and Information System Executive",
                    "Advertising and Promotion Executive",
                    "Training and Development Executive",
                    "Marketing and Sales Executive",
                    "Top Executives",
                    "Advertising and Promotion Executive",
                    "Top Executives",
                    "Advertising and Promotion Executive",
                    "Computer and Information System Executive",
                    "Advertising and Promotion Executive",
                    "Marketing and Sales Executive",
                    "Training and Development Executive",
                    "Top Executives",
                    "Marketing and Sales Executive",
                    "Computer and Information System Executive",
                    "Top Executives",
                    "Marketing and Sales Executive",
                    "Training and Development Executive",
                    "Marketing and Sales Executive",
                    "Computer and Information System Executive",
                    "Training and Development Executive",
                    "Training and Development Executive",
                    "Training and Development Executive",
                    "Top Executives",
                    "Training and Development Executive",
                    "Advertising and Promotion Executive",
                    "Training and Development Executive",
                    "Computer and Information System Executive",
                    "Training and Development Executive",
                    "Marketing and Sales Executive",
                    "Top Executives",
                    "Training and Development Executive",
                    "Training and Development Executive",
                    "Marketing and Sales Executive",
                    "Marketing and Sales Executive",
                    "Advertising and Promotion Executive",
                    "Advertising and Promotion Executive",
                    "Computer and Information System Executive",
                    "Advertising and Promotion Executive",
                    "Computer and Information System Executive",
                    "Top Executives",
                    "Computer and Information System Executive",
                    "Top Executives",
                    "Top Executives",
                    "Marketing and Sales Executive",
                    "Advertising and Promotion Executive",
                    "Advertising and Promotion Executive",
                    "Top Executives",
                    "Marketing and Sales Executive",
                    "Top Executives",
                    "Marketing and Sales Executive",
                    "Computer and Information System Executive",
                    "Training and Development Executive",
                    "Advertising and Promotion Executive",
                    "Marketing and Sales Executive",
                    "Computer and Information System Executive",
                    "Marketing and Sales Executive",
                    "Computer and Information System Executive",
                    "Marketing and Sales Executive",
                    "Marketing and Sales Executive",
                    "Top Executives",
                    "Advertising and Promotion Executive",
                    "Advertising and Promotion Executive",
                    "Computer and Information System Executive",
                    "Top Executives",
                    "Computer and Information System Executive",
                    "Top Executives",
                    "Marketing and Sales Executive",
                    "Marketing and Sales Executive",
                    "Advertising and Promotion Executive",
                    "Advertising and Promotion Executive",
                    "Marketing and Sales Executive",
                    "Computer and Information System Executive",
                    "Computer and Information System Executive",
                    "Training and Development Executive",
                    "Top Executives",
                    "Marketing and Sales Executive"
                  ],
                  "xaxis": "x",
                  "y": [
                    8206,
                    8206,
                    8206,
                    8206,
                    8206,
                    8206,
                    8206,
                    8206,
                    8206,
                    8206,
                    8206,
                    8206,
                    8206,
                    8206,
                    8206,
                    8206,
                    8206,
                    8206,
                    8206,
                    8206,
                    8206,
                    8206,
                    8206,
                    8206,
                    8206,
                    8206,
                    8206,
                    8206,
                    8206,
                    8206,
                    8206,
                    8206,
                    8206,
                    8206,
                    8206,
                    8206,
                    8206,
                    8206,
                    8206,
                    8206,
                    8206,
                    8206,
                    8206,
                    8206,
                    8206,
                    8206,
                    8206,
                    8206,
                    8206,
                    8206,
                    8206,
                    8206,
                    8206,
                    8206,
                    8206,
                    8206,
                    8206,
                    8206,
                    8206,
                    8206,
                    8206,
                    8206,
                    8206,
                    8206,
                    8206,
                    8206,
                    8206,
                    8206,
                    8206,
                    8206,
                    8206,
                    8206,
                    8206,
                    8206,
                    8206,
                    8206,
                    8206,
                    8206,
                    8206,
                    8206,
                    8206,
                    8206,
                    8206,
                    8206,
                    8206,
                    8206,
                    8206,
                    8206,
                    8206,
                    8206,
                    8206,
                    8206,
                    8206,
                    8206,
                    8206,
                    8206,
                    8206,
                    8206,
                    8206,
                    8206,
                    8206,
                    8206,
                    8206,
                    8206,
                    8206,
                    8206,
                    8206,
                    8206,
                    8206,
                    8206,
                    8206,
                    8206,
                    8206,
                    8206
                  ],
                  "yaxis": "y"
                }
              ],
              "layout": {
                "barmode": "group",
                "legend": {
                  "title": {
                    "text": "Income Type"
                  },
                  "tracegroupgap": 0
                },
                "template": {
                  "data": {
                    "bar": [
                      {
                        "error_x": {
                          "color": "#2a3f5f"
                        },
                        "error_y": {
                          "color": "#2a3f5f"
                        },
                        "marker": {
                          "line": {
                            "color": "#E5ECF6",
                            "width": 0.5
                          },
                          "pattern": {
                            "fillmode": "overlay",
                            "size": 10,
                            "solidity": 0.2
                          }
                        },
                        "type": "bar"
                      }
                    ],
                    "barpolar": [
                      {
                        "marker": {
                          "line": {
                            "color": "#E5ECF6",
                            "width": 0.5
                          },
                          "pattern": {
                            "fillmode": "overlay",
                            "size": 10,
                            "solidity": 0.2
                          }
                        },
                        "type": "barpolar"
                      }
                    ],
                    "carpet": [
                      {
                        "aaxis": {
                          "endlinecolor": "#2a3f5f",
                          "gridcolor": "white",
                          "linecolor": "white",
                          "minorgridcolor": "white",
                          "startlinecolor": "#2a3f5f"
                        },
                        "baxis": {
                          "endlinecolor": "#2a3f5f",
                          "gridcolor": "white",
                          "linecolor": "white",
                          "minorgridcolor": "white",
                          "startlinecolor": "#2a3f5f"
                        },
                        "type": "carpet"
                      }
                    ],
                    "choropleth": [
                      {
                        "colorbar": {
                          "outlinewidth": 0,
                          "ticks": ""
                        },
                        "type": "choropleth"
                      }
                    ],
                    "contour": [
                      {
                        "colorbar": {
                          "outlinewidth": 0,
                          "ticks": ""
                        },
                        "colorscale": [
                          [
                            0,
                            "#0d0887"
                          ],
                          [
                            0.1111111111111111,
                            "#46039f"
                          ],
                          [
                            0.2222222222222222,
                            "#7201a8"
                          ],
                          [
                            0.3333333333333333,
                            "#9c179e"
                          ],
                          [
                            0.4444444444444444,
                            "#bd3786"
                          ],
                          [
                            0.5555555555555556,
                            "#d8576b"
                          ],
                          [
                            0.6666666666666666,
                            "#ed7953"
                          ],
                          [
                            0.7777777777777778,
                            "#fb9f3a"
                          ],
                          [
                            0.8888888888888888,
                            "#fdca26"
                          ],
                          [
                            1,
                            "#f0f921"
                          ]
                        ],
                        "type": "contour"
                      }
                    ],
                    "contourcarpet": [
                      {
                        "colorbar": {
                          "outlinewidth": 0,
                          "ticks": ""
                        },
                        "type": "contourcarpet"
                      }
                    ],
                    "heatmap": [
                      {
                        "colorbar": {
                          "outlinewidth": 0,
                          "ticks": ""
                        },
                        "colorscale": [
                          [
                            0,
                            "#0d0887"
                          ],
                          [
                            0.1111111111111111,
                            "#46039f"
                          ],
                          [
                            0.2222222222222222,
                            "#7201a8"
                          ],
                          [
                            0.3333333333333333,
                            "#9c179e"
                          ],
                          [
                            0.4444444444444444,
                            "#bd3786"
                          ],
                          [
                            0.5555555555555556,
                            "#d8576b"
                          ],
                          [
                            0.6666666666666666,
                            "#ed7953"
                          ],
                          [
                            0.7777777777777778,
                            "#fb9f3a"
                          ],
                          [
                            0.8888888888888888,
                            "#fdca26"
                          ],
                          [
                            1,
                            "#f0f921"
                          ]
                        ],
                        "type": "heatmap"
                      }
                    ],
                    "heatmapgl": [
                      {
                        "colorbar": {
                          "outlinewidth": 0,
                          "ticks": ""
                        },
                        "colorscale": [
                          [
                            0,
                            "#0d0887"
                          ],
                          [
                            0.1111111111111111,
                            "#46039f"
                          ],
                          [
                            0.2222222222222222,
                            "#7201a8"
                          ],
                          [
                            0.3333333333333333,
                            "#9c179e"
                          ],
                          [
                            0.4444444444444444,
                            "#bd3786"
                          ],
                          [
                            0.5555555555555556,
                            "#d8576b"
                          ],
                          [
                            0.6666666666666666,
                            "#ed7953"
                          ],
                          [
                            0.7777777777777778,
                            "#fb9f3a"
                          ],
                          [
                            0.8888888888888888,
                            "#fdca26"
                          ],
                          [
                            1,
                            "#f0f921"
                          ]
                        ],
                        "type": "heatmapgl"
                      }
                    ],
                    "histogram": [
                      {
                        "marker": {
                          "pattern": {
                            "fillmode": "overlay",
                            "size": 10,
                            "solidity": 0.2
                          }
                        },
                        "type": "histogram"
                      }
                    ],
                    "histogram2d": [
                      {
                        "colorbar": {
                          "outlinewidth": 0,
                          "ticks": ""
                        },
                        "colorscale": [
                          [
                            0,
                            "#0d0887"
                          ],
                          [
                            0.1111111111111111,
                            "#46039f"
                          ],
                          [
                            0.2222222222222222,
                            "#7201a8"
                          ],
                          [
                            0.3333333333333333,
                            "#9c179e"
                          ],
                          [
                            0.4444444444444444,
                            "#bd3786"
                          ],
                          [
                            0.5555555555555556,
                            "#d8576b"
                          ],
                          [
                            0.6666666666666666,
                            "#ed7953"
                          ],
                          [
                            0.7777777777777778,
                            "#fb9f3a"
                          ],
                          [
                            0.8888888888888888,
                            "#fdca26"
                          ],
                          [
                            1,
                            "#f0f921"
                          ]
                        ],
                        "type": "histogram2d"
                      }
                    ],
                    "histogram2dcontour": [
                      {
                        "colorbar": {
                          "outlinewidth": 0,
                          "ticks": ""
                        },
                        "colorscale": [
                          [
                            0,
                            "#0d0887"
                          ],
                          [
                            0.1111111111111111,
                            "#46039f"
                          ],
                          [
                            0.2222222222222222,
                            "#7201a8"
                          ],
                          [
                            0.3333333333333333,
                            "#9c179e"
                          ],
                          [
                            0.4444444444444444,
                            "#bd3786"
                          ],
                          [
                            0.5555555555555556,
                            "#d8576b"
                          ],
                          [
                            0.6666666666666666,
                            "#ed7953"
                          ],
                          [
                            0.7777777777777778,
                            "#fb9f3a"
                          ],
                          [
                            0.8888888888888888,
                            "#fdca26"
                          ],
                          [
                            1,
                            "#f0f921"
                          ]
                        ],
                        "type": "histogram2dcontour"
                      }
                    ],
                    "mesh3d": [
                      {
                        "colorbar": {
                          "outlinewidth": 0,
                          "ticks": ""
                        },
                        "type": "mesh3d"
                      }
                    ],
                    "parcoords": [
                      {
                        "line": {
                          "colorbar": {
                            "outlinewidth": 0,
                            "ticks": ""
                          }
                        },
                        "type": "parcoords"
                      }
                    ],
                    "pie": [
                      {
                        "automargin": true,
                        "type": "pie"
                      }
                    ],
                    "scatter": [
                      {
                        "fillpattern": {
                          "fillmode": "overlay",
                          "size": 10,
                          "solidity": 0.2
                        },
                        "type": "scatter"
                      }
                    ],
                    "scatter3d": [
                      {
                        "line": {
                          "colorbar": {
                            "outlinewidth": 0,
                            "ticks": ""
                          }
                        },
                        "marker": {
                          "colorbar": {
                            "outlinewidth": 0,
                            "ticks": ""
                          }
                        },
                        "type": "scatter3d"
                      }
                    ],
                    "scattercarpet": [
                      {
                        "marker": {
                          "colorbar": {
                            "outlinewidth": 0,
                            "ticks": ""
                          }
                        },
                        "type": "scattercarpet"
                      }
                    ],
                    "scattergeo": [
                      {
                        "marker": {
                          "colorbar": {
                            "outlinewidth": 0,
                            "ticks": ""
                          }
                        },
                        "type": "scattergeo"
                      }
                    ],
                    "scattergl": [
                      {
                        "marker": {
                          "colorbar": {
                            "outlinewidth": 0,
                            "ticks": ""
                          }
                        },
                        "type": "scattergl"
                      }
                    ],
                    "scattermapbox": [
                      {
                        "marker": {
                          "colorbar": {
                            "outlinewidth": 0,
                            "ticks": ""
                          }
                        },
                        "type": "scattermapbox"
                      }
                    ],
                    "scatterpolar": [
                      {
                        "marker": {
                          "colorbar": {
                            "outlinewidth": 0,
                            "ticks": ""
                          }
                        },
                        "type": "scatterpolar"
                      }
                    ],
                    "scatterpolargl": [
                      {
                        "marker": {
                          "colorbar": {
                            "outlinewidth": 0,
                            "ticks": ""
                          }
                        },
                        "type": "scatterpolargl"
                      }
                    ],
                    "scatterternary": [
                      {
                        "marker": {
                          "colorbar": {
                            "outlinewidth": 0,
                            "ticks": ""
                          }
                        },
                        "type": "scatterternary"
                      }
                    ],
                    "surface": [
                      {
                        "colorbar": {
                          "outlinewidth": 0,
                          "ticks": ""
                        },
                        "colorscale": [
                          [
                            0,
                            "#0d0887"
                          ],
                          [
                            0.1111111111111111,
                            "#46039f"
                          ],
                          [
                            0.2222222222222222,
                            "#7201a8"
                          ],
                          [
                            0.3333333333333333,
                            "#9c179e"
                          ],
                          [
                            0.4444444444444444,
                            "#bd3786"
                          ],
                          [
                            0.5555555555555556,
                            "#d8576b"
                          ],
                          [
                            0.6666666666666666,
                            "#ed7953"
                          ],
                          [
                            0.7777777777777778,
                            "#fb9f3a"
                          ],
                          [
                            0.8888888888888888,
                            "#fdca26"
                          ],
                          [
                            1,
                            "#f0f921"
                          ]
                        ],
                        "type": "surface"
                      }
                    ],
                    "table": [
                      {
                        "cells": {
                          "fill": {
                            "color": "#EBF0F8"
                          },
                          "line": {
                            "color": "white"
                          }
                        },
                        "header": {
                          "fill": {
                            "color": "#C8D4E3"
                          },
                          "line": {
                            "color": "white"
                          }
                        },
                        "type": "table"
                      }
                    ]
                  },
                  "layout": {
                    "annotationdefaults": {
                      "arrowcolor": "#2a3f5f",
                      "arrowhead": 0,
                      "arrowwidth": 1
                    },
                    "autotypenumbers": "strict",
                    "coloraxis": {
                      "colorbar": {
                        "outlinewidth": 0,
                        "ticks": ""
                      }
                    },
                    "colorscale": {
                      "diverging": [
                        [
                          0,
                          "#8e0152"
                        ],
                        [
                          0.1,
                          "#c51b7d"
                        ],
                        [
                          0.2,
                          "#de77ae"
                        ],
                        [
                          0.3,
                          "#f1b6da"
                        ],
                        [
                          0.4,
                          "#fde0ef"
                        ],
                        [
                          0.5,
                          "#f7f7f7"
                        ],
                        [
                          0.6,
                          "#e6f5d0"
                        ],
                        [
                          0.7,
                          "#b8e186"
                        ],
                        [
                          0.8,
                          "#7fbc41"
                        ],
                        [
                          0.9,
                          "#4d9221"
                        ],
                        [
                          1,
                          "#276419"
                        ]
                      ],
                      "sequential": [
                        [
                          0,
                          "#0d0887"
                        ],
                        [
                          0.1111111111111111,
                          "#46039f"
                        ],
                        [
                          0.2222222222222222,
                          "#7201a8"
                        ],
                        [
                          0.3333333333333333,
                          "#9c179e"
                        ],
                        [
                          0.4444444444444444,
                          "#bd3786"
                        ],
                        [
                          0.5555555555555556,
                          "#d8576b"
                        ],
                        [
                          0.6666666666666666,
                          "#ed7953"
                        ],
                        [
                          0.7777777777777778,
                          "#fb9f3a"
                        ],
                        [
                          0.8888888888888888,
                          "#fdca26"
                        ],
                        [
                          1,
                          "#f0f921"
                        ]
                      ],
                      "sequentialminus": [
                        [
                          0,
                          "#0d0887"
                        ],
                        [
                          0.1111111111111111,
                          "#46039f"
                        ],
                        [
                          0.2222222222222222,
                          "#7201a8"
                        ],
                        [
                          0.3333333333333333,
                          "#9c179e"
                        ],
                        [
                          0.4444444444444444,
                          "#bd3786"
                        ],
                        [
                          0.5555555555555556,
                          "#d8576b"
                        ],
                        [
                          0.6666666666666666,
                          "#ed7953"
                        ],
                        [
                          0.7777777777777778,
                          "#fb9f3a"
                        ],
                        [
                          0.8888888888888888,
                          "#fdca26"
                        ],
                        [
                          1,
                          "#f0f921"
                        ]
                      ]
                    },
                    "colorway": [
                      "#636efa",
                      "#EF553B",
                      "#00cc96",
                      "#ab63fa",
                      "#FFA15A",
                      "#19d3f3",
                      "#FF6692",
                      "#B6E880",
                      "#FF97FF",
                      "#FECB52"
                    ],
                    "font": {
                      "color": "#2a3f5f"
                    },
                    "geo": {
                      "bgcolor": "white",
                      "lakecolor": "white",
                      "landcolor": "#E5ECF6",
                      "showlakes": true,
                      "showland": true,
                      "subunitcolor": "white"
                    },
                    "hoverlabel": {
                      "align": "left"
                    },
                    "hovermode": "closest",
                    "mapbox": {
                      "style": "light"
                    },
                    "paper_bgcolor": "white",
                    "plot_bgcolor": "#E5ECF6",
                    "polar": {
                      "angularaxis": {
                        "gridcolor": "white",
                        "linecolor": "white",
                        "ticks": ""
                      },
                      "bgcolor": "#E5ECF6",
                      "radialaxis": {
                        "gridcolor": "white",
                        "linecolor": "white",
                        "ticks": ""
                      }
                    },
                    "scene": {
                      "xaxis": {
                        "backgroundcolor": "#E5ECF6",
                        "gridcolor": "white",
                        "gridwidth": 2,
                        "linecolor": "white",
                        "showbackground": true,
                        "ticks": "",
                        "zerolinecolor": "white"
                      },
                      "yaxis": {
                        "backgroundcolor": "#E5ECF6",
                        "gridcolor": "white",
                        "gridwidth": 2,
                        "linecolor": "white",
                        "showbackground": true,
                        "ticks": "",
                        "zerolinecolor": "white"
                      },
                      "zaxis": {
                        "backgroundcolor": "#E5ECF6",
                        "gridcolor": "white",
                        "gridwidth": 2,
                        "linecolor": "white",
                        "showbackground": true,
                        "ticks": "",
                        "zerolinecolor": "white"
                      }
                    },
                    "shapedefaults": {
                      "line": {
                        "color": "#2a3f5f"
                      }
                    },
                    "ternary": {
                      "aaxis": {
                        "gridcolor": "white",
                        "linecolor": "white",
                        "ticks": ""
                      },
                      "baxis": {
                        "gridcolor": "white",
                        "linecolor": "white",
                        "ticks": ""
                      },
                      "bgcolor": "#E5ECF6",
                      "caxis": {
                        "gridcolor": "white",
                        "linecolor": "white",
                        "ticks": ""
                      }
                    },
                    "title": {
                      "x": 0.05
                    },
                    "xaxis": {
                      "automargin": true,
                      "gridcolor": "white",
                      "linecolor": "white",
                      "ticks": "",
                      "title": {
                        "standoff": 15
                      },
                      "zerolinecolor": "white",
                      "zerolinewidth": 2
                    },
                    "yaxis": {
                      "automargin": true,
                      "gridcolor": "white",
                      "linecolor": "white",
                      "ticks": "",
                      "title": {
                        "standoff": 15
                      },
                      "zerolinecolor": "white",
                      "zerolinewidth": 2
                    }
                  }
                },
                "title": {
                  "text": "Clustered Column Chart - Role vs.Lower Income"
                },
                "xaxis": {
                  "anchor": "y",
                  "domain": [
                    0,
                    1
                  ],
                  "title": {
                    "text": "Role"
                  }
                },
                "yaxis": {
                  "anchor": "x",
                  "domain": [
                    0,
                    1
                  ],
                  "title": {
                    "text": "Income"
                  }
                }
              }
            }
          },
          "metadata": {},
          "output_type": "display_data"
        }
      ],
      "source": [
        "selected_df = df.loc[:, ['Role', 'Lower Income']]\n",
        "\n",
        "# Melt the DataFrame to create a long-form DataFrame for Plotly Express\n",
        "melted_df = selected_df.melt(id_vars='Role', var_name='Income Type', value_name='Income')\n",
        "\n",
        "# Split 'Lower Income' into separate bars based on income values\n",
        "melted_df['Income Type'] = melted_df['Income Type'] + '_' + melted_df['Income'].astype(str)\n",
        "\n",
        "# Create clustered column chart with no separators within bars\n",
        "clustered_fig = px.bar(melted_df, x='Role', y='Income', color='Income Type',\n",
        "                        barmode='group', title='Clustered Column Chart - Role vs.Lower Income')\n",
        "\n",
        "\n",
        "# Show the plot\n",
        "clustered_fig.show()"
      ]
    },
    {
      "cell_type": "code",
      "execution_count": 27,
      "metadata": {
        "colab": {
          "base_uri": "https://localhost:8080/",
          "height": 542
        },
        "id": "DvuC9TuJeydN",
        "outputId": "2651cdaf-20d8-4ddd-b1a9-0beab94c9152"
      },
      "outputs": [
        {
          "data": {
            "application/vnd.plotly.v1+json": {
              "config": {
                "plotlyServerURL": "https://plot.ly"
              },
              "data": [
                {
                  "alignmentgroup": "True",
                  "hovertemplate": "Income Type=Upper Income_8205.0<br>Role=%{x}<br>Income=%{y}<extra></extra>",
                  "legendgroup": "Upper Income_8205.0",
                  "marker": {
                    "color": "#636efa",
                    "pattern": {
                      "shape": ""
                    }
                  },
                  "name": "Upper Income_8205.0",
                  "offsetgroup": "Upper Income_8205.0",
                  "orientation": "v",
                  "showlegend": true,
                  "textposition": "auto",
                  "type": "bar",
                  "x": [
                    "Marketing and Sales Executive",
                    "Training and Development Executive",
                    "Marketing and Sales Executive",
                    "Advertising and Promotion Executive",
                    "Training and Development Executive",
                    "Training and Development Executive",
                    "Computer and Information System Executive",
                    "Training and Development Executive",
                    "Computer and Information System Executive",
                    "Computer and Information System Executive",
                    "Advertising and Promotion Executive",
                    "Marketing and Sales Executive",
                    "Top Executives",
                    "Training and Development Executive",
                    "Training and Development Executive",
                    "Training and Development Executive",
                    "Training and Development Executive",
                    "Advertising and Promotion Executive",
                    "Computer and Information System Executive",
                    "Training and Development Executive",
                    "Computer and Information System Executive",
                    "Computer and Information System Executive",
                    "Top Executives",
                    "Advertising and Promotion Executive",
                    "Marketing and Sales Executive",
                    "Top Executives",
                    "Computer and Information System Executive",
                    "Marketing and Sales Executive",
                    "Advertising and Promotion Executive",
                    "Advertising and Promotion Executive",
                    "Training and Development Executive",
                    "Top Executives",
                    "Top Executives",
                    "Advertising and Promotion Executive",
                    "Training and Development Executive",
                    "Top Executives",
                    "Top Executives",
                    "Top Executives",
                    "Training and Development Executive",
                    "Top Executives",
                    "Top Executives",
                    "Top Executives",
                    "Computer and Information System Executive",
                    "Top Executives",
                    "Computer and Information System Executive",
                    "Top Executives",
                    "Marketing and Sales Executive",
                    "Top Executives",
                    "Advertising and Promotion Executive",
                    "Advertising and Promotion Executive",
                    "Marketing and Sales Executive",
                    "Training and Development Executive",
                    "Advertising and Promotion Executive",
                    "Marketing and Sales Executive",
                    "Top Executives",
                    "Advertising and Promotion Executive",
                    "Computer and Information System Executive",
                    "Marketing and Sales Executive",
                    "Training and Development Executive",
                    "Marketing and Sales Executive",
                    "Marketing and Sales Executive",
                    "Advertising and Promotion Executive",
                    "Computer and Information System Executive",
                    "Marketing and Sales Executive",
                    "Top Executives",
                    "Computer and Information System Executive",
                    "Training and Development Executive",
                    "Training and Development Executive",
                    "Training and Development Executive",
                    "Training and Development Executive",
                    "Training and Development Executive",
                    "Top Executives",
                    "Training and Development Executive",
                    "Computer and Information System Executive",
                    "Advertising and Promotion Executive",
                    "Computer and Information System Executive",
                    "Advertising and Promotion Executive",
                    "Advertising and Promotion Executive",
                    "Top Executives",
                    "Computer and Information System Executive",
                    "Training and Development Executive",
                    "Computer and Information System Executive",
                    "Training and Development Executive",
                    "Computer and Information System Executive",
                    "Training and Development Executive",
                    "Advertising and Promotion Executive",
                    "Training and Development Executive",
                    "Top Executives",
                    "Computer and Information System Executive",
                    "Marketing and Sales Executive",
                    "Computer and Information System Executive",
                    "Computer and Information System Executive",
                    "Advertising and Promotion Executive",
                    "Advertising and Promotion Executive",
                    "Advertising and Promotion Executive",
                    "Marketing and Sales Executive",
                    "Advertising and Promotion Executive",
                    "Marketing and Sales Executive",
                    "Training and Development Executive",
                    "Marketing and Sales Executive",
                    "Training and Development Executive",
                    "Computer and Information System Executive",
                    "Top Executives",
                    "Computer and Information System Executive",
                    "Advertising and Promotion Executive",
                    "Training and Development Executive",
                    "Marketing and Sales Executive",
                    "Computer and Information System Executive",
                    "Top Executives",
                    "Advertising and Promotion Executive",
                    "Computer and Information System Executive",
                    "Advertising and Promotion Executive",
                    "Top Executives",
                    "Marketing and Sales Executive",
                    "Marketing and Sales Executive"
                  ],
                  "xaxis": "x",
                  "y": [
                    8205,
                    8205,
                    8205,
                    8205,
                    8205,
                    8205,
                    8205,
                    8205,
                    8205,
                    8205,
                    8205,
                    8205,
                    8205,
                    8205,
                    8205,
                    8205,
                    8205,
                    8205,
                    8205,
                    8205,
                    8205,
                    8205,
                    8205,
                    8205,
                    8205,
                    8205,
                    8205,
                    8205,
                    8205,
                    8205,
                    8205,
                    8205,
                    8205,
                    8205,
                    8205,
                    8205,
                    8205,
                    8205,
                    8205,
                    8205,
                    8205,
                    8205,
                    8205,
                    8205,
                    8205,
                    8205,
                    8205,
                    8205,
                    8205,
                    8205,
                    8205,
                    8205,
                    8205,
                    8205,
                    8205,
                    8205,
                    8205,
                    8205,
                    8205,
                    8205,
                    8205,
                    8205,
                    8205,
                    8205,
                    8205,
                    8205,
                    8205,
                    8205,
                    8205,
                    8205,
                    8205,
                    8205,
                    8205,
                    8205,
                    8205,
                    8205,
                    8205,
                    8205,
                    8205,
                    8205,
                    8205,
                    8205,
                    8205,
                    8205,
                    8205,
                    8205,
                    8205,
                    8205,
                    8205,
                    8205,
                    8205,
                    8205,
                    8205,
                    8205,
                    8205,
                    8205,
                    8205,
                    8205,
                    8205,
                    8205,
                    8205,
                    8205,
                    8205,
                    8205,
                    8205,
                    8205,
                    8205,
                    8205,
                    8205,
                    8205,
                    8205,
                    8205,
                    8205,
                    8205,
                    8205
                  ],
                  "yaxis": "y"
                },
                {
                  "alignmentgroup": "True",
                  "hovertemplate": "Income Type=Upper Income_24615.0<br>Role=%{x}<br>Income=%{y}<extra></extra>",
                  "legendgroup": "Upper Income_24615.0",
                  "marker": {
                    "color": "#EF553B",
                    "pattern": {
                      "shape": ""
                    }
                  },
                  "name": "Upper Income_24615.0",
                  "offsetgroup": "Upper Income_24615.0",
                  "orientation": "v",
                  "showlegend": true,
                  "textposition": "auto",
                  "type": "bar",
                  "x": [
                    "Advertising and Promotion Executive",
                    "Training and Development Executive",
                    "Marketing and Sales Executive",
                    "Training and Development Executive",
                    "Training and Development Executive",
                    "Top Executives",
                    "Top Executives",
                    "Top Executives",
                    "Computer and Information System Executive",
                    "Training and Development Executive",
                    "Advertising and Promotion Executive",
                    "Advertising and Promotion Executive",
                    "Advertising and Promotion Executive",
                    "Top Executives",
                    "Marketing and Sales Executive",
                    "Top Executives",
                    "Marketing and Sales Executive",
                    "Training and Development Executive",
                    "Training and Development Executive",
                    "Advertising and Promotion Executive",
                    "Training and Development Executive",
                    "Marketing and Sales Executive",
                    "Marketing and Sales Executive",
                    "Marketing and Sales Executive",
                    "Marketing and Sales Executive",
                    "Marketing and Sales Executive",
                    "Computer and Information System Executive",
                    "Advertising and Promotion Executive",
                    "Advertising and Promotion Executive",
                    "Training and Development Executive",
                    "Computer and Information System Executive",
                    "Top Executives",
                    "Computer and Information System Executive",
                    "Training and Development Executive",
                    "Advertising and Promotion Executive",
                    "Computer and Information System Executive",
                    "Marketing and Sales Executive",
                    "Training and Development Executive",
                    "Computer and Information System Executive",
                    "Computer and Information System Executive",
                    "Computer and Information System Executive",
                    "Training and Development Executive",
                    "Top Executives",
                    "Advertising and Promotion Executive",
                    "Top Executives",
                    "Marketing and Sales Executive",
                    "Advertising and Promotion Executive",
                    "Advertising and Promotion Executive",
                    "Top Executives",
                    "Training and Development Executive",
                    "Top Executives",
                    "Top Executives",
                    "Computer and Information System Executive",
                    "Computer and Information System Executive",
                    "Advertising and Promotion Executive",
                    "Training and Development Executive",
                    "Computer and Information System Executive",
                    "Advertising and Promotion Executive",
                    "Top Executives",
                    "Marketing and Sales Executive",
                    "Computer and Information System Executive",
                    "Marketing and Sales Executive",
                    "Marketing and Sales Executive",
                    "Advertising and Promotion Executive",
                    "Training and Development Executive",
                    "Training and Development Executive",
                    "Advertising and Promotion Executive",
                    "Training and Development Executive",
                    "Advertising and Promotion Executive",
                    "Top Executives",
                    "Training and Development Executive",
                    "Training and Development Executive",
                    "Computer and Information System Executive",
                    "Training and Development Executive",
                    "Computer and Information System Executive",
                    "Marketing and Sales Executive",
                    "Advertising and Promotion Executive",
                    "Advertising and Promotion Executive",
                    "Marketing and Sales Executive",
                    "Marketing and Sales Executive",
                    "Top Executives",
                    "Marketing and Sales Executive",
                    "Marketing and Sales Executive",
                    "Computer and Information System Executive",
                    "Training and Development Executive",
                    "Training and Development Executive",
                    "Marketing and Sales Executive",
                    "Computer and Information System Executive",
                    "Training and Development Executive",
                    "Top Executives",
                    "Computer and Information System Executive",
                    "Advertising and Promotion Executive",
                    "Top Executives",
                    "Computer and Information System Executive",
                    "Top Executives",
                    "Top Executives",
                    "Advertising and Promotion Executive",
                    "Top Executives",
                    "Marketing and Sales Executive",
                    "Training and Development Executive",
                    "Computer and Information System Executive",
                    "Training and Development Executive",
                    "Advertising and Promotion Executive",
                    "Top Executives",
                    "Advertising and Promotion Executive",
                    "Marketing and Sales Executive",
                    "Marketing and Sales Executive",
                    "Computer and Information System Executive",
                    "Computer and Information System Executive",
                    "Training and Development Executive",
                    "Top Executives",
                    "Advertising and Promotion Executive",
                    "Marketing and Sales Executive",
                    "Marketing and Sales Executive",
                    "Marketing and Sales Executive"
                  ],
                  "xaxis": "x",
                  "y": [
                    24615,
                    24615,
                    24615,
                    24615,
                    24615,
                    24615,
                    24615,
                    24615,
                    24615,
                    24615,
                    24615,
                    24615,
                    24615,
                    24615,
                    24615,
                    24615,
                    24615,
                    24615,
                    24615,
                    24615,
                    24615,
                    24615,
                    24615,
                    24615,
                    24615,
                    24615,
                    24615,
                    24615,
                    24615,
                    24615,
                    24615,
                    24615,
                    24615,
                    24615,
                    24615,
                    24615,
                    24615,
                    24615,
                    24615,
                    24615,
                    24615,
                    24615,
                    24615,
                    24615,
                    24615,
                    24615,
                    24615,
                    24615,
                    24615,
                    24615,
                    24615,
                    24615,
                    24615,
                    24615,
                    24615,
                    24615,
                    24615,
                    24615,
                    24615,
                    24615,
                    24615,
                    24615,
                    24615,
                    24615,
                    24615,
                    24615,
                    24615,
                    24615,
                    24615,
                    24615,
                    24615,
                    24615,
                    24615,
                    24615,
                    24615,
                    24615,
                    24615,
                    24615,
                    24615,
                    24615,
                    24615,
                    24615,
                    24615,
                    24615,
                    24615,
                    24615,
                    24615,
                    24615,
                    24615,
                    24615,
                    24615,
                    24615,
                    24615,
                    24615,
                    24615,
                    24615,
                    24615,
                    24615,
                    24615,
                    24615,
                    24615,
                    24615,
                    24615,
                    24615,
                    24615,
                    24615,
                    24615,
                    24615,
                    24615,
                    24615,
                    24615,
                    24615,
                    24615,
                    24615,
                    24615
                  ],
                  "yaxis": "y"
                },
                {
                  "alignmentgroup": "True",
                  "hovertemplate": "Income Type=Upper Income_19145.0<br>Role=%{x}<br>Income=%{y}<extra></extra>",
                  "legendgroup": "Upper Income_19145.0",
                  "marker": {
                    "color": "#00cc96",
                    "pattern": {
                      "shape": ""
                    }
                  },
                  "name": "Upper Income_19145.0",
                  "offsetgroup": "Upper Income_19145.0",
                  "orientation": "v",
                  "showlegend": true,
                  "textposition": "auto",
                  "type": "bar",
                  "x": [
                    "Computer and Information System Executive",
                    "Top Executives",
                    "Marketing and Sales Executive",
                    "Marketing and Sales Executive",
                    "Top Executives",
                    "Advertising and Promotion Executive",
                    "Computer and Information System Executive",
                    "Marketing and Sales Executive",
                    "Computer and Information System Executive",
                    "Top Executives",
                    "Top Executives",
                    "Computer and Information System Executive",
                    "Top Executives",
                    "Computer and Information System Executive",
                    "Computer and Information System Executive",
                    "Advertising and Promotion Executive",
                    "Computer and Information System Executive",
                    "Computer and Information System Executive",
                    "Training and Development Executive",
                    "Computer and Information System Executive",
                    "Advertising and Promotion Executive",
                    "Marketing and Sales Executive",
                    "Training and Development Executive",
                    "Computer and Information System Executive",
                    "Training and Development Executive",
                    "Computer and Information System Executive",
                    "Top Executives",
                    "Marketing and Sales Executive",
                    "Training and Development Executive",
                    "Training and Development Executive",
                    "Training and Development Executive",
                    "Computer and Information System Executive",
                    "Top Executives",
                    "Marketing and Sales Executive",
                    "Training and Development Executive",
                    "Computer and Information System Executive",
                    "Top Executives",
                    "Marketing and Sales Executive",
                    "Advertising and Promotion Executive",
                    "Top Executives",
                    "Training and Development Executive",
                    "Training and Development Executive",
                    "Marketing and Sales Executive",
                    "Training and Development Executive",
                    "Training and Development Executive",
                    "Computer and Information System Executive",
                    "Training and Development Executive",
                    "Marketing and Sales Executive",
                    "Training and Development Executive",
                    "Advertising and Promotion Executive",
                    "Advertising and Promotion Executive",
                    "Top Executives",
                    "Computer and Information System Executive",
                    "Computer and Information System Executive",
                    "Computer and Information System Executive",
                    "Training and Development Executive",
                    "Advertising and Promotion Executive",
                    "Computer and Information System Executive",
                    "Computer and Information System Executive",
                    "Marketing and Sales Executive",
                    "Marketing and Sales Executive",
                    "Computer and Information System Executive",
                    "Computer and Information System Executive",
                    "Marketing and Sales Executive",
                    "Top Executives",
                    "Marketing and Sales Executive",
                    "Training and Development Executive",
                    "Top Executives",
                    "Advertising and Promotion Executive",
                    "Training and Development Executive",
                    "Marketing and Sales Executive",
                    "Training and Development Executive",
                    "Training and Development Executive",
                    "Top Executives",
                    "Computer and Information System Executive",
                    "Training and Development Executive",
                    "Training and Development Executive",
                    "Computer and Information System Executive",
                    "Training and Development Executive",
                    "Marketing and Sales Executive",
                    "Marketing and Sales Executive",
                    "Computer and Information System Executive",
                    "Computer and Information System Executive",
                    "Advertising and Promotion Executive",
                    "Training and Development Executive",
                    "Top Executives",
                    "Training and Development Executive",
                    "Advertising and Promotion Executive",
                    "Top Executives",
                    "Training and Development Executive",
                    "Advertising and Promotion Executive",
                    "Training and Development Executive",
                    "Computer and Information System Executive",
                    "Computer and Information System Executive",
                    "Computer and Information System Executive",
                    "Marketing and Sales Executive",
                    "Computer and Information System Executive",
                    "Computer and Information System Executive",
                    "Marketing and Sales Executive",
                    "Marketing and Sales Executive",
                    "Marketing and Sales Executive",
                    "Computer and Information System Executive",
                    "Top Executives",
                    "Computer and Information System Executive",
                    "Top Executives",
                    "Top Executives",
                    "Training and Development Executive",
                    "Advertising and Promotion Executive",
                    "Advertising and Promotion Executive",
                    "Training and Development Executive",
                    "Training and Development Executive",
                    "Computer and Information System Executive",
                    "Advertising and Promotion Executive",
                    "Advertising and Promotion Executive",
                    "Top Executives",
                    "Marketing and Sales Executive",
                    "Marketing and Sales Executive",
                    "Advertising and Promotion Executive"
                  ],
                  "xaxis": "x",
                  "y": [
                    19145,
                    19145,
                    19145,
                    19145,
                    19145,
                    19145,
                    19145,
                    19145,
                    19145,
                    19145,
                    19145,
                    19145,
                    19145,
                    19145,
                    19145,
                    19145,
                    19145,
                    19145,
                    19145,
                    19145,
                    19145,
                    19145,
                    19145,
                    19145,
                    19145,
                    19145,
                    19145,
                    19145,
                    19145,
                    19145,
                    19145,
                    19145,
                    19145,
                    19145,
                    19145,
                    19145,
                    19145,
                    19145,
                    19145,
                    19145,
                    19145,
                    19145,
                    19145,
                    19145,
                    19145,
                    19145,
                    19145,
                    19145,
                    19145,
                    19145,
                    19145,
                    19145,
                    19145,
                    19145,
                    19145,
                    19145,
                    19145,
                    19145,
                    19145,
                    19145,
                    19145,
                    19145,
                    19145,
                    19145,
                    19145,
                    19145,
                    19145,
                    19145,
                    19145,
                    19145,
                    19145,
                    19145,
                    19145,
                    19145,
                    19145,
                    19145,
                    19145,
                    19145,
                    19145,
                    19145,
                    19145,
                    19145,
                    19145,
                    19145,
                    19145,
                    19145,
                    19145,
                    19145,
                    19145,
                    19145,
                    19145,
                    19145,
                    19145,
                    19145,
                    19145,
                    19145,
                    19145,
                    19145,
                    19145,
                    19145,
                    19145,
                    19145,
                    19145,
                    19145,
                    19145,
                    19145,
                    19145,
                    19145,
                    19145,
                    19145,
                    19145,
                    19145,
                    19145,
                    19145,
                    19145,
                    19145,
                    19145,
                    19145
                  ],
                  "yaxis": "y"
                },
                {
                  "alignmentgroup": "True",
                  "hovertemplate": "Income Type=Upper Income_100000.0<br>Role=%{x}<br>Income=%{y}<extra></extra>",
                  "legendgroup": "Upper Income_100000.0",
                  "marker": {
                    "color": "#ab63fa",
                    "pattern": {
                      "shape": ""
                    }
                  },
                  "name": "Upper Income_100000.0",
                  "offsetgroup": "Upper Income_100000.0",
                  "orientation": "v",
                  "showlegend": true,
                  "textposition": "auto",
                  "type": "bar",
                  "x": [
                    "Top Executives",
                    "Advertising and Promotion Executive",
                    "Advertising and Promotion Executive",
                    "Advertising and Promotion Executive",
                    "Top Executives",
                    "Marketing and Sales Executive",
                    "Top Executives",
                    "Top Executives",
                    "Marketing and Sales Executive",
                    "Computer and Information System Executive",
                    "Advertising and Promotion Executive",
                    "Top Executives",
                    "Advertising and Promotion Executive",
                    "Advertising and Promotion Executive",
                    "Top Executives",
                    "Marketing and Sales Executive",
                    "Advertising and Promotion Executive",
                    "Training and Development Executive",
                    "Computer and Information System Executive",
                    "Training and Development Executive",
                    "Marketing and Sales Executive",
                    "Marketing and Sales Executive",
                    "Top Executives",
                    "Marketing and Sales Executive",
                    "Top Executives",
                    "Marketing and Sales Executive",
                    "Marketing and Sales Executive",
                    "Training and Development Executive",
                    "Computer and Information System Executive",
                    "Marketing and Sales Executive",
                    "Training and Development Executive",
                    "Top Executives",
                    "Advertising and Promotion Executive",
                    "Marketing and Sales Executive",
                    "Advertising and Promotion Executive",
                    "Computer and Information System Executive",
                    "Advertising and Promotion Executive",
                    "Training and Development Executive",
                    "Top Executives",
                    "Marketing and Sales Executive",
                    "Training and Development Executive",
                    "Top Executives",
                    "Advertising and Promotion Executive",
                    "Advertising and Promotion Executive",
                    "Computer and Information System Executive",
                    "Advertising and Promotion Executive",
                    "Training and Development Executive",
                    "Advertising and Promotion Executive",
                    "Computer and Information System Executive",
                    "Top Executives",
                    "Advertising and Promotion Executive",
                    "Marketing and Sales Executive",
                    "Computer and Information System Executive",
                    "Training and Development Executive",
                    "Top Executives",
                    "Computer and Information System Executive",
                    "Marketing and Sales Executive",
                    "Training and Development Executive",
                    "Top Executives",
                    "Training and Development Executive",
                    "Top Executives",
                    "Marketing and Sales Executive",
                    "Marketing and Sales Executive",
                    "Advertising and Promotion Executive",
                    "Marketing and Sales Executive",
                    "Training and Development Executive",
                    "Training and Development Executive",
                    "Top Executives",
                    "Training and Development Executive",
                    "Advertising and Promotion Executive",
                    "Computer and Information System Executive",
                    "Top Executives",
                    "Training and Development Executive",
                    "Computer and Information System Executive",
                    "Top Executives",
                    "Training and Development Executive",
                    "Top Executives",
                    "Top Executives",
                    "Top Executives",
                    "Top Executives",
                    "Training and Development Executive",
                    "Advertising and Promotion Executive",
                    "Computer and Information System Executive",
                    "Top Executives",
                    "Top Executives",
                    "Marketing and Sales Executive",
                    "Marketing and Sales Executive",
                    "Marketing and Sales Executive",
                    "Advertising and Promotion Executive",
                    "Training and Development Executive",
                    "Training and Development Executive",
                    "Advertising and Promotion Executive",
                    "Computer and Information System Executive",
                    "Top Executives",
                    "Top Executives",
                    "Top Executives",
                    "Marketing and Sales Executive",
                    "Computer and Information System Executive",
                    "Advertising and Promotion Executive",
                    "Top Executives",
                    "Top Executives",
                    "Top Executives",
                    "Computer and Information System Executive",
                    "Marketing and Sales Executive",
                    "Advertising and Promotion Executive",
                    "Training and Development Executive",
                    "Top Executives",
                    "Top Executives",
                    "Training and Development Executive",
                    "Computer and Information System Executive",
                    "Marketing and Sales Executive",
                    "Computer and Information System Executive",
                    "Computer and Information System Executive",
                    "Training and Development Executive",
                    "Top Executives",
                    "Computer and Information System Executive",
                    "Training and Development Executive",
                    "Top Executives",
                    "Top Executives",
                    "Advertising and Promotion Executive",
                    "Top Executives",
                    "Top Executives",
                    "Training and Development Executive"
                  ],
                  "xaxis": "x",
                  "y": [
                    100000,
                    100000,
                    100000,
                    100000,
                    100000,
                    100000,
                    100000,
                    100000,
                    100000,
                    100000,
                    100000,
                    100000,
                    100000,
                    100000,
                    100000,
                    100000,
                    100000,
                    100000,
                    100000,
                    100000,
                    100000,
                    100000,
                    100000,
                    100000,
                    100000,
                    100000,
                    100000,
                    100000,
                    100000,
                    100000,
                    100000,
                    100000,
                    100000,
                    100000,
                    100000,
                    100000,
                    100000,
                    100000,
                    100000,
                    100000,
                    100000,
                    100000,
                    100000,
                    100000,
                    100000,
                    100000,
                    100000,
                    100000,
                    100000,
                    100000,
                    100000,
                    100000,
                    100000,
                    100000,
                    100000,
                    100000,
                    100000,
                    100000,
                    100000,
                    100000,
                    100000,
                    100000,
                    100000,
                    100000,
                    100000,
                    100000,
                    100000,
                    100000,
                    100000,
                    100000,
                    100000,
                    100000,
                    100000,
                    100000,
                    100000,
                    100000,
                    100000,
                    100000,
                    100000,
                    100000,
                    100000,
                    100000,
                    100000,
                    100000,
                    100000,
                    100000,
                    100000,
                    100000,
                    100000,
                    100000,
                    100000,
                    100000,
                    100000,
                    100000,
                    100000,
                    100000,
                    100000,
                    100000,
                    100000,
                    100000,
                    100000,
                    100000,
                    100000,
                    100000,
                    100000,
                    100000,
                    100000,
                    100000,
                    100000,
                    100000,
                    100000,
                    100000,
                    100000,
                    100000,
                    100000,
                    100000,
                    100000,
                    100000,
                    100000,
                    100000,
                    100000,
                    100000,
                    100000
                  ],
                  "yaxis": "y"
                },
                {
                  "alignmentgroup": "True",
                  "hovertemplate": "Income Type=Upper Income_30085.0<br>Role=%{x}<br>Income=%{y}<extra></extra>",
                  "legendgroup": "Upper Income_30085.0",
                  "marker": {
                    "color": "#FFA15A",
                    "pattern": {
                      "shape": ""
                    }
                  },
                  "name": "Upper Income_30085.0",
                  "offsetgroup": "Upper Income_30085.0",
                  "orientation": "v",
                  "showlegend": true,
                  "textposition": "auto",
                  "type": "bar",
                  "x": [
                    "Marketing and Sales Executive",
                    "Computer and Information System Executive",
                    "Marketing and Sales Executive",
                    "Training and Development Executive",
                    "Marketing and Sales Executive",
                    "Computer and Information System Executive",
                    "Advertising and Promotion Executive",
                    "Top Executives",
                    "Advertising and Promotion Executive",
                    "Top Executives",
                    "Training and Development Executive",
                    "Marketing and Sales Executive",
                    "Advertising and Promotion Executive",
                    "Marketing and Sales Executive",
                    "Marketing and Sales Executive",
                    "Marketing and Sales Executive",
                    "Computer and Information System Executive",
                    "Top Executives",
                    "Training and Development Executive",
                    "Top Executives",
                    "Training and Development Executive",
                    "Marketing and Sales Executive",
                    "Top Executives",
                    "Top Executives",
                    "Top Executives",
                    "Training and Development Executive",
                    "Top Executives",
                    "Training and Development Executive",
                    "Marketing and Sales Executive",
                    "Computer and Information System Executive",
                    "Advertising and Promotion Executive",
                    "Computer and Information System Executive",
                    "Training and Development Executive",
                    "Training and Development Executive",
                    "Top Executives",
                    "Training and Development Executive",
                    "Marketing and Sales Executive",
                    "Computer and Information System Executive",
                    "Computer and Information System Executive",
                    "Computer and Information System Executive",
                    "Top Executives",
                    "Computer and Information System Executive",
                    "Top Executives",
                    "Marketing and Sales Executive",
                    "Marketing and Sales Executive",
                    "Advertising and Promotion Executive",
                    "Training and Development Executive",
                    "Training and Development Executive",
                    "Computer and Information System Executive",
                    "Top Executives",
                    "Training and Development Executive",
                    "Top Executives",
                    "Top Executives",
                    "Training and Development Executive",
                    "Computer and Information System Executive",
                    "Marketing and Sales Executive",
                    "Marketing and Sales Executive",
                    "Advertising and Promotion Executive",
                    "Advertising and Promotion Executive",
                    "Training and Development Executive",
                    "Training and Development Executive",
                    "Top Executives",
                    "Training and Development Executive",
                    "Marketing and Sales Executive",
                    "Marketing and Sales Executive",
                    "Marketing and Sales Executive",
                    "Advertising and Promotion Executive",
                    "Top Executives",
                    "Advertising and Promotion Executive",
                    "Computer and Information System Executive",
                    "Advertising and Promotion Executive",
                    "Marketing and Sales Executive",
                    "Marketing and Sales Executive",
                    "Advertising and Promotion Executive",
                    "Top Executives",
                    "Computer and Information System Executive",
                    "Advertising and Promotion Executive",
                    "Marketing and Sales Executive",
                    "Advertising and Promotion Executive",
                    "Marketing and Sales Executive",
                    "Training and Development Executive",
                    "Top Executives",
                    "Training and Development Executive",
                    "Computer and Information System Executive",
                    "Marketing and Sales Executive",
                    "Top Executives",
                    "Marketing and Sales Executive",
                    "Marketing and Sales Executive",
                    "Computer and Information System Executive",
                    "Top Executives",
                    "Computer and Information System Executive",
                    "Training and Development Executive",
                    "Computer and Information System Executive",
                    "Advertising and Promotion Executive",
                    "Top Executives",
                    "Marketing and Sales Executive",
                    "Top Executives",
                    "Top Executives",
                    "Marketing and Sales Executive",
                    "Advertising and Promotion Executive",
                    "Computer and Information System Executive",
                    "Top Executives",
                    "Computer and Information System Executive",
                    "Top Executives"
                  ],
                  "xaxis": "x",
                  "y": [
                    30085,
                    30085,
                    30085,
                    30085,
                    30085,
                    30085,
                    30085,
                    30085,
                    30085,
                    30085,
                    30085,
                    30085,
                    30085,
                    30085,
                    30085,
                    30085,
                    30085,
                    30085,
                    30085,
                    30085,
                    30085,
                    30085,
                    30085,
                    30085,
                    30085,
                    30085,
                    30085,
                    30085,
                    30085,
                    30085,
                    30085,
                    30085,
                    30085,
                    30085,
                    30085,
                    30085,
                    30085,
                    30085,
                    30085,
                    30085,
                    30085,
                    30085,
                    30085,
                    30085,
                    30085,
                    30085,
                    30085,
                    30085,
                    30085,
                    30085,
                    30085,
                    30085,
                    30085,
                    30085,
                    30085,
                    30085,
                    30085,
                    30085,
                    30085,
                    30085,
                    30085,
                    30085,
                    30085,
                    30085,
                    30085,
                    30085,
                    30085,
                    30085,
                    30085,
                    30085,
                    30085,
                    30085,
                    30085,
                    30085,
                    30085,
                    30085,
                    30085,
                    30085,
                    30085,
                    30085,
                    30085,
                    30085,
                    30085,
                    30085,
                    30085,
                    30085,
                    30085,
                    30085,
                    30085,
                    30085,
                    30085,
                    30085,
                    30085,
                    30085,
                    30085,
                    30085,
                    30085,
                    30085,
                    30085,
                    30085,
                    30085,
                    30085,
                    30085,
                    30085
                  ],
                  "yaxis": "y"
                },
                {
                  "alignmentgroup": "True",
                  "hovertemplate": "Income Type=Upper Income_2735.0<br>Role=%{x}<br>Income=%{y}<extra></extra>",
                  "legendgroup": "Upper Income_2735.0",
                  "marker": {
                    "color": "#19d3f3",
                    "pattern": {
                      "shape": ""
                    }
                  },
                  "name": "Upper Income_2735.0",
                  "offsetgroup": "Upper Income_2735.0",
                  "orientation": "v",
                  "showlegend": true,
                  "textposition": "auto",
                  "type": "bar",
                  "x": [
                    "Marketing and Sales Executive",
                    "Advertising and Promotion Executive",
                    "Marketing and Sales Executive",
                    "Training and Development Executive",
                    "Marketing and Sales Executive",
                    "Marketing and Sales Executive",
                    "Top Executives",
                    "Top Executives",
                    "Marketing and Sales Executive",
                    "Advertising and Promotion Executive",
                    "Computer and Information System Executive",
                    "Training and Development Executive",
                    "Marketing and Sales Executive",
                    "Training and Development Executive",
                    "Advertising and Promotion Executive",
                    "Computer and Information System Executive",
                    "Top Executives",
                    "Top Executives",
                    "Training and Development Executive",
                    "Top Executives",
                    "Computer and Information System Executive",
                    "Computer and Information System Executive",
                    "Top Executives",
                    "Computer and Information System Executive",
                    "Computer and Information System Executive",
                    "Top Executives",
                    "Marketing and Sales Executive",
                    "Marketing and Sales Executive",
                    "Marketing and Sales Executive",
                    "Top Executives",
                    "Marketing and Sales Executive",
                    "Training and Development Executive",
                    "Computer and Information System Executive",
                    "Training and Development Executive",
                    "Training and Development Executive",
                    "Advertising and Promotion Executive",
                    "Top Executives",
                    "Top Executives",
                    "Training and Development Executive",
                    "Advertising and Promotion Executive",
                    "Training and Development Executive",
                    "Marketing and Sales Executive",
                    "Computer and Information System Executive",
                    "Top Executives",
                    "Advertising and Promotion Executive",
                    "Computer and Information System Executive",
                    "Marketing and Sales Executive",
                    "Computer and Information System Executive",
                    "Advertising and Promotion Executive",
                    "Training and Development Executive",
                    "Computer and Information System Executive",
                    "Training and Development Executive",
                    "Top Executives",
                    "Computer and Information System Executive",
                    "Marketing and Sales Executive",
                    "Marketing and Sales Executive",
                    "Top Executives",
                    "Top Executives",
                    "Advertising and Promotion Executive",
                    "Marketing and Sales Executive",
                    "Training and Development Executive",
                    "Training and Development Executive",
                    "Marketing and Sales Executive",
                    "Advertising and Promotion Executive",
                    "Computer and Information System Executive",
                    "Training and Development Executive",
                    "Computer and Information System Executive",
                    "Training and Development Executive",
                    "Advertising and Promotion Executive",
                    "Computer and Information System Executive",
                    "Training and Development Executive",
                    "Marketing and Sales Executive",
                    "Training and Development Executive",
                    "Training and Development Executive",
                    "Top Executives",
                    "Marketing and Sales Executive",
                    "Top Executives",
                    "Advertising and Promotion Executive",
                    "Top Executives",
                    "Top Executives",
                    "Marketing and Sales Executive",
                    "Top Executives",
                    "Marketing and Sales Executive",
                    "Marketing and Sales Executive",
                    "Computer and Information System Executive",
                    "Training and Development Executive",
                    "Advertising and Promotion Executive",
                    "Training and Development Executive",
                    "Computer and Information System Executive",
                    "Top Executives",
                    "Training and Development Executive",
                    "Training and Development Executive",
                    "Top Executives",
                    "Computer and Information System Executive",
                    "Top Executives",
                    "Top Executives",
                    "Top Executives",
                    "Advertising and Promotion Executive",
                    "Advertising and Promotion Executive",
                    "Top Executives",
                    "Top Executives",
                    "Top Executives",
                    "Computer and Information System Executive",
                    "Computer and Information System Executive",
                    "Computer and Information System Executive",
                    "Advertising and Promotion Executive",
                    "Top Executives",
                    "Computer and Information System Executive",
                    "Top Executives",
                    "Training and Development Executive",
                    "Advertising and Promotion Executive",
                    "Training and Development Executive",
                    "Marketing and Sales Executive",
                    "Advertising and Promotion Executive",
                    "Training and Development Executive",
                    "Training and Development Executive",
                    "Advertising and Promotion Executive",
                    "Training and Development Executive",
                    "Training and Development Executive",
                    "Computer and Information System Executive",
                    "Top Executives"
                  ],
                  "xaxis": "x",
                  "y": [
                    2735,
                    2735,
                    2735,
                    2735,
                    2735,
                    2735,
                    2735,
                    2735,
                    2735,
                    2735,
                    2735,
                    2735,
                    2735,
                    2735,
                    2735,
                    2735,
                    2735,
                    2735,
                    2735,
                    2735,
                    2735,
                    2735,
                    2735,
                    2735,
                    2735,
                    2735,
                    2735,
                    2735,
                    2735,
                    2735,
                    2735,
                    2735,
                    2735,
                    2735,
                    2735,
                    2735,
                    2735,
                    2735,
                    2735,
                    2735,
                    2735,
                    2735,
                    2735,
                    2735,
                    2735,
                    2735,
                    2735,
                    2735,
                    2735,
                    2735,
                    2735,
                    2735,
                    2735,
                    2735,
                    2735,
                    2735,
                    2735,
                    2735,
                    2735,
                    2735,
                    2735,
                    2735,
                    2735,
                    2735,
                    2735,
                    2735,
                    2735,
                    2735,
                    2735,
                    2735,
                    2735,
                    2735,
                    2735,
                    2735,
                    2735,
                    2735,
                    2735,
                    2735,
                    2735,
                    2735,
                    2735,
                    2735,
                    2735,
                    2735,
                    2735,
                    2735,
                    2735,
                    2735,
                    2735,
                    2735,
                    2735,
                    2735,
                    2735,
                    2735,
                    2735,
                    2735,
                    2735,
                    2735,
                    2735,
                    2735,
                    2735,
                    2735,
                    2735,
                    2735,
                    2735,
                    2735,
                    2735,
                    2735,
                    2735,
                    2735,
                    2735,
                    2735,
                    2735,
                    2735,
                    2735,
                    2735,
                    2735,
                    2735,
                    2735,
                    2735,
                    2735
                  ],
                  "yaxis": "y"
                },
                {
                  "alignmentgroup": "True",
                  "hovertemplate": "Income Type=Upper Income_13675.0<br>Role=%{x}<br>Income=%{y}<extra></extra>",
                  "legendgroup": "Upper Income_13675.0",
                  "marker": {
                    "color": "#FF6692",
                    "pattern": {
                      "shape": ""
                    }
                  },
                  "name": "Upper Income_13675.0",
                  "offsetgroup": "Upper Income_13675.0",
                  "orientation": "v",
                  "showlegend": true,
                  "textposition": "auto",
                  "type": "bar",
                  "x": [
                    "Marketing and Sales Executive",
                    "Marketing and Sales Executive",
                    "Computer and Information System Executive",
                    "Computer and Information System Executive",
                    "Training and Development Executive",
                    "Advertising and Promotion Executive",
                    "Training and Development Executive",
                    "Training and Development Executive",
                    "Computer and Information System Executive",
                    "Advertising and Promotion Executive",
                    "Advertising and Promotion Executive",
                    "Marketing and Sales Executive",
                    "Marketing and Sales Executive",
                    "Computer and Information System Executive",
                    "Training and Development Executive",
                    "Top Executives",
                    "Advertising and Promotion Executive",
                    "Computer and Information System Executive",
                    "Marketing and Sales Executive",
                    "Top Executives",
                    "Advertising and Promotion Executive",
                    "Training and Development Executive",
                    "Computer and Information System Executive",
                    "Training and Development Executive",
                    "Advertising and Promotion Executive",
                    "Marketing and Sales Executive",
                    "Top Executives",
                    "Computer and Information System Executive",
                    "Top Executives",
                    "Advertising and Promotion Executive",
                    "Marketing and Sales Executive",
                    "Advertising and Promotion Executive",
                    "Training and Development Executive",
                    "Top Executives",
                    "Top Executives",
                    "Training and Development Executive",
                    "Training and Development Executive",
                    "Computer and Information System Executive",
                    "Advertising and Promotion Executive",
                    "Training and Development Executive",
                    "Marketing and Sales Executive",
                    "Top Executives",
                    "Advertising and Promotion Executive",
                    "Top Executives",
                    "Advertising and Promotion Executive",
                    "Computer and Information System Executive",
                    "Advertising and Promotion Executive",
                    "Marketing and Sales Executive",
                    "Training and Development Executive",
                    "Top Executives",
                    "Marketing and Sales Executive",
                    "Computer and Information System Executive",
                    "Top Executives",
                    "Marketing and Sales Executive",
                    "Training and Development Executive",
                    "Marketing and Sales Executive",
                    "Computer and Information System Executive",
                    "Training and Development Executive",
                    "Training and Development Executive",
                    "Training and Development Executive",
                    "Top Executives",
                    "Training and Development Executive",
                    "Advertising and Promotion Executive",
                    "Training and Development Executive",
                    "Computer and Information System Executive",
                    "Training and Development Executive",
                    "Marketing and Sales Executive",
                    "Top Executives",
                    "Training and Development Executive",
                    "Training and Development Executive",
                    "Marketing and Sales Executive",
                    "Marketing and Sales Executive",
                    "Advertising and Promotion Executive",
                    "Advertising and Promotion Executive",
                    "Computer and Information System Executive",
                    "Advertising and Promotion Executive",
                    "Computer and Information System Executive",
                    "Top Executives",
                    "Computer and Information System Executive",
                    "Top Executives",
                    "Top Executives",
                    "Marketing and Sales Executive",
                    "Advertising and Promotion Executive",
                    "Advertising and Promotion Executive",
                    "Top Executives",
                    "Marketing and Sales Executive",
                    "Top Executives",
                    "Marketing and Sales Executive",
                    "Computer and Information System Executive",
                    "Training and Development Executive",
                    "Advertising and Promotion Executive",
                    "Marketing and Sales Executive",
                    "Computer and Information System Executive",
                    "Marketing and Sales Executive",
                    "Computer and Information System Executive",
                    "Marketing and Sales Executive",
                    "Marketing and Sales Executive",
                    "Top Executives",
                    "Advertising and Promotion Executive",
                    "Advertising and Promotion Executive",
                    "Computer and Information System Executive",
                    "Top Executives",
                    "Computer and Information System Executive",
                    "Top Executives",
                    "Marketing and Sales Executive",
                    "Marketing and Sales Executive",
                    "Advertising and Promotion Executive",
                    "Advertising and Promotion Executive",
                    "Marketing and Sales Executive",
                    "Computer and Information System Executive",
                    "Computer and Information System Executive",
                    "Training and Development Executive",
                    "Top Executives",
                    "Marketing and Sales Executive"
                  ],
                  "xaxis": "x",
                  "y": [
                    13675,
                    13675,
                    13675,
                    13675,
                    13675,
                    13675,
                    13675,
                    13675,
                    13675,
                    13675,
                    13675,
                    13675,
                    13675,
                    13675,
                    13675,
                    13675,
                    13675,
                    13675,
                    13675,
                    13675,
                    13675,
                    13675,
                    13675,
                    13675,
                    13675,
                    13675,
                    13675,
                    13675,
                    13675,
                    13675,
                    13675,
                    13675,
                    13675,
                    13675,
                    13675,
                    13675,
                    13675,
                    13675,
                    13675,
                    13675,
                    13675,
                    13675,
                    13675,
                    13675,
                    13675,
                    13675,
                    13675,
                    13675,
                    13675,
                    13675,
                    13675,
                    13675,
                    13675,
                    13675,
                    13675,
                    13675,
                    13675,
                    13675,
                    13675,
                    13675,
                    13675,
                    13675,
                    13675,
                    13675,
                    13675,
                    13675,
                    13675,
                    13675,
                    13675,
                    13675,
                    13675,
                    13675,
                    13675,
                    13675,
                    13675,
                    13675,
                    13675,
                    13675,
                    13675,
                    13675,
                    13675,
                    13675,
                    13675,
                    13675,
                    13675,
                    13675,
                    13675,
                    13675,
                    13675,
                    13675,
                    13675,
                    13675,
                    13675,
                    13675,
                    13675,
                    13675,
                    13675,
                    13675,
                    13675,
                    13675,
                    13675,
                    13675,
                    13675,
                    13675,
                    13675,
                    13675,
                    13675,
                    13675,
                    13675,
                    13675,
                    13675,
                    13675,
                    13675,
                    13675
                  ],
                  "yaxis": "y"
                }
              ],
              "layout": {
                "barmode": "group",
                "legend": {
                  "title": {
                    "text": "Income Type"
                  },
                  "tracegroupgap": 0
                },
                "template": {
                  "data": {
                    "bar": [
                      {
                        "error_x": {
                          "color": "#2a3f5f"
                        },
                        "error_y": {
                          "color": "#2a3f5f"
                        },
                        "marker": {
                          "line": {
                            "color": "#E5ECF6",
                            "width": 0.5
                          },
                          "pattern": {
                            "fillmode": "overlay",
                            "size": 10,
                            "solidity": 0.2
                          }
                        },
                        "type": "bar"
                      }
                    ],
                    "barpolar": [
                      {
                        "marker": {
                          "line": {
                            "color": "#E5ECF6",
                            "width": 0.5
                          },
                          "pattern": {
                            "fillmode": "overlay",
                            "size": 10,
                            "solidity": 0.2
                          }
                        },
                        "type": "barpolar"
                      }
                    ],
                    "carpet": [
                      {
                        "aaxis": {
                          "endlinecolor": "#2a3f5f",
                          "gridcolor": "white",
                          "linecolor": "white",
                          "minorgridcolor": "white",
                          "startlinecolor": "#2a3f5f"
                        },
                        "baxis": {
                          "endlinecolor": "#2a3f5f",
                          "gridcolor": "white",
                          "linecolor": "white",
                          "minorgridcolor": "white",
                          "startlinecolor": "#2a3f5f"
                        },
                        "type": "carpet"
                      }
                    ],
                    "choropleth": [
                      {
                        "colorbar": {
                          "outlinewidth": 0,
                          "ticks": ""
                        },
                        "type": "choropleth"
                      }
                    ],
                    "contour": [
                      {
                        "colorbar": {
                          "outlinewidth": 0,
                          "ticks": ""
                        },
                        "colorscale": [
                          [
                            0,
                            "#0d0887"
                          ],
                          [
                            0.1111111111111111,
                            "#46039f"
                          ],
                          [
                            0.2222222222222222,
                            "#7201a8"
                          ],
                          [
                            0.3333333333333333,
                            "#9c179e"
                          ],
                          [
                            0.4444444444444444,
                            "#bd3786"
                          ],
                          [
                            0.5555555555555556,
                            "#d8576b"
                          ],
                          [
                            0.6666666666666666,
                            "#ed7953"
                          ],
                          [
                            0.7777777777777778,
                            "#fb9f3a"
                          ],
                          [
                            0.8888888888888888,
                            "#fdca26"
                          ],
                          [
                            1,
                            "#f0f921"
                          ]
                        ],
                        "type": "contour"
                      }
                    ],
                    "contourcarpet": [
                      {
                        "colorbar": {
                          "outlinewidth": 0,
                          "ticks": ""
                        },
                        "type": "contourcarpet"
                      }
                    ],
                    "heatmap": [
                      {
                        "colorbar": {
                          "outlinewidth": 0,
                          "ticks": ""
                        },
                        "colorscale": [
                          [
                            0,
                            "#0d0887"
                          ],
                          [
                            0.1111111111111111,
                            "#46039f"
                          ],
                          [
                            0.2222222222222222,
                            "#7201a8"
                          ],
                          [
                            0.3333333333333333,
                            "#9c179e"
                          ],
                          [
                            0.4444444444444444,
                            "#bd3786"
                          ],
                          [
                            0.5555555555555556,
                            "#d8576b"
                          ],
                          [
                            0.6666666666666666,
                            "#ed7953"
                          ],
                          [
                            0.7777777777777778,
                            "#fb9f3a"
                          ],
                          [
                            0.8888888888888888,
                            "#fdca26"
                          ],
                          [
                            1,
                            "#f0f921"
                          ]
                        ],
                        "type": "heatmap"
                      }
                    ],
                    "heatmapgl": [
                      {
                        "colorbar": {
                          "outlinewidth": 0,
                          "ticks": ""
                        },
                        "colorscale": [
                          [
                            0,
                            "#0d0887"
                          ],
                          [
                            0.1111111111111111,
                            "#46039f"
                          ],
                          [
                            0.2222222222222222,
                            "#7201a8"
                          ],
                          [
                            0.3333333333333333,
                            "#9c179e"
                          ],
                          [
                            0.4444444444444444,
                            "#bd3786"
                          ],
                          [
                            0.5555555555555556,
                            "#d8576b"
                          ],
                          [
                            0.6666666666666666,
                            "#ed7953"
                          ],
                          [
                            0.7777777777777778,
                            "#fb9f3a"
                          ],
                          [
                            0.8888888888888888,
                            "#fdca26"
                          ],
                          [
                            1,
                            "#f0f921"
                          ]
                        ],
                        "type": "heatmapgl"
                      }
                    ],
                    "histogram": [
                      {
                        "marker": {
                          "pattern": {
                            "fillmode": "overlay",
                            "size": 10,
                            "solidity": 0.2
                          }
                        },
                        "type": "histogram"
                      }
                    ],
                    "histogram2d": [
                      {
                        "colorbar": {
                          "outlinewidth": 0,
                          "ticks": ""
                        },
                        "colorscale": [
                          [
                            0,
                            "#0d0887"
                          ],
                          [
                            0.1111111111111111,
                            "#46039f"
                          ],
                          [
                            0.2222222222222222,
                            "#7201a8"
                          ],
                          [
                            0.3333333333333333,
                            "#9c179e"
                          ],
                          [
                            0.4444444444444444,
                            "#bd3786"
                          ],
                          [
                            0.5555555555555556,
                            "#d8576b"
                          ],
                          [
                            0.6666666666666666,
                            "#ed7953"
                          ],
                          [
                            0.7777777777777778,
                            "#fb9f3a"
                          ],
                          [
                            0.8888888888888888,
                            "#fdca26"
                          ],
                          [
                            1,
                            "#f0f921"
                          ]
                        ],
                        "type": "histogram2d"
                      }
                    ],
                    "histogram2dcontour": [
                      {
                        "colorbar": {
                          "outlinewidth": 0,
                          "ticks": ""
                        },
                        "colorscale": [
                          [
                            0,
                            "#0d0887"
                          ],
                          [
                            0.1111111111111111,
                            "#46039f"
                          ],
                          [
                            0.2222222222222222,
                            "#7201a8"
                          ],
                          [
                            0.3333333333333333,
                            "#9c179e"
                          ],
                          [
                            0.4444444444444444,
                            "#bd3786"
                          ],
                          [
                            0.5555555555555556,
                            "#d8576b"
                          ],
                          [
                            0.6666666666666666,
                            "#ed7953"
                          ],
                          [
                            0.7777777777777778,
                            "#fb9f3a"
                          ],
                          [
                            0.8888888888888888,
                            "#fdca26"
                          ],
                          [
                            1,
                            "#f0f921"
                          ]
                        ],
                        "type": "histogram2dcontour"
                      }
                    ],
                    "mesh3d": [
                      {
                        "colorbar": {
                          "outlinewidth": 0,
                          "ticks": ""
                        },
                        "type": "mesh3d"
                      }
                    ],
                    "parcoords": [
                      {
                        "line": {
                          "colorbar": {
                            "outlinewidth": 0,
                            "ticks": ""
                          }
                        },
                        "type": "parcoords"
                      }
                    ],
                    "pie": [
                      {
                        "automargin": true,
                        "type": "pie"
                      }
                    ],
                    "scatter": [
                      {
                        "fillpattern": {
                          "fillmode": "overlay",
                          "size": 10,
                          "solidity": 0.2
                        },
                        "type": "scatter"
                      }
                    ],
                    "scatter3d": [
                      {
                        "line": {
                          "colorbar": {
                            "outlinewidth": 0,
                            "ticks": ""
                          }
                        },
                        "marker": {
                          "colorbar": {
                            "outlinewidth": 0,
                            "ticks": ""
                          }
                        },
                        "type": "scatter3d"
                      }
                    ],
                    "scattercarpet": [
                      {
                        "marker": {
                          "colorbar": {
                            "outlinewidth": 0,
                            "ticks": ""
                          }
                        },
                        "type": "scattercarpet"
                      }
                    ],
                    "scattergeo": [
                      {
                        "marker": {
                          "colorbar": {
                            "outlinewidth": 0,
                            "ticks": ""
                          }
                        },
                        "type": "scattergeo"
                      }
                    ],
                    "scattergl": [
                      {
                        "marker": {
                          "colorbar": {
                            "outlinewidth": 0,
                            "ticks": ""
                          }
                        },
                        "type": "scattergl"
                      }
                    ],
                    "scattermapbox": [
                      {
                        "marker": {
                          "colorbar": {
                            "outlinewidth": 0,
                            "ticks": ""
                          }
                        },
                        "type": "scattermapbox"
                      }
                    ],
                    "scatterpolar": [
                      {
                        "marker": {
                          "colorbar": {
                            "outlinewidth": 0,
                            "ticks": ""
                          }
                        },
                        "type": "scatterpolar"
                      }
                    ],
                    "scatterpolargl": [
                      {
                        "marker": {
                          "colorbar": {
                            "outlinewidth": 0,
                            "ticks": ""
                          }
                        },
                        "type": "scatterpolargl"
                      }
                    ],
                    "scatterternary": [
                      {
                        "marker": {
                          "colorbar": {
                            "outlinewidth": 0,
                            "ticks": ""
                          }
                        },
                        "type": "scatterternary"
                      }
                    ],
                    "surface": [
                      {
                        "colorbar": {
                          "outlinewidth": 0,
                          "ticks": ""
                        },
                        "colorscale": [
                          [
                            0,
                            "#0d0887"
                          ],
                          [
                            0.1111111111111111,
                            "#46039f"
                          ],
                          [
                            0.2222222222222222,
                            "#7201a8"
                          ],
                          [
                            0.3333333333333333,
                            "#9c179e"
                          ],
                          [
                            0.4444444444444444,
                            "#bd3786"
                          ],
                          [
                            0.5555555555555556,
                            "#d8576b"
                          ],
                          [
                            0.6666666666666666,
                            "#ed7953"
                          ],
                          [
                            0.7777777777777778,
                            "#fb9f3a"
                          ],
                          [
                            0.8888888888888888,
                            "#fdca26"
                          ],
                          [
                            1,
                            "#f0f921"
                          ]
                        ],
                        "type": "surface"
                      }
                    ],
                    "table": [
                      {
                        "cells": {
                          "fill": {
                            "color": "#EBF0F8"
                          },
                          "line": {
                            "color": "white"
                          }
                        },
                        "header": {
                          "fill": {
                            "color": "#C8D4E3"
                          },
                          "line": {
                            "color": "white"
                          }
                        },
                        "type": "table"
                      }
                    ]
                  },
                  "layout": {
                    "annotationdefaults": {
                      "arrowcolor": "#2a3f5f",
                      "arrowhead": 0,
                      "arrowwidth": 1
                    },
                    "autotypenumbers": "strict",
                    "coloraxis": {
                      "colorbar": {
                        "outlinewidth": 0,
                        "ticks": ""
                      }
                    },
                    "colorscale": {
                      "diverging": [
                        [
                          0,
                          "#8e0152"
                        ],
                        [
                          0.1,
                          "#c51b7d"
                        ],
                        [
                          0.2,
                          "#de77ae"
                        ],
                        [
                          0.3,
                          "#f1b6da"
                        ],
                        [
                          0.4,
                          "#fde0ef"
                        ],
                        [
                          0.5,
                          "#f7f7f7"
                        ],
                        [
                          0.6,
                          "#e6f5d0"
                        ],
                        [
                          0.7,
                          "#b8e186"
                        ],
                        [
                          0.8,
                          "#7fbc41"
                        ],
                        [
                          0.9,
                          "#4d9221"
                        ],
                        [
                          1,
                          "#276419"
                        ]
                      ],
                      "sequential": [
                        [
                          0,
                          "#0d0887"
                        ],
                        [
                          0.1111111111111111,
                          "#46039f"
                        ],
                        [
                          0.2222222222222222,
                          "#7201a8"
                        ],
                        [
                          0.3333333333333333,
                          "#9c179e"
                        ],
                        [
                          0.4444444444444444,
                          "#bd3786"
                        ],
                        [
                          0.5555555555555556,
                          "#d8576b"
                        ],
                        [
                          0.6666666666666666,
                          "#ed7953"
                        ],
                        [
                          0.7777777777777778,
                          "#fb9f3a"
                        ],
                        [
                          0.8888888888888888,
                          "#fdca26"
                        ],
                        [
                          1,
                          "#f0f921"
                        ]
                      ],
                      "sequentialminus": [
                        [
                          0,
                          "#0d0887"
                        ],
                        [
                          0.1111111111111111,
                          "#46039f"
                        ],
                        [
                          0.2222222222222222,
                          "#7201a8"
                        ],
                        [
                          0.3333333333333333,
                          "#9c179e"
                        ],
                        [
                          0.4444444444444444,
                          "#bd3786"
                        ],
                        [
                          0.5555555555555556,
                          "#d8576b"
                        ],
                        [
                          0.6666666666666666,
                          "#ed7953"
                        ],
                        [
                          0.7777777777777778,
                          "#fb9f3a"
                        ],
                        [
                          0.8888888888888888,
                          "#fdca26"
                        ],
                        [
                          1,
                          "#f0f921"
                        ]
                      ]
                    },
                    "colorway": [
                      "#636efa",
                      "#EF553B",
                      "#00cc96",
                      "#ab63fa",
                      "#FFA15A",
                      "#19d3f3",
                      "#FF6692",
                      "#B6E880",
                      "#FF97FF",
                      "#FECB52"
                    ],
                    "font": {
                      "color": "#2a3f5f"
                    },
                    "geo": {
                      "bgcolor": "white",
                      "lakecolor": "white",
                      "landcolor": "#E5ECF6",
                      "showlakes": true,
                      "showland": true,
                      "subunitcolor": "white"
                    },
                    "hoverlabel": {
                      "align": "left"
                    },
                    "hovermode": "closest",
                    "mapbox": {
                      "style": "light"
                    },
                    "paper_bgcolor": "white",
                    "plot_bgcolor": "#E5ECF6",
                    "polar": {
                      "angularaxis": {
                        "gridcolor": "white",
                        "linecolor": "white",
                        "ticks": ""
                      },
                      "bgcolor": "#E5ECF6",
                      "radialaxis": {
                        "gridcolor": "white",
                        "linecolor": "white",
                        "ticks": ""
                      }
                    },
                    "scene": {
                      "xaxis": {
                        "backgroundcolor": "#E5ECF6",
                        "gridcolor": "white",
                        "gridwidth": 2,
                        "linecolor": "white",
                        "showbackground": true,
                        "ticks": "",
                        "zerolinecolor": "white"
                      },
                      "yaxis": {
                        "backgroundcolor": "#E5ECF6",
                        "gridcolor": "white",
                        "gridwidth": 2,
                        "linecolor": "white",
                        "showbackground": true,
                        "ticks": "",
                        "zerolinecolor": "white"
                      },
                      "zaxis": {
                        "backgroundcolor": "#E5ECF6",
                        "gridcolor": "white",
                        "gridwidth": 2,
                        "linecolor": "white",
                        "showbackground": true,
                        "ticks": "",
                        "zerolinecolor": "white"
                      }
                    },
                    "shapedefaults": {
                      "line": {
                        "color": "#2a3f5f"
                      }
                    },
                    "ternary": {
                      "aaxis": {
                        "gridcolor": "white",
                        "linecolor": "white",
                        "ticks": ""
                      },
                      "baxis": {
                        "gridcolor": "white",
                        "linecolor": "white",
                        "ticks": ""
                      },
                      "bgcolor": "#E5ECF6",
                      "caxis": {
                        "gridcolor": "white",
                        "linecolor": "white",
                        "ticks": ""
                      }
                    },
                    "title": {
                      "x": 0.05
                    },
                    "xaxis": {
                      "automargin": true,
                      "gridcolor": "white",
                      "linecolor": "white",
                      "ticks": "",
                      "title": {
                        "standoff": 15
                      },
                      "zerolinecolor": "white",
                      "zerolinewidth": 2
                    },
                    "yaxis": {
                      "automargin": true,
                      "gridcolor": "white",
                      "linecolor": "white",
                      "ticks": "",
                      "title": {
                        "standoff": 15
                      },
                      "zerolinecolor": "white",
                      "zerolinewidth": 2
                    }
                  }
                },
                "title": {
                  "text": "Clustered Column Chart - Role vs. Upper Income"
                },
                "xaxis": {
                  "anchor": "y",
                  "domain": [
                    0,
                    1
                  ],
                  "title": {
                    "text": "Role"
                  }
                },
                "yaxis": {
                  "anchor": "x",
                  "domain": [
                    0,
                    1
                  ],
                  "title": {
                    "text": "Income"
                  }
                }
              }
            }
          },
          "metadata": {},
          "output_type": "display_data"
        }
      ],
      "source": [
        "selected_df = df.loc[:, ['Role', 'Upper Income']]\n",
        "\n",
        "# Melt the DataFrame to create a long-form DataFrame for Plotly Express\n",
        "melted_df = selected_df.melt(id_vars='Role', var_name='Income Type', value_name='Income')\n",
        "\n",
        "# Split 'Lower Income' into separate bars based on income values\n",
        "melted_df['Income Type'] = melted_df['Income Type'] + '_' + melted_df['Income'].astype(str)\n",
        "\n",
        "# Create clustered column chart with no separators within bars\n",
        "clustered_fig = px.bar(melted_df, x='Role', y='Income', color='Income Type',\n",
        "                        barmode='group', title='Clustered Column Chart - Role vs. Upper Income')\n",
        "\n",
        "\n",
        "# Show the plot\n",
        "clustered_fig.show()"
      ]
    },
    {
      "cell_type": "code",
      "execution_count": 28,
      "metadata": {
        "id": "JvBOLNNsfiwx"
      },
      "outputs": [
        {
          "data": {
            "application/vnd.plotly.v1+json": {
              "config": {
                "plotlyServerURL": "https://plot.ly"
              },
              "data": [
                {
                  "branchvalues": "total",
                  "domain": {
                    "x": [
                      0,
                      1
                    ],
                    "y": [
                      0,
                      1
                    ]
                  },
                  "hovertemplate": "labels=%{label}<br>Number of investors in family=%{value}<br>parent=%{parent}<br>id=%{id}<extra></extra>",
                  "ids": [
                    "Houston/1",
                    "Memphis/1",
                    "New York/1",
                    "San Francisco/1",
                    "Seattle/1",
                    "Houston/2",
                    "Memphis/2",
                    "New York/2",
                    "San Francisco/2",
                    "Seattle/2",
                    "Houston/3",
                    "Memphis/3",
                    "New York/3",
                    "San Francisco/3",
                    "Seattle/3",
                    "Houston/4",
                    "Memphis/4",
                    "New York/4",
                    "San Francisco/4",
                    "Seattle/4",
                    "Houston/5",
                    "Memphis/5",
                    "New York/5",
                    "San Francisco/5",
                    "Seattle/5",
                    "Houston",
                    "Memphis",
                    "New York",
                    "San Francisco",
                    "Seattle"
                  ],
                  "labels": [
                    "1",
                    "1",
                    "1",
                    "1",
                    "1",
                    "2",
                    "2",
                    "2",
                    "2",
                    "2",
                    "3",
                    "3",
                    "3",
                    "3",
                    "3",
                    "4",
                    "4",
                    "4",
                    "4",
                    "4",
                    "5",
                    "5",
                    "5",
                    "5",
                    "5",
                    "Houston",
                    "Memphis",
                    "New York",
                    "San Francisco",
                    "Seattle"
                  ],
                  "name": "",
                  "parents": [
                    "Houston",
                    "Memphis",
                    "New York",
                    "San Francisco",
                    "Seattle",
                    "Houston",
                    "Memphis",
                    "New York",
                    "San Francisco",
                    "Seattle",
                    "Houston",
                    "Memphis",
                    "New York",
                    "San Francisco",
                    "Seattle",
                    "Houston",
                    "Memphis",
                    "New York",
                    "San Francisco",
                    "Seattle",
                    "Houston",
                    "Memphis",
                    "New York",
                    "San Francisco",
                    "Seattle",
                    "",
                    "",
                    "",
                    "",
                    ""
                  ],
                  "type": "sunburst",
                  "values": [
                    38,
                    34,
                    34,
                    37,
                    26,
                    90,
                    60,
                    64,
                    48,
                    60,
                    111,
                    102,
                    81,
                    108,
                    96,
                    164,
                    116,
                    116,
                    148,
                    108,
                    145,
                    135,
                    140,
                    175,
                    160,
                    548,
                    447,
                    435,
                    516,
                    450
                  ]
                }
              ],
              "layout": {
                "legend": {
                  "tracegroupgap": 0
                },
                "template": {
                  "data": {
                    "bar": [
                      {
                        "error_x": {
                          "color": "#2a3f5f"
                        },
                        "error_y": {
                          "color": "#2a3f5f"
                        },
                        "marker": {
                          "line": {
                            "color": "#E5ECF6",
                            "width": 0.5
                          },
                          "pattern": {
                            "fillmode": "overlay",
                            "size": 10,
                            "solidity": 0.2
                          }
                        },
                        "type": "bar"
                      }
                    ],
                    "barpolar": [
                      {
                        "marker": {
                          "line": {
                            "color": "#E5ECF6",
                            "width": 0.5
                          },
                          "pattern": {
                            "fillmode": "overlay",
                            "size": 10,
                            "solidity": 0.2
                          }
                        },
                        "type": "barpolar"
                      }
                    ],
                    "carpet": [
                      {
                        "aaxis": {
                          "endlinecolor": "#2a3f5f",
                          "gridcolor": "white",
                          "linecolor": "white",
                          "minorgridcolor": "white",
                          "startlinecolor": "#2a3f5f"
                        },
                        "baxis": {
                          "endlinecolor": "#2a3f5f",
                          "gridcolor": "white",
                          "linecolor": "white",
                          "minorgridcolor": "white",
                          "startlinecolor": "#2a3f5f"
                        },
                        "type": "carpet"
                      }
                    ],
                    "choropleth": [
                      {
                        "colorbar": {
                          "outlinewidth": 0,
                          "ticks": ""
                        },
                        "type": "choropleth"
                      }
                    ],
                    "contour": [
                      {
                        "colorbar": {
                          "outlinewidth": 0,
                          "ticks": ""
                        },
                        "colorscale": [
                          [
                            0,
                            "#0d0887"
                          ],
                          [
                            0.1111111111111111,
                            "#46039f"
                          ],
                          [
                            0.2222222222222222,
                            "#7201a8"
                          ],
                          [
                            0.3333333333333333,
                            "#9c179e"
                          ],
                          [
                            0.4444444444444444,
                            "#bd3786"
                          ],
                          [
                            0.5555555555555556,
                            "#d8576b"
                          ],
                          [
                            0.6666666666666666,
                            "#ed7953"
                          ],
                          [
                            0.7777777777777778,
                            "#fb9f3a"
                          ],
                          [
                            0.8888888888888888,
                            "#fdca26"
                          ],
                          [
                            1,
                            "#f0f921"
                          ]
                        ],
                        "type": "contour"
                      }
                    ],
                    "contourcarpet": [
                      {
                        "colorbar": {
                          "outlinewidth": 0,
                          "ticks": ""
                        },
                        "type": "contourcarpet"
                      }
                    ],
                    "heatmap": [
                      {
                        "colorbar": {
                          "outlinewidth": 0,
                          "ticks": ""
                        },
                        "colorscale": [
                          [
                            0,
                            "#0d0887"
                          ],
                          [
                            0.1111111111111111,
                            "#46039f"
                          ],
                          [
                            0.2222222222222222,
                            "#7201a8"
                          ],
                          [
                            0.3333333333333333,
                            "#9c179e"
                          ],
                          [
                            0.4444444444444444,
                            "#bd3786"
                          ],
                          [
                            0.5555555555555556,
                            "#d8576b"
                          ],
                          [
                            0.6666666666666666,
                            "#ed7953"
                          ],
                          [
                            0.7777777777777778,
                            "#fb9f3a"
                          ],
                          [
                            0.8888888888888888,
                            "#fdca26"
                          ],
                          [
                            1,
                            "#f0f921"
                          ]
                        ],
                        "type": "heatmap"
                      }
                    ],
                    "heatmapgl": [
                      {
                        "colorbar": {
                          "outlinewidth": 0,
                          "ticks": ""
                        },
                        "colorscale": [
                          [
                            0,
                            "#0d0887"
                          ],
                          [
                            0.1111111111111111,
                            "#46039f"
                          ],
                          [
                            0.2222222222222222,
                            "#7201a8"
                          ],
                          [
                            0.3333333333333333,
                            "#9c179e"
                          ],
                          [
                            0.4444444444444444,
                            "#bd3786"
                          ],
                          [
                            0.5555555555555556,
                            "#d8576b"
                          ],
                          [
                            0.6666666666666666,
                            "#ed7953"
                          ],
                          [
                            0.7777777777777778,
                            "#fb9f3a"
                          ],
                          [
                            0.8888888888888888,
                            "#fdca26"
                          ],
                          [
                            1,
                            "#f0f921"
                          ]
                        ],
                        "type": "heatmapgl"
                      }
                    ],
                    "histogram": [
                      {
                        "marker": {
                          "pattern": {
                            "fillmode": "overlay",
                            "size": 10,
                            "solidity": 0.2
                          }
                        },
                        "type": "histogram"
                      }
                    ],
                    "histogram2d": [
                      {
                        "colorbar": {
                          "outlinewidth": 0,
                          "ticks": ""
                        },
                        "colorscale": [
                          [
                            0,
                            "#0d0887"
                          ],
                          [
                            0.1111111111111111,
                            "#46039f"
                          ],
                          [
                            0.2222222222222222,
                            "#7201a8"
                          ],
                          [
                            0.3333333333333333,
                            "#9c179e"
                          ],
                          [
                            0.4444444444444444,
                            "#bd3786"
                          ],
                          [
                            0.5555555555555556,
                            "#d8576b"
                          ],
                          [
                            0.6666666666666666,
                            "#ed7953"
                          ],
                          [
                            0.7777777777777778,
                            "#fb9f3a"
                          ],
                          [
                            0.8888888888888888,
                            "#fdca26"
                          ],
                          [
                            1,
                            "#f0f921"
                          ]
                        ],
                        "type": "histogram2d"
                      }
                    ],
                    "histogram2dcontour": [
                      {
                        "colorbar": {
                          "outlinewidth": 0,
                          "ticks": ""
                        },
                        "colorscale": [
                          [
                            0,
                            "#0d0887"
                          ],
                          [
                            0.1111111111111111,
                            "#46039f"
                          ],
                          [
                            0.2222222222222222,
                            "#7201a8"
                          ],
                          [
                            0.3333333333333333,
                            "#9c179e"
                          ],
                          [
                            0.4444444444444444,
                            "#bd3786"
                          ],
                          [
                            0.5555555555555556,
                            "#d8576b"
                          ],
                          [
                            0.6666666666666666,
                            "#ed7953"
                          ],
                          [
                            0.7777777777777778,
                            "#fb9f3a"
                          ],
                          [
                            0.8888888888888888,
                            "#fdca26"
                          ],
                          [
                            1,
                            "#f0f921"
                          ]
                        ],
                        "type": "histogram2dcontour"
                      }
                    ],
                    "mesh3d": [
                      {
                        "colorbar": {
                          "outlinewidth": 0,
                          "ticks": ""
                        },
                        "type": "mesh3d"
                      }
                    ],
                    "parcoords": [
                      {
                        "line": {
                          "colorbar": {
                            "outlinewidth": 0,
                            "ticks": ""
                          }
                        },
                        "type": "parcoords"
                      }
                    ],
                    "pie": [
                      {
                        "automargin": true,
                        "type": "pie"
                      }
                    ],
                    "scatter": [
                      {
                        "fillpattern": {
                          "fillmode": "overlay",
                          "size": 10,
                          "solidity": 0.2
                        },
                        "type": "scatter"
                      }
                    ],
                    "scatter3d": [
                      {
                        "line": {
                          "colorbar": {
                            "outlinewidth": 0,
                            "ticks": ""
                          }
                        },
                        "marker": {
                          "colorbar": {
                            "outlinewidth": 0,
                            "ticks": ""
                          }
                        },
                        "type": "scatter3d"
                      }
                    ],
                    "scattercarpet": [
                      {
                        "marker": {
                          "colorbar": {
                            "outlinewidth": 0,
                            "ticks": ""
                          }
                        },
                        "type": "scattercarpet"
                      }
                    ],
                    "scattergeo": [
                      {
                        "marker": {
                          "colorbar": {
                            "outlinewidth": 0,
                            "ticks": ""
                          }
                        },
                        "type": "scattergeo"
                      }
                    ],
                    "scattergl": [
                      {
                        "marker": {
                          "colorbar": {
                            "outlinewidth": 0,
                            "ticks": ""
                          }
                        },
                        "type": "scattergl"
                      }
                    ],
                    "scattermapbox": [
                      {
                        "marker": {
                          "colorbar": {
                            "outlinewidth": 0,
                            "ticks": ""
                          }
                        },
                        "type": "scattermapbox"
                      }
                    ],
                    "scatterpolar": [
                      {
                        "marker": {
                          "colorbar": {
                            "outlinewidth": 0,
                            "ticks": ""
                          }
                        },
                        "type": "scatterpolar"
                      }
                    ],
                    "scatterpolargl": [
                      {
                        "marker": {
                          "colorbar": {
                            "outlinewidth": 0,
                            "ticks": ""
                          }
                        },
                        "type": "scatterpolargl"
                      }
                    ],
                    "scatterternary": [
                      {
                        "marker": {
                          "colorbar": {
                            "outlinewidth": 0,
                            "ticks": ""
                          }
                        },
                        "type": "scatterternary"
                      }
                    ],
                    "surface": [
                      {
                        "colorbar": {
                          "outlinewidth": 0,
                          "ticks": ""
                        },
                        "colorscale": [
                          [
                            0,
                            "#0d0887"
                          ],
                          [
                            0.1111111111111111,
                            "#46039f"
                          ],
                          [
                            0.2222222222222222,
                            "#7201a8"
                          ],
                          [
                            0.3333333333333333,
                            "#9c179e"
                          ],
                          [
                            0.4444444444444444,
                            "#bd3786"
                          ],
                          [
                            0.5555555555555556,
                            "#d8576b"
                          ],
                          [
                            0.6666666666666666,
                            "#ed7953"
                          ],
                          [
                            0.7777777777777778,
                            "#fb9f3a"
                          ],
                          [
                            0.8888888888888888,
                            "#fdca26"
                          ],
                          [
                            1,
                            "#f0f921"
                          ]
                        ],
                        "type": "surface"
                      }
                    ],
                    "table": [
                      {
                        "cells": {
                          "fill": {
                            "color": "#EBF0F8"
                          },
                          "line": {
                            "color": "white"
                          }
                        },
                        "header": {
                          "fill": {
                            "color": "#C8D4E3"
                          },
                          "line": {
                            "color": "white"
                          }
                        },
                        "type": "table"
                      }
                    ]
                  },
                  "layout": {
                    "annotationdefaults": {
                      "arrowcolor": "#2a3f5f",
                      "arrowhead": 0,
                      "arrowwidth": 1
                    },
                    "autotypenumbers": "strict",
                    "coloraxis": {
                      "colorbar": {
                        "outlinewidth": 0,
                        "ticks": ""
                      }
                    },
                    "colorscale": {
                      "diverging": [
                        [
                          0,
                          "#8e0152"
                        ],
                        [
                          0.1,
                          "#c51b7d"
                        ],
                        [
                          0.2,
                          "#de77ae"
                        ],
                        [
                          0.3,
                          "#f1b6da"
                        ],
                        [
                          0.4,
                          "#fde0ef"
                        ],
                        [
                          0.5,
                          "#f7f7f7"
                        ],
                        [
                          0.6,
                          "#e6f5d0"
                        ],
                        [
                          0.7,
                          "#b8e186"
                        ],
                        [
                          0.8,
                          "#7fbc41"
                        ],
                        [
                          0.9,
                          "#4d9221"
                        ],
                        [
                          1,
                          "#276419"
                        ]
                      ],
                      "sequential": [
                        [
                          0,
                          "#0d0887"
                        ],
                        [
                          0.1111111111111111,
                          "#46039f"
                        ],
                        [
                          0.2222222222222222,
                          "#7201a8"
                        ],
                        [
                          0.3333333333333333,
                          "#9c179e"
                        ],
                        [
                          0.4444444444444444,
                          "#bd3786"
                        ],
                        [
                          0.5555555555555556,
                          "#d8576b"
                        ],
                        [
                          0.6666666666666666,
                          "#ed7953"
                        ],
                        [
                          0.7777777777777778,
                          "#fb9f3a"
                        ],
                        [
                          0.8888888888888888,
                          "#fdca26"
                        ],
                        [
                          1,
                          "#f0f921"
                        ]
                      ],
                      "sequentialminus": [
                        [
                          0,
                          "#0d0887"
                        ],
                        [
                          0.1111111111111111,
                          "#46039f"
                        ],
                        [
                          0.2222222222222222,
                          "#7201a8"
                        ],
                        [
                          0.3333333333333333,
                          "#9c179e"
                        ],
                        [
                          0.4444444444444444,
                          "#bd3786"
                        ],
                        [
                          0.5555555555555556,
                          "#d8576b"
                        ],
                        [
                          0.6666666666666666,
                          "#ed7953"
                        ],
                        [
                          0.7777777777777778,
                          "#fb9f3a"
                        ],
                        [
                          0.8888888888888888,
                          "#fdca26"
                        ],
                        [
                          1,
                          "#f0f921"
                        ]
                      ]
                    },
                    "colorway": [
                      "#636efa",
                      "#EF553B",
                      "#00cc96",
                      "#ab63fa",
                      "#FFA15A",
                      "#19d3f3",
                      "#FF6692",
                      "#B6E880",
                      "#FF97FF",
                      "#FECB52"
                    ],
                    "font": {
                      "color": "#2a3f5f"
                    },
                    "geo": {
                      "bgcolor": "white",
                      "lakecolor": "white",
                      "landcolor": "#E5ECF6",
                      "showlakes": true,
                      "showland": true,
                      "subunitcolor": "white"
                    },
                    "hoverlabel": {
                      "align": "left"
                    },
                    "hovermode": "closest",
                    "mapbox": {
                      "style": "light"
                    },
                    "paper_bgcolor": "white",
                    "plot_bgcolor": "#E5ECF6",
                    "polar": {
                      "angularaxis": {
                        "gridcolor": "white",
                        "linecolor": "white",
                        "ticks": ""
                      },
                      "bgcolor": "#E5ECF6",
                      "radialaxis": {
                        "gridcolor": "white",
                        "linecolor": "white",
                        "ticks": ""
                      }
                    },
                    "scene": {
                      "xaxis": {
                        "backgroundcolor": "#E5ECF6",
                        "gridcolor": "white",
                        "gridwidth": 2,
                        "linecolor": "white",
                        "showbackground": true,
                        "ticks": "",
                        "zerolinecolor": "white"
                      },
                      "yaxis": {
                        "backgroundcolor": "#E5ECF6",
                        "gridcolor": "white",
                        "gridwidth": 2,
                        "linecolor": "white",
                        "showbackground": true,
                        "ticks": "",
                        "zerolinecolor": "white"
                      },
                      "zaxis": {
                        "backgroundcolor": "#E5ECF6",
                        "gridcolor": "white",
                        "gridwidth": 2,
                        "linecolor": "white",
                        "showbackground": true,
                        "ticks": "",
                        "zerolinecolor": "white"
                      }
                    },
                    "shapedefaults": {
                      "line": {
                        "color": "#2a3f5f"
                      }
                    },
                    "ternary": {
                      "aaxis": {
                        "gridcolor": "white",
                        "linecolor": "white",
                        "ticks": ""
                      },
                      "baxis": {
                        "gridcolor": "white",
                        "linecolor": "white",
                        "ticks": ""
                      },
                      "bgcolor": "#E5ECF6",
                      "caxis": {
                        "gridcolor": "white",
                        "linecolor": "white",
                        "ticks": ""
                      }
                    },
                    "title": {
                      "x": 0.05
                    },
                    "xaxis": {
                      "automargin": true,
                      "gridcolor": "white",
                      "linecolor": "white",
                      "ticks": "",
                      "title": {
                        "standoff": 15
                      },
                      "zerolinecolor": "white",
                      "zerolinewidth": 2
                    },
                    "yaxis": {
                      "automargin": true,
                      "gridcolor": "white",
                      "linecolor": "white",
                      "ticks": "",
                      "title": {
                        "standoff": 15
                      },
                      "zerolinecolor": "white",
                      "zerolinewidth": 2
                    }
                  }
                },
                "title": {
                  "text": "Sunburst Chart - City and Number of Investors"
                }
              }
            }
          },
          "metadata": {},
          "output_type": "display_data"
        }
      ],
      "source": [
        "sunburst_fig = px.sunburst(data, path=['City', 'Number of investors in family'], values='Number of investors in family',\n",
        "                            title='Sunburst Chart - City and Number of Investors')\n",
        "\n",
        "# Show the plot\n",
        "sunburst_fig.show()"
      ]
    },
    {
      "cell_type": "code",
      "execution_count": 29,
      "metadata": {},
      "outputs": [
        {
          "name": "stdout",
          "output_type": "stream",
          "text": [
            "   index  Lower Percentage\n",
            "0   27.0               130\n",
            "1    0.0               122\n",
            "2    6.0               122\n",
            "3   21.0               117\n",
            "4   11.0               113\n",
            "5   13.6               104\n",
            "6   16.0               102\n",
            "   index  Upper Percentage\n",
            "0   26.0               130\n",
            "1    5.0               122\n",
            "2   10.0               122\n",
            "3   25.0               117\n",
            "4   15.0               113\n",
            "5   16.8               104\n",
            "6   20.0               102\n"
          ]
        }
      ],
      "source": [
        "low = df['Lower Percentage'].value_counts().reset_index()\n",
        "print(low)\n",
        "\n",
        "high=df['Upper Percentage'].value_counts().reset_index()\n",
        "print(high)"
      ]
    },
    {
      "cell_type": "code",
      "execution_count": 30,
      "metadata": {},
      "outputs": [
        {
          "data": {
            "application/vnd.plotly.v1+json": {
              "config": {
                "plotlyServerURL": "https://plot.ly"
              },
              "data": [
                {
                  "alignmentgroup": "True",
                  "hovertemplate": "variable=Lower Percentage<br>City=%{x}<br>value=%{y}<extra></extra>",
                  "legendgroup": "Lower Percentage",
                  "marker": {
                    "color": "#636efa",
                    "pattern": {
                      "shape": ""
                    }
                  },
                  "name": "Lower Percentage",
                  "offsetgroup": "Lower Percentage",
                  "orientation": "v",
                  "showlegend": true,
                  "textposition": "auto",
                  "type": "bar",
                  "x": [
                    "New York",
                    "New York",
                    "Seattle",
                    "San Francisco",
                    "San Francisco",
                    "Memphis",
                    "Seattle",
                    "Houston",
                    "San Francisco",
                    "San Francisco",
                    "San Francisco",
                    "New York",
                    "New York",
                    "Seattle",
                    "Seattle",
                    "San Francisco",
                    "New York",
                    "Memphis",
                    "San Francisco",
                    "Houston",
                    "Houston",
                    "Seattle",
                    "Seattle",
                    "Houston",
                    "New York",
                    "Memphis",
                    "New York",
                    "Seattle",
                    "Memphis",
                    "San Francisco",
                    "Memphis",
                    "New York",
                    "Memphis",
                    "Houston",
                    "New York",
                    "New York",
                    "Seattle",
                    "Houston",
                    "Seattle",
                    "Memphis",
                    "Seattle",
                    "Seattle",
                    "San Francisco",
                    "Houston",
                    "Houston",
                    "New York",
                    "New York",
                    "Memphis",
                    "Houston",
                    "Seattle",
                    "Memphis",
                    "Seattle",
                    "Houston",
                    "Memphis",
                    "New York",
                    "Seattle",
                    "San Francisco",
                    "Seattle",
                    "Memphis",
                    "New York",
                    "Houston",
                    "San Francisco",
                    "Houston",
                    "Houston",
                    "Houston",
                    "San Francisco",
                    "New York",
                    "Memphis",
                    "New York",
                    "Houston",
                    "San Francisco",
                    "San Francisco",
                    "New York",
                    "New York",
                    "New York",
                    "San Francisco",
                    "New York",
                    "Houston",
                    "Houston",
                    "San Francisco",
                    "San Francisco",
                    "San Francisco",
                    "Memphis",
                    "Houston",
                    "Houston",
                    "San Francisco",
                    "Seattle",
                    "Memphis",
                    "Seattle",
                    "San Francisco",
                    "Seattle",
                    "San Francisco",
                    "Houston",
                    "New York",
                    "San Francisco",
                    "Houston",
                    "Seattle",
                    "San Francisco",
                    "San Francisco",
                    "Memphis",
                    "Memphis",
                    "New York",
                    "New York",
                    "Houston",
                    "Houston",
                    "Memphis",
                    "Houston",
                    "San Francisco",
                    "Seattle",
                    "San Francisco",
                    "Seattle",
                    "Seattle",
                    "San Francisco",
                    "Houston",
                    "Houston",
                    "Memphis",
                    "Memphis",
                    "Memphis",
                    "San Francisco",
                    "Houston",
                    "Houston",
                    "Memphis",
                    "San Francisco",
                    "San Francisco",
                    "Houston",
                    "New York",
                    "San Francisco",
                    "New York",
                    "San Francisco",
                    "Memphis",
                    "San Francisco",
                    "Houston",
                    "San Francisco",
                    "San Francisco",
                    "San Francisco",
                    "New York",
                    "Seattle",
                    "Seattle",
                    "Houston",
                    "Houston",
                    "San Francisco",
                    "Seattle",
                    "Memphis",
                    "Memphis",
                    "San Francisco",
                    "San Francisco",
                    "Houston",
                    "Houston",
                    "Houston",
                    "Seattle",
                    "Houston",
                    "San Francisco",
                    "New York",
                    "Memphis",
                    "San Francisco",
                    "Seattle",
                    "Memphis",
                    "New York",
                    "Seattle",
                    "Memphis",
                    "San Francisco",
                    "New York",
                    "Seattle",
                    "Memphis",
                    "Memphis",
                    "Houston",
                    "Houston",
                    "Houston",
                    "Houston",
                    "Memphis",
                    "San Francisco",
                    "New York",
                    "San Francisco",
                    "Seattle",
                    "San Francisco",
                    "New York",
                    "Memphis",
                    "Memphis",
                    "Seattle",
                    "New York",
                    "Houston",
                    "Houston",
                    "Seattle",
                    "San Francisco",
                    "Houston",
                    "Memphis",
                    "New York",
                    "San Francisco",
                    "Houston",
                    "Houston",
                    "New York",
                    "San Francisco",
                    "Houston",
                    "Memphis",
                    "New York",
                    "Houston",
                    "New York",
                    "Memphis",
                    "New York",
                    "San Francisco",
                    "Seattle",
                    "New York",
                    "Seattle",
                    "Memphis",
                    "Memphis",
                    "Memphis",
                    "Houston",
                    "New York",
                    "New York",
                    "San Francisco",
                    "Memphis",
                    "Houston",
                    "New York",
                    "New York",
                    "Seattle",
                    "Seattle",
                    "San Francisco",
                    "Seattle",
                    "Houston",
                    "Memphis",
                    "Seattle",
                    "Houston",
                    "New York",
                    "Houston",
                    "Memphis",
                    "New York",
                    "Seattle",
                    "San Francisco",
                    "Memphis",
                    "New York",
                    "Seattle",
                    "Seattle",
                    "Seattle",
                    "Houston",
                    "Houston",
                    "Seattle",
                    "San Francisco",
                    "Memphis",
                    "Seattle",
                    "Houston",
                    "San Francisco",
                    "Houston",
                    "San Francisco",
                    "Memphis",
                    "Houston",
                    "Memphis",
                    "New York",
                    "Memphis",
                    "New York",
                    "Memphis",
                    "Memphis",
                    "San Francisco",
                    "Houston",
                    "Houston",
                    "Memphis",
                    "Houston",
                    "Houston",
                    "Memphis",
                    "Seattle",
                    "Houston",
                    "Houston",
                    "Memphis",
                    "New York",
                    "Seattle",
                    "Seattle",
                    "Seattle",
                    "New York",
                    "Memphis",
                    "Houston",
                    "Houston",
                    "Memphis",
                    "San Francisco",
                    "Seattle",
                    "Memphis",
                    "New York",
                    "Memphis",
                    "Seattle",
                    "Houston",
                    "Houston",
                    "Houston",
                    "San Francisco",
                    "Houston",
                    "Houston",
                    "New York",
                    "Houston",
                    "Houston",
                    "Seattle",
                    "Memphis",
                    "New York",
                    "Seattle",
                    "Memphis",
                    "San Francisco",
                    "Houston",
                    "Seattle",
                    "San Francisco",
                    "New York",
                    "New York",
                    "Seattle",
                    "Houston",
                    "Seattle",
                    "Memphis",
                    "New York",
                    "New York",
                    "San Francisco",
                    "San Francisco",
                    "San Francisco",
                    "Memphis",
                    "Memphis",
                    "Houston",
                    "New York",
                    "Houston",
                    "San Francisco",
                    "Houston",
                    "San Francisco",
                    "Houston",
                    "Houston",
                    "Houston",
                    "Memphis",
                    "New York",
                    "Seattle",
                    "Houston",
                    "San Francisco",
                    "Houston",
                    "Houston",
                    "Houston",
                    "San Francisco",
                    "San Francisco",
                    "Seattle",
                    "Houston",
                    "San Francisco",
                    "Seattle",
                    "Seattle",
                    "New York",
                    "San Francisco",
                    "Houston",
                    "Memphis",
                    "Houston",
                    "Seattle",
                    "Houston",
                    "San Francisco",
                    "New York",
                    "Houston",
                    "Houston",
                    "San Francisco",
                    "New York",
                    "Memphis",
                    "Houston",
                    "Memphis",
                    "San Francisco",
                    "Houston",
                    "Houston",
                    "New York",
                    "Houston",
                    "Memphis",
                    "Memphis",
                    "Seattle",
                    "Seattle",
                    "San Francisco",
                    "New York",
                    "Houston",
                    "Seattle",
                    "San Francisco",
                    "San Francisco",
                    "New York",
                    "Houston",
                    "Seattle",
                    "New York",
                    "Houston",
                    "Memphis",
                    "Houston",
                    "Seattle",
                    "New York",
                    "Memphis",
                    "San Francisco",
                    "San Francisco",
                    "San Francisco",
                    "Houston",
                    "Seattle",
                    "New York",
                    "San Francisco",
                    "Houston",
                    "New York",
                    "Houston",
                    "Seattle",
                    "Houston",
                    "Memphis",
                    "Houston",
                    "San Francisco",
                    "San Francisco",
                    "Seattle",
                    "San Francisco",
                    "Seattle",
                    "Memphis",
                    "Seattle",
                    "Houston",
                    "New York",
                    "San Francisco",
                    "Houston",
                    "Houston",
                    "San Francisco",
                    "Seattle",
                    "Memphis",
                    "San Francisco",
                    "San Francisco",
                    "Memphis",
                    "San Francisco",
                    "Houston",
                    "Seattle",
                    "Memphis",
                    "Memphis",
                    "Memphis",
                    "New York",
                    "Houston",
                    "San Francisco",
                    "Houston",
                    "Houston",
                    "San Francisco",
                    "New York",
                    "Seattle",
                    "Memphis",
                    "Memphis",
                    "Houston",
                    "San Francisco",
                    "Houston",
                    "Memphis",
                    "San Francisco",
                    "Seattle",
                    "Memphis",
                    "Houston",
                    "San Francisco",
                    "San Francisco",
                    "San Francisco",
                    "Houston",
                    "San Francisco",
                    "New York",
                    "Seattle",
                    "San Francisco",
                    "New York",
                    "Houston",
                    "San Francisco",
                    "Houston",
                    "Houston",
                    "Memphis",
                    "San Francisco",
                    "Seattle",
                    "Houston",
                    "New York",
                    "New York",
                    "Memphis",
                    "New York",
                    "Memphis",
                    "San Francisco",
                    "Houston",
                    "New York",
                    "San Francisco",
                    "Memphis",
                    "New York",
                    "Seattle",
                    "Seattle",
                    "San Francisco",
                    "Memphis",
                    "San Francisco",
                    "San Francisco",
                    "Memphis",
                    "New York",
                    "New York",
                    "Seattle",
                    "San Francisco",
                    "Memphis",
                    "San Francisco",
                    "Houston",
                    "San Francisco",
                    "San Francisco",
                    "Houston",
                    "Seattle",
                    "Memphis",
                    "Seattle",
                    "Memphis",
                    "Seattle",
                    "San Francisco",
                    "Seattle",
                    "Memphis",
                    "Houston",
                    "New York",
                    "Houston",
                    "New York",
                    "Memphis",
                    "San Francisco",
                    "Seattle",
                    "Seattle",
                    "Seattle",
                    "Houston",
                    "New York",
                    "Memphis",
                    "Seattle",
                    "Seattle",
                    "Seattle",
                    "San Francisco",
                    "Memphis",
                    "San Francisco",
                    "San Francisco",
                    "Houston",
                    "Memphis",
                    "Houston",
                    "San Francisco",
                    "San Francisco",
                    "Houston",
                    "Memphis",
                    "Houston",
                    "Seattle",
                    "Houston",
                    "San Francisco",
                    "Houston",
                    "New York",
                    "New York",
                    "Seattle",
                    "New York",
                    "San Francisco",
                    "Memphis",
                    "Houston",
                    "Houston",
                    "Seattle",
                    "San Francisco",
                    "New York",
                    "San Francisco",
                    "Seattle",
                    "New York",
                    "Houston",
                    "Seattle",
                    "Seattle",
                    "San Francisco",
                    "San Francisco",
                    "Seattle",
                    "San Francisco",
                    "New York",
                    "San Francisco",
                    "Houston",
                    "New York",
                    "Memphis",
                    "Seattle",
                    "Memphis",
                    "New York",
                    "San Francisco",
                    "San Francisco",
                    "Seattle",
                    "New York",
                    "Seattle",
                    "Seattle",
                    "New York",
                    "Memphis",
                    "New York",
                    "Memphis",
                    "Seattle",
                    "New York",
                    "New York",
                    "Houston",
                    "Memphis",
                    "Memphis",
                    "Memphis",
                    "Memphis",
                    "Houston",
                    "New York",
                    "Seattle",
                    "Seattle",
                    "Seattle",
                    "New York",
                    "Houston",
                    "Memphis",
                    "Houston",
                    "Houston",
                    "San Francisco",
                    "Memphis",
                    "Memphis",
                    "New York",
                    "New York",
                    "Seattle",
                    "Seattle",
                    "Seattle",
                    "Memphis",
                    "San Francisco",
                    "New York",
                    "San Francisco",
                    "Memphis",
                    "New York",
                    "New York",
                    "Memphis",
                    "San Francisco",
                    "Seattle",
                    "Memphis",
                    "New York",
                    "New York",
                    "Memphis",
                    "New York",
                    "Houston",
                    "Memphis",
                    "Houston",
                    "New York",
                    "New York",
                    "San Francisco",
                    "Seattle",
                    "Houston",
                    "New York",
                    "Memphis",
                    "Memphis",
                    "San Francisco",
                    "New York",
                    "San Francisco",
                    "Houston",
                    "New York",
                    "New York",
                    "Houston",
                    "Seattle",
                    "Memphis",
                    "Houston",
                    "Memphis",
                    "Memphis",
                    "Houston",
                    "Houston",
                    "New York",
                    "Houston",
                    "Houston",
                    "Memphis",
                    "New York",
                    "Seattle",
                    "San Francisco",
                    "New York",
                    "Memphis",
                    "Houston",
                    "Memphis",
                    "New York",
                    "Memphis",
                    "Seattle",
                    "New York",
                    "Seattle",
                    "New York",
                    "Memphis",
                    "Houston",
                    "Houston",
                    "Houston",
                    "Houston",
                    "San Francisco",
                    "Houston",
                    "Memphis",
                    "Houston",
                    "Houston",
                    "New York",
                    "Houston",
                    "New York",
                    "New York",
                    "San Francisco",
                    "Houston",
                    "Memphis",
                    "San Francisco",
                    "Memphis",
                    "Memphis",
                    "Houston",
                    "Memphis",
                    "New York",
                    "San Francisco",
                    "Houston",
                    "Seattle",
                    "San Francisco",
                    "Seattle",
                    "San Francisco",
                    "Memphis",
                    "Seattle",
                    "Seattle",
                    "San Francisco",
                    "San Francisco",
                    "San Francisco",
                    "New York",
                    "Memphis",
                    "Houston",
                    "Memphis",
                    "Memphis",
                    "Houston",
                    "San Francisco",
                    "New York",
                    "San Francisco",
                    "Seattle",
                    "Memphis",
                    "San Francisco",
                    "San Francisco",
                    "Houston",
                    "Seattle",
                    "Memphis",
                    "New York",
                    "New York",
                    "Seattle",
                    "Houston",
                    "San Francisco",
                    "Houston",
                    "Seattle",
                    "Memphis",
                    "New York",
                    "Seattle",
                    "San Francisco",
                    "Memphis",
                    "Seattle",
                    "Memphis",
                    "Seattle",
                    "Seattle",
                    "San Francisco",
                    "Houston",
                    "New York",
                    "New York",
                    "Houston",
                    "New York",
                    "Memphis",
                    "San Francisco",
                    "Memphis",
                    "Houston",
                    "Seattle",
                    "Memphis",
                    "Seattle",
                    "Memphis",
                    "San Francisco",
                    "Seattle",
                    "Memphis",
                    "Houston",
                    "San Francisco",
                    "New York",
                    "New York",
                    "San Francisco",
                    "Seattle",
                    "San Francisco",
                    "Houston",
                    "Memphis",
                    "San Francisco",
                    "San Francisco",
                    "Houston",
                    "San Francisco",
                    "San Francisco",
                    "New York",
                    "Houston",
                    "Houston",
                    "San Francisco",
                    "New York",
                    "Seattle",
                    "Houston",
                    "Houston",
                    "New York",
                    "Memphis",
                    "Seattle",
                    "Memphis",
                    "New York",
                    "New York",
                    "Memphis",
                    "New York",
                    "Memphis",
                    "New York",
                    "New York",
                    "Seattle",
                    "Seattle",
                    "New York",
                    "San Francisco",
                    "Houston",
                    "Houston",
                    "Seattle",
                    "Houston",
                    "New York",
                    "San Francisco",
                    "New York",
                    "Memphis",
                    "Seattle",
                    "Houston",
                    "Memphis",
                    "San Francisco",
                    "San Francisco",
                    "San Francisco",
                    "San Francisco",
                    "Houston",
                    "Seattle",
                    "Seattle",
                    "Seattle",
                    "Memphis",
                    "New York",
                    "Houston",
                    "Seattle",
                    "New York",
                    "New York",
                    "Memphis",
                    "Memphis",
                    "Seattle",
                    "Memphis",
                    "Houston",
                    "Houston",
                    "Houston",
                    "San Francisco",
                    "Seattle",
                    "Memphis",
                    "Houston",
                    "New York",
                    "New York",
                    "Houston",
                    "Seattle",
                    "Seattle",
                    "Houston",
                    "San Francisco",
                    "Houston",
                    "Houston",
                    "Seattle",
                    "San Francisco",
                    "New York",
                    "Seattle",
                    "Seattle",
                    "Seattle",
                    "San Francisco",
                    "Memphis",
                    "New York"
                  ],
                  "xaxis": "x",
                  "y": [
                    13.6,
                    13.6,
                    27,
                    16,
                    16,
                    21,
                    0,
                    11,
                    21,
                    6,
                    0,
                    21,
                    21,
                    11,
                    21,
                    11,
                    11,
                    0,
                    21,
                    21,
                    27,
                    6,
                    16,
                    13.6,
                    16,
                    11,
                    6,
                    27,
                    16,
                    16,
                    0,
                    13.6,
                    6,
                    6,
                    0,
                    6,
                    27,
                    16,
                    6,
                    6,
                    16,
                    27,
                    27,
                    27,
                    6,
                    21,
                    27,
                    27,
                    21,
                    6,
                    13.6,
                    11,
                    11,
                    11,
                    6,
                    27,
                    6,
                    13.6,
                    6,
                    21,
                    11,
                    11,
                    16,
                    0,
                    6,
                    27,
                    11,
                    11,
                    27,
                    13.6,
                    13.6,
                    6,
                    21,
                    13.6,
                    13.6,
                    21,
                    16,
                    21,
                    13.6,
                    16,
                    27,
                    21,
                    6,
                    6,
                    6,
                    27,
                    0,
                    0,
                    16,
                    0,
                    27,
                    6,
                    0,
                    11,
                    6,
                    13.6,
                    0,
                    0,
                    6,
                    11,
                    27,
                    13.6,
                    11,
                    0,
                    27,
                    0,
                    11,
                    11,
                    0,
                    16,
                    6,
                    21,
                    13.6,
                    6,
                    27,
                    13.6,
                    0,
                    16,
                    0,
                    11,
                    0,
                    13.6,
                    6,
                    0,
                    11,
                    27,
                    13.6,
                    11,
                    6,
                    16,
                    16,
                    0,
                    11,
                    0,
                    27,
                    11,
                    27,
                    16,
                    16,
                    21,
                    16,
                    16,
                    27,
                    21,
                    27,
                    27,
                    0,
                    0,
                    11,
                    16,
                    13.6,
                    0,
                    16,
                    21,
                    0,
                    11,
                    6,
                    13.6,
                    27,
                    6,
                    0,
                    0,
                    0,
                    0,
                    11,
                    11,
                    6,
                    11,
                    21,
                    13.6,
                    21,
                    6,
                    6,
                    13.6,
                    0,
                    21,
                    21,
                    27,
                    0,
                    21,
                    13.6,
                    21,
                    0,
                    16,
                    13.6,
                    6,
                    13.6,
                    11,
                    27,
                    13.6,
                    21,
                    27,
                    16,
                    6,
                    27,
                    21,
                    27,
                    16,
                    11,
                    27,
                    21,
                    11,
                    11,
                    27,
                    21,
                    6,
                    6,
                    21,
                    0,
                    6,
                    11,
                    13.6,
                    0,
                    0,
                    6,
                    16,
                    16,
                    16,
                    21,
                    0,
                    21,
                    16,
                    0,
                    0,
                    16,
                    16,
                    11,
                    6,
                    16,
                    27,
                    13.6,
                    13.6,
                    13.6,
                    11,
                    13.6,
                    16,
                    0,
                    27,
                    13.6,
                    11,
                    27,
                    16,
                    21,
                    0,
                    0,
                    21,
                    0,
                    27,
                    27,
                    27,
                    16,
                    13.6,
                    21,
                    13.6,
                    16,
                    6,
                    13.6,
                    21,
                    6,
                    27,
                    6,
                    6,
                    6,
                    13.6,
                    0,
                    6,
                    21,
                    21,
                    0,
                    0,
                    13.6,
                    16,
                    6,
                    0,
                    27,
                    27,
                    6,
                    6,
                    0,
                    16,
                    0,
                    21,
                    21,
                    0,
                    11,
                    27,
                    0,
                    27,
                    13.6,
                    16,
                    27,
                    13.6,
                    0,
                    6,
                    0,
                    11,
                    11,
                    11,
                    21,
                    0,
                    21,
                    6,
                    27,
                    16,
                    27,
                    21,
                    16,
                    21,
                    13.6,
                    0,
                    21,
                    16,
                    16,
                    16,
                    21,
                    16,
                    21,
                    27,
                    27,
                    0,
                    27,
                    27,
                    21,
                    27,
                    13.6,
                    6,
                    27,
                    27,
                    11,
                    13.6,
                    6,
                    11,
                    11,
                    27,
                    13.6,
                    16,
                    13.6,
                    21,
                    11,
                    16,
                    13.6,
                    13.6,
                    27,
                    6,
                    6,
                    0,
                    0,
                    11,
                    6,
                    0,
                    0,
                    16,
                    11,
                    16,
                    13.6,
                    0,
                    11,
                    16,
                    13.6,
                    13.6,
                    11,
                    11,
                    27,
                    11,
                    21,
                    11,
                    21,
                    0,
                    11,
                    11,
                    0,
                    13.6,
                    16,
                    0,
                    16,
                    21,
                    21,
                    0,
                    0,
                    13.6,
                    21,
                    21,
                    27,
                    16,
                    13.6,
                    21,
                    6,
                    21,
                    6,
                    6,
                    27,
                    6,
                    6,
                    13.6,
                    27,
                    0,
                    6,
                    16,
                    0,
                    27,
                    27,
                    21,
                    6,
                    6,
                    27,
                    11,
                    6,
                    16,
                    16,
                    21,
                    0,
                    11,
                    11,
                    27,
                    21,
                    6,
                    13.6,
                    11,
                    0,
                    16,
                    27,
                    13.6,
                    0,
                    11,
                    16,
                    16,
                    21,
                    13.6,
                    13.6,
                    6,
                    21,
                    21,
                    21,
                    27,
                    11,
                    16,
                    0,
                    16,
                    27,
                    16,
                    16,
                    27,
                    21,
                    21,
                    27,
                    13.6,
                    0,
                    6,
                    0,
                    0,
                    21,
                    0,
                    16,
                    0,
                    16,
                    21,
                    6,
                    13.6,
                    21,
                    27,
                    16,
                    0,
                    6,
                    0,
                    27,
                    27,
                    11,
                    0,
                    21,
                    0,
                    27,
                    21,
                    21,
                    16,
                    11,
                    6,
                    16,
                    6,
                    13.6,
                    13.6,
                    21,
                    11,
                    16,
                    16,
                    6,
                    13.6,
                    21,
                    27,
                    27,
                    13.6,
                    11,
                    0,
                    16,
                    21,
                    11,
                    11,
                    21,
                    13.6,
                    0,
                    0,
                    21,
                    16,
                    27,
                    11,
                    27,
                    21,
                    6,
                    21,
                    0,
                    6,
                    27,
                    21,
                    6,
                    27,
                    16,
                    11,
                    13.6,
                    0,
                    6,
                    0,
                    16,
                    11,
                    11,
                    0,
                    27,
                    11,
                    21,
                    21,
                    21,
                    13.6,
                    11,
                    21,
                    27,
                    13.6,
                    6,
                    11,
                    16,
                    21,
                    6,
                    21,
                    13.6,
                    27,
                    21,
                    0,
                    27,
                    6,
                    6,
                    27,
                    13.6,
                    6,
                    21,
                    6,
                    27,
                    6,
                    27,
                    16,
                    0,
                    13.6,
                    21,
                    6,
                    27,
                    11,
                    21,
                    0,
                    27,
                    21,
                    21,
                    27,
                    11,
                    16,
                    21,
                    11,
                    13.6,
                    6,
                    11,
                    0,
                    13.6,
                    6,
                    13.6,
                    21,
                    16,
                    11,
                    13.6,
                    16,
                    11,
                    27,
                    21,
                    27,
                    6,
                    6,
                    6,
                    16,
                    13.6,
                    6,
                    16,
                    16,
                    6,
                    27,
                    11,
                    11,
                    27,
                    0,
                    16,
                    21,
                    27,
                    21,
                    11,
                    11,
                    27,
                    13.6,
                    0,
                    13.6,
                    16,
                    16,
                    0,
                    27,
                    11,
                    27,
                    13.6,
                    11,
                    13.6,
                    6,
                    13.6,
                    16,
                    27,
                    11,
                    13.6,
                    27,
                    11,
                    6,
                    13.6,
                    11,
                    6,
                    6,
                    27,
                    11,
                    13.6,
                    21,
                    0,
                    0,
                    21,
                    16,
                    13.6,
                    16,
                    13.6,
                    27,
                    27,
                    21,
                    11,
                    0,
                    6,
                    13.6,
                    11,
                    13.6,
                    27,
                    11,
                    0,
                    11,
                    6,
                    0,
                    13.6,
                    11,
                    0,
                    6,
                    13.6,
                    27,
                    21,
                    0,
                    6,
                    6,
                    27,
                    6,
                    11,
                    6,
                    11,
                    21,
                    11,
                    21,
                    27,
                    6,
                    27,
                    13.6,
                    0,
                    6,
                    16,
                    21,
                    11,
                    13.6,
                    0,
                    16,
                    27,
                    0,
                    27,
                    6,
                    0,
                    0,
                    13.6,
                    11,
                    6,
                    27,
                    21,
                    27,
                    27,
                    0,
                    0,
                    11,
                    27,
                    6,
                    6,
                    27,
                    11,
                    13.6,
                    6,
                    27,
                    6,
                    27,
                    11,
                    27,
                    0,
                    6,
                    0,
                    13.6,
                    13.6,
                    6,
                    6,
                    13.6,
                    21,
                    21,
                    16,
                    11,
                    0,
                    6,
                    16,
                    11,
                    0,
                    0,
                    13.6,
                    27,
                    16,
                    27,
                    6,
                    11,
                    27,
                    0,
                    27,
                    0,
                    0,
                    6,
                    21,
                    16,
                    6,
                    6,
                    21,
                    13.6,
                    13.6,
                    11,
                    16,
                    11,
                    0,
                    16,
                    6,
                    16,
                    21,
                    6,
                    16,
                    13.6,
                    11,
                    11,
                    6,
                    16,
                    27,
                    21,
                    13.6,
                    27,
                    11,
                    11,
                    21,
                    21,
                    6,
                    0,
                    27,
                    21,
                    27,
                    13.6,
                    13.6,
                    27,
                    13.6,
                    27,
                    11,
                    21,
                    21,
                    16,
                    21,
                    6,
                    11,
                    0,
                    6,
                    27,
                    27,
                    0,
                    27,
                    0,
                    16,
                    21,
                    0,
                    13.6,
                    11,
                    11,
                    16,
                    27
                  ],
                  "yaxis": "y"
                },
                {
                  "alignmentgroup": "True",
                  "hovertemplate": "variable=Upper Percentage<br>City=%{x}<br>value=%{y}<extra></extra>",
                  "legendgroup": "Upper Percentage",
                  "marker": {
                    "color": "#EF553B",
                    "pattern": {
                      "shape": ""
                    }
                  },
                  "name": "Upper Percentage",
                  "offsetgroup": "Upper Percentage",
                  "orientation": "v",
                  "showlegend": true,
                  "textposition": "auto",
                  "type": "bar",
                  "x": [
                    "New York",
                    "New York",
                    "Seattle",
                    "San Francisco",
                    "San Francisco",
                    "Memphis",
                    "Seattle",
                    "Houston",
                    "San Francisco",
                    "San Francisco",
                    "San Francisco",
                    "New York",
                    "New York",
                    "Seattle",
                    "Seattle",
                    "San Francisco",
                    "New York",
                    "Memphis",
                    "San Francisco",
                    "Houston",
                    "Houston",
                    "Seattle",
                    "Seattle",
                    "Houston",
                    "New York",
                    "Memphis",
                    "New York",
                    "Seattle",
                    "Memphis",
                    "San Francisco",
                    "Memphis",
                    "New York",
                    "Memphis",
                    "Houston",
                    "New York",
                    "New York",
                    "Seattle",
                    "Houston",
                    "Seattle",
                    "Memphis",
                    "Seattle",
                    "Seattle",
                    "San Francisco",
                    "Houston",
                    "Houston",
                    "New York",
                    "New York",
                    "Memphis",
                    "Houston",
                    "Seattle",
                    "Memphis",
                    "Seattle",
                    "Houston",
                    "Memphis",
                    "New York",
                    "Seattle",
                    "San Francisco",
                    "Seattle",
                    "Memphis",
                    "New York",
                    "Houston",
                    "San Francisco",
                    "Houston",
                    "Houston",
                    "Houston",
                    "San Francisco",
                    "New York",
                    "Memphis",
                    "New York",
                    "Houston",
                    "San Francisco",
                    "San Francisco",
                    "New York",
                    "New York",
                    "New York",
                    "San Francisco",
                    "New York",
                    "Houston",
                    "Houston",
                    "San Francisco",
                    "San Francisco",
                    "San Francisco",
                    "Memphis",
                    "Houston",
                    "Houston",
                    "San Francisco",
                    "Seattle",
                    "Memphis",
                    "Seattle",
                    "San Francisco",
                    "Seattle",
                    "San Francisco",
                    "Houston",
                    "New York",
                    "San Francisco",
                    "Houston",
                    "Seattle",
                    "San Francisco",
                    "San Francisco",
                    "Memphis",
                    "Memphis",
                    "New York",
                    "New York",
                    "Houston",
                    "Houston",
                    "Memphis",
                    "Houston",
                    "San Francisco",
                    "Seattle",
                    "San Francisco",
                    "Seattle",
                    "Seattle",
                    "San Francisco",
                    "Houston",
                    "Houston",
                    "Memphis",
                    "Memphis",
                    "Memphis",
                    "San Francisco",
                    "Houston",
                    "Houston",
                    "Memphis",
                    "San Francisco",
                    "San Francisco",
                    "Houston",
                    "New York",
                    "San Francisco",
                    "New York",
                    "San Francisco",
                    "Memphis",
                    "San Francisco",
                    "Houston",
                    "San Francisco",
                    "San Francisco",
                    "San Francisco",
                    "New York",
                    "Seattle",
                    "Seattle",
                    "Houston",
                    "Houston",
                    "San Francisco",
                    "Seattle",
                    "Memphis",
                    "Memphis",
                    "San Francisco",
                    "San Francisco",
                    "Houston",
                    "Houston",
                    "Houston",
                    "Seattle",
                    "Houston",
                    "San Francisco",
                    "New York",
                    "Memphis",
                    "San Francisco",
                    "Seattle",
                    "Memphis",
                    "New York",
                    "Seattle",
                    "Memphis",
                    "San Francisco",
                    "New York",
                    "Seattle",
                    "Memphis",
                    "Memphis",
                    "Houston",
                    "Houston",
                    "Houston",
                    "Houston",
                    "Memphis",
                    "San Francisco",
                    "New York",
                    "San Francisco",
                    "Seattle",
                    "San Francisco",
                    "New York",
                    "Memphis",
                    "Memphis",
                    "Seattle",
                    "New York",
                    "Houston",
                    "Houston",
                    "Seattle",
                    "San Francisco",
                    "Houston",
                    "Memphis",
                    "New York",
                    "San Francisco",
                    "Houston",
                    "Houston",
                    "New York",
                    "San Francisco",
                    "Houston",
                    "Memphis",
                    "New York",
                    "Houston",
                    "New York",
                    "Memphis",
                    "New York",
                    "San Francisco",
                    "Seattle",
                    "New York",
                    "Seattle",
                    "Memphis",
                    "Memphis",
                    "Memphis",
                    "Houston",
                    "New York",
                    "New York",
                    "San Francisco",
                    "Memphis",
                    "Houston",
                    "New York",
                    "New York",
                    "Seattle",
                    "Seattle",
                    "San Francisco",
                    "Seattle",
                    "Houston",
                    "Memphis",
                    "Seattle",
                    "Houston",
                    "New York",
                    "Houston",
                    "Memphis",
                    "New York",
                    "Seattle",
                    "San Francisco",
                    "Memphis",
                    "New York",
                    "Seattle",
                    "Seattle",
                    "Seattle",
                    "Houston",
                    "Houston",
                    "Seattle",
                    "San Francisco",
                    "Memphis",
                    "Seattle",
                    "Houston",
                    "San Francisco",
                    "Houston",
                    "San Francisco",
                    "Memphis",
                    "Houston",
                    "Memphis",
                    "New York",
                    "Memphis",
                    "New York",
                    "Memphis",
                    "Memphis",
                    "San Francisco",
                    "Houston",
                    "Houston",
                    "Memphis",
                    "Houston",
                    "Houston",
                    "Memphis",
                    "Seattle",
                    "Houston",
                    "Houston",
                    "Memphis",
                    "New York",
                    "Seattle",
                    "Seattle",
                    "Seattle",
                    "New York",
                    "Memphis",
                    "Houston",
                    "Houston",
                    "Memphis",
                    "San Francisco",
                    "Seattle",
                    "Memphis",
                    "New York",
                    "Memphis",
                    "Seattle",
                    "Houston",
                    "Houston",
                    "Houston",
                    "San Francisco",
                    "Houston",
                    "Houston",
                    "New York",
                    "Houston",
                    "Houston",
                    "Seattle",
                    "Memphis",
                    "New York",
                    "Seattle",
                    "Memphis",
                    "San Francisco",
                    "Houston",
                    "Seattle",
                    "San Francisco",
                    "New York",
                    "New York",
                    "Seattle",
                    "Houston",
                    "Seattle",
                    "Memphis",
                    "New York",
                    "New York",
                    "San Francisco",
                    "San Francisco",
                    "San Francisco",
                    "Memphis",
                    "Memphis",
                    "Houston",
                    "New York",
                    "Houston",
                    "San Francisco",
                    "Houston",
                    "San Francisco",
                    "Houston",
                    "Houston",
                    "Houston",
                    "Memphis",
                    "New York",
                    "Seattle",
                    "Houston",
                    "San Francisco",
                    "Houston",
                    "Houston",
                    "Houston",
                    "San Francisco",
                    "San Francisco",
                    "Seattle",
                    "Houston",
                    "San Francisco",
                    "Seattle",
                    "Seattle",
                    "New York",
                    "San Francisco",
                    "Houston",
                    "Memphis",
                    "Houston",
                    "Seattle",
                    "Houston",
                    "San Francisco",
                    "New York",
                    "Houston",
                    "Houston",
                    "San Francisco",
                    "New York",
                    "Memphis",
                    "Houston",
                    "Memphis",
                    "San Francisco",
                    "Houston",
                    "Houston",
                    "New York",
                    "Houston",
                    "Memphis",
                    "Memphis",
                    "Seattle",
                    "Seattle",
                    "San Francisco",
                    "New York",
                    "Houston",
                    "Seattle",
                    "San Francisco",
                    "San Francisco",
                    "New York",
                    "Houston",
                    "Seattle",
                    "New York",
                    "Houston",
                    "Memphis",
                    "Houston",
                    "Seattle",
                    "New York",
                    "Memphis",
                    "San Francisco",
                    "San Francisco",
                    "San Francisco",
                    "Houston",
                    "Seattle",
                    "New York",
                    "San Francisco",
                    "Houston",
                    "New York",
                    "Houston",
                    "Seattle",
                    "Houston",
                    "Memphis",
                    "Houston",
                    "San Francisco",
                    "San Francisco",
                    "Seattle",
                    "San Francisco",
                    "Seattle",
                    "Memphis",
                    "Seattle",
                    "Houston",
                    "New York",
                    "San Francisco",
                    "Houston",
                    "Houston",
                    "San Francisco",
                    "Seattle",
                    "Memphis",
                    "San Francisco",
                    "San Francisco",
                    "Memphis",
                    "San Francisco",
                    "Houston",
                    "Seattle",
                    "Memphis",
                    "Memphis",
                    "Memphis",
                    "New York",
                    "Houston",
                    "San Francisco",
                    "Houston",
                    "Houston",
                    "San Francisco",
                    "New York",
                    "Seattle",
                    "Memphis",
                    "Memphis",
                    "Houston",
                    "San Francisco",
                    "Houston",
                    "Memphis",
                    "San Francisco",
                    "Seattle",
                    "Memphis",
                    "Houston",
                    "San Francisco",
                    "San Francisco",
                    "San Francisco",
                    "Houston",
                    "San Francisco",
                    "New York",
                    "Seattle",
                    "San Francisco",
                    "New York",
                    "Houston",
                    "San Francisco",
                    "Houston",
                    "Houston",
                    "Memphis",
                    "San Francisco",
                    "Seattle",
                    "Houston",
                    "New York",
                    "New York",
                    "Memphis",
                    "New York",
                    "Memphis",
                    "San Francisco",
                    "Houston",
                    "New York",
                    "San Francisco",
                    "Memphis",
                    "New York",
                    "Seattle",
                    "Seattle",
                    "San Francisco",
                    "Memphis",
                    "San Francisco",
                    "San Francisco",
                    "Memphis",
                    "New York",
                    "New York",
                    "Seattle",
                    "San Francisco",
                    "Memphis",
                    "San Francisco",
                    "Houston",
                    "San Francisco",
                    "San Francisco",
                    "Houston",
                    "Seattle",
                    "Memphis",
                    "Seattle",
                    "Memphis",
                    "Seattle",
                    "San Francisco",
                    "Seattle",
                    "Memphis",
                    "Houston",
                    "New York",
                    "Houston",
                    "New York",
                    "Memphis",
                    "San Francisco",
                    "Seattle",
                    "Seattle",
                    "Seattle",
                    "Houston",
                    "New York",
                    "Memphis",
                    "Seattle",
                    "Seattle",
                    "Seattle",
                    "San Francisco",
                    "Memphis",
                    "San Francisco",
                    "San Francisco",
                    "Houston",
                    "Memphis",
                    "Houston",
                    "San Francisco",
                    "San Francisco",
                    "Houston",
                    "Memphis",
                    "Houston",
                    "Seattle",
                    "Houston",
                    "San Francisco",
                    "Houston",
                    "New York",
                    "New York",
                    "Seattle",
                    "New York",
                    "San Francisco",
                    "Memphis",
                    "Houston",
                    "Houston",
                    "Seattle",
                    "San Francisco",
                    "New York",
                    "San Francisco",
                    "Seattle",
                    "New York",
                    "Houston",
                    "Seattle",
                    "Seattle",
                    "San Francisco",
                    "San Francisco",
                    "Seattle",
                    "San Francisco",
                    "New York",
                    "San Francisco",
                    "Houston",
                    "New York",
                    "Memphis",
                    "Seattle",
                    "Memphis",
                    "New York",
                    "San Francisco",
                    "San Francisco",
                    "Seattle",
                    "New York",
                    "Seattle",
                    "Seattle",
                    "New York",
                    "Memphis",
                    "New York",
                    "Memphis",
                    "Seattle",
                    "New York",
                    "New York",
                    "Houston",
                    "Memphis",
                    "Memphis",
                    "Memphis",
                    "Memphis",
                    "Houston",
                    "New York",
                    "Seattle",
                    "Seattle",
                    "Seattle",
                    "New York",
                    "Houston",
                    "Memphis",
                    "Houston",
                    "Houston",
                    "San Francisco",
                    "Memphis",
                    "Memphis",
                    "New York",
                    "New York",
                    "Seattle",
                    "Seattle",
                    "Seattle",
                    "Memphis",
                    "San Francisco",
                    "New York",
                    "San Francisco",
                    "Memphis",
                    "New York",
                    "New York",
                    "Memphis",
                    "San Francisco",
                    "Seattle",
                    "Memphis",
                    "New York",
                    "New York",
                    "Memphis",
                    "New York",
                    "Houston",
                    "Memphis",
                    "Houston",
                    "New York",
                    "New York",
                    "San Francisco",
                    "Seattle",
                    "Houston",
                    "New York",
                    "Memphis",
                    "Memphis",
                    "San Francisco",
                    "New York",
                    "San Francisco",
                    "Houston",
                    "New York",
                    "New York",
                    "Houston",
                    "Seattle",
                    "Memphis",
                    "Houston",
                    "Memphis",
                    "Memphis",
                    "Houston",
                    "Houston",
                    "New York",
                    "Houston",
                    "Houston",
                    "Memphis",
                    "New York",
                    "Seattle",
                    "San Francisco",
                    "New York",
                    "Memphis",
                    "Houston",
                    "Memphis",
                    "New York",
                    "Memphis",
                    "Seattle",
                    "New York",
                    "Seattle",
                    "New York",
                    "Memphis",
                    "Houston",
                    "Houston",
                    "Houston",
                    "Houston",
                    "San Francisco",
                    "Houston",
                    "Memphis",
                    "Houston",
                    "Houston",
                    "New York",
                    "Houston",
                    "New York",
                    "New York",
                    "San Francisco",
                    "Houston",
                    "Memphis",
                    "San Francisco",
                    "Memphis",
                    "Memphis",
                    "Houston",
                    "Memphis",
                    "New York",
                    "San Francisco",
                    "Houston",
                    "Seattle",
                    "San Francisco",
                    "Seattle",
                    "San Francisco",
                    "Memphis",
                    "Seattle",
                    "Seattle",
                    "San Francisco",
                    "San Francisco",
                    "San Francisco",
                    "New York",
                    "Memphis",
                    "Houston",
                    "Memphis",
                    "Memphis",
                    "Houston",
                    "San Francisco",
                    "New York",
                    "San Francisco",
                    "Seattle",
                    "Memphis",
                    "San Francisco",
                    "San Francisco",
                    "Houston",
                    "Seattle",
                    "Memphis",
                    "New York",
                    "New York",
                    "Seattle",
                    "Houston",
                    "San Francisco",
                    "Houston",
                    "Seattle",
                    "Memphis",
                    "New York",
                    "Seattle",
                    "San Francisco",
                    "Memphis",
                    "Seattle",
                    "Memphis",
                    "Seattle",
                    "Seattle",
                    "San Francisco",
                    "Houston",
                    "New York",
                    "New York",
                    "Houston",
                    "New York",
                    "Memphis",
                    "San Francisco",
                    "Memphis",
                    "Houston",
                    "Seattle",
                    "Memphis",
                    "Seattle",
                    "Memphis",
                    "San Francisco",
                    "Seattle",
                    "Memphis",
                    "Houston",
                    "San Francisco",
                    "New York",
                    "New York",
                    "San Francisco",
                    "Seattle",
                    "San Francisco",
                    "Houston",
                    "Memphis",
                    "San Francisco",
                    "San Francisco",
                    "Houston",
                    "San Francisco",
                    "San Francisco",
                    "New York",
                    "Houston",
                    "Houston",
                    "San Francisco",
                    "New York",
                    "Seattle",
                    "Houston",
                    "Houston",
                    "New York",
                    "Memphis",
                    "Seattle",
                    "Memphis",
                    "New York",
                    "New York",
                    "Memphis",
                    "New York",
                    "Memphis",
                    "New York",
                    "New York",
                    "Seattle",
                    "Seattle",
                    "New York",
                    "San Francisco",
                    "Houston",
                    "Houston",
                    "Seattle",
                    "Houston",
                    "New York",
                    "San Francisco",
                    "New York",
                    "Memphis",
                    "Seattle",
                    "Houston",
                    "Memphis",
                    "San Francisco",
                    "San Francisco",
                    "San Francisco",
                    "San Francisco",
                    "Houston",
                    "Seattle",
                    "Seattle",
                    "Seattle",
                    "Memphis",
                    "New York",
                    "Houston",
                    "Seattle",
                    "New York",
                    "New York",
                    "Memphis",
                    "Memphis",
                    "Seattle",
                    "Memphis",
                    "Houston",
                    "Houston",
                    "Houston",
                    "San Francisco",
                    "Seattle",
                    "Memphis",
                    "Houston",
                    "New York",
                    "New York",
                    "Houston",
                    "Seattle",
                    "Seattle",
                    "Houston",
                    "San Francisco",
                    "Houston",
                    "Houston",
                    "Seattle",
                    "San Francisco",
                    "New York",
                    "Seattle",
                    "Seattle",
                    "Seattle",
                    "San Francisco",
                    "Memphis",
                    "New York"
                  ],
                  "xaxis": "x",
                  "y": [
                    16.8,
                    16.8,
                    26,
                    20,
                    20,
                    25,
                    5,
                    15,
                    25,
                    10,
                    5,
                    25,
                    25,
                    15,
                    25,
                    15,
                    15,
                    5,
                    25,
                    25,
                    26,
                    10,
                    20,
                    16.8,
                    20,
                    15,
                    10,
                    26,
                    20,
                    20,
                    5,
                    16.8,
                    10,
                    10,
                    5,
                    10,
                    26,
                    20,
                    10,
                    10,
                    20,
                    26,
                    26,
                    26,
                    10,
                    25,
                    26,
                    26,
                    25,
                    10,
                    16.8,
                    15,
                    15,
                    15,
                    10,
                    26,
                    10,
                    16.8,
                    10,
                    25,
                    15,
                    15,
                    20,
                    5,
                    10,
                    26,
                    15,
                    15,
                    26,
                    16.8,
                    16.8,
                    10,
                    25,
                    16.8,
                    16.8,
                    25,
                    20,
                    25,
                    16.8,
                    20,
                    26,
                    25,
                    10,
                    10,
                    10,
                    26,
                    5,
                    5,
                    20,
                    5,
                    26,
                    10,
                    5,
                    15,
                    10,
                    16.8,
                    5,
                    5,
                    10,
                    15,
                    26,
                    16.8,
                    15,
                    5,
                    26,
                    5,
                    15,
                    15,
                    5,
                    20,
                    10,
                    25,
                    16.8,
                    10,
                    26,
                    16.8,
                    5,
                    20,
                    5,
                    15,
                    5,
                    16.8,
                    10,
                    5,
                    15,
                    26,
                    16.8,
                    15,
                    10,
                    20,
                    20,
                    5,
                    15,
                    5,
                    26,
                    15,
                    26,
                    20,
                    20,
                    25,
                    20,
                    20,
                    26,
                    25,
                    26,
                    26,
                    5,
                    5,
                    15,
                    20,
                    16.8,
                    5,
                    20,
                    25,
                    5,
                    15,
                    10,
                    16.8,
                    26,
                    10,
                    5,
                    5,
                    5,
                    5,
                    15,
                    15,
                    10,
                    15,
                    25,
                    16.8,
                    25,
                    10,
                    10,
                    16.8,
                    5,
                    25,
                    25,
                    26,
                    5,
                    25,
                    16.8,
                    25,
                    5,
                    20,
                    16.8,
                    10,
                    16.8,
                    15,
                    26,
                    16.8,
                    25,
                    26,
                    20,
                    10,
                    26,
                    25,
                    26,
                    20,
                    15,
                    26,
                    25,
                    15,
                    15,
                    26,
                    25,
                    10,
                    10,
                    25,
                    5,
                    10,
                    15,
                    16.8,
                    5,
                    5,
                    10,
                    20,
                    20,
                    20,
                    25,
                    5,
                    25,
                    20,
                    5,
                    5,
                    20,
                    20,
                    15,
                    10,
                    20,
                    26,
                    16.8,
                    16.8,
                    16.8,
                    15,
                    16.8,
                    20,
                    5,
                    26,
                    16.8,
                    15,
                    26,
                    20,
                    25,
                    5,
                    5,
                    25,
                    5,
                    26,
                    26,
                    26,
                    20,
                    16.8,
                    25,
                    16.8,
                    20,
                    10,
                    16.8,
                    25,
                    10,
                    26,
                    10,
                    10,
                    10,
                    16.8,
                    5,
                    10,
                    25,
                    25,
                    5,
                    5,
                    16.8,
                    20,
                    10,
                    5,
                    26,
                    26,
                    10,
                    10,
                    5,
                    20,
                    5,
                    25,
                    25,
                    5,
                    15,
                    26,
                    5,
                    26,
                    16.8,
                    20,
                    26,
                    16.8,
                    5,
                    10,
                    5,
                    15,
                    15,
                    15,
                    25,
                    5,
                    25,
                    10,
                    26,
                    20,
                    26,
                    25,
                    20,
                    25,
                    16.8,
                    5,
                    25,
                    20,
                    20,
                    20,
                    25,
                    20,
                    25,
                    26,
                    26,
                    5,
                    26,
                    26,
                    25,
                    26,
                    16.8,
                    10,
                    26,
                    26,
                    15,
                    16.8,
                    10,
                    15,
                    15,
                    26,
                    16.8,
                    20,
                    16.8,
                    25,
                    15,
                    20,
                    16.8,
                    16.8,
                    26,
                    10,
                    10,
                    5,
                    5,
                    15,
                    10,
                    5,
                    5,
                    20,
                    15,
                    20,
                    16.8,
                    5,
                    15,
                    20,
                    16.8,
                    16.8,
                    15,
                    15,
                    26,
                    15,
                    25,
                    15,
                    25,
                    5,
                    15,
                    15,
                    5,
                    16.8,
                    20,
                    5,
                    20,
                    25,
                    25,
                    5,
                    5,
                    16.8,
                    25,
                    25,
                    26,
                    20,
                    16.8,
                    25,
                    10,
                    25,
                    10,
                    10,
                    26,
                    10,
                    10,
                    16.8,
                    26,
                    5,
                    10,
                    20,
                    5,
                    26,
                    26,
                    25,
                    10,
                    10,
                    26,
                    15,
                    10,
                    20,
                    20,
                    25,
                    5,
                    15,
                    15,
                    26,
                    25,
                    10,
                    16.8,
                    15,
                    5,
                    20,
                    26,
                    16.8,
                    5,
                    15,
                    20,
                    20,
                    25,
                    16.8,
                    16.8,
                    10,
                    25,
                    25,
                    25,
                    26,
                    15,
                    20,
                    5,
                    20,
                    26,
                    20,
                    20,
                    26,
                    25,
                    25,
                    26,
                    16.8,
                    5,
                    10,
                    5,
                    5,
                    25,
                    5,
                    20,
                    5,
                    20,
                    25,
                    10,
                    16.8,
                    25,
                    26,
                    20,
                    5,
                    10,
                    5,
                    26,
                    26,
                    15,
                    5,
                    25,
                    5,
                    26,
                    25,
                    25,
                    20,
                    15,
                    10,
                    20,
                    10,
                    16.8,
                    16.8,
                    25,
                    15,
                    20,
                    20,
                    10,
                    16.8,
                    25,
                    26,
                    26,
                    16.8,
                    15,
                    5,
                    20,
                    25,
                    15,
                    15,
                    25,
                    16.8,
                    5,
                    5,
                    25,
                    20,
                    26,
                    15,
                    26,
                    25,
                    10,
                    25,
                    5,
                    10,
                    26,
                    25,
                    10,
                    26,
                    20,
                    15,
                    16.8,
                    5,
                    10,
                    5,
                    20,
                    15,
                    15,
                    5,
                    26,
                    15,
                    25,
                    25,
                    25,
                    16.8,
                    15,
                    25,
                    26,
                    16.8,
                    10,
                    15,
                    20,
                    25,
                    10,
                    25,
                    16.8,
                    26,
                    25,
                    5,
                    26,
                    10,
                    10,
                    26,
                    16.8,
                    10,
                    25,
                    10,
                    26,
                    10,
                    26,
                    20,
                    5,
                    16.8,
                    25,
                    10,
                    26,
                    15,
                    25,
                    5,
                    26,
                    25,
                    25,
                    26,
                    15,
                    20,
                    25,
                    15,
                    16.8,
                    10,
                    15,
                    5,
                    16.8,
                    10,
                    16.8,
                    25,
                    20,
                    15,
                    16.8,
                    20,
                    15,
                    26,
                    25,
                    26,
                    10,
                    10,
                    10,
                    20,
                    16.8,
                    10,
                    20,
                    20,
                    10,
                    26,
                    15,
                    15,
                    26,
                    5,
                    20,
                    25,
                    26,
                    25,
                    15,
                    15,
                    26,
                    16.8,
                    5,
                    16.8,
                    20,
                    20,
                    5,
                    26,
                    15,
                    26,
                    16.8,
                    15,
                    16.8,
                    10,
                    16.8,
                    20,
                    26,
                    15,
                    16.8,
                    26,
                    15,
                    10,
                    16.8,
                    15,
                    10,
                    10,
                    26,
                    15,
                    16.8,
                    25,
                    5,
                    5,
                    25,
                    20,
                    16.8,
                    20,
                    16.8,
                    26,
                    26,
                    25,
                    15,
                    5,
                    10,
                    16.8,
                    15,
                    16.8,
                    26,
                    15,
                    5,
                    15,
                    10,
                    5,
                    16.8,
                    15,
                    5,
                    10,
                    16.8,
                    26,
                    25,
                    5,
                    10,
                    10,
                    26,
                    10,
                    15,
                    10,
                    15,
                    25,
                    15,
                    25,
                    26,
                    10,
                    26,
                    16.8,
                    5,
                    10,
                    20,
                    25,
                    15,
                    16.8,
                    5,
                    20,
                    26,
                    5,
                    26,
                    10,
                    5,
                    5,
                    16.8,
                    15,
                    10,
                    26,
                    25,
                    26,
                    26,
                    5,
                    5,
                    15,
                    26,
                    10,
                    10,
                    26,
                    15,
                    16.8,
                    10,
                    26,
                    10,
                    26,
                    15,
                    26,
                    5,
                    10,
                    5,
                    16.8,
                    16.8,
                    10,
                    10,
                    16.8,
                    25,
                    25,
                    20,
                    15,
                    5,
                    10,
                    20,
                    15,
                    5,
                    5,
                    16.8,
                    26,
                    20,
                    26,
                    10,
                    15,
                    26,
                    5,
                    26,
                    5,
                    5,
                    10,
                    25,
                    20,
                    10,
                    10,
                    25,
                    16.8,
                    16.8,
                    15,
                    20,
                    15,
                    5,
                    20,
                    10,
                    20,
                    25,
                    10,
                    20,
                    16.8,
                    15,
                    15,
                    10,
                    20,
                    26,
                    25,
                    16.8,
                    26,
                    15,
                    15,
                    25,
                    25,
                    10,
                    5,
                    26,
                    25,
                    26,
                    16.8,
                    16.8,
                    26,
                    16.8,
                    26,
                    15,
                    25,
                    25,
                    20,
                    25,
                    10,
                    15,
                    5,
                    10,
                    26,
                    26,
                    5,
                    26,
                    5,
                    20,
                    25,
                    5,
                    16.8,
                    15,
                    15,
                    20,
                    26
                  ],
                  "yaxis": "y"
                }
              ],
              "layout": {
                "barmode": "relative",
                "legend": {
                  "title": {
                    "text": "variable"
                  },
                  "tracegroupgap": 0
                },
                "template": {
                  "data": {
                    "bar": [
                      {
                        "error_x": {
                          "color": "#2a3f5f"
                        },
                        "error_y": {
                          "color": "#2a3f5f"
                        },
                        "marker": {
                          "line": {
                            "color": "#E5ECF6",
                            "width": 0.5
                          },
                          "pattern": {
                            "fillmode": "overlay",
                            "size": 10,
                            "solidity": 0.2
                          }
                        },
                        "type": "bar"
                      }
                    ],
                    "barpolar": [
                      {
                        "marker": {
                          "line": {
                            "color": "#E5ECF6",
                            "width": 0.5
                          },
                          "pattern": {
                            "fillmode": "overlay",
                            "size": 10,
                            "solidity": 0.2
                          }
                        },
                        "type": "barpolar"
                      }
                    ],
                    "carpet": [
                      {
                        "aaxis": {
                          "endlinecolor": "#2a3f5f",
                          "gridcolor": "white",
                          "linecolor": "white",
                          "minorgridcolor": "white",
                          "startlinecolor": "#2a3f5f"
                        },
                        "baxis": {
                          "endlinecolor": "#2a3f5f",
                          "gridcolor": "white",
                          "linecolor": "white",
                          "minorgridcolor": "white",
                          "startlinecolor": "#2a3f5f"
                        },
                        "type": "carpet"
                      }
                    ],
                    "choropleth": [
                      {
                        "colorbar": {
                          "outlinewidth": 0,
                          "ticks": ""
                        },
                        "type": "choropleth"
                      }
                    ],
                    "contour": [
                      {
                        "colorbar": {
                          "outlinewidth": 0,
                          "ticks": ""
                        },
                        "colorscale": [
                          [
                            0,
                            "#0d0887"
                          ],
                          [
                            0.1111111111111111,
                            "#46039f"
                          ],
                          [
                            0.2222222222222222,
                            "#7201a8"
                          ],
                          [
                            0.3333333333333333,
                            "#9c179e"
                          ],
                          [
                            0.4444444444444444,
                            "#bd3786"
                          ],
                          [
                            0.5555555555555556,
                            "#d8576b"
                          ],
                          [
                            0.6666666666666666,
                            "#ed7953"
                          ],
                          [
                            0.7777777777777778,
                            "#fb9f3a"
                          ],
                          [
                            0.8888888888888888,
                            "#fdca26"
                          ],
                          [
                            1,
                            "#f0f921"
                          ]
                        ],
                        "type": "contour"
                      }
                    ],
                    "contourcarpet": [
                      {
                        "colorbar": {
                          "outlinewidth": 0,
                          "ticks": ""
                        },
                        "type": "contourcarpet"
                      }
                    ],
                    "heatmap": [
                      {
                        "colorbar": {
                          "outlinewidth": 0,
                          "ticks": ""
                        },
                        "colorscale": [
                          [
                            0,
                            "#0d0887"
                          ],
                          [
                            0.1111111111111111,
                            "#46039f"
                          ],
                          [
                            0.2222222222222222,
                            "#7201a8"
                          ],
                          [
                            0.3333333333333333,
                            "#9c179e"
                          ],
                          [
                            0.4444444444444444,
                            "#bd3786"
                          ],
                          [
                            0.5555555555555556,
                            "#d8576b"
                          ],
                          [
                            0.6666666666666666,
                            "#ed7953"
                          ],
                          [
                            0.7777777777777778,
                            "#fb9f3a"
                          ],
                          [
                            0.8888888888888888,
                            "#fdca26"
                          ],
                          [
                            1,
                            "#f0f921"
                          ]
                        ],
                        "type": "heatmap"
                      }
                    ],
                    "heatmapgl": [
                      {
                        "colorbar": {
                          "outlinewidth": 0,
                          "ticks": ""
                        },
                        "colorscale": [
                          [
                            0,
                            "#0d0887"
                          ],
                          [
                            0.1111111111111111,
                            "#46039f"
                          ],
                          [
                            0.2222222222222222,
                            "#7201a8"
                          ],
                          [
                            0.3333333333333333,
                            "#9c179e"
                          ],
                          [
                            0.4444444444444444,
                            "#bd3786"
                          ],
                          [
                            0.5555555555555556,
                            "#d8576b"
                          ],
                          [
                            0.6666666666666666,
                            "#ed7953"
                          ],
                          [
                            0.7777777777777778,
                            "#fb9f3a"
                          ],
                          [
                            0.8888888888888888,
                            "#fdca26"
                          ],
                          [
                            1,
                            "#f0f921"
                          ]
                        ],
                        "type": "heatmapgl"
                      }
                    ],
                    "histogram": [
                      {
                        "marker": {
                          "pattern": {
                            "fillmode": "overlay",
                            "size": 10,
                            "solidity": 0.2
                          }
                        },
                        "type": "histogram"
                      }
                    ],
                    "histogram2d": [
                      {
                        "colorbar": {
                          "outlinewidth": 0,
                          "ticks": ""
                        },
                        "colorscale": [
                          [
                            0,
                            "#0d0887"
                          ],
                          [
                            0.1111111111111111,
                            "#46039f"
                          ],
                          [
                            0.2222222222222222,
                            "#7201a8"
                          ],
                          [
                            0.3333333333333333,
                            "#9c179e"
                          ],
                          [
                            0.4444444444444444,
                            "#bd3786"
                          ],
                          [
                            0.5555555555555556,
                            "#d8576b"
                          ],
                          [
                            0.6666666666666666,
                            "#ed7953"
                          ],
                          [
                            0.7777777777777778,
                            "#fb9f3a"
                          ],
                          [
                            0.8888888888888888,
                            "#fdca26"
                          ],
                          [
                            1,
                            "#f0f921"
                          ]
                        ],
                        "type": "histogram2d"
                      }
                    ],
                    "histogram2dcontour": [
                      {
                        "colorbar": {
                          "outlinewidth": 0,
                          "ticks": ""
                        },
                        "colorscale": [
                          [
                            0,
                            "#0d0887"
                          ],
                          [
                            0.1111111111111111,
                            "#46039f"
                          ],
                          [
                            0.2222222222222222,
                            "#7201a8"
                          ],
                          [
                            0.3333333333333333,
                            "#9c179e"
                          ],
                          [
                            0.4444444444444444,
                            "#bd3786"
                          ],
                          [
                            0.5555555555555556,
                            "#d8576b"
                          ],
                          [
                            0.6666666666666666,
                            "#ed7953"
                          ],
                          [
                            0.7777777777777778,
                            "#fb9f3a"
                          ],
                          [
                            0.8888888888888888,
                            "#fdca26"
                          ],
                          [
                            1,
                            "#f0f921"
                          ]
                        ],
                        "type": "histogram2dcontour"
                      }
                    ],
                    "mesh3d": [
                      {
                        "colorbar": {
                          "outlinewidth": 0,
                          "ticks": ""
                        },
                        "type": "mesh3d"
                      }
                    ],
                    "parcoords": [
                      {
                        "line": {
                          "colorbar": {
                            "outlinewidth": 0,
                            "ticks": ""
                          }
                        },
                        "type": "parcoords"
                      }
                    ],
                    "pie": [
                      {
                        "automargin": true,
                        "type": "pie"
                      }
                    ],
                    "scatter": [
                      {
                        "fillpattern": {
                          "fillmode": "overlay",
                          "size": 10,
                          "solidity": 0.2
                        },
                        "type": "scatter"
                      }
                    ],
                    "scatter3d": [
                      {
                        "line": {
                          "colorbar": {
                            "outlinewidth": 0,
                            "ticks": ""
                          }
                        },
                        "marker": {
                          "colorbar": {
                            "outlinewidth": 0,
                            "ticks": ""
                          }
                        },
                        "type": "scatter3d"
                      }
                    ],
                    "scattercarpet": [
                      {
                        "marker": {
                          "colorbar": {
                            "outlinewidth": 0,
                            "ticks": ""
                          }
                        },
                        "type": "scattercarpet"
                      }
                    ],
                    "scattergeo": [
                      {
                        "marker": {
                          "colorbar": {
                            "outlinewidth": 0,
                            "ticks": ""
                          }
                        },
                        "type": "scattergeo"
                      }
                    ],
                    "scattergl": [
                      {
                        "marker": {
                          "colorbar": {
                            "outlinewidth": 0,
                            "ticks": ""
                          }
                        },
                        "type": "scattergl"
                      }
                    ],
                    "scattermapbox": [
                      {
                        "marker": {
                          "colorbar": {
                            "outlinewidth": 0,
                            "ticks": ""
                          }
                        },
                        "type": "scattermapbox"
                      }
                    ],
                    "scatterpolar": [
                      {
                        "marker": {
                          "colorbar": {
                            "outlinewidth": 0,
                            "ticks": ""
                          }
                        },
                        "type": "scatterpolar"
                      }
                    ],
                    "scatterpolargl": [
                      {
                        "marker": {
                          "colorbar": {
                            "outlinewidth": 0,
                            "ticks": ""
                          }
                        },
                        "type": "scatterpolargl"
                      }
                    ],
                    "scatterternary": [
                      {
                        "marker": {
                          "colorbar": {
                            "outlinewidth": 0,
                            "ticks": ""
                          }
                        },
                        "type": "scatterternary"
                      }
                    ],
                    "surface": [
                      {
                        "colorbar": {
                          "outlinewidth": 0,
                          "ticks": ""
                        },
                        "colorscale": [
                          [
                            0,
                            "#0d0887"
                          ],
                          [
                            0.1111111111111111,
                            "#46039f"
                          ],
                          [
                            0.2222222222222222,
                            "#7201a8"
                          ],
                          [
                            0.3333333333333333,
                            "#9c179e"
                          ],
                          [
                            0.4444444444444444,
                            "#bd3786"
                          ],
                          [
                            0.5555555555555556,
                            "#d8576b"
                          ],
                          [
                            0.6666666666666666,
                            "#ed7953"
                          ],
                          [
                            0.7777777777777778,
                            "#fb9f3a"
                          ],
                          [
                            0.8888888888888888,
                            "#fdca26"
                          ],
                          [
                            1,
                            "#f0f921"
                          ]
                        ],
                        "type": "surface"
                      }
                    ],
                    "table": [
                      {
                        "cells": {
                          "fill": {
                            "color": "#EBF0F8"
                          },
                          "line": {
                            "color": "white"
                          }
                        },
                        "header": {
                          "fill": {
                            "color": "#C8D4E3"
                          },
                          "line": {
                            "color": "white"
                          }
                        },
                        "type": "table"
                      }
                    ]
                  },
                  "layout": {
                    "annotationdefaults": {
                      "arrowcolor": "#2a3f5f",
                      "arrowhead": 0,
                      "arrowwidth": 1
                    },
                    "autotypenumbers": "strict",
                    "coloraxis": {
                      "colorbar": {
                        "outlinewidth": 0,
                        "ticks": ""
                      }
                    },
                    "colorscale": {
                      "diverging": [
                        [
                          0,
                          "#8e0152"
                        ],
                        [
                          0.1,
                          "#c51b7d"
                        ],
                        [
                          0.2,
                          "#de77ae"
                        ],
                        [
                          0.3,
                          "#f1b6da"
                        ],
                        [
                          0.4,
                          "#fde0ef"
                        ],
                        [
                          0.5,
                          "#f7f7f7"
                        ],
                        [
                          0.6,
                          "#e6f5d0"
                        ],
                        [
                          0.7,
                          "#b8e186"
                        ],
                        [
                          0.8,
                          "#7fbc41"
                        ],
                        [
                          0.9,
                          "#4d9221"
                        ],
                        [
                          1,
                          "#276419"
                        ]
                      ],
                      "sequential": [
                        [
                          0,
                          "#0d0887"
                        ],
                        [
                          0.1111111111111111,
                          "#46039f"
                        ],
                        [
                          0.2222222222222222,
                          "#7201a8"
                        ],
                        [
                          0.3333333333333333,
                          "#9c179e"
                        ],
                        [
                          0.4444444444444444,
                          "#bd3786"
                        ],
                        [
                          0.5555555555555556,
                          "#d8576b"
                        ],
                        [
                          0.6666666666666666,
                          "#ed7953"
                        ],
                        [
                          0.7777777777777778,
                          "#fb9f3a"
                        ],
                        [
                          0.8888888888888888,
                          "#fdca26"
                        ],
                        [
                          1,
                          "#f0f921"
                        ]
                      ],
                      "sequentialminus": [
                        [
                          0,
                          "#0d0887"
                        ],
                        [
                          0.1111111111111111,
                          "#46039f"
                        ],
                        [
                          0.2222222222222222,
                          "#7201a8"
                        ],
                        [
                          0.3333333333333333,
                          "#9c179e"
                        ],
                        [
                          0.4444444444444444,
                          "#bd3786"
                        ],
                        [
                          0.5555555555555556,
                          "#d8576b"
                        ],
                        [
                          0.6666666666666666,
                          "#ed7953"
                        ],
                        [
                          0.7777777777777778,
                          "#fb9f3a"
                        ],
                        [
                          0.8888888888888888,
                          "#fdca26"
                        ],
                        [
                          1,
                          "#f0f921"
                        ]
                      ]
                    },
                    "colorway": [
                      "#636efa",
                      "#EF553B",
                      "#00cc96",
                      "#ab63fa",
                      "#FFA15A",
                      "#19d3f3",
                      "#FF6692",
                      "#B6E880",
                      "#FF97FF",
                      "#FECB52"
                    ],
                    "font": {
                      "color": "#2a3f5f"
                    },
                    "geo": {
                      "bgcolor": "white",
                      "lakecolor": "white",
                      "landcolor": "#E5ECF6",
                      "showlakes": true,
                      "showland": true,
                      "subunitcolor": "white"
                    },
                    "hoverlabel": {
                      "align": "left"
                    },
                    "hovermode": "closest",
                    "mapbox": {
                      "style": "light"
                    },
                    "paper_bgcolor": "white",
                    "plot_bgcolor": "#E5ECF6",
                    "polar": {
                      "angularaxis": {
                        "gridcolor": "white",
                        "linecolor": "white",
                        "ticks": ""
                      },
                      "bgcolor": "#E5ECF6",
                      "radialaxis": {
                        "gridcolor": "white",
                        "linecolor": "white",
                        "ticks": ""
                      }
                    },
                    "scene": {
                      "xaxis": {
                        "backgroundcolor": "#E5ECF6",
                        "gridcolor": "white",
                        "gridwidth": 2,
                        "linecolor": "white",
                        "showbackground": true,
                        "ticks": "",
                        "zerolinecolor": "white"
                      },
                      "yaxis": {
                        "backgroundcolor": "#E5ECF6",
                        "gridcolor": "white",
                        "gridwidth": 2,
                        "linecolor": "white",
                        "showbackground": true,
                        "ticks": "",
                        "zerolinecolor": "white"
                      },
                      "zaxis": {
                        "backgroundcolor": "#E5ECF6",
                        "gridcolor": "white",
                        "gridwidth": 2,
                        "linecolor": "white",
                        "showbackground": true,
                        "ticks": "",
                        "zerolinecolor": "white"
                      }
                    },
                    "shapedefaults": {
                      "line": {
                        "color": "#2a3f5f"
                      }
                    },
                    "ternary": {
                      "aaxis": {
                        "gridcolor": "white",
                        "linecolor": "white",
                        "ticks": ""
                      },
                      "baxis": {
                        "gridcolor": "white",
                        "linecolor": "white",
                        "ticks": ""
                      },
                      "bgcolor": "#E5ECF6",
                      "caxis": {
                        "gridcolor": "white",
                        "linecolor": "white",
                        "ticks": ""
                      }
                    },
                    "title": {
                      "x": 0.05
                    },
                    "xaxis": {
                      "automargin": true,
                      "gridcolor": "white",
                      "linecolor": "white",
                      "ticks": "",
                      "title": {
                        "standoff": 15
                      },
                      "zerolinecolor": "white",
                      "zerolinewidth": 2
                    },
                    "yaxis": {
                      "automargin": true,
                      "gridcolor": "white",
                      "linecolor": "white",
                      "ticks": "",
                      "title": {
                        "standoff": 15
                      },
                      "zerolinecolor": "white",
                      "zerolinewidth": 2
                    }
                  }
                },
                "title": {
                  "text": "Wide-Form Input"
                },
                "xaxis": {
                  "anchor": "y",
                  "domain": [
                    0,
                    1
                  ],
                  "title": {
                    "text": "City"
                  }
                },
                "yaxis": {
                  "anchor": "x",
                  "domain": [
                    0,
                    1
                  ],
                  "title": {
                    "text": "value"
                  }
                }
              }
            }
          },
          "metadata": {},
          "output_type": "display_data"
        }
      ],
      "source": [
        "edu.columns = ['Lower Percentage', 'Count']\n",
        "role.columns = ['Upper Percentage', 'Count']\n",
        "fig = px.bar(data, x=\"City\", y=[\"Lower Percentage\", \"Upper Percentage\"], title=\"Wide-Form Input\")\n",
        "fig.show()"
      ]
    },
    {
      "cell_type": "code",
      "execution_count": 31,
      "metadata": {},
      "outputs": [
        {
          "data": {
            "application/vnd.plotly.v1+json": {
              "config": {
                "plotlyServerURL": "https://plot.ly"
              },
              "data": [
                {
                  "alignmentgroup": "True",
                  "hovertemplate": "Risk Level=High<br>Return Earned=%{x}<br>Frequency=%{y}<extra></extra>",
                  "legendgroup": "High",
                  "marker": {
                    "color": "#636efa",
                    "pattern": {
                      "shape": ""
                    }
                  },
                  "name": "High",
                  "offsetgroup": "High",
                  "orientation": "v",
                  "showlegend": true,
                  "textposition": "auto",
                  "type": "bar",
                  "x": [
                    "1 to 4",
                    "10 to 12 ",
                    "5 to 6",
                    "7 to 9",
                    "More than 13",
                    "Negative Return"
                  ],
                  "xaxis": "x",
                  "y": [
                    52,
                    46,
                    48,
                    40,
                    45,
                    50
                  ],
                  "yaxis": "y"
                },
                {
                  "alignmentgroup": "True",
                  "hovertemplate": "Risk Level=Low<br>Return Earned=%{x}<br>Frequency=%{y}<extra></extra>",
                  "legendgroup": "Low",
                  "marker": {
                    "color": "#EF553B",
                    "pattern": {
                      "shape": ""
                    }
                  },
                  "name": "Low",
                  "offsetgroup": "Low",
                  "orientation": "v",
                  "showlegend": true,
                  "textposition": "auto",
                  "type": "bar",
                  "x": [
                    "1 to 4",
                    "10 to 12 ",
                    "5 to 6",
                    "7 to 9",
                    "More than 13",
                    "Negative Return"
                  ],
                  "xaxis": "x",
                  "y": [
                    46,
                    51,
                    50,
                    37,
                    35,
                    51
                  ],
                  "yaxis": "y"
                },
                {
                  "alignmentgroup": "True",
                  "hovertemplate": "Risk Level=Medium<br>Return Earned=%{x}<br>Frequency=%{y}<extra></extra>",
                  "legendgroup": "Medium",
                  "marker": {
                    "color": "#00cc96",
                    "pattern": {
                      "shape": ""
                    }
                  },
                  "name": "Medium",
                  "offsetgroup": "Medium",
                  "orientation": "v",
                  "showlegend": true,
                  "textposition": "auto",
                  "type": "bar",
                  "x": [
                    "1 to 4",
                    "10 to 12 ",
                    "5 to 6",
                    "7 to 9",
                    "More than 13",
                    "Negative Return"
                  ],
                  "xaxis": "x",
                  "y": [
                    40,
                    45,
                    44,
                    45,
                    36,
                    49
                  ],
                  "yaxis": "y"
                }
              ],
              "layout": {
                "barmode": "relative",
                "legend": {
                  "title": {
                    "text": "Risk Level"
                  },
                  "tracegroupgap": 0
                },
                "template": {
                  "data": {
                    "bar": [
                      {
                        "error_x": {
                          "color": "#2a3f5f"
                        },
                        "error_y": {
                          "color": "#2a3f5f"
                        },
                        "marker": {
                          "line": {
                            "color": "#E5ECF6",
                            "width": 0.5
                          },
                          "pattern": {
                            "fillmode": "overlay",
                            "size": 10,
                            "solidity": 0.2
                          }
                        },
                        "type": "bar"
                      }
                    ],
                    "barpolar": [
                      {
                        "marker": {
                          "line": {
                            "color": "#E5ECF6",
                            "width": 0.5
                          },
                          "pattern": {
                            "fillmode": "overlay",
                            "size": 10,
                            "solidity": 0.2
                          }
                        },
                        "type": "barpolar"
                      }
                    ],
                    "carpet": [
                      {
                        "aaxis": {
                          "endlinecolor": "#2a3f5f",
                          "gridcolor": "white",
                          "linecolor": "white",
                          "minorgridcolor": "white",
                          "startlinecolor": "#2a3f5f"
                        },
                        "baxis": {
                          "endlinecolor": "#2a3f5f",
                          "gridcolor": "white",
                          "linecolor": "white",
                          "minorgridcolor": "white",
                          "startlinecolor": "#2a3f5f"
                        },
                        "type": "carpet"
                      }
                    ],
                    "choropleth": [
                      {
                        "colorbar": {
                          "outlinewidth": 0,
                          "ticks": ""
                        },
                        "type": "choropleth"
                      }
                    ],
                    "contour": [
                      {
                        "colorbar": {
                          "outlinewidth": 0,
                          "ticks": ""
                        },
                        "colorscale": [
                          [
                            0,
                            "#0d0887"
                          ],
                          [
                            0.1111111111111111,
                            "#46039f"
                          ],
                          [
                            0.2222222222222222,
                            "#7201a8"
                          ],
                          [
                            0.3333333333333333,
                            "#9c179e"
                          ],
                          [
                            0.4444444444444444,
                            "#bd3786"
                          ],
                          [
                            0.5555555555555556,
                            "#d8576b"
                          ],
                          [
                            0.6666666666666666,
                            "#ed7953"
                          ],
                          [
                            0.7777777777777778,
                            "#fb9f3a"
                          ],
                          [
                            0.8888888888888888,
                            "#fdca26"
                          ],
                          [
                            1,
                            "#f0f921"
                          ]
                        ],
                        "type": "contour"
                      }
                    ],
                    "contourcarpet": [
                      {
                        "colorbar": {
                          "outlinewidth": 0,
                          "ticks": ""
                        },
                        "type": "contourcarpet"
                      }
                    ],
                    "heatmap": [
                      {
                        "colorbar": {
                          "outlinewidth": 0,
                          "ticks": ""
                        },
                        "colorscale": [
                          [
                            0,
                            "#0d0887"
                          ],
                          [
                            0.1111111111111111,
                            "#46039f"
                          ],
                          [
                            0.2222222222222222,
                            "#7201a8"
                          ],
                          [
                            0.3333333333333333,
                            "#9c179e"
                          ],
                          [
                            0.4444444444444444,
                            "#bd3786"
                          ],
                          [
                            0.5555555555555556,
                            "#d8576b"
                          ],
                          [
                            0.6666666666666666,
                            "#ed7953"
                          ],
                          [
                            0.7777777777777778,
                            "#fb9f3a"
                          ],
                          [
                            0.8888888888888888,
                            "#fdca26"
                          ],
                          [
                            1,
                            "#f0f921"
                          ]
                        ],
                        "type": "heatmap"
                      }
                    ],
                    "heatmapgl": [
                      {
                        "colorbar": {
                          "outlinewidth": 0,
                          "ticks": ""
                        },
                        "colorscale": [
                          [
                            0,
                            "#0d0887"
                          ],
                          [
                            0.1111111111111111,
                            "#46039f"
                          ],
                          [
                            0.2222222222222222,
                            "#7201a8"
                          ],
                          [
                            0.3333333333333333,
                            "#9c179e"
                          ],
                          [
                            0.4444444444444444,
                            "#bd3786"
                          ],
                          [
                            0.5555555555555556,
                            "#d8576b"
                          ],
                          [
                            0.6666666666666666,
                            "#ed7953"
                          ],
                          [
                            0.7777777777777778,
                            "#fb9f3a"
                          ],
                          [
                            0.8888888888888888,
                            "#fdca26"
                          ],
                          [
                            1,
                            "#f0f921"
                          ]
                        ],
                        "type": "heatmapgl"
                      }
                    ],
                    "histogram": [
                      {
                        "marker": {
                          "pattern": {
                            "fillmode": "overlay",
                            "size": 10,
                            "solidity": 0.2
                          }
                        },
                        "type": "histogram"
                      }
                    ],
                    "histogram2d": [
                      {
                        "colorbar": {
                          "outlinewidth": 0,
                          "ticks": ""
                        },
                        "colorscale": [
                          [
                            0,
                            "#0d0887"
                          ],
                          [
                            0.1111111111111111,
                            "#46039f"
                          ],
                          [
                            0.2222222222222222,
                            "#7201a8"
                          ],
                          [
                            0.3333333333333333,
                            "#9c179e"
                          ],
                          [
                            0.4444444444444444,
                            "#bd3786"
                          ],
                          [
                            0.5555555555555556,
                            "#d8576b"
                          ],
                          [
                            0.6666666666666666,
                            "#ed7953"
                          ],
                          [
                            0.7777777777777778,
                            "#fb9f3a"
                          ],
                          [
                            0.8888888888888888,
                            "#fdca26"
                          ],
                          [
                            1,
                            "#f0f921"
                          ]
                        ],
                        "type": "histogram2d"
                      }
                    ],
                    "histogram2dcontour": [
                      {
                        "colorbar": {
                          "outlinewidth": 0,
                          "ticks": ""
                        },
                        "colorscale": [
                          [
                            0,
                            "#0d0887"
                          ],
                          [
                            0.1111111111111111,
                            "#46039f"
                          ],
                          [
                            0.2222222222222222,
                            "#7201a8"
                          ],
                          [
                            0.3333333333333333,
                            "#9c179e"
                          ],
                          [
                            0.4444444444444444,
                            "#bd3786"
                          ],
                          [
                            0.5555555555555556,
                            "#d8576b"
                          ],
                          [
                            0.6666666666666666,
                            "#ed7953"
                          ],
                          [
                            0.7777777777777778,
                            "#fb9f3a"
                          ],
                          [
                            0.8888888888888888,
                            "#fdca26"
                          ],
                          [
                            1,
                            "#f0f921"
                          ]
                        ],
                        "type": "histogram2dcontour"
                      }
                    ],
                    "mesh3d": [
                      {
                        "colorbar": {
                          "outlinewidth": 0,
                          "ticks": ""
                        },
                        "type": "mesh3d"
                      }
                    ],
                    "parcoords": [
                      {
                        "line": {
                          "colorbar": {
                            "outlinewidth": 0,
                            "ticks": ""
                          }
                        },
                        "type": "parcoords"
                      }
                    ],
                    "pie": [
                      {
                        "automargin": true,
                        "type": "pie"
                      }
                    ],
                    "scatter": [
                      {
                        "fillpattern": {
                          "fillmode": "overlay",
                          "size": 10,
                          "solidity": 0.2
                        },
                        "type": "scatter"
                      }
                    ],
                    "scatter3d": [
                      {
                        "line": {
                          "colorbar": {
                            "outlinewidth": 0,
                            "ticks": ""
                          }
                        },
                        "marker": {
                          "colorbar": {
                            "outlinewidth": 0,
                            "ticks": ""
                          }
                        },
                        "type": "scatter3d"
                      }
                    ],
                    "scattercarpet": [
                      {
                        "marker": {
                          "colorbar": {
                            "outlinewidth": 0,
                            "ticks": ""
                          }
                        },
                        "type": "scattercarpet"
                      }
                    ],
                    "scattergeo": [
                      {
                        "marker": {
                          "colorbar": {
                            "outlinewidth": 0,
                            "ticks": ""
                          }
                        },
                        "type": "scattergeo"
                      }
                    ],
                    "scattergl": [
                      {
                        "marker": {
                          "colorbar": {
                            "outlinewidth": 0,
                            "ticks": ""
                          }
                        },
                        "type": "scattergl"
                      }
                    ],
                    "scattermapbox": [
                      {
                        "marker": {
                          "colorbar": {
                            "outlinewidth": 0,
                            "ticks": ""
                          }
                        },
                        "type": "scattermapbox"
                      }
                    ],
                    "scatterpolar": [
                      {
                        "marker": {
                          "colorbar": {
                            "outlinewidth": 0,
                            "ticks": ""
                          }
                        },
                        "type": "scatterpolar"
                      }
                    ],
                    "scatterpolargl": [
                      {
                        "marker": {
                          "colorbar": {
                            "outlinewidth": 0,
                            "ticks": ""
                          }
                        },
                        "type": "scatterpolargl"
                      }
                    ],
                    "scatterternary": [
                      {
                        "marker": {
                          "colorbar": {
                            "outlinewidth": 0,
                            "ticks": ""
                          }
                        },
                        "type": "scatterternary"
                      }
                    ],
                    "surface": [
                      {
                        "colorbar": {
                          "outlinewidth": 0,
                          "ticks": ""
                        },
                        "colorscale": [
                          [
                            0,
                            "#0d0887"
                          ],
                          [
                            0.1111111111111111,
                            "#46039f"
                          ],
                          [
                            0.2222222222222222,
                            "#7201a8"
                          ],
                          [
                            0.3333333333333333,
                            "#9c179e"
                          ],
                          [
                            0.4444444444444444,
                            "#bd3786"
                          ],
                          [
                            0.5555555555555556,
                            "#d8576b"
                          ],
                          [
                            0.6666666666666666,
                            "#ed7953"
                          ],
                          [
                            0.7777777777777778,
                            "#fb9f3a"
                          ],
                          [
                            0.8888888888888888,
                            "#fdca26"
                          ],
                          [
                            1,
                            "#f0f921"
                          ]
                        ],
                        "type": "surface"
                      }
                    ],
                    "table": [
                      {
                        "cells": {
                          "fill": {
                            "color": "#EBF0F8"
                          },
                          "line": {
                            "color": "white"
                          }
                        },
                        "header": {
                          "fill": {
                            "color": "#C8D4E3"
                          },
                          "line": {
                            "color": "white"
                          }
                        },
                        "type": "table"
                      }
                    ]
                  },
                  "layout": {
                    "annotationdefaults": {
                      "arrowcolor": "#2a3f5f",
                      "arrowhead": 0,
                      "arrowwidth": 1
                    },
                    "autotypenumbers": "strict",
                    "coloraxis": {
                      "colorbar": {
                        "outlinewidth": 0,
                        "ticks": ""
                      }
                    },
                    "colorscale": {
                      "diverging": [
                        [
                          0,
                          "#8e0152"
                        ],
                        [
                          0.1,
                          "#c51b7d"
                        ],
                        [
                          0.2,
                          "#de77ae"
                        ],
                        [
                          0.3,
                          "#f1b6da"
                        ],
                        [
                          0.4,
                          "#fde0ef"
                        ],
                        [
                          0.5,
                          "#f7f7f7"
                        ],
                        [
                          0.6,
                          "#e6f5d0"
                        ],
                        [
                          0.7,
                          "#b8e186"
                        ],
                        [
                          0.8,
                          "#7fbc41"
                        ],
                        [
                          0.9,
                          "#4d9221"
                        ],
                        [
                          1,
                          "#276419"
                        ]
                      ],
                      "sequential": [
                        [
                          0,
                          "#0d0887"
                        ],
                        [
                          0.1111111111111111,
                          "#46039f"
                        ],
                        [
                          0.2222222222222222,
                          "#7201a8"
                        ],
                        [
                          0.3333333333333333,
                          "#9c179e"
                        ],
                        [
                          0.4444444444444444,
                          "#bd3786"
                        ],
                        [
                          0.5555555555555556,
                          "#d8576b"
                        ],
                        [
                          0.6666666666666666,
                          "#ed7953"
                        ],
                        [
                          0.7777777777777778,
                          "#fb9f3a"
                        ],
                        [
                          0.8888888888888888,
                          "#fdca26"
                        ],
                        [
                          1,
                          "#f0f921"
                        ]
                      ],
                      "sequentialminus": [
                        [
                          0,
                          "#0d0887"
                        ],
                        [
                          0.1111111111111111,
                          "#46039f"
                        ],
                        [
                          0.2222222222222222,
                          "#7201a8"
                        ],
                        [
                          0.3333333333333333,
                          "#9c179e"
                        ],
                        [
                          0.4444444444444444,
                          "#bd3786"
                        ],
                        [
                          0.5555555555555556,
                          "#d8576b"
                        ],
                        [
                          0.6666666666666666,
                          "#ed7953"
                        ],
                        [
                          0.7777777777777778,
                          "#fb9f3a"
                        ],
                        [
                          0.8888888888888888,
                          "#fdca26"
                        ],
                        [
                          1,
                          "#f0f921"
                        ]
                      ]
                    },
                    "colorway": [
                      "#636efa",
                      "#EF553B",
                      "#00cc96",
                      "#ab63fa",
                      "#FFA15A",
                      "#19d3f3",
                      "#FF6692",
                      "#B6E880",
                      "#FF97FF",
                      "#FECB52"
                    ],
                    "font": {
                      "color": "#2a3f5f"
                    },
                    "geo": {
                      "bgcolor": "white",
                      "lakecolor": "white",
                      "landcolor": "#E5ECF6",
                      "showlakes": true,
                      "showland": true,
                      "subunitcolor": "white"
                    },
                    "hoverlabel": {
                      "align": "left"
                    },
                    "hovermode": "closest",
                    "mapbox": {
                      "style": "light"
                    },
                    "paper_bgcolor": "white",
                    "plot_bgcolor": "#E5ECF6",
                    "polar": {
                      "angularaxis": {
                        "gridcolor": "white",
                        "linecolor": "white",
                        "ticks": ""
                      },
                      "bgcolor": "#E5ECF6",
                      "radialaxis": {
                        "gridcolor": "white",
                        "linecolor": "white",
                        "ticks": ""
                      }
                    },
                    "scene": {
                      "xaxis": {
                        "backgroundcolor": "#E5ECF6",
                        "gridcolor": "white",
                        "gridwidth": 2,
                        "linecolor": "white",
                        "showbackground": true,
                        "ticks": "",
                        "zerolinecolor": "white"
                      },
                      "yaxis": {
                        "backgroundcolor": "#E5ECF6",
                        "gridcolor": "white",
                        "gridwidth": 2,
                        "linecolor": "white",
                        "showbackground": true,
                        "ticks": "",
                        "zerolinecolor": "white"
                      },
                      "zaxis": {
                        "backgroundcolor": "#E5ECF6",
                        "gridcolor": "white",
                        "gridwidth": 2,
                        "linecolor": "white",
                        "showbackground": true,
                        "ticks": "",
                        "zerolinecolor": "white"
                      }
                    },
                    "shapedefaults": {
                      "line": {
                        "color": "#2a3f5f"
                      }
                    },
                    "ternary": {
                      "aaxis": {
                        "gridcolor": "white",
                        "linecolor": "white",
                        "ticks": ""
                      },
                      "baxis": {
                        "gridcolor": "white",
                        "linecolor": "white",
                        "ticks": ""
                      },
                      "bgcolor": "#E5ECF6",
                      "caxis": {
                        "gridcolor": "white",
                        "linecolor": "white",
                        "ticks": ""
                      }
                    },
                    "title": {
                      "x": 0.05
                    },
                    "xaxis": {
                      "automargin": true,
                      "gridcolor": "white",
                      "linecolor": "white",
                      "ticks": "",
                      "title": {
                        "standoff": 15
                      },
                      "zerolinecolor": "white",
                      "zerolinewidth": 2
                    },
                    "yaxis": {
                      "automargin": true,
                      "gridcolor": "white",
                      "linecolor": "white",
                      "ticks": "",
                      "title": {
                        "standoff": 15
                      },
                      "zerolinecolor": "white",
                      "zerolinewidth": 2
                    }
                  }
                },
                "title": {
                  "text": "Relationship between Return and Risk"
                },
                "xaxis": {
                  "anchor": "y",
                  "domain": [
                    0,
                    1
                  ],
                  "title": {
                    "text": "Return Earned"
                  }
                },
                "yaxis": {
                  "anchor": "x",
                  "domain": [
                    0,
                    1
                  ],
                  "title": {
                    "text": "Frequency"
                  }
                }
              }
            }
          },
          "metadata": {},
          "output_type": "display_data"
        }
      ],
      "source": [
        "risk_return_counts = data.groupby(['Return Earned', 'Risk Level']).size().reset_index(name='Count')\n",
        "\n",
        "# Create a bar chart to visualize the relationship between 'Return' and 'Risk'\n",
        "bar_chart = px.bar(risk_return_counts, x='Return Earned', y='Count', color='Risk Level',\n",
        "                    title='Relationship between Return and Risk',\n",
        "                    labels={'Return': 'Return Level', 'Count': 'Frequency'})\n",
        "\n",
        "# Show the plot\n",
        "bar_chart.show()"
      ]
    },
    {
      "cell_type": "code",
      "execution_count": null,
      "metadata": {},
      "outputs": [],
      "source": []
    }
  ],
  "metadata": {
    "colab": {
      "provenance": []
    },
    "kernelspec": {
      "display_name": "Python 3",
      "name": "python3"
    },
    "language_info": {
      "codemirror_mode": {
        "name": "ipython",
        "version": 3
      },
      "file_extension": ".py",
      "mimetype": "text/x-python",
      "name": "python",
      "nbconvert_exporter": "python",
      "pygments_lexer": "ipython3",
      "version": "3.11.3"
    }
  },
  "nbformat": 4,
  "nbformat_minor": 0
}
