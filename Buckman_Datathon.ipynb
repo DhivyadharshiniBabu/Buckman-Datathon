{
 "cells": [
  {
   "cell_type": "code",
   "execution_count": 2,
   "metadata": {},
   "outputs": [],
   "source": [
    "import pandas as pd\n",
    "import numpy as np\n",
    "import plotly.express as px\n",
    "from sklearn.preprocessing import LabelEncoder\n",
    "import plotly.graph_objects as go"
   ]
  },
  {
   "cell_type": "code",
   "execution_count": 3,
   "metadata": {},
   "outputs": [
    {
     "data": {
      "text/html": [
       "<div>\n",
       "<style scoped>\n",
       "    .dataframe tbody tr th:only-of-type {\n",
       "        vertical-align: middle;\n",
       "    }\n",
       "\n",
       "    .dataframe tbody tr th {\n",
       "        vertical-align: top;\n",
       "    }\n",
       "\n",
       "    .dataframe thead th {\n",
       "        text-align: right;\n",
       "    }\n",
       "</style>\n",
       "<table border=\"1\" class=\"dataframe\">\n",
       "  <thead>\n",
       "    <tr style=\"text-align: right;\">\n",
       "      <th></th>\n",
       "      <th>S. No.</th>\n",
       "      <th>City</th>\n",
       "      <th>Gender</th>\n",
       "      <th>Marital Status</th>\n",
       "      <th>Age</th>\n",
       "      <th>Education</th>\n",
       "      <th>Role</th>\n",
       "      <th>Number of investors in family</th>\n",
       "      <th>Household Income</th>\n",
       "      <th>Percentage of Investment</th>\n",
       "      <th>Source of Awareness about Investment</th>\n",
       "      <th>Knowledge level about different investment product</th>\n",
       "      <th>Knowledge level about sharemarket</th>\n",
       "      <th>Knowledge about Govt. Schemes</th>\n",
       "      <th>Investment Influencer</th>\n",
       "      <th>Investment Experience</th>\n",
       "      <th>Risk Level</th>\n",
       "      <th>Return Earned</th>\n",
       "      <th>Reason for Investment</th>\n",
       "    </tr>\n",
       "  </thead>\n",
       "  <tbody>\n",
       "    <tr>\n",
       "      <th>0</th>\n",
       "      <td>1</td>\n",
       "      <td>New York</td>\n",
       "      <td>Men</td>\n",
       "      <td>Never Married</td>\n",
       "      <td>Early Working</td>\n",
       "      <td>Secondary</td>\n",
       "      <td>Marketing and Sales Executive</td>\n",
       "      <td>2</td>\n",
       "      <td>US$ 2736 to US$ 8205</td>\n",
       "      <td>Don't Want to Reveal</td>\n",
       "      <td>Television</td>\n",
       "      <td>7</td>\n",
       "      <td>9</td>\n",
       "      <td>4</td>\n",
       "      <td>Family Reference</td>\n",
       "      <td>Less Than 1 Year</td>\n",
       "      <td>Low</td>\n",
       "      <td>Negative Return</td>\n",
       "      <td>Tax</td>\n",
       "    </tr>\n",
       "    <tr>\n",
       "      <th>1</th>\n",
       "      <td>2</td>\n",
       "      <td>New York</td>\n",
       "      <td>Women</td>\n",
       "      <td>Married</td>\n",
       "      <td>Early Working</td>\n",
       "      <td>Middle</td>\n",
       "      <td>Advertising and Promotion Executive</td>\n",
       "      <td>2</td>\n",
       "      <td>US$ 19146 to US$ 24615</td>\n",
       "      <td>Don't Want to Reveal</td>\n",
       "      <td>Workers</td>\n",
       "      <td>7</td>\n",
       "      <td>5</td>\n",
       "      <td>2</td>\n",
       "      <td>Workers Reference</td>\n",
       "      <td>Less Than 1 Year</td>\n",
       "      <td>Low</td>\n",
       "      <td>10 to 12</td>\n",
       "      <td>Others</td>\n",
       "    </tr>\n",
       "    <tr>\n",
       "      <th>2</th>\n",
       "      <td>3</td>\n",
       "      <td>Seattle</td>\n",
       "      <td>Women</td>\n",
       "      <td>Married</td>\n",
       "      <td>Early Working</td>\n",
       "      <td>Teritary</td>\n",
       "      <td>Training and Development Executive</td>\n",
       "      <td>2</td>\n",
       "      <td>US$ 2736 to US$ 8205</td>\n",
       "      <td>Above 26%</td>\n",
       "      <td>Family</td>\n",
       "      <td>4</td>\n",
       "      <td>3</td>\n",
       "      <td>2</td>\n",
       "      <td>Friends Reference</td>\n",
       "      <td>Above 9 Years</td>\n",
       "      <td>Low</td>\n",
       "      <td>1 to 4</td>\n",
       "      <td>Return</td>\n",
       "    </tr>\n",
       "    <tr>\n",
       "      <th>3</th>\n",
       "      <td>4</td>\n",
       "      <td>San Francisco</td>\n",
       "      <td>Men</td>\n",
       "      <td>Never Married</td>\n",
       "      <td>Elderly</td>\n",
       "      <td>Uneducated</td>\n",
       "      <td>Training and Development Executive</td>\n",
       "      <td>5</td>\n",
       "      <td>US$ 19146 to US$ 24615</td>\n",
       "      <td>16% to 20%</td>\n",
       "      <td>Family</td>\n",
       "      <td>5</td>\n",
       "      <td>1</td>\n",
       "      <td>3</td>\n",
       "      <td>Friends Reference</td>\n",
       "      <td>7 Years to 9 Years</td>\n",
       "      <td>Low</td>\n",
       "      <td>10 to 12</td>\n",
       "      <td>Tax</td>\n",
       "    </tr>\n",
       "    <tr>\n",
       "      <th>4</th>\n",
       "      <td>5</td>\n",
       "      <td>San Francisco</td>\n",
       "      <td>Men</td>\n",
       "      <td>Married</td>\n",
       "      <td>Prime Working</td>\n",
       "      <td>Primary</td>\n",
       "      <td>Computer and Information System Executive</td>\n",
       "      <td>2</td>\n",
       "      <td>US$ 13676 to US$ 19145</td>\n",
       "      <td>16% to 20%</td>\n",
       "      <td>Workers</td>\n",
       "      <td>6</td>\n",
       "      <td>10</td>\n",
       "      <td>5</td>\n",
       "      <td>Family Reference</td>\n",
       "      <td>Above 9 Years</td>\n",
       "      <td>Low</td>\n",
       "      <td>5 to 6</td>\n",
       "      <td>Fun and Exitement</td>\n",
       "    </tr>\n",
       "  </tbody>\n",
       "</table>\n",
       "</div>"
      ],
      "text/plain": [
       "   S. No.           City Gender Marital Status            Age   Education  \\\n",
       "0       1       New York    Men  Never Married  Early Working   Secondary   \n",
       "1       2       New York  Women        Married  Early Working      Middle   \n",
       "2       3        Seattle  Women        Married  Early Working    Teritary   \n",
       "3       4  San Francisco    Men  Never Married        Elderly  Uneducated   \n",
       "4       5  San Francisco    Men        Married  Prime Working     Primary   \n",
       "\n",
       "                                        Role  Number of investors in family  \\\n",
       "0              Marketing and Sales Executive                              2   \n",
       "1        Advertising and Promotion Executive                              2   \n",
       "2         Training and Development Executive                              2   \n",
       "3         Training and Development Executive                              5   \n",
       "4  Computer and Information System Executive                              2   \n",
       "\n",
       "         Household Income Percentage of Investment  \\\n",
       "0    US$ 2736 to US$ 8205     Don't Want to Reveal   \n",
       "1  US$ 19146 to US$ 24615     Don't Want to Reveal   \n",
       "2    US$ 2736 to US$ 8205                Above 26%   \n",
       "3  US$ 19146 to US$ 24615               16% to 20%   \n",
       "4  US$ 13676 to US$ 19145               16% to 20%   \n",
       "\n",
       "  Source of Awareness about Investment  \\\n",
       "0                           Television   \n",
       "1                              Workers   \n",
       "2                               Family   \n",
       "3                               Family   \n",
       "4                              Workers   \n",
       "\n",
       "   Knowledge level about different investment product  \\\n",
       "0                                                  7    \n",
       "1                                                  7    \n",
       "2                                                  4    \n",
       "3                                                  5    \n",
       "4                                                  6    \n",
       "\n",
       "   Knowledge level about sharemarket  Knowledge about Govt. Schemes  \\\n",
       "0                                  9                              4   \n",
       "1                                  5                              2   \n",
       "2                                  3                              2   \n",
       "3                                  1                              3   \n",
       "4                                 10                              5   \n",
       "\n",
       "  Investment Influencer Investment Experience Risk Level    Return Earned  \\\n",
       "0      Family Reference      Less Than 1 Year        Low  Negative Return   \n",
       "1     Workers Reference      Less Than 1 Year        Low        10 to 12    \n",
       "2     Friends Reference         Above 9 Years        Low           1 to 4   \n",
       "3     Friends Reference    7 Years to 9 Years        Low        10 to 12    \n",
       "4      Family Reference         Above 9 Years        Low           5 to 6   \n",
       "\n",
       "  Reason for Investment  \n",
       "0                   Tax  \n",
       "1                Others  \n",
       "2                Return  \n",
       "3                   Tax  \n",
       "4     Fun and Exitement  "
      ]
     },
     "execution_count": 3,
     "metadata": {},
     "output_type": "execute_result"
    }
   ],
   "source": [
    "df=pd.read_excel('C:/DATA SCIENCE/PLACEMENT/Buckman/Sample Data for shortlisting.xlsx')\n",
    "df.head()"
   ]
  },
  {
   "cell_type": "code",
   "execution_count": 4,
   "metadata": {},
   "outputs": [
    {
     "data": {
      "text/html": [
       "<div>\n",
       "<style scoped>\n",
       "    .dataframe tbody tr th:only-of-type {\n",
       "        vertical-align: middle;\n",
       "    }\n",
       "\n",
       "    .dataframe tbody tr th {\n",
       "        vertical-align: top;\n",
       "    }\n",
       "\n",
       "    .dataframe thead th {\n",
       "        text-align: right;\n",
       "    }\n",
       "</style>\n",
       "<table border=\"1\" class=\"dataframe\">\n",
       "  <thead>\n",
       "    <tr style=\"text-align: right;\">\n",
       "      <th></th>\n",
       "      <th>City</th>\n",
       "      <th>Gender</th>\n",
       "      <th>Marital Status</th>\n",
       "      <th>Age</th>\n",
       "      <th>Education</th>\n",
       "      <th>Role</th>\n",
       "      <th>Number of investors in family</th>\n",
       "      <th>Household Income</th>\n",
       "      <th>Percentage of Investment</th>\n",
       "      <th>Source of Awareness about Investment</th>\n",
       "      <th>Knowledge level about different investment product</th>\n",
       "      <th>Knowledge level about sharemarket</th>\n",
       "      <th>Knowledge about Govt. Schemes</th>\n",
       "      <th>Investment Influencer</th>\n",
       "      <th>Investment Experience</th>\n",
       "      <th>Risk Level</th>\n",
       "      <th>Return Earned</th>\n",
       "      <th>Reason for Investment</th>\n",
       "    </tr>\n",
       "    <tr>\n",
       "      <th>S. No.</th>\n",
       "      <th></th>\n",
       "      <th></th>\n",
       "      <th></th>\n",
       "      <th></th>\n",
       "      <th></th>\n",
       "      <th></th>\n",
       "      <th></th>\n",
       "      <th></th>\n",
       "      <th></th>\n",
       "      <th></th>\n",
       "      <th></th>\n",
       "      <th></th>\n",
       "      <th></th>\n",
       "      <th></th>\n",
       "      <th></th>\n",
       "      <th></th>\n",
       "      <th></th>\n",
       "      <th></th>\n",
       "    </tr>\n",
       "  </thead>\n",
       "  <tbody>\n",
       "    <tr>\n",
       "      <th>1</th>\n",
       "      <td>New York</td>\n",
       "      <td>Men</td>\n",
       "      <td>Never Married</td>\n",
       "      <td>Early Working</td>\n",
       "      <td>Secondary</td>\n",
       "      <td>Marketing and Sales Executive</td>\n",
       "      <td>2</td>\n",
       "      <td>US$ 2736 to US$ 8205</td>\n",
       "      <td>Don't Want to Reveal</td>\n",
       "      <td>Television</td>\n",
       "      <td>7</td>\n",
       "      <td>9</td>\n",
       "      <td>4</td>\n",
       "      <td>Family Reference</td>\n",
       "      <td>Less Than 1 Year</td>\n",
       "      <td>Low</td>\n",
       "      <td>Negative Return</td>\n",
       "      <td>Tax</td>\n",
       "    </tr>\n",
       "    <tr>\n",
       "      <th>2</th>\n",
       "      <td>New York</td>\n",
       "      <td>Women</td>\n",
       "      <td>Married</td>\n",
       "      <td>Early Working</td>\n",
       "      <td>Middle</td>\n",
       "      <td>Advertising and Promotion Executive</td>\n",
       "      <td>2</td>\n",
       "      <td>US$ 19146 to US$ 24615</td>\n",
       "      <td>Don't Want to Reveal</td>\n",
       "      <td>Workers</td>\n",
       "      <td>7</td>\n",
       "      <td>5</td>\n",
       "      <td>2</td>\n",
       "      <td>Workers Reference</td>\n",
       "      <td>Less Than 1 Year</td>\n",
       "      <td>Low</td>\n",
       "      <td>10 to 12</td>\n",
       "      <td>Others</td>\n",
       "    </tr>\n",
       "    <tr>\n",
       "      <th>3</th>\n",
       "      <td>Seattle</td>\n",
       "      <td>Women</td>\n",
       "      <td>Married</td>\n",
       "      <td>Early Working</td>\n",
       "      <td>Teritary</td>\n",
       "      <td>Training and Development Executive</td>\n",
       "      <td>2</td>\n",
       "      <td>US$ 2736 to US$ 8205</td>\n",
       "      <td>Above 26%</td>\n",
       "      <td>Family</td>\n",
       "      <td>4</td>\n",
       "      <td>3</td>\n",
       "      <td>2</td>\n",
       "      <td>Friends Reference</td>\n",
       "      <td>Above 9 Years</td>\n",
       "      <td>Low</td>\n",
       "      <td>1 to 4</td>\n",
       "      <td>Return</td>\n",
       "    </tr>\n",
       "    <tr>\n",
       "      <th>4</th>\n",
       "      <td>San Francisco</td>\n",
       "      <td>Men</td>\n",
       "      <td>Never Married</td>\n",
       "      <td>Elderly</td>\n",
       "      <td>Uneducated</td>\n",
       "      <td>Training and Development Executive</td>\n",
       "      <td>5</td>\n",
       "      <td>US$ 19146 to US$ 24615</td>\n",
       "      <td>16% to 20%</td>\n",
       "      <td>Family</td>\n",
       "      <td>5</td>\n",
       "      <td>1</td>\n",
       "      <td>3</td>\n",
       "      <td>Friends Reference</td>\n",
       "      <td>7 Years to 9 Years</td>\n",
       "      <td>Low</td>\n",
       "      <td>10 to 12</td>\n",
       "      <td>Tax</td>\n",
       "    </tr>\n",
       "    <tr>\n",
       "      <th>5</th>\n",
       "      <td>San Francisco</td>\n",
       "      <td>Men</td>\n",
       "      <td>Married</td>\n",
       "      <td>Prime Working</td>\n",
       "      <td>Primary</td>\n",
       "      <td>Computer and Information System Executive</td>\n",
       "      <td>2</td>\n",
       "      <td>US$ 13676 to US$ 19145</td>\n",
       "      <td>16% to 20%</td>\n",
       "      <td>Workers</td>\n",
       "      <td>6</td>\n",
       "      <td>10</td>\n",
       "      <td>5</td>\n",
       "      <td>Family Reference</td>\n",
       "      <td>Above 9 Years</td>\n",
       "      <td>Low</td>\n",
       "      <td>5 to 6</td>\n",
       "      <td>Fun and Exitement</td>\n",
       "    </tr>\n",
       "  </tbody>\n",
       "</table>\n",
       "</div>"
      ],
      "text/plain": [
       "                 City Gender Marital Status            Age   Education  \\\n",
       "S. No.                                                                   \n",
       "1            New York    Men  Never Married  Early Working   Secondary   \n",
       "2            New York  Women        Married  Early Working      Middle   \n",
       "3             Seattle  Women        Married  Early Working    Teritary   \n",
       "4       San Francisco    Men  Never Married        Elderly  Uneducated   \n",
       "5       San Francisco    Men        Married  Prime Working     Primary   \n",
       "\n",
       "                                             Role  \\\n",
       "S. No.                                              \n",
       "1                   Marketing and Sales Executive   \n",
       "2             Advertising and Promotion Executive   \n",
       "3              Training and Development Executive   \n",
       "4              Training and Development Executive   \n",
       "5       Computer and Information System Executive   \n",
       "\n",
       "        Number of investors in family        Household Income  \\\n",
       "S. No.                                                          \n",
       "1                                   2    US$ 2736 to US$ 8205   \n",
       "2                                   2  US$ 19146 to US$ 24615   \n",
       "3                                   2    US$ 2736 to US$ 8205   \n",
       "4                                   5  US$ 19146 to US$ 24615   \n",
       "5                                   2  US$ 13676 to US$ 19145   \n",
       "\n",
       "       Percentage of Investment Source of Awareness about Investment  \\\n",
       "S. No.                                                                 \n",
       "1          Don't Want to Reveal                           Television   \n",
       "2          Don't Want to Reveal                              Workers   \n",
       "3                     Above 26%                               Family   \n",
       "4                    16% to 20%                               Family   \n",
       "5                    16% to 20%                              Workers   \n",
       "\n",
       "        Knowledge level about different investment product  \\\n",
       "S. No.                                                       \n",
       "1                                                       7    \n",
       "2                                                       7    \n",
       "3                                                       4    \n",
       "4                                                       5    \n",
       "5                                                       6    \n",
       "\n",
       "        Knowledge level about sharemarket  Knowledge about Govt. Schemes  \\\n",
       "S. No.                                                                     \n",
       "1                                       9                              4   \n",
       "2                                       5                              2   \n",
       "3                                       3                              2   \n",
       "4                                       1                              3   \n",
       "5                                      10                              5   \n",
       "\n",
       "       Investment Influencer Investment Experience Risk Level  \\\n",
       "S. No.                                                          \n",
       "1           Family Reference      Less Than 1 Year        Low   \n",
       "2          Workers Reference      Less Than 1 Year        Low   \n",
       "3          Friends Reference         Above 9 Years        Low   \n",
       "4          Friends Reference    7 Years to 9 Years        Low   \n",
       "5           Family Reference         Above 9 Years        Low   \n",
       "\n",
       "          Return Earned Reason for Investment  \n",
       "S. No.                                         \n",
       "1       Negative Return                   Tax  \n",
       "2             10 to 12                 Others  \n",
       "3                1 to 4                Return  \n",
       "4             10 to 12                    Tax  \n",
       "5                5 to 6     Fun and Exitement  "
      ]
     },
     "execution_count": 4,
     "metadata": {},
     "output_type": "execute_result"
    }
   ],
   "source": [
    "df.set_index('S. No.',inplace=True)\n",
    "df.head()"
   ]
  },
  {
   "cell_type": "code",
   "execution_count": 5,
   "metadata": {},
   "outputs": [],
   "source": [
    "def split_income(value):\n",
    "    value = value.replace(',', '')  # Remove commas if present\n",
    "    if ' to ' in value:\n",
    "        # Split the range and convert to integers\n",
    "        income_range = value.split(' to ')\n",
    "        lower_income = int(''.join(char for char in income_range[0] if char.isdigit()))\n",
    "        upper_income = int(''.join(char for char in income_range[1] if char.isdigit()))\n",
    "    elif 'Above' in value:\n",
    "        # Extract the upper limit from \"Above\" format and set lower limit greater\n",
    "        upper_limit = int(''.join(char for char in value if char.isdigit()))\n",
    "        lower_income = upper_limit + 1  # Set lower income greater than upper limit\n",
    "        upper_income = np.inf\n",
    "    else:\n",
    "        # Convert the single value to integer\n",
    "        lower_income = int(''.join(char for char in value if char.isdigit()))\n",
    "        upper_income = lower_income  # Set upper income equal to lower income for single value\n",
    "    return lower_income, upper_income"
   ]
  },
  {
   "cell_type": "code",
   "execution_count": 6,
   "metadata": {},
   "outputs": [
    {
     "name": "stdout",
     "output_type": "stream",
     "text": [
      "                 City Gender Marital Status            Age   Education  \\\n",
      "S. No.                                                                   \n",
      "1            New York    Men  Never Married  Early Working   Secondary   \n",
      "2            New York  Women        Married  Early Working      Middle   \n",
      "3             Seattle  Women        Married  Early Working    Teritary   \n",
      "4       San Francisco    Men  Never Married        Elderly  Uneducated   \n",
      "5       San Francisco    Men        Married  Prime Working     Primary   \n",
      "...               ...    ...            ...            ...         ...   \n",
      "806           Seattle    Men        Married  Early Working   Secondary   \n",
      "807           Seattle    Men  Never Married       Children   Secondary   \n",
      "808     San Francisco    Men  Never Married       Children  Uneducated   \n",
      "809           Memphis  Women        Married       Children  Uneducated   \n",
      "810          New York    Men  Never Married  Prime Working      Middle   \n",
      "\n",
      "                                             Role  \\\n",
      "S. No.                                              \n",
      "1                   Marketing and Sales Executive   \n",
      "2             Advertising and Promotion Executive   \n",
      "3              Training and Development Executive   \n",
      "4              Training and Development Executive   \n",
      "5       Computer and Information System Executive   \n",
      "...                                           ...   \n",
      "806                                Top Executives   \n",
      "807                                Top Executives   \n",
      "808           Advertising and Promotion Executive   \n",
      "809                 Marketing and Sales Executive   \n",
      "810            Training and Development Executive   \n",
      "\n",
      "        Number of investors in family        Household Income  \\\n",
      "S. No.                                                          \n",
      "1                                   2    US$ 2736 to US$ 8205   \n",
      "2                                   2  US$ 19146 to US$ 24615   \n",
      "3                                   2    US$ 2736 to US$ 8205   \n",
      "4                                   5  US$ 19146 to US$ 24615   \n",
      "5                                   2  US$ 13676 to US$ 19145   \n",
      "...                               ...                     ...   \n",
      "806                                 1                US$ 2735   \n",
      "807                                 4         Above US$ 30086   \n",
      "808                                 1  US$ 13676 to US$ 19145   \n",
      "809                                 3  US$ 19146 to US$ 24615   \n",
      "810                                 1         Above US$ 30086   \n",
      "\n",
      "       Percentage of Investment Source of Awareness about Investment  \\\n",
      "S. No.                                                                 \n",
      "1          Don't Want to Reveal                           Television   \n",
      "2          Don't Want to Reveal                              Workers   \n",
      "3                     Above 26%                               Family   \n",
      "4                    16% to 20%                               Family   \n",
      "5                    16% to 20%                              Workers   \n",
      "...                         ...                                  ...   \n",
      "806        Don't Want to Reveal                              Friends   \n",
      "807                  11% to 15%                             Magazine   \n",
      "808                  11% to 15%                               Others   \n",
      "809                  16% to 20%                              Workers   \n",
      "810                   Above 26%                          Flash Board   \n",
      "\n",
      "        Knowledge level about different investment product  \\\n",
      "S. No.                                                       \n",
      "1                                                       7    \n",
      "2                                                       7    \n",
      "3                                                       4    \n",
      "4                                                       5    \n",
      "5                                                       6    \n",
      "...                                                   ...    \n",
      "806                                                     2    \n",
      "807                                                     1    \n",
      "808                                                     1    \n",
      "809                                                     6    \n",
      "810                                                     3    \n",
      "\n",
      "        Knowledge level about sharemarket  Knowledge about Govt. Schemes  \\\n",
      "S. No.                                                                     \n",
      "1                                       9                              4   \n",
      "2                                       5                              2   \n",
      "3                                       3                              2   \n",
      "4                                       1                              3   \n",
      "5                                      10                              5   \n",
      "...                                   ...                            ...   \n",
      "806                                     3                              1   \n",
      "807                                     9                              3   \n",
      "808                                     5                              5   \n",
      "809                                     5                              2   \n",
      "810                                     1                              4   \n",
      "\n",
      "       Investment Influencer Investment Experience Risk Level  \\\n",
      "S. No.                                                          \n",
      "1           Family Reference      Less Than 1 Year        Low   \n",
      "2          Workers Reference      Less Than 1 Year        Low   \n",
      "3          Friends Reference         Above 9 Years        Low   \n",
      "4          Friends Reference    7 Years to 9 Years        Low   \n",
      "5           Family Reference         Above 9 Years        Low   \n",
      "...                      ...                   ...        ...   \n",
      "806           Intermediaries    7 Years to 9 Years     Medium   \n",
      "807        Workers Reference    7 Years to 9 Years        Low   \n",
      "808             Social Media      Less Than 1 Year       High   \n",
      "809             Social Media     1 Year to 3 Years       High   \n",
      "810             Institutions    4 Years to 6 Years       High   \n",
      "\n",
      "          Return Earned Reason for Investment  Lower Income  Upper Income  \n",
      "S. No.                                                                     \n",
      "1       Negative Return                   Tax        2736.0        8205.0  \n",
      "2             10 to 12                 Others       19146.0       24615.0  \n",
      "3                1 to 4                Return        2736.0        8205.0  \n",
      "4             10 to 12                    Tax       19146.0       24615.0  \n",
      "5                5 to 6     Fun and Exitement       13676.0       19145.0  \n",
      "...                 ...                   ...           ...           ...  \n",
      "806           10 to 12                 Return        2735.0        2735.0  \n",
      "807     Negative Return             Inflation       30087.0           inf  \n",
      "808           10 to 12                    Tax       13676.0       19145.0  \n",
      "809     Negative Return                Return       19146.0       24615.0  \n",
      "810              5 to 6     Fun and Exitement       30087.0           inf  \n",
      "\n",
      "[810 rows x 20 columns]\n"
     ]
    }
   ],
   "source": [
    "df[['Lower Income', 'Upper Income']] = df['Household Income'].apply(lambda x: pd.Series(split_income(x)))\n",
    "\n",
    "print(df)"
   ]
  },
  {
   "cell_type": "code",
   "execution_count": 7,
   "metadata": {},
   "outputs": [
    {
     "name": "stdout",
     "output_type": "stream",
     "text": [
      "                 City Gender Marital Status            Age   Education  \\\n",
      "S. No.                                                                   \n",
      "1            New York    Men  Never Married  Early Working   Secondary   \n",
      "2            New York  Women        Married  Early Working      Middle   \n",
      "3             Seattle  Women        Married  Early Working    Teritary   \n",
      "4       San Francisco    Men  Never Married        Elderly  Uneducated   \n",
      "5       San Francisco    Men        Married  Prime Working     Primary   \n",
      "...               ...    ...            ...            ...         ...   \n",
      "806           Seattle    Men        Married  Early Working   Secondary   \n",
      "807           Seattle    Men  Never Married       Children   Secondary   \n",
      "808     San Francisco    Men  Never Married       Children  Uneducated   \n",
      "809           Memphis  Women        Married       Children  Uneducated   \n",
      "810          New York    Men  Never Married  Prime Working      Middle   \n",
      "\n",
      "                                             Role  \\\n",
      "S. No.                                              \n",
      "1                   Marketing and Sales Executive   \n",
      "2             Advertising and Promotion Executive   \n",
      "3              Training and Development Executive   \n",
      "4              Training and Development Executive   \n",
      "5       Computer and Information System Executive   \n",
      "...                                           ...   \n",
      "806                                Top Executives   \n",
      "807                                Top Executives   \n",
      "808           Advertising and Promotion Executive   \n",
      "809                 Marketing and Sales Executive   \n",
      "810            Training and Development Executive   \n",
      "\n",
      "        Number of investors in family        Household Income  \\\n",
      "S. No.                                                          \n",
      "1                                   2    US$ 2736 to US$ 8205   \n",
      "2                                   2  US$ 19146 to US$ 24615   \n",
      "3                                   2    US$ 2736 to US$ 8205   \n",
      "4                                   5  US$ 19146 to US$ 24615   \n",
      "5                                   2  US$ 13676 to US$ 19145   \n",
      "...                               ...                     ...   \n",
      "806                                 1                US$ 2735   \n",
      "807                                 4         Above US$ 30086   \n",
      "808                                 1  US$ 13676 to US$ 19145   \n",
      "809                                 3  US$ 19146 to US$ 24615   \n",
      "810                                 1         Above US$ 30086   \n",
      "\n",
      "       Percentage of Investment Source of Awareness about Investment  \\\n",
      "S. No.                                                                 \n",
      "1          Don't Want to Reveal                           Television   \n",
      "2          Don't Want to Reveal                              Workers   \n",
      "3                     Above 26%                               Family   \n",
      "4                    16% to 20%                               Family   \n",
      "5                    16% to 20%                              Workers   \n",
      "...                         ...                                  ...   \n",
      "806        Don't Want to Reveal                              Friends   \n",
      "807                  11% to 15%                             Magazine   \n",
      "808                  11% to 15%                               Others   \n",
      "809                  16% to 20%                              Workers   \n",
      "810                   Above 26%                          Flash Board   \n",
      "\n",
      "        Knowledge level about different investment product  \\\n",
      "S. No.                                                       \n",
      "1                                                       7    \n",
      "2                                                       7    \n",
      "3                                                       4    \n",
      "4                                                       5    \n",
      "5                                                       6    \n",
      "...                                                   ...    \n",
      "806                                                     2    \n",
      "807                                                     1    \n",
      "808                                                     1    \n",
      "809                                                     6    \n",
      "810                                                     3    \n",
      "\n",
      "        Knowledge level about sharemarket  Knowledge about Govt. Schemes  \\\n",
      "S. No.                                                                     \n",
      "1                                       9                              4   \n",
      "2                                       5                              2   \n",
      "3                                       3                              2   \n",
      "4                                       1                              3   \n",
      "5                                      10                              5   \n",
      "...                                   ...                            ...   \n",
      "806                                     3                              1   \n",
      "807                                     9                              3   \n",
      "808                                     5                              5   \n",
      "809                                     5                              2   \n",
      "810                                     1                              4   \n",
      "\n",
      "       Investment Influencer Investment Experience Risk Level  \\\n",
      "S. No.                                                          \n",
      "1           Family Reference      Less Than 1 Year        Low   \n",
      "2          Workers Reference      Less Than 1 Year        Low   \n",
      "3          Friends Reference         Above 9 Years        Low   \n",
      "4          Friends Reference    7 Years to 9 Years        Low   \n",
      "5           Family Reference         Above 9 Years        Low   \n",
      "...                      ...                   ...        ...   \n",
      "806           Intermediaries    7 Years to 9 Years     Medium   \n",
      "807        Workers Reference    7 Years to 9 Years        Low   \n",
      "808             Social Media      Less Than 1 Year       High   \n",
      "809             Social Media     1 Year to 3 Years       High   \n",
      "810             Institutions    4 Years to 6 Years       High   \n",
      "\n",
      "          Return Earned Reason for Investment  Lower Income  Upper Income  \n",
      "S. No.                                                                     \n",
      "1       Negative Return                   Tax        2736.0        8205.0  \n",
      "2             10 to 12                 Others       19146.0       24615.0  \n",
      "3                1 to 4                Return        2736.0        8205.0  \n",
      "4             10 to 12                    Tax       19146.0       24615.0  \n",
      "5                5 to 6     Fun and Exitement       13676.0       19145.0  \n",
      "...                 ...                   ...           ...           ...  \n",
      "806           10 to 12                 Return        2735.0        2735.0  \n",
      "807     Negative Return             Inflation       30087.0           inf  \n",
      "808           10 to 12                    Tax       13676.0       19145.0  \n",
      "809     Negative Return                Return       19146.0       24615.0  \n",
      "810              5 to 6     Fun and Exitement       30087.0           inf  \n",
      "\n",
      "[810 rows x 20 columns]\n"
     ]
    }
   ],
   "source": [
    "mean=df['Upper Income'].mean()\n",
    "mean_without_inf = df[df['Upper Income'] != np.inf]['Upper Income'].mean()\n",
    "df['Upper Income'] = np.where((df['Upper Income'] == np.inf) & (mean_without_inf > df['Lower Income']),\n",
    "                              mean_without_inf, df['Upper Income'])\n",
    "df['Upper Income']=df['Upper Income'].round(1)\n",
    "print(df)"
   ]
  },
  {
   "cell_type": "code",
   "execution_count": 8,
   "metadata": {},
   "outputs": [
    {
     "name": "stdout",
     "output_type": "stream",
     "text": [
      "                 City Gender Marital Status            Age   Education  \\\n",
      "S. No.                                                                   \n",
      "1            New York    Men  Never Married  Early Working   Secondary   \n",
      "2            New York  Women        Married  Early Working      Middle   \n",
      "3             Seattle  Women        Married  Early Working    Teritary   \n",
      "4       San Francisco    Men  Never Married        Elderly  Uneducated   \n",
      "5       San Francisco    Men        Married  Prime Working     Primary   \n",
      "...               ...    ...            ...            ...         ...   \n",
      "806           Seattle    Men        Married  Early Working   Secondary   \n",
      "807           Seattle    Men  Never Married       Children   Secondary   \n",
      "808     San Francisco    Men  Never Married       Children  Uneducated   \n",
      "809           Memphis  Women        Married       Children  Uneducated   \n",
      "810          New York    Men  Never Married  Prime Working      Middle   \n",
      "\n",
      "                                             Role  \\\n",
      "S. No.                                              \n",
      "1                   Marketing and Sales Executive   \n",
      "2             Advertising and Promotion Executive   \n",
      "3              Training and Development Executive   \n",
      "4              Training and Development Executive   \n",
      "5       Computer and Information System Executive   \n",
      "...                                           ...   \n",
      "806                                Top Executives   \n",
      "807                                Top Executives   \n",
      "808           Advertising and Promotion Executive   \n",
      "809                 Marketing and Sales Executive   \n",
      "810            Training and Development Executive   \n",
      "\n",
      "        Number of investors in family        Household Income  \\\n",
      "S. No.                                                          \n",
      "1                                   2    US$ 2736 to US$ 8205   \n",
      "2                                   2  US$ 19146 to US$ 24615   \n",
      "3                                   2    US$ 2736 to US$ 8205   \n",
      "4                                   5  US$ 19146 to US$ 24615   \n",
      "5                                   2  US$ 13676 to US$ 19145   \n",
      "...                               ...                     ...   \n",
      "806                                 1                US$ 2735   \n",
      "807                                 4         Above US$ 30086   \n",
      "808                                 1  US$ 13676 to US$ 19145   \n",
      "809                                 3  US$ 19146 to US$ 24615   \n",
      "810                                 1         Above US$ 30086   \n",
      "\n",
      "       Percentage of Investment Source of Awareness about Investment  \\\n",
      "S. No.                                                                 \n",
      "1          Don't Want to Reveal                           Television   \n",
      "2          Don't Want to Reveal                              Workers   \n",
      "3                     Above 26%                               Family   \n",
      "4                    16% to 20%                               Family   \n",
      "5                    16% to 20%                              Workers   \n",
      "...                         ...                                  ...   \n",
      "806        Don't Want to Reveal                              Friends   \n",
      "807                  11% to 15%                             Magazine   \n",
      "808                  11% to 15%                               Others   \n",
      "809                  16% to 20%                              Workers   \n",
      "810                   Above 26%                          Flash Board   \n",
      "\n",
      "        Knowledge level about different investment product  \\\n",
      "S. No.                                                       \n",
      "1                                                       7    \n",
      "2                                                       7    \n",
      "3                                                       4    \n",
      "4                                                       5    \n",
      "5                                                       6    \n",
      "...                                                   ...    \n",
      "806                                                     2    \n",
      "807                                                     1    \n",
      "808                                                     1    \n",
      "809                                                     6    \n",
      "810                                                     3    \n",
      "\n",
      "        Knowledge level about sharemarket  Knowledge about Govt. Schemes  \\\n",
      "S. No.                                                                     \n",
      "1                                       9                              4   \n",
      "2                                       5                              2   \n",
      "3                                       3                              2   \n",
      "4                                       1                              3   \n",
      "5                                      10                              5   \n",
      "...                                   ...                            ...   \n",
      "806                                     3                              1   \n",
      "807                                     9                              3   \n",
      "808                                     5                              5   \n",
      "809                                     5                              2   \n",
      "810                                     1                              4   \n",
      "\n",
      "       Investment Influencer Investment Experience Risk Level  \\\n",
      "S. No.                                                          \n",
      "1           Family Reference      Less Than 1 Year        Low   \n",
      "2          Workers Reference      Less Than 1 Year        Low   \n",
      "3          Friends Reference         Above 9 Years        Low   \n",
      "4          Friends Reference    7 Years to 9 Years        Low   \n",
      "5           Family Reference         Above 9 Years        Low   \n",
      "...                      ...                   ...        ...   \n",
      "806           Intermediaries    7 Years to 9 Years     Medium   \n",
      "807        Workers Reference    7 Years to 9 Years        Low   \n",
      "808             Social Media      Less Than 1 Year       High   \n",
      "809             Social Media     1 Year to 3 Years       High   \n",
      "810             Institutions    4 Years to 6 Years       High   \n",
      "\n",
      "          Return Earned Reason for Investment  Lower Income  Upper Income  \n",
      "S. No.                                                                     \n",
      "1       Negative Return                   Tax        2736.0        8205.0  \n",
      "2             10 to 12                 Others       19146.0       24615.0  \n",
      "3                1 to 4                Return        2736.0        8205.0  \n",
      "4             10 to 12                    Tax       19146.0       24615.0  \n",
      "5                5 to 6     Fun and Exitement       13676.0       19145.0  \n",
      "...                 ...                   ...           ...           ...  \n",
      "806           10 to 12                 Return        2735.0        2735.0  \n",
      "807     Negative Return             Inflation       30087.0      100000.0  \n",
      "808           10 to 12                    Tax       13676.0       19145.0  \n",
      "809     Negative Return                Return       19146.0       24615.0  \n",
      "810              5 to 6     Fun and Exitement       30087.0      100000.0  \n",
      "\n",
      "[810 rows x 20 columns]\n"
     ]
    }
   ],
   "source": [
    "df['Upper Income'] = df['Upper Income'].replace(np.inf, 100000)\n",
    "print(df)"
   ]
  },
  {
   "cell_type": "code",
   "execution_count": 9,
   "metadata": {},
   "outputs": [],
   "source": [
    "def clean_percentage(value):\n",
    "    lower_limit = np.nan\n",
    "    upper_limit = np.nan\n",
    "\n",
    "    if 'Above' in value:\n",
    "        digits = ''.join(char for char in value if char.isdigit())\n",
    "        if digits:\n",
    "            upper_limit = int(digits)\n",
    "            lower_limit = upper_limit + 1\n",
    "    elif 'Upto' in value:\n",
    "        digits = ''.join(char for char in value if char.isdigit())\n",
    "        if digits:\n",
    "            lower_limit = 0\n",
    "            upper_limit = int(digits)\n",
    "    elif ' to ' in value:\n",
    "        value_range = value.split(' to ')\n",
    "        if len(value_range) >= 2:\n",
    "            lower_limit_str = value_range[0].rstrip('%')\n",
    "            upper_limit_str = value_range[1].rstrip('%')\n",
    "            if lower_limit_str.isdigit() and upper_limit_str.isdigit():\n",
    "                lower_limit = int(lower_limit_str)\n",
    "                upper_limit = int(upper_limit_str)\n",
    "    elif \"Don't want to reveal\" in value:\n",
    "        lower_limit = np.nan\n",
    "        upper_limit = np.nan\n",
    "    elif value.isdigit():\n",
    "        lower_limit = int(value)\n",
    "        upper_limit = lower_limit\n",
    "\n",
    "    return lower_limit, upper_limit"
   ]
  },
  {
   "cell_type": "code",
   "execution_count": 10,
   "metadata": {},
   "outputs": [
    {
     "name": "stdout",
     "output_type": "stream",
     "text": [
      "                 City Gender Marital Status             Age   Education  \\\n",
      "S. No.                                                                    \n",
      "1            New York    Men  Never Married   Early Working   Secondary   \n",
      "2            New York  Women        Married   Early Working      Middle   \n",
      "3             Seattle  Women        Married   Early Working    Teritary   \n",
      "4       San Francisco    Men  Never Married         Elderly  Uneducated   \n",
      "5       San Francisco    Men        Married   Prime Working     Primary   \n",
      "6             Memphis  Women  Never Married   Prime Working     Primary   \n",
      "7             Seattle  Women  Never Married   Prime Working    Teritary   \n",
      "8             Houston  Women  Never Married  Mature Working      Middle   \n",
      "9       San Francisco  Women  Never Married         Elderly      Middle   \n",
      "10      San Francisco    Men        Married        Children   Secondary   \n",
      "\n",
      "                                             Role  \\\n",
      "S. No.                                              \n",
      "1                   Marketing and Sales Executive   \n",
      "2             Advertising and Promotion Executive   \n",
      "3              Training and Development Executive   \n",
      "4              Training and Development Executive   \n",
      "5       Computer and Information System Executive   \n",
      "6                   Marketing and Sales Executive   \n",
      "7              Training and Development Executive   \n",
      "8                                  Top Executives   \n",
      "9                   Marketing and Sales Executive   \n",
      "10                                 Top Executives   \n",
      "\n",
      "        Number of investors in family        Household Income  \\\n",
      "S. No.                                                          \n",
      "1                                   2    US$ 2736 to US$ 8205   \n",
      "2                                   2  US$ 19146 to US$ 24615   \n",
      "3                                   2    US$ 2736 to US$ 8205   \n",
      "4                                   5  US$ 19146 to US$ 24615   \n",
      "5                                   2  US$ 13676 to US$ 19145   \n",
      "6                                   5  US$ 19146 to US$ 24615   \n",
      "7                                   5  US$ 19146 to US$ 24615   \n",
      "8                                   3         Above US$ 30086   \n",
      "9                                   3  US$ 24616 to US$ 30085   \n",
      "10                                  1  US$ 13676 to US$ 19145   \n",
      "\n",
      "       Percentage of Investment Source of Awareness about Investment  ...  \\\n",
      "S. No.                                                                ...   \n",
      "1          Don't Want to Reveal                           Television  ...   \n",
      "2          Don't Want to Reveal                              Workers  ...   \n",
      "3                     Above 26%                               Family  ...   \n",
      "4                    16% to 20%                               Family  ...   \n",
      "5                    16% to 20%                              Workers  ...   \n",
      "6                    21% to 25%                             Magazine  ...   \n",
      "7                       Upto 5%                             Magazine  ...   \n",
      "8                    11% to 15%                               Others  ...   \n",
      "9                    21% to 25%                             Magazine  ...   \n",
      "10                    6% to 10%                          Flash Board  ...   \n",
      "\n",
      "        Knowledge about Govt. Schemes  Investment Influencer  \\\n",
      "S. No.                                                         \n",
      "1                                   4       Family Reference   \n",
      "2                                   2      Workers Reference   \n",
      "3                                   2      Friends Reference   \n",
      "4                                   3      Friends Reference   \n",
      "5                                   5       Family Reference   \n",
      "6                                   1           Institutions   \n",
      "7                                   4                 Others   \n",
      "8                                   4       Family Reference   \n",
      "9                                   3                 Others   \n",
      "10                                  3       Family Reference   \n",
      "\n",
      "        Investment Experience Risk Level    Return Earned  \\\n",
      "S. No.                                                      \n",
      "1            Less Than 1 Year        Low  Negative Return   \n",
      "2            Less Than 1 Year        Low        10 to 12    \n",
      "3               Above 9 Years        Low           1 to 4   \n",
      "4          7 Years to 9 Years        Low        10 to 12    \n",
      "5               Above 9 Years        Low           5 to 6   \n",
      "6            Less Than 1 Year       High  Negative Return   \n",
      "7           1 Year to 3 Years        Low  Negative Return   \n",
      "8          4 Years to 6 Years        Low           1 to 4   \n",
      "9          4 Years to 6 Years     Medium  Negative Return   \n",
      "10         4 Years to 6 Years       High        10 to 12    \n",
      "\n",
      "       Reason for Investment Lower Income Upper Income  Lower Percentage  \\\n",
      "S. No.                                                                     \n",
      "1                        Tax       2736.0       8205.0               NaN   \n",
      "2                     Others      19146.0      24615.0               NaN   \n",
      "3                     Return       2736.0       8205.0              27.0   \n",
      "4                        Tax      19146.0      24615.0              16.0   \n",
      "5          Fun and Exitement      13676.0      19145.0              16.0   \n",
      "6                     Status      19146.0      24615.0              21.0   \n",
      "7                     Others      19146.0      24615.0               0.0   \n",
      "8                     Others      30087.0     100000.0              11.0   \n",
      "9          Fun and Exitement      24616.0      30085.0              21.0   \n",
      "10                 Inflation      13676.0      19145.0               6.0   \n",
      "\n",
      "        Upper Percentage  \n",
      "S. No.                    \n",
      "1                    NaN  \n",
      "2                    NaN  \n",
      "3                   26.0  \n",
      "4                   20.0  \n",
      "5                   20.0  \n",
      "6                   25.0  \n",
      "7                    5.0  \n",
      "8                   15.0  \n",
      "9                   25.0  \n",
      "10                  10.0  \n",
      "\n",
      "[10 rows x 22 columns]\n"
     ]
    }
   ],
   "source": [
    "df[['Lower Percentage', 'Upper Percentage']] = df['Percentage of Investment'].apply(lambda x: pd.Series(clean_percentage(x)))\n",
    "\n",
    "# Display the modified DataFrame\n",
    "print(df.head(10))"
   ]
  },
  {
   "cell_type": "code",
   "execution_count": 11,
   "metadata": {},
   "outputs": [
    {
     "name": "stdout",
     "output_type": "stream",
     "text": [
      "                 City Gender Marital Status            Age   Education  \\\n",
      "S. No.                                                                   \n",
      "1            New York    Men  Never Married  Early Working   Secondary   \n",
      "2            New York  Women        Married  Early Working      Middle   \n",
      "3             Seattle  Women        Married  Early Working    Teritary   \n",
      "4       San Francisco    Men  Never Married        Elderly  Uneducated   \n",
      "5       San Francisco    Men        Married  Prime Working     Primary   \n",
      "...               ...    ...            ...            ...         ...   \n",
      "806           Seattle    Men        Married  Early Working   Secondary   \n",
      "807           Seattle    Men  Never Married       Children   Secondary   \n",
      "808     San Francisco    Men  Never Married       Children  Uneducated   \n",
      "809           Memphis  Women        Married       Children  Uneducated   \n",
      "810          New York    Men  Never Married  Prime Working      Middle   \n",
      "\n",
      "                                             Role  \\\n",
      "S. No.                                              \n",
      "1                   Marketing and Sales Executive   \n",
      "2             Advertising and Promotion Executive   \n",
      "3              Training and Development Executive   \n",
      "4              Training and Development Executive   \n",
      "5       Computer and Information System Executive   \n",
      "...                                           ...   \n",
      "806                                Top Executives   \n",
      "807                                Top Executives   \n",
      "808           Advertising and Promotion Executive   \n",
      "809                 Marketing and Sales Executive   \n",
      "810            Training and Development Executive   \n",
      "\n",
      "        Number of investors in family        Household Income  \\\n",
      "S. No.                                                          \n",
      "1                                   2    US$ 2736 to US$ 8205   \n",
      "2                                   2  US$ 19146 to US$ 24615   \n",
      "3                                   2    US$ 2736 to US$ 8205   \n",
      "4                                   5  US$ 19146 to US$ 24615   \n",
      "5                                   2  US$ 13676 to US$ 19145   \n",
      "...                               ...                     ...   \n",
      "806                                 1                US$ 2735   \n",
      "807                                 4         Above US$ 30086   \n",
      "808                                 1  US$ 13676 to US$ 19145   \n",
      "809                                 3  US$ 19146 to US$ 24615   \n",
      "810                                 1         Above US$ 30086   \n",
      "\n",
      "       Percentage of Investment Source of Awareness about Investment  ...  \\\n",
      "S. No.                                                                ...   \n",
      "1          Don't Want to Reveal                           Television  ...   \n",
      "2          Don't Want to Reveal                              Workers  ...   \n",
      "3                     Above 26%                               Family  ...   \n",
      "4                    16% to 20%                               Family  ...   \n",
      "5                    16% to 20%                              Workers  ...   \n",
      "...                         ...                                  ...  ...   \n",
      "806        Don't Want to Reveal                              Friends  ...   \n",
      "807                  11% to 15%                             Magazine  ...   \n",
      "808                  11% to 15%                               Others  ...   \n",
      "809                  16% to 20%                              Workers  ...   \n",
      "810                   Above 26%                          Flash Board  ...   \n",
      "\n",
      "        Knowledge about Govt. Schemes  Investment Influencer  \\\n",
      "S. No.                                                         \n",
      "1                                   4       Family Reference   \n",
      "2                                   2      Workers Reference   \n",
      "3                                   2      Friends Reference   \n",
      "4                                   3      Friends Reference   \n",
      "5                                   5       Family Reference   \n",
      "...                               ...                    ...   \n",
      "806                                 1         Intermediaries   \n",
      "807                                 3      Workers Reference   \n",
      "808                                 5           Social Media   \n",
      "809                                 2           Social Media   \n",
      "810                                 4           Institutions   \n",
      "\n",
      "        Investment Experience Risk Level    Return Earned  \\\n",
      "S. No.                                                      \n",
      "1            Less Than 1 Year        Low  Negative Return   \n",
      "2            Less Than 1 Year        Low        10 to 12    \n",
      "3               Above 9 Years        Low           1 to 4   \n",
      "4          7 Years to 9 Years        Low        10 to 12    \n",
      "5               Above 9 Years        Low           5 to 6   \n",
      "...                       ...        ...              ...   \n",
      "806        7 Years to 9 Years     Medium        10 to 12    \n",
      "807        7 Years to 9 Years        Low  Negative Return   \n",
      "808          Less Than 1 Year       High        10 to 12    \n",
      "809         1 Year to 3 Years       High  Negative Return   \n",
      "810        4 Years to 6 Years       High           5 to 6   \n",
      "\n",
      "       Reason for Investment Lower Income Upper Income  Lower Percentage  \\\n",
      "S. No.                                                                     \n",
      "1                        Tax       2736.0       8205.0              13.6   \n",
      "2                     Others      19146.0      24615.0              13.6   \n",
      "3                     Return       2736.0       8205.0              27.0   \n",
      "4                        Tax      19146.0      24615.0              16.0   \n",
      "5          Fun and Exitement      13676.0      19145.0              16.0   \n",
      "...                      ...          ...          ...               ...   \n",
      "806                   Return       2735.0       2735.0              13.6   \n",
      "807                Inflation      30087.0     100000.0              11.0   \n",
      "808                      Tax      13676.0      19145.0              11.0   \n",
      "809                   Return      19146.0      24615.0              16.0   \n",
      "810        Fun and Exitement      30087.0     100000.0              27.0   \n",
      "\n",
      "        Upper Percentage  \n",
      "S. No.                    \n",
      "1                   16.8  \n",
      "2                   16.8  \n",
      "3                   26.0  \n",
      "4                   20.0  \n",
      "5                   20.0  \n",
      "...                  ...  \n",
      "806                 16.8  \n",
      "807                 15.0  \n",
      "808                 15.0  \n",
      "809                 20.0  \n",
      "810                 26.0  \n",
      "\n",
      "[810 rows x 22 columns]\n"
     ]
    }
   ],
   "source": [
    "mean=df['Lower Percentage'].mean()\n",
    "df['Lower Percentage'].fillna(mean,inplace=True)\n",
    "df['Lower Percentage']=df['Lower Percentage'].round(1)\n",
    "mean=df['Upper Percentage'].mean()\n",
    "df['Upper Percentage'].fillna(mean,inplace=True)\n",
    "df['Upper Percentage']=df['Upper Percentage'].round(1)\n",
    "print(df)"
   ]
  },
  {
   "cell_type": "code",
   "execution_count": 12,
   "metadata": {},
   "outputs": [],
   "source": [
    "def clean_experience(value):\n",
    "    years = np.nan\n",
    "\n",
    "    if 'Less Than' in value:\n",
    "        years = 0\n",
    "    elif 'Above' in value:\n",
    "        years_str = ''.join(char for char in value if char.isdigit())\n",
    "        if years_str:\n",
    "            years = int(years_str) + 1\n",
    "    elif ' to ' in value:\n",
    "        value_range = value.split(' to ')\n",
    "        if len(value_range) >= 2:\n",
    "            lower_limit_str = value_range[0].rstrip(' Years')\n",
    "            upper_limit_str = value_range[1].rstrip(' Years')\n",
    "            if lower_limit_str.isdigit() and upper_limit_str.isdigit():\n",
    "                lower_limit = int(lower_limit_str)\n",
    "                upper_limit = int(upper_limit_str)\n",
    "                years = (lower_limit + upper_limit) // 2  # Average of the range\n",
    "    elif value.isdigit():\n",
    "        years = int(value)\n",
    "\n",
    "    return years\n"
   ]
  },
  {
   "cell_type": "code",
   "execution_count": 13,
   "metadata": {},
   "outputs": [
    {
     "name": "stdout",
     "output_type": "stream",
     "text": [
      "                 City Gender Marital Status             Age   Education  \\\n",
      "S. No.                                                                    \n",
      "1            New York    Men  Never Married   Early Working   Secondary   \n",
      "2            New York  Women        Married   Early Working      Middle   \n",
      "3             Seattle  Women        Married   Early Working    Teritary   \n",
      "4       San Francisco    Men  Never Married         Elderly  Uneducated   \n",
      "5       San Francisco    Men        Married   Prime Working     Primary   \n",
      "6             Memphis  Women  Never Married   Prime Working     Primary   \n",
      "7             Seattle  Women  Never Married   Prime Working    Teritary   \n",
      "8             Houston  Women  Never Married  Mature Working      Middle   \n",
      "9       San Francisco  Women  Never Married         Elderly      Middle   \n",
      "10      San Francisco    Men        Married        Children   Secondary   \n",
      "\n",
      "                                             Role  \\\n",
      "S. No.                                              \n",
      "1                   Marketing and Sales Executive   \n",
      "2             Advertising and Promotion Executive   \n",
      "3              Training and Development Executive   \n",
      "4              Training and Development Executive   \n",
      "5       Computer and Information System Executive   \n",
      "6                   Marketing and Sales Executive   \n",
      "7              Training and Development Executive   \n",
      "8                                  Top Executives   \n",
      "9                   Marketing and Sales Executive   \n",
      "10                                 Top Executives   \n",
      "\n",
      "        Number of investors in family        Household Income  \\\n",
      "S. No.                                                          \n",
      "1                                   2    US$ 2736 to US$ 8205   \n",
      "2                                   2  US$ 19146 to US$ 24615   \n",
      "3                                   2    US$ 2736 to US$ 8205   \n",
      "4                                   5  US$ 19146 to US$ 24615   \n",
      "5                                   2  US$ 13676 to US$ 19145   \n",
      "6                                   5  US$ 19146 to US$ 24615   \n",
      "7                                   5  US$ 19146 to US$ 24615   \n",
      "8                                   3         Above US$ 30086   \n",
      "9                                   3  US$ 24616 to US$ 30085   \n",
      "10                                  1  US$ 13676 to US$ 19145   \n",
      "\n",
      "       Percentage of Investment Source of Awareness about Investment  ...  \\\n",
      "S. No.                                                                ...   \n",
      "1          Don't Want to Reveal                           Television  ...   \n",
      "2          Don't Want to Reveal                              Workers  ...   \n",
      "3                     Above 26%                               Family  ...   \n",
      "4                    16% to 20%                               Family  ...   \n",
      "5                    16% to 20%                              Workers  ...   \n",
      "6                    21% to 25%                             Magazine  ...   \n",
      "7                       Upto 5%                             Magazine  ...   \n",
      "8                    11% to 15%                               Others  ...   \n",
      "9                    21% to 25%                             Magazine  ...   \n",
      "10                    6% to 10%                          Flash Board  ...   \n",
      "\n",
      "        Investment Influencer  Investment Experience  Risk Level  \\\n",
      "S. No.                                                             \n",
      "1            Family Reference       Less Than 1 Year         Low   \n",
      "2           Workers Reference       Less Than 1 Year         Low   \n",
      "3           Friends Reference          Above 9 Years         Low   \n",
      "4           Friends Reference     7 Years to 9 Years         Low   \n",
      "5            Family Reference          Above 9 Years         Low   \n",
      "6                Institutions       Less Than 1 Year        High   \n",
      "7                      Others      1 Year to 3 Years         Low   \n",
      "8            Family Reference     4 Years to 6 Years         Low   \n",
      "9                      Others     4 Years to 6 Years      Medium   \n",
      "10           Family Reference     4 Years to 6 Years        High   \n",
      "\n",
      "          Return Earned Reason for Investment Lower Income Upper Income  \\\n",
      "S. No.                                                                    \n",
      "1       Negative Return                   Tax       2736.0       8205.0   \n",
      "2             10 to 12                 Others      19146.0      24615.0   \n",
      "3                1 to 4                Return       2736.0       8205.0   \n",
      "4             10 to 12                    Tax      19146.0      24615.0   \n",
      "5                5 to 6     Fun and Exitement      13676.0      19145.0   \n",
      "6       Negative Return                Status      19146.0      24615.0   \n",
      "7       Negative Return                Others      19146.0      24615.0   \n",
      "8                1 to 4                Others      30087.0     100000.0   \n",
      "9       Negative Return     Fun and Exitement      24616.0      30085.0   \n",
      "10            10 to 12              Inflation      13676.0      19145.0   \n",
      "\n",
      "       Lower Percentage  Upper Percentage  Average Investment Experience  \n",
      "S. No.                                                                    \n",
      "1                  13.6              16.8                              0  \n",
      "2                  13.6              16.8                              0  \n",
      "3                  27.0              26.0                             10  \n",
      "4                  16.0              20.0                              8  \n",
      "5                  16.0              20.0                             10  \n",
      "6                  21.0              25.0                              0  \n",
      "7                   0.0               5.0                              2  \n",
      "8                  11.0              15.0                              5  \n",
      "9                  21.0              25.0                              5  \n",
      "10                  6.0              10.0                              5  \n",
      "\n",
      "[10 rows x 23 columns]\n"
     ]
    }
   ],
   "source": [
    "df['Average Investment Experience'] = df['Investment Experience'].apply(clean_experience)\n",
    "print(df.head(10))"
   ]
  },
  {
   "cell_type": "code",
   "execution_count": 14,
   "metadata": {},
   "outputs": [
    {
     "name": "stdout",
     "output_type": "stream",
     "text": [
      "['Negative Return' '10 to 12 ' '1 to 4' '5 to 6' '7 to 9' 'More than 13']\n"
     ]
    }
   ],
   "source": [
    "class_labels = df['Return Earned'].unique()\n",
    "print(class_labels)"
   ]
  },
  {
   "cell_type": "code",
   "execution_count": 15,
   "metadata": {},
   "outputs": [
    {
     "name": "stdout",
     "output_type": "stream",
     "text": [
      "                 City Gender Marital Status            Age   Education  \\\n",
      "S. No.                                                                   \n",
      "1            New York    Men  Never Married  Early Working   Secondary   \n",
      "2            New York  Women        Married  Early Working      Middle   \n",
      "3             Seattle  Women        Married  Early Working    Teritary   \n",
      "4       San Francisco    Men  Never Married        Elderly  Uneducated   \n",
      "5       San Francisco    Men        Married  Prime Working     Primary   \n",
      "...               ...    ...            ...            ...         ...   \n",
      "806           Seattle    Men        Married  Early Working   Secondary   \n",
      "807           Seattle    Men  Never Married       Children   Secondary   \n",
      "808     San Francisco    Men  Never Married       Children  Uneducated   \n",
      "809           Memphis  Women        Married       Children  Uneducated   \n",
      "810          New York    Men  Never Married  Prime Working      Middle   \n",
      "\n",
      "                                             Role  \\\n",
      "S. No.                                              \n",
      "1                   Marketing and Sales Executive   \n",
      "2             Advertising and Promotion Executive   \n",
      "3              Training and Development Executive   \n",
      "4              Training and Development Executive   \n",
      "5       Computer and Information System Executive   \n",
      "...                                           ...   \n",
      "806                                Top Executives   \n",
      "807                                Top Executives   \n",
      "808           Advertising and Promotion Executive   \n",
      "809                 Marketing and Sales Executive   \n",
      "810            Training and Development Executive   \n",
      "\n",
      "        Number of investors in family        Household Income  \\\n",
      "S. No.                                                          \n",
      "1                                   2    US$ 2736 to US$ 8205   \n",
      "2                                   2  US$ 19146 to US$ 24615   \n",
      "3                                   2    US$ 2736 to US$ 8205   \n",
      "4                                   5  US$ 19146 to US$ 24615   \n",
      "5                                   2  US$ 13676 to US$ 19145   \n",
      "...                               ...                     ...   \n",
      "806                                 1                US$ 2735   \n",
      "807                                 4         Above US$ 30086   \n",
      "808                                 1  US$ 13676 to US$ 19145   \n",
      "809                                 3  US$ 19146 to US$ 24615   \n",
      "810                                 1         Above US$ 30086   \n",
      "\n",
      "       Percentage of Investment Source of Awareness about Investment  ...  \\\n",
      "S. No.                                                                ...   \n",
      "1          Don't Want to Reveal                           Television  ...   \n",
      "2          Don't Want to Reveal                              Workers  ...   \n",
      "3                     Above 26%                               Family  ...   \n",
      "4                    16% to 20%                               Family  ...   \n",
      "5                    16% to 20%                              Workers  ...   \n",
      "...                         ...                                  ...  ...   \n",
      "806        Don't Want to Reveal                              Friends  ...   \n",
      "807                  11% to 15%                             Magazine  ...   \n",
      "808                  11% to 15%                               Others  ...   \n",
      "809                  16% to 20%                              Workers  ...   \n",
      "810                   Above 26%                          Flash Board  ...   \n",
      "\n",
      "        Investment Experience  Risk Level    Return Earned  \\\n",
      "S. No.                                                       \n",
      "1            Less Than 1 Year         Low  Negative Return   \n",
      "2            Less Than 1 Year         Low        10 to 12    \n",
      "3               Above 9 Years         Low           1 to 4   \n",
      "4          7 Years to 9 Years         Low        10 to 12    \n",
      "5               Above 9 Years         Low           5 to 6   \n",
      "...                       ...         ...              ...   \n",
      "806        7 Years to 9 Years      Medium        10 to 12    \n",
      "807        7 Years to 9 Years         Low  Negative Return   \n",
      "808          Less Than 1 Year        High        10 to 12    \n",
      "809         1 Year to 3 Years        High  Negative Return   \n",
      "810        4 Years to 6 Years        High           5 to 6   \n",
      "\n",
      "       Reason for Investment Lower Income Upper Income Lower Percentage  \\\n",
      "S. No.                                                                    \n",
      "1                        Tax       2736.0       8205.0             13.6   \n",
      "2                     Others      19146.0      24615.0             13.6   \n",
      "3                     Return       2736.0       8205.0             27.0   \n",
      "4                        Tax      19146.0      24615.0             16.0   \n",
      "5          Fun and Exitement      13676.0      19145.0             16.0   \n",
      "...                      ...          ...          ...              ...   \n",
      "806                   Return       2735.0       2735.0             13.6   \n",
      "807                Inflation      30087.0     100000.0             11.0   \n",
      "808                      Tax      13676.0      19145.0             11.0   \n",
      "809                   Return      19146.0      24615.0             16.0   \n",
      "810        Fun and Exitement      30087.0     100000.0             27.0   \n",
      "\n",
      "       Upper Percentage  Average Investment Experience  Return Encoded  \n",
      "S. No.                                                                  \n",
      "1                  16.8                              0               5  \n",
      "2                  16.8                              0               1  \n",
      "3                  26.0                             10               0  \n",
      "4                  20.0                              8               1  \n",
      "5                  20.0                             10               2  \n",
      "...                 ...                            ...             ...  \n",
      "806                16.8                              8               1  \n",
      "807                15.0                              8               5  \n",
      "808                15.0                              0               1  \n",
      "809                20.0                              2               5  \n",
      "810                26.0                              5               2  \n",
      "\n",
      "[810 rows x 24 columns]\n"
     ]
    }
   ],
   "source": [
    "label_encoder = LabelEncoder()\n",
    "\n",
    "# Fit and transform the \"Returns Earned\" column\n",
    "df['Return Encoded'] = label_encoder.fit_transform(df['Return Earned'])\n",
    "\n",
    "# Display the encoded DataFrame\n",
    "print(df)"
   ]
  },
  {
   "cell_type": "code",
   "execution_count": 16,
   "metadata": {},
   "outputs": [
    {
     "name": "stdout",
     "output_type": "stream",
     "text": [
      "                 City Gender Marital Status            Age   Education  \\\n",
      "S. No.                                                                   \n",
      "1            New York    Men  Never Married  Early Working   Secondary   \n",
      "2            New York  Women        Married  Early Working      Middle   \n",
      "3             Seattle  Women        Married  Early Working    Teritary   \n",
      "4       San Francisco    Men  Never Married        Elderly  Uneducated   \n",
      "5       San Francisco    Men        Married  Prime Working     Primary   \n",
      "...               ...    ...            ...            ...         ...   \n",
      "806           Seattle    Men        Married  Early Working   Secondary   \n",
      "807           Seattle    Men  Never Married       Children   Secondary   \n",
      "808     San Francisco    Men  Never Married       Children  Uneducated   \n",
      "809           Memphis  Women        Married       Children  Uneducated   \n",
      "810          New York    Men  Never Married  Prime Working      Middle   \n",
      "\n",
      "                                             Role  \\\n",
      "S. No.                                              \n",
      "1                   Marketing and Sales Executive   \n",
      "2             Advertising and Promotion Executive   \n",
      "3              Training and Development Executive   \n",
      "4              Training and Development Executive   \n",
      "5       Computer and Information System Executive   \n",
      "...                                           ...   \n",
      "806                                Top Executives   \n",
      "807                                Top Executives   \n",
      "808           Advertising and Promotion Executive   \n",
      "809                 Marketing and Sales Executive   \n",
      "810            Training and Development Executive   \n",
      "\n",
      "        Number of investors in family  Lower Income  Upper Income  \\\n",
      "S. No.                                                              \n",
      "1                                   2        2736.0        8205.0   \n",
      "2                                   2       19146.0       24615.0   \n",
      "3                                   2        2736.0        8205.0   \n",
      "4                                   5       19146.0       24615.0   \n",
      "5                                   2       13676.0       19145.0   \n",
      "...                               ...           ...           ...   \n",
      "806                                 1        2735.0        2735.0   \n",
      "807                                 4       30087.0      100000.0   \n",
      "808                                 1       13676.0       19145.0   \n",
      "809                                 3       19146.0       24615.0   \n",
      "810                                 1       30087.0      100000.0   \n",
      "\n",
      "        Lower Percentage  Upper Percentage  \\\n",
      "S. No.                                       \n",
      "1                   13.6              16.8   \n",
      "2                   13.6              16.8   \n",
      "3                   27.0              26.0   \n",
      "4                   16.0              20.0   \n",
      "5                   16.0              20.0   \n",
      "...                  ...               ...   \n",
      "806                 13.6              16.8   \n",
      "807                 11.0              15.0   \n",
      "808                 11.0              15.0   \n",
      "809                 16.0              20.0   \n",
      "810                 27.0              26.0   \n",
      "\n",
      "       Source of Awareness about Investment  Average Investment Experience  \\\n",
      "S. No.                                                                       \n",
      "1                                Television                              0   \n",
      "2                                   Workers                              0   \n",
      "3                                    Family                             10   \n",
      "4                                    Family                              8   \n",
      "5                                   Workers                             10   \n",
      "...                                     ...                            ...   \n",
      "806                                 Friends                              8   \n",
      "807                                Magazine                              8   \n",
      "808                                  Others                              0   \n",
      "809                                 Workers                              2   \n",
      "810                             Flash Board                              5   \n",
      "\n",
      "       Risk Level Reason for Investment    Return Earned  \n",
      "S. No.                                                    \n",
      "1             Low                   Tax  Negative Return  \n",
      "2             Low                Others        10 to 12   \n",
      "3             Low                Return           1 to 4  \n",
      "4             Low                   Tax        10 to 12   \n",
      "5             Low     Fun and Exitement           5 to 6  \n",
      "...           ...                   ...              ...  \n",
      "806        Medium                Return        10 to 12   \n",
      "807           Low             Inflation  Negative Return  \n",
      "808          High                   Tax        10 to 12   \n",
      "809          High                Return  Negative Return  \n",
      "810          High     Fun and Exitement           5 to 6  \n",
      "\n",
      "[810 rows x 16 columns]\n"
     ]
    }
   ],
   "source": [
    "columns_newdf=['City','Gender','Marital Status','Age','Education','Role','Number of investors in family','Lower Income','Upper Income',\n",
    "               'Lower Percentage','Upper Percentage','Source of Awareness about Investment','Average Investment Experience','Risk Level','Reason for Investment','Return Earned']\n",
    "\n",
    "data=df[columns_newdf]\n",
    "print(data)"
   ]
  },
  {
   "cell_type": "code",
   "execution_count": 17,
   "metadata": {},
   "outputs": [],
   "source": [
    "data.to_excel('modified investments.xlsx',index=False)"
   ]
  },
  {
   "cell_type": "markdown",
   "metadata": {},
   "source": [
    "# **Data Exploration**"
   ]
  },
  {
   "cell_type": "code",
   "execution_count": 18,
   "metadata": {},
   "outputs": [
    {
     "name": "stdout",
     "output_type": "stream",
     "text": [
      "   index  Gender\n",
      "0  Women     427\n",
      "1    Men     383\n"
     ]
    }
   ],
   "source": [
    "gender_distribution = data['Gender'].value_counts().reset_index()\n",
    "print(gender_distribution)"
   ]
  },
  {
   "cell_type": "code",
   "execution_count": 19,
   "metadata": {},
   "outputs": [
    {
     "name": "stdout",
     "output_type": "stream",
     "text": [
      "           index  Marital Status\n",
      "0  Never Married             405\n",
      "1        Married             405\n"
     ]
    }
   ],
   "source": [
    "marital_status_distribution = df['Marital Status'].value_counts().reset_index()\n",
    "print(marital_status_distribution)"
   ]
  },
  {
   "cell_type": "code",
   "execution_count": 20,
   "metadata": {},
   "outputs": [
    {
     "name": "stdout",
     "output_type": "stream",
     "text": [
      "            index  Age\n",
      "0  Mature Working  183\n",
      "1   Prime Working  163\n",
      "2        Children  159\n",
      "3         Elderly  158\n",
      "4   Early Working  147\n"
     ]
    }
   ],
   "source": [
    "age_distribution = df['Age'].value_counts().reset_index()\n",
    "print(age_distribution)"
   ]
  },
  {
   "cell_type": "code",
   "execution_count": 21,
   "metadata": {},
   "outputs": [
    {
     "data": {
      "application/vnd.plotly.v1+json": {
       "config": {
        "plotlyServerURL": "https://plot.ly"
       },
       "data": [
        {
         "domain": {
          "x": [
           0,
           1
          ],
          "y": [
           0,
           1
          ]
         },
         "hovertemplate": "Gender=%{label}<br>Count=%{value}<extra></extra>",
         "labels": [
          "Women",
          "Men"
         ],
         "legendgroup": "",
         "name": "",
         "showlegend": true,
         "type": "pie",
         "values": [
          427,
          383
         ]
        }
       ],
       "layout": {
        "legend": {
         "tracegroupgap": 0
        },
        "template": {
         "data": {
          "bar": [
           {
            "error_x": {
             "color": "#2a3f5f"
            },
            "error_y": {
             "color": "#2a3f5f"
            },
            "marker": {
             "line": {
              "color": "#E5ECF6",
              "width": 0.5
             },
             "pattern": {
              "fillmode": "overlay",
              "size": 10,
              "solidity": 0.2
             }
            },
            "type": "bar"
           }
          ],
          "barpolar": [
           {
            "marker": {
             "line": {
              "color": "#E5ECF6",
              "width": 0.5
             },
             "pattern": {
              "fillmode": "overlay",
              "size": 10,
              "solidity": 0.2
             }
            },
            "type": "barpolar"
           }
          ],
          "carpet": [
           {
            "aaxis": {
             "endlinecolor": "#2a3f5f",
             "gridcolor": "white",
             "linecolor": "white",
             "minorgridcolor": "white",
             "startlinecolor": "#2a3f5f"
            },
            "baxis": {
             "endlinecolor": "#2a3f5f",
             "gridcolor": "white",
             "linecolor": "white",
             "minorgridcolor": "white",
             "startlinecolor": "#2a3f5f"
            },
            "type": "carpet"
           }
          ],
          "choropleth": [
           {
            "colorbar": {
             "outlinewidth": 0,
             "ticks": ""
            },
            "type": "choropleth"
           }
          ],
          "contour": [
           {
            "colorbar": {
             "outlinewidth": 0,
             "ticks": ""
            },
            "colorscale": [
             [
              0,
              "#0d0887"
             ],
             [
              0.1111111111111111,
              "#46039f"
             ],
             [
              0.2222222222222222,
              "#7201a8"
             ],
             [
              0.3333333333333333,
              "#9c179e"
             ],
             [
              0.4444444444444444,
              "#bd3786"
             ],
             [
              0.5555555555555556,
              "#d8576b"
             ],
             [
              0.6666666666666666,
              "#ed7953"
             ],
             [
              0.7777777777777778,
              "#fb9f3a"
             ],
             [
              0.8888888888888888,
              "#fdca26"
             ],
             [
              1,
              "#f0f921"
             ]
            ],
            "type": "contour"
           }
          ],
          "contourcarpet": [
           {
            "colorbar": {
             "outlinewidth": 0,
             "ticks": ""
            },
            "type": "contourcarpet"
           }
          ],
          "heatmap": [
           {
            "colorbar": {
             "outlinewidth": 0,
             "ticks": ""
            },
            "colorscale": [
             [
              0,
              "#0d0887"
             ],
             [
              0.1111111111111111,
              "#46039f"
             ],
             [
              0.2222222222222222,
              "#7201a8"
             ],
             [
              0.3333333333333333,
              "#9c179e"
             ],
             [
              0.4444444444444444,
              "#bd3786"
             ],
             [
              0.5555555555555556,
              "#d8576b"
             ],
             [
              0.6666666666666666,
              "#ed7953"
             ],
             [
              0.7777777777777778,
              "#fb9f3a"
             ],
             [
              0.8888888888888888,
              "#fdca26"
             ],
             [
              1,
              "#f0f921"
             ]
            ],
            "type": "heatmap"
           }
          ],
          "heatmapgl": [
           {
            "colorbar": {
             "outlinewidth": 0,
             "ticks": ""
            },
            "colorscale": [
             [
              0,
              "#0d0887"
             ],
             [
              0.1111111111111111,
              "#46039f"
             ],
             [
              0.2222222222222222,
              "#7201a8"
             ],
             [
              0.3333333333333333,
              "#9c179e"
             ],
             [
              0.4444444444444444,
              "#bd3786"
             ],
             [
              0.5555555555555556,
              "#d8576b"
             ],
             [
              0.6666666666666666,
              "#ed7953"
             ],
             [
              0.7777777777777778,
              "#fb9f3a"
             ],
             [
              0.8888888888888888,
              "#fdca26"
             ],
             [
              1,
              "#f0f921"
             ]
            ],
            "type": "heatmapgl"
           }
          ],
          "histogram": [
           {
            "marker": {
             "pattern": {
              "fillmode": "overlay",
              "size": 10,
              "solidity": 0.2
             }
            },
            "type": "histogram"
           }
          ],
          "histogram2d": [
           {
            "colorbar": {
             "outlinewidth": 0,
             "ticks": ""
            },
            "colorscale": [
             [
              0,
              "#0d0887"
             ],
             [
              0.1111111111111111,
              "#46039f"
             ],
             [
              0.2222222222222222,
              "#7201a8"
             ],
             [
              0.3333333333333333,
              "#9c179e"
             ],
             [
              0.4444444444444444,
              "#bd3786"
             ],
             [
              0.5555555555555556,
              "#d8576b"
             ],
             [
              0.6666666666666666,
              "#ed7953"
             ],
             [
              0.7777777777777778,
              "#fb9f3a"
             ],
             [
              0.8888888888888888,
              "#fdca26"
             ],
             [
              1,
              "#f0f921"
             ]
            ],
            "type": "histogram2d"
           }
          ],
          "histogram2dcontour": [
           {
            "colorbar": {
             "outlinewidth": 0,
             "ticks": ""
            },
            "colorscale": [
             [
              0,
              "#0d0887"
             ],
             [
              0.1111111111111111,
              "#46039f"
             ],
             [
              0.2222222222222222,
              "#7201a8"
             ],
             [
              0.3333333333333333,
              "#9c179e"
             ],
             [
              0.4444444444444444,
              "#bd3786"
             ],
             [
              0.5555555555555556,
              "#d8576b"
             ],
             [
              0.6666666666666666,
              "#ed7953"
             ],
             [
              0.7777777777777778,
              "#fb9f3a"
             ],
             [
              0.8888888888888888,
              "#fdca26"
             ],
             [
              1,
              "#f0f921"
             ]
            ],
            "type": "histogram2dcontour"
           }
          ],
          "mesh3d": [
           {
            "colorbar": {
             "outlinewidth": 0,
             "ticks": ""
            },
            "type": "mesh3d"
           }
          ],
          "parcoords": [
           {
            "line": {
             "colorbar": {
              "outlinewidth": 0,
              "ticks": ""
             }
            },
            "type": "parcoords"
           }
          ],
          "pie": [
           {
            "automargin": true,
            "type": "pie"
           }
          ],
          "scatter": [
           {
            "fillpattern": {
             "fillmode": "overlay",
             "size": 10,
             "solidity": 0.2
            },
            "type": "scatter"
           }
          ],
          "scatter3d": [
           {
            "line": {
             "colorbar": {
              "outlinewidth": 0,
              "ticks": ""
             }
            },
            "marker": {
             "colorbar": {
              "outlinewidth": 0,
              "ticks": ""
             }
            },
            "type": "scatter3d"
           }
          ],
          "scattercarpet": [
           {
            "marker": {
             "colorbar": {
              "outlinewidth": 0,
              "ticks": ""
             }
            },
            "type": "scattercarpet"
           }
          ],
          "scattergeo": [
           {
            "marker": {
             "colorbar": {
              "outlinewidth": 0,
              "ticks": ""
             }
            },
            "type": "scattergeo"
           }
          ],
          "scattergl": [
           {
            "marker": {
             "colorbar": {
              "outlinewidth": 0,
              "ticks": ""
             }
            },
            "type": "scattergl"
           }
          ],
          "scattermapbox": [
           {
            "marker": {
             "colorbar": {
              "outlinewidth": 0,
              "ticks": ""
             }
            },
            "type": "scattermapbox"
           }
          ],
          "scatterpolar": [
           {
            "marker": {
             "colorbar": {
              "outlinewidth": 0,
              "ticks": ""
             }
            },
            "type": "scatterpolar"
           }
          ],
          "scatterpolargl": [
           {
            "marker": {
             "colorbar": {
              "outlinewidth": 0,
              "ticks": ""
             }
            },
            "type": "scatterpolargl"
           }
          ],
          "scatterternary": [
           {
            "marker": {
             "colorbar": {
              "outlinewidth": 0,
              "ticks": ""
             }
            },
            "type": "scatterternary"
           }
          ],
          "surface": [
           {
            "colorbar": {
             "outlinewidth": 0,
             "ticks": ""
            },
            "colorscale": [
             [
              0,
              "#0d0887"
             ],
             [
              0.1111111111111111,
              "#46039f"
             ],
             [
              0.2222222222222222,
              "#7201a8"
             ],
             [
              0.3333333333333333,
              "#9c179e"
             ],
             [
              0.4444444444444444,
              "#bd3786"
             ],
             [
              0.5555555555555556,
              "#d8576b"
             ],
             [
              0.6666666666666666,
              "#ed7953"
             ],
             [
              0.7777777777777778,
              "#fb9f3a"
             ],
             [
              0.8888888888888888,
              "#fdca26"
             ],
             [
              1,
              "#f0f921"
             ]
            ],
            "type": "surface"
           }
          ],
          "table": [
           {
            "cells": {
             "fill": {
              "color": "#EBF0F8"
             },
             "line": {
              "color": "white"
             }
            },
            "header": {
             "fill": {
              "color": "#C8D4E3"
             },
             "line": {
              "color": "white"
             }
            },
            "type": "table"
           }
          ]
         },
         "layout": {
          "annotationdefaults": {
           "arrowcolor": "#2a3f5f",
           "arrowhead": 0,
           "arrowwidth": 1
          },
          "autotypenumbers": "strict",
          "coloraxis": {
           "colorbar": {
            "outlinewidth": 0,
            "ticks": ""
           }
          },
          "colorscale": {
           "diverging": [
            [
             0,
             "#8e0152"
            ],
            [
             0.1,
             "#c51b7d"
            ],
            [
             0.2,
             "#de77ae"
            ],
            [
             0.3,
             "#f1b6da"
            ],
            [
             0.4,
             "#fde0ef"
            ],
            [
             0.5,
             "#f7f7f7"
            ],
            [
             0.6,
             "#e6f5d0"
            ],
            [
             0.7,
             "#b8e186"
            ],
            [
             0.8,
             "#7fbc41"
            ],
            [
             0.9,
             "#4d9221"
            ],
            [
             1,
             "#276419"
            ]
           ],
           "sequential": [
            [
             0,
             "#0d0887"
            ],
            [
             0.1111111111111111,
             "#46039f"
            ],
            [
             0.2222222222222222,
             "#7201a8"
            ],
            [
             0.3333333333333333,
             "#9c179e"
            ],
            [
             0.4444444444444444,
             "#bd3786"
            ],
            [
             0.5555555555555556,
             "#d8576b"
            ],
            [
             0.6666666666666666,
             "#ed7953"
            ],
            [
             0.7777777777777778,
             "#fb9f3a"
            ],
            [
             0.8888888888888888,
             "#fdca26"
            ],
            [
             1,
             "#f0f921"
            ]
           ],
           "sequentialminus": [
            [
             0,
             "#0d0887"
            ],
            [
             0.1111111111111111,
             "#46039f"
            ],
            [
             0.2222222222222222,
             "#7201a8"
            ],
            [
             0.3333333333333333,
             "#9c179e"
            ],
            [
             0.4444444444444444,
             "#bd3786"
            ],
            [
             0.5555555555555556,
             "#d8576b"
            ],
            [
             0.6666666666666666,
             "#ed7953"
            ],
            [
             0.7777777777777778,
             "#fb9f3a"
            ],
            [
             0.8888888888888888,
             "#fdca26"
            ],
            [
             1,
             "#f0f921"
            ]
           ]
          },
          "colorway": [
           "#636efa",
           "#EF553B",
           "#00cc96",
           "#ab63fa",
           "#FFA15A",
           "#19d3f3",
           "#FF6692",
           "#B6E880",
           "#FF97FF",
           "#FECB52"
          ],
          "font": {
           "color": "#2a3f5f"
          },
          "geo": {
           "bgcolor": "white",
           "lakecolor": "white",
           "landcolor": "#E5ECF6",
           "showlakes": true,
           "showland": true,
           "subunitcolor": "white"
          },
          "hoverlabel": {
           "align": "left"
          },
          "hovermode": "closest",
          "mapbox": {
           "style": "light"
          },
          "paper_bgcolor": "white",
          "plot_bgcolor": "#E5ECF6",
          "polar": {
           "angularaxis": {
            "gridcolor": "white",
            "linecolor": "white",
            "ticks": ""
           },
           "bgcolor": "#E5ECF6",
           "radialaxis": {
            "gridcolor": "white",
            "linecolor": "white",
            "ticks": ""
           }
          },
          "scene": {
           "xaxis": {
            "backgroundcolor": "#E5ECF6",
            "gridcolor": "white",
            "gridwidth": 2,
            "linecolor": "white",
            "showbackground": true,
            "ticks": "",
            "zerolinecolor": "white"
           },
           "yaxis": {
            "backgroundcolor": "#E5ECF6",
            "gridcolor": "white",
            "gridwidth": 2,
            "linecolor": "white",
            "showbackground": true,
            "ticks": "",
            "zerolinecolor": "white"
           },
           "zaxis": {
            "backgroundcolor": "#E5ECF6",
            "gridcolor": "white",
            "gridwidth": 2,
            "linecolor": "white",
            "showbackground": true,
            "ticks": "",
            "zerolinecolor": "white"
           }
          },
          "shapedefaults": {
           "line": {
            "color": "#2a3f5f"
           }
          },
          "ternary": {
           "aaxis": {
            "gridcolor": "white",
            "linecolor": "white",
            "ticks": ""
           },
           "baxis": {
            "gridcolor": "white",
            "linecolor": "white",
            "ticks": ""
           },
           "bgcolor": "#E5ECF6",
           "caxis": {
            "gridcolor": "white",
            "linecolor": "white",
            "ticks": ""
           }
          },
          "title": {
           "x": 0.05
          },
          "xaxis": {
           "automargin": true,
           "gridcolor": "white",
           "linecolor": "white",
           "ticks": "",
           "title": {
            "standoff": 15
           },
           "zerolinecolor": "white",
           "zerolinewidth": 2
          },
          "yaxis": {
           "automargin": true,
           "gridcolor": "white",
           "linecolor": "white",
           "ticks": "",
           "title": {
            "standoff": 15
           },
           "zerolinecolor": "white",
           "zerolinewidth": 2
          }
         }
        },
        "title": {
         "text": "Gender Distribution"
        }
       }
      }
     },
     "metadata": {},
     "output_type": "display_data"
    },
    {
     "data": {
      "application/vnd.plotly.v1+json": {
       "config": {
        "plotlyServerURL": "https://plot.ly"
       },
       "data": [
        {
         "domain": {
          "x": [
           0,
           1
          ],
          "y": [
           0,
           1
          ]
         },
         "hovertemplate": "Marital Status=%{label}<br>Count=%{value}<extra></extra>",
         "labels": [
          "Never Married",
          "Married"
         ],
         "legendgroup": "",
         "name": "",
         "showlegend": true,
         "type": "pie",
         "values": [
          405,
          405
         ]
        }
       ],
       "layout": {
        "legend": {
         "tracegroupgap": 0
        },
        "template": {
         "data": {
          "bar": [
           {
            "error_x": {
             "color": "#2a3f5f"
            },
            "error_y": {
             "color": "#2a3f5f"
            },
            "marker": {
             "line": {
              "color": "#E5ECF6",
              "width": 0.5
             },
             "pattern": {
              "fillmode": "overlay",
              "size": 10,
              "solidity": 0.2
             }
            },
            "type": "bar"
           }
          ],
          "barpolar": [
           {
            "marker": {
             "line": {
              "color": "#E5ECF6",
              "width": 0.5
             },
             "pattern": {
              "fillmode": "overlay",
              "size": 10,
              "solidity": 0.2
             }
            },
            "type": "barpolar"
           }
          ],
          "carpet": [
           {
            "aaxis": {
             "endlinecolor": "#2a3f5f",
             "gridcolor": "white",
             "linecolor": "white",
             "minorgridcolor": "white",
             "startlinecolor": "#2a3f5f"
            },
            "baxis": {
             "endlinecolor": "#2a3f5f",
             "gridcolor": "white",
             "linecolor": "white",
             "minorgridcolor": "white",
             "startlinecolor": "#2a3f5f"
            },
            "type": "carpet"
           }
          ],
          "choropleth": [
           {
            "colorbar": {
             "outlinewidth": 0,
             "ticks": ""
            },
            "type": "choropleth"
           }
          ],
          "contour": [
           {
            "colorbar": {
             "outlinewidth": 0,
             "ticks": ""
            },
            "colorscale": [
             [
              0,
              "#0d0887"
             ],
             [
              0.1111111111111111,
              "#46039f"
             ],
             [
              0.2222222222222222,
              "#7201a8"
             ],
             [
              0.3333333333333333,
              "#9c179e"
             ],
             [
              0.4444444444444444,
              "#bd3786"
             ],
             [
              0.5555555555555556,
              "#d8576b"
             ],
             [
              0.6666666666666666,
              "#ed7953"
             ],
             [
              0.7777777777777778,
              "#fb9f3a"
             ],
             [
              0.8888888888888888,
              "#fdca26"
             ],
             [
              1,
              "#f0f921"
             ]
            ],
            "type": "contour"
           }
          ],
          "contourcarpet": [
           {
            "colorbar": {
             "outlinewidth": 0,
             "ticks": ""
            },
            "type": "contourcarpet"
           }
          ],
          "heatmap": [
           {
            "colorbar": {
             "outlinewidth": 0,
             "ticks": ""
            },
            "colorscale": [
             [
              0,
              "#0d0887"
             ],
             [
              0.1111111111111111,
              "#46039f"
             ],
             [
              0.2222222222222222,
              "#7201a8"
             ],
             [
              0.3333333333333333,
              "#9c179e"
             ],
             [
              0.4444444444444444,
              "#bd3786"
             ],
             [
              0.5555555555555556,
              "#d8576b"
             ],
             [
              0.6666666666666666,
              "#ed7953"
             ],
             [
              0.7777777777777778,
              "#fb9f3a"
             ],
             [
              0.8888888888888888,
              "#fdca26"
             ],
             [
              1,
              "#f0f921"
             ]
            ],
            "type": "heatmap"
           }
          ],
          "heatmapgl": [
           {
            "colorbar": {
             "outlinewidth": 0,
             "ticks": ""
            },
            "colorscale": [
             [
              0,
              "#0d0887"
             ],
             [
              0.1111111111111111,
              "#46039f"
             ],
             [
              0.2222222222222222,
              "#7201a8"
             ],
             [
              0.3333333333333333,
              "#9c179e"
             ],
             [
              0.4444444444444444,
              "#bd3786"
             ],
             [
              0.5555555555555556,
              "#d8576b"
             ],
             [
              0.6666666666666666,
              "#ed7953"
             ],
             [
              0.7777777777777778,
              "#fb9f3a"
             ],
             [
              0.8888888888888888,
              "#fdca26"
             ],
             [
              1,
              "#f0f921"
             ]
            ],
            "type": "heatmapgl"
           }
          ],
          "histogram": [
           {
            "marker": {
             "pattern": {
              "fillmode": "overlay",
              "size": 10,
              "solidity": 0.2
             }
            },
            "type": "histogram"
           }
          ],
          "histogram2d": [
           {
            "colorbar": {
             "outlinewidth": 0,
             "ticks": ""
            },
            "colorscale": [
             [
              0,
              "#0d0887"
             ],
             [
              0.1111111111111111,
              "#46039f"
             ],
             [
              0.2222222222222222,
              "#7201a8"
             ],
             [
              0.3333333333333333,
              "#9c179e"
             ],
             [
              0.4444444444444444,
              "#bd3786"
             ],
             [
              0.5555555555555556,
              "#d8576b"
             ],
             [
              0.6666666666666666,
              "#ed7953"
             ],
             [
              0.7777777777777778,
              "#fb9f3a"
             ],
             [
              0.8888888888888888,
              "#fdca26"
             ],
             [
              1,
              "#f0f921"
             ]
            ],
            "type": "histogram2d"
           }
          ],
          "histogram2dcontour": [
           {
            "colorbar": {
             "outlinewidth": 0,
             "ticks": ""
            },
            "colorscale": [
             [
              0,
              "#0d0887"
             ],
             [
              0.1111111111111111,
              "#46039f"
             ],
             [
              0.2222222222222222,
              "#7201a8"
             ],
             [
              0.3333333333333333,
              "#9c179e"
             ],
             [
              0.4444444444444444,
              "#bd3786"
             ],
             [
              0.5555555555555556,
              "#d8576b"
             ],
             [
              0.6666666666666666,
              "#ed7953"
             ],
             [
              0.7777777777777778,
              "#fb9f3a"
             ],
             [
              0.8888888888888888,
              "#fdca26"
             ],
             [
              1,
              "#f0f921"
             ]
            ],
            "type": "histogram2dcontour"
           }
          ],
          "mesh3d": [
           {
            "colorbar": {
             "outlinewidth": 0,
             "ticks": ""
            },
            "type": "mesh3d"
           }
          ],
          "parcoords": [
           {
            "line": {
             "colorbar": {
              "outlinewidth": 0,
              "ticks": ""
             }
            },
            "type": "parcoords"
           }
          ],
          "pie": [
           {
            "automargin": true,
            "type": "pie"
           }
          ],
          "scatter": [
           {
            "fillpattern": {
             "fillmode": "overlay",
             "size": 10,
             "solidity": 0.2
            },
            "type": "scatter"
           }
          ],
          "scatter3d": [
           {
            "line": {
             "colorbar": {
              "outlinewidth": 0,
              "ticks": ""
             }
            },
            "marker": {
             "colorbar": {
              "outlinewidth": 0,
              "ticks": ""
             }
            },
            "type": "scatter3d"
           }
          ],
          "scattercarpet": [
           {
            "marker": {
             "colorbar": {
              "outlinewidth": 0,
              "ticks": ""
             }
            },
            "type": "scattercarpet"
           }
          ],
          "scattergeo": [
           {
            "marker": {
             "colorbar": {
              "outlinewidth": 0,
              "ticks": ""
             }
            },
            "type": "scattergeo"
           }
          ],
          "scattergl": [
           {
            "marker": {
             "colorbar": {
              "outlinewidth": 0,
              "ticks": ""
             }
            },
            "type": "scattergl"
           }
          ],
          "scattermapbox": [
           {
            "marker": {
             "colorbar": {
              "outlinewidth": 0,
              "ticks": ""
             }
            },
            "type": "scattermapbox"
           }
          ],
          "scatterpolar": [
           {
            "marker": {
             "colorbar": {
              "outlinewidth": 0,
              "ticks": ""
             }
            },
            "type": "scatterpolar"
           }
          ],
          "scatterpolargl": [
           {
            "marker": {
             "colorbar": {
              "outlinewidth": 0,
              "ticks": ""
             }
            },
            "type": "scatterpolargl"
           }
          ],
          "scatterternary": [
           {
            "marker": {
             "colorbar": {
              "outlinewidth": 0,
              "ticks": ""
             }
            },
            "type": "scatterternary"
           }
          ],
          "surface": [
           {
            "colorbar": {
             "outlinewidth": 0,
             "ticks": ""
            },
            "colorscale": [
             [
              0,
              "#0d0887"
             ],
             [
              0.1111111111111111,
              "#46039f"
             ],
             [
              0.2222222222222222,
              "#7201a8"
             ],
             [
              0.3333333333333333,
              "#9c179e"
             ],
             [
              0.4444444444444444,
              "#bd3786"
             ],
             [
              0.5555555555555556,
              "#d8576b"
             ],
             [
              0.6666666666666666,
              "#ed7953"
             ],
             [
              0.7777777777777778,
              "#fb9f3a"
             ],
             [
              0.8888888888888888,
              "#fdca26"
             ],
             [
              1,
              "#f0f921"
             ]
            ],
            "type": "surface"
           }
          ],
          "table": [
           {
            "cells": {
             "fill": {
              "color": "#EBF0F8"
             },
             "line": {
              "color": "white"
             }
            },
            "header": {
             "fill": {
              "color": "#C8D4E3"
             },
             "line": {
              "color": "white"
             }
            },
            "type": "table"
           }
          ]
         },
         "layout": {
          "annotationdefaults": {
           "arrowcolor": "#2a3f5f",
           "arrowhead": 0,
           "arrowwidth": 1
          },
          "autotypenumbers": "strict",
          "coloraxis": {
           "colorbar": {
            "outlinewidth": 0,
            "ticks": ""
           }
          },
          "colorscale": {
           "diverging": [
            [
             0,
             "#8e0152"
            ],
            [
             0.1,
             "#c51b7d"
            ],
            [
             0.2,
             "#de77ae"
            ],
            [
             0.3,
             "#f1b6da"
            ],
            [
             0.4,
             "#fde0ef"
            ],
            [
             0.5,
             "#f7f7f7"
            ],
            [
             0.6,
             "#e6f5d0"
            ],
            [
             0.7,
             "#b8e186"
            ],
            [
             0.8,
             "#7fbc41"
            ],
            [
             0.9,
             "#4d9221"
            ],
            [
             1,
             "#276419"
            ]
           ],
           "sequential": [
            [
             0,
             "#0d0887"
            ],
            [
             0.1111111111111111,
             "#46039f"
            ],
            [
             0.2222222222222222,
             "#7201a8"
            ],
            [
             0.3333333333333333,
             "#9c179e"
            ],
            [
             0.4444444444444444,
             "#bd3786"
            ],
            [
             0.5555555555555556,
             "#d8576b"
            ],
            [
             0.6666666666666666,
             "#ed7953"
            ],
            [
             0.7777777777777778,
             "#fb9f3a"
            ],
            [
             0.8888888888888888,
             "#fdca26"
            ],
            [
             1,
             "#f0f921"
            ]
           ],
           "sequentialminus": [
            [
             0,
             "#0d0887"
            ],
            [
             0.1111111111111111,
             "#46039f"
            ],
            [
             0.2222222222222222,
             "#7201a8"
            ],
            [
             0.3333333333333333,
             "#9c179e"
            ],
            [
             0.4444444444444444,
             "#bd3786"
            ],
            [
             0.5555555555555556,
             "#d8576b"
            ],
            [
             0.6666666666666666,
             "#ed7953"
            ],
            [
             0.7777777777777778,
             "#fb9f3a"
            ],
            [
             0.8888888888888888,
             "#fdca26"
            ],
            [
             1,
             "#f0f921"
            ]
           ]
          },
          "colorway": [
           "#636efa",
           "#EF553B",
           "#00cc96",
           "#ab63fa",
           "#FFA15A",
           "#19d3f3",
           "#FF6692",
           "#B6E880",
           "#FF97FF",
           "#FECB52"
          ],
          "font": {
           "color": "#2a3f5f"
          },
          "geo": {
           "bgcolor": "white",
           "lakecolor": "white",
           "landcolor": "#E5ECF6",
           "showlakes": true,
           "showland": true,
           "subunitcolor": "white"
          },
          "hoverlabel": {
           "align": "left"
          },
          "hovermode": "closest",
          "mapbox": {
           "style": "light"
          },
          "paper_bgcolor": "white",
          "plot_bgcolor": "#E5ECF6",
          "polar": {
           "angularaxis": {
            "gridcolor": "white",
            "linecolor": "white",
            "ticks": ""
           },
           "bgcolor": "#E5ECF6",
           "radialaxis": {
            "gridcolor": "white",
            "linecolor": "white",
            "ticks": ""
           }
          },
          "scene": {
           "xaxis": {
            "backgroundcolor": "#E5ECF6",
            "gridcolor": "white",
            "gridwidth": 2,
            "linecolor": "white",
            "showbackground": true,
            "ticks": "",
            "zerolinecolor": "white"
           },
           "yaxis": {
            "backgroundcolor": "#E5ECF6",
            "gridcolor": "white",
            "gridwidth": 2,
            "linecolor": "white",
            "showbackground": true,
            "ticks": "",
            "zerolinecolor": "white"
           },
           "zaxis": {
            "backgroundcolor": "#E5ECF6",
            "gridcolor": "white",
            "gridwidth": 2,
            "linecolor": "white",
            "showbackground": true,
            "ticks": "",
            "zerolinecolor": "white"
           }
          },
          "shapedefaults": {
           "line": {
            "color": "#2a3f5f"
           }
          },
          "ternary": {
           "aaxis": {
            "gridcolor": "white",
            "linecolor": "white",
            "ticks": ""
           },
           "baxis": {
            "gridcolor": "white",
            "linecolor": "white",
            "ticks": ""
           },
           "bgcolor": "#E5ECF6",
           "caxis": {
            "gridcolor": "white",
            "linecolor": "white",
            "ticks": ""
           }
          },
          "title": {
           "x": 0.05
          },
          "xaxis": {
           "automargin": true,
           "gridcolor": "white",
           "linecolor": "white",
           "ticks": "",
           "title": {
            "standoff": 15
           },
           "zerolinecolor": "white",
           "zerolinewidth": 2
          },
          "yaxis": {
           "automargin": true,
           "gridcolor": "white",
           "linecolor": "white",
           "ticks": "",
           "title": {
            "standoff": 15
           },
           "zerolinecolor": "white",
           "zerolinewidth": 2
          }
         }
        },
        "title": {
         "text": "Marital Status Distribution"
        }
       }
      }
     },
     "metadata": {},
     "output_type": "display_data"
    },
    {
     "data": {
      "application/vnd.plotly.v1+json": {
       "config": {
        "plotlyServerURL": "https://plot.ly"
       },
       "data": [
        {
         "alignmentgroup": "True",
         "hovertemplate": "Age=%{x}<br>Count=%{y}<extra></extra>",
         "legendgroup": "",
         "marker": {
          "color": "#636efa",
          "pattern": {
           "shape": ""
          }
         },
         "name": "",
         "offsetgroup": "",
         "orientation": "v",
         "showlegend": false,
         "textposition": "auto",
         "type": "bar",
         "x": [
          "Mature Working",
          "Prime Working",
          "Children",
          "Elderly",
          "Early Working"
         ],
         "xaxis": "x",
         "y": [
          183,
          163,
          159,
          158,
          147
         ],
         "yaxis": "y"
        }
       ],
       "layout": {
        "barmode": "relative",
        "legend": {
         "tracegroupgap": 0
        },
        "template": {
         "data": {
          "bar": [
           {
            "error_x": {
             "color": "#2a3f5f"
            },
            "error_y": {
             "color": "#2a3f5f"
            },
            "marker": {
             "line": {
              "color": "#E5ECF6",
              "width": 0.5
             },
             "pattern": {
              "fillmode": "overlay",
              "size": 10,
              "solidity": 0.2
             }
            },
            "type": "bar"
           }
          ],
          "barpolar": [
           {
            "marker": {
             "line": {
              "color": "#E5ECF6",
              "width": 0.5
             },
             "pattern": {
              "fillmode": "overlay",
              "size": 10,
              "solidity": 0.2
             }
            },
            "type": "barpolar"
           }
          ],
          "carpet": [
           {
            "aaxis": {
             "endlinecolor": "#2a3f5f",
             "gridcolor": "white",
             "linecolor": "white",
             "minorgridcolor": "white",
             "startlinecolor": "#2a3f5f"
            },
            "baxis": {
             "endlinecolor": "#2a3f5f",
             "gridcolor": "white",
             "linecolor": "white",
             "minorgridcolor": "white",
             "startlinecolor": "#2a3f5f"
            },
            "type": "carpet"
           }
          ],
          "choropleth": [
           {
            "colorbar": {
             "outlinewidth": 0,
             "ticks": ""
            },
            "type": "choropleth"
           }
          ],
          "contour": [
           {
            "colorbar": {
             "outlinewidth": 0,
             "ticks": ""
            },
            "colorscale": [
             [
              0,
              "#0d0887"
             ],
             [
              0.1111111111111111,
              "#46039f"
             ],
             [
              0.2222222222222222,
              "#7201a8"
             ],
             [
              0.3333333333333333,
              "#9c179e"
             ],
             [
              0.4444444444444444,
              "#bd3786"
             ],
             [
              0.5555555555555556,
              "#d8576b"
             ],
             [
              0.6666666666666666,
              "#ed7953"
             ],
             [
              0.7777777777777778,
              "#fb9f3a"
             ],
             [
              0.8888888888888888,
              "#fdca26"
             ],
             [
              1,
              "#f0f921"
             ]
            ],
            "type": "contour"
           }
          ],
          "contourcarpet": [
           {
            "colorbar": {
             "outlinewidth": 0,
             "ticks": ""
            },
            "type": "contourcarpet"
           }
          ],
          "heatmap": [
           {
            "colorbar": {
             "outlinewidth": 0,
             "ticks": ""
            },
            "colorscale": [
             [
              0,
              "#0d0887"
             ],
             [
              0.1111111111111111,
              "#46039f"
             ],
             [
              0.2222222222222222,
              "#7201a8"
             ],
             [
              0.3333333333333333,
              "#9c179e"
             ],
             [
              0.4444444444444444,
              "#bd3786"
             ],
             [
              0.5555555555555556,
              "#d8576b"
             ],
             [
              0.6666666666666666,
              "#ed7953"
             ],
             [
              0.7777777777777778,
              "#fb9f3a"
             ],
             [
              0.8888888888888888,
              "#fdca26"
             ],
             [
              1,
              "#f0f921"
             ]
            ],
            "type": "heatmap"
           }
          ],
          "heatmapgl": [
           {
            "colorbar": {
             "outlinewidth": 0,
             "ticks": ""
            },
            "colorscale": [
             [
              0,
              "#0d0887"
             ],
             [
              0.1111111111111111,
              "#46039f"
             ],
             [
              0.2222222222222222,
              "#7201a8"
             ],
             [
              0.3333333333333333,
              "#9c179e"
             ],
             [
              0.4444444444444444,
              "#bd3786"
             ],
             [
              0.5555555555555556,
              "#d8576b"
             ],
             [
              0.6666666666666666,
              "#ed7953"
             ],
             [
              0.7777777777777778,
              "#fb9f3a"
             ],
             [
              0.8888888888888888,
              "#fdca26"
             ],
             [
              1,
              "#f0f921"
             ]
            ],
            "type": "heatmapgl"
           }
          ],
          "histogram": [
           {
            "marker": {
             "pattern": {
              "fillmode": "overlay",
              "size": 10,
              "solidity": 0.2
             }
            },
            "type": "histogram"
           }
          ],
          "histogram2d": [
           {
            "colorbar": {
             "outlinewidth": 0,
             "ticks": ""
            },
            "colorscale": [
             [
              0,
              "#0d0887"
             ],
             [
              0.1111111111111111,
              "#46039f"
             ],
             [
              0.2222222222222222,
              "#7201a8"
             ],
             [
              0.3333333333333333,
              "#9c179e"
             ],
             [
              0.4444444444444444,
              "#bd3786"
             ],
             [
              0.5555555555555556,
              "#d8576b"
             ],
             [
              0.6666666666666666,
              "#ed7953"
             ],
             [
              0.7777777777777778,
              "#fb9f3a"
             ],
             [
              0.8888888888888888,
              "#fdca26"
             ],
             [
              1,
              "#f0f921"
             ]
            ],
            "type": "histogram2d"
           }
          ],
          "histogram2dcontour": [
           {
            "colorbar": {
             "outlinewidth": 0,
             "ticks": ""
            },
            "colorscale": [
             [
              0,
              "#0d0887"
             ],
             [
              0.1111111111111111,
              "#46039f"
             ],
             [
              0.2222222222222222,
              "#7201a8"
             ],
             [
              0.3333333333333333,
              "#9c179e"
             ],
             [
              0.4444444444444444,
              "#bd3786"
             ],
             [
              0.5555555555555556,
              "#d8576b"
             ],
             [
              0.6666666666666666,
              "#ed7953"
             ],
             [
              0.7777777777777778,
              "#fb9f3a"
             ],
             [
              0.8888888888888888,
              "#fdca26"
             ],
             [
              1,
              "#f0f921"
             ]
            ],
            "type": "histogram2dcontour"
           }
          ],
          "mesh3d": [
           {
            "colorbar": {
             "outlinewidth": 0,
             "ticks": ""
            },
            "type": "mesh3d"
           }
          ],
          "parcoords": [
           {
            "line": {
             "colorbar": {
              "outlinewidth": 0,
              "ticks": ""
             }
            },
            "type": "parcoords"
           }
          ],
          "pie": [
           {
            "automargin": true,
            "type": "pie"
           }
          ],
          "scatter": [
           {
            "fillpattern": {
             "fillmode": "overlay",
             "size": 10,
             "solidity": 0.2
            },
            "type": "scatter"
           }
          ],
          "scatter3d": [
           {
            "line": {
             "colorbar": {
              "outlinewidth": 0,
              "ticks": ""
             }
            },
            "marker": {
             "colorbar": {
              "outlinewidth": 0,
              "ticks": ""
             }
            },
            "type": "scatter3d"
           }
          ],
          "scattercarpet": [
           {
            "marker": {
             "colorbar": {
              "outlinewidth": 0,
              "ticks": ""
             }
            },
            "type": "scattercarpet"
           }
          ],
          "scattergeo": [
           {
            "marker": {
             "colorbar": {
              "outlinewidth": 0,
              "ticks": ""
             }
            },
            "type": "scattergeo"
           }
          ],
          "scattergl": [
           {
            "marker": {
             "colorbar": {
              "outlinewidth": 0,
              "ticks": ""
             }
            },
            "type": "scattergl"
           }
          ],
          "scattermapbox": [
           {
            "marker": {
             "colorbar": {
              "outlinewidth": 0,
              "ticks": ""
             }
            },
            "type": "scattermapbox"
           }
          ],
          "scatterpolar": [
           {
            "marker": {
             "colorbar": {
              "outlinewidth": 0,
              "ticks": ""
             }
            },
            "type": "scatterpolar"
           }
          ],
          "scatterpolargl": [
           {
            "marker": {
             "colorbar": {
              "outlinewidth": 0,
              "ticks": ""
             }
            },
            "type": "scatterpolargl"
           }
          ],
          "scatterternary": [
           {
            "marker": {
             "colorbar": {
              "outlinewidth": 0,
              "ticks": ""
             }
            },
            "type": "scatterternary"
           }
          ],
          "surface": [
           {
            "colorbar": {
             "outlinewidth": 0,
             "ticks": ""
            },
            "colorscale": [
             [
              0,
              "#0d0887"
             ],
             [
              0.1111111111111111,
              "#46039f"
             ],
             [
              0.2222222222222222,
              "#7201a8"
             ],
             [
              0.3333333333333333,
              "#9c179e"
             ],
             [
              0.4444444444444444,
              "#bd3786"
             ],
             [
              0.5555555555555556,
              "#d8576b"
             ],
             [
              0.6666666666666666,
              "#ed7953"
             ],
             [
              0.7777777777777778,
              "#fb9f3a"
             ],
             [
              0.8888888888888888,
              "#fdca26"
             ],
             [
              1,
              "#f0f921"
             ]
            ],
            "type": "surface"
           }
          ],
          "table": [
           {
            "cells": {
             "fill": {
              "color": "#EBF0F8"
             },
             "line": {
              "color": "white"
             }
            },
            "header": {
             "fill": {
              "color": "#C8D4E3"
             },
             "line": {
              "color": "white"
             }
            },
            "type": "table"
           }
          ]
         },
         "layout": {
          "annotationdefaults": {
           "arrowcolor": "#2a3f5f",
           "arrowhead": 0,
           "arrowwidth": 1
          },
          "autotypenumbers": "strict",
          "coloraxis": {
           "colorbar": {
            "outlinewidth": 0,
            "ticks": ""
           }
          },
          "colorscale": {
           "diverging": [
            [
             0,
             "#8e0152"
            ],
            [
             0.1,
             "#c51b7d"
            ],
            [
             0.2,
             "#de77ae"
            ],
            [
             0.3,
             "#f1b6da"
            ],
            [
             0.4,
             "#fde0ef"
            ],
            [
             0.5,
             "#f7f7f7"
            ],
            [
             0.6,
             "#e6f5d0"
            ],
            [
             0.7,
             "#b8e186"
            ],
            [
             0.8,
             "#7fbc41"
            ],
            [
             0.9,
             "#4d9221"
            ],
            [
             1,
             "#276419"
            ]
           ],
           "sequential": [
            [
             0,
             "#0d0887"
            ],
            [
             0.1111111111111111,
             "#46039f"
            ],
            [
             0.2222222222222222,
             "#7201a8"
            ],
            [
             0.3333333333333333,
             "#9c179e"
            ],
            [
             0.4444444444444444,
             "#bd3786"
            ],
            [
             0.5555555555555556,
             "#d8576b"
            ],
            [
             0.6666666666666666,
             "#ed7953"
            ],
            [
             0.7777777777777778,
             "#fb9f3a"
            ],
            [
             0.8888888888888888,
             "#fdca26"
            ],
            [
             1,
             "#f0f921"
            ]
           ],
           "sequentialminus": [
            [
             0,
             "#0d0887"
            ],
            [
             0.1111111111111111,
             "#46039f"
            ],
            [
             0.2222222222222222,
             "#7201a8"
            ],
            [
             0.3333333333333333,
             "#9c179e"
            ],
            [
             0.4444444444444444,
             "#bd3786"
            ],
            [
             0.5555555555555556,
             "#d8576b"
            ],
            [
             0.6666666666666666,
             "#ed7953"
            ],
            [
             0.7777777777777778,
             "#fb9f3a"
            ],
            [
             0.8888888888888888,
             "#fdca26"
            ],
            [
             1,
             "#f0f921"
            ]
           ]
          },
          "colorway": [
           "#636efa",
           "#EF553B",
           "#00cc96",
           "#ab63fa",
           "#FFA15A",
           "#19d3f3",
           "#FF6692",
           "#B6E880",
           "#FF97FF",
           "#FECB52"
          ],
          "font": {
           "color": "#2a3f5f"
          },
          "geo": {
           "bgcolor": "white",
           "lakecolor": "white",
           "landcolor": "#E5ECF6",
           "showlakes": true,
           "showland": true,
           "subunitcolor": "white"
          },
          "hoverlabel": {
           "align": "left"
          },
          "hovermode": "closest",
          "mapbox": {
           "style": "light"
          },
          "paper_bgcolor": "white",
          "plot_bgcolor": "#E5ECF6",
          "polar": {
           "angularaxis": {
            "gridcolor": "white",
            "linecolor": "white",
            "ticks": ""
           },
           "bgcolor": "#E5ECF6",
           "radialaxis": {
            "gridcolor": "white",
            "linecolor": "white",
            "ticks": ""
           }
          },
          "scene": {
           "xaxis": {
            "backgroundcolor": "#E5ECF6",
            "gridcolor": "white",
            "gridwidth": 2,
            "linecolor": "white",
            "showbackground": true,
            "ticks": "",
            "zerolinecolor": "white"
           },
           "yaxis": {
            "backgroundcolor": "#E5ECF6",
            "gridcolor": "white",
            "gridwidth": 2,
            "linecolor": "white",
            "showbackground": true,
            "ticks": "",
            "zerolinecolor": "white"
           },
           "zaxis": {
            "backgroundcolor": "#E5ECF6",
            "gridcolor": "white",
            "gridwidth": 2,
            "linecolor": "white",
            "showbackground": true,
            "ticks": "",
            "zerolinecolor": "white"
           }
          },
          "shapedefaults": {
           "line": {
            "color": "#2a3f5f"
           }
          },
          "ternary": {
           "aaxis": {
            "gridcolor": "white",
            "linecolor": "white",
            "ticks": ""
           },
           "baxis": {
            "gridcolor": "white",
            "linecolor": "white",
            "ticks": ""
           },
           "bgcolor": "#E5ECF6",
           "caxis": {
            "gridcolor": "white",
            "linecolor": "white",
            "ticks": ""
           }
          },
          "title": {
           "x": 0.05
          },
          "xaxis": {
           "automargin": true,
           "gridcolor": "white",
           "linecolor": "white",
           "ticks": "",
           "title": {
            "standoff": 15
           },
           "zerolinecolor": "white",
           "zerolinewidth": 2
          },
          "yaxis": {
           "automargin": true,
           "gridcolor": "white",
           "linecolor": "white",
           "ticks": "",
           "title": {
            "standoff": 15
           },
           "zerolinecolor": "white",
           "zerolinewidth": 2
          }
         }
        },
        "title": {
         "text": "Age Distribution"
        },
        "xaxis": {
         "anchor": "y",
         "domain": [
          0,
          1
         ],
         "title": {
          "text": "Age"
         }
        },
        "yaxis": {
         "anchor": "x",
         "domain": [
          0,
          1
         ],
         "title": {
          "text": "Count"
         }
        }
       }
      }
     },
     "metadata": {},
     "output_type": "display_data"
    }
   ],
   "source": [
    "gender_distribution.columns = ['Gender', 'Count']\n",
    "marital_status_distribution.columns = ['Marital Status', 'Count']\n",
    "age_distribution.columns = ['Age', 'Count']\n",
    "gender_fig = px.pie(gender_distribution, names='Gender', values='Count', title='Gender Distribution')\n",
    "marital_fig = px.pie(marital_status_distribution, names='Marital Status', values='Count', title='Marital Status Distribution')\n",
    "age_fig = px.bar(age_distribution, x='Age', y='Count', title='Age Distribution')\n",
    "\n",
    "# Show the plots\n",
    "gender_fig.show()\n",
    "marital_fig.show()\n",
    "age_fig.show()\n"
   ]
  },
  {
   "cell_type": "code",
   "execution_count": 22,
   "metadata": {},
   "outputs": [
    {
     "name": "stdout",
     "output_type": "stream",
     "text": [
      "        index  Education\n",
      "0    Teritary        172\n",
      "1      Middle        171\n",
      "2  Uneducated        162\n",
      "3   Secondary        161\n",
      "4     Primary        144\n",
      "                                       index  Role\n",
      "0                             Top Executives   175\n",
      "1         Training and Development Executive   172\n",
      "2              Marketing and Sales Executive   162\n",
      "3  Computer and Information System Executive   160\n",
      "4        Advertising and Promotion Executive   141\n",
      "     index  Lower Income\n",
      "0  30087.0           123\n",
      "1   2735.0           121\n",
      "2  13676.0           118\n",
      "3   2736.0           115\n",
      "4  19146.0           115\n",
      "5   8206.0           114\n",
      "6  24616.0           104\n",
      "      index  Upper Income\n",
      "0  100000.0           123\n",
      "1    2735.0           121\n",
      "2   19145.0           118\n",
      "3    8205.0           115\n",
      "4   24615.0           115\n",
      "5   13675.0           114\n",
      "6   30085.0           104\n"
     ]
    }
   ],
   "source": [
    "edu = data['Education'].value_counts().reset_index()\n",
    "print(edu)\n",
    "\n",
    "role = data['Role'].value_counts().reset_index()\n",
    "print(role)\n",
    "\n",
    "lower=data['Lower Income'].value_counts().reset_index()\n",
    "print(lower)\n",
    "\n",
    "upper=data['Upper Income'].value_counts().reset_index()\n",
    "print(upper)"
   ]
  },
  {
   "cell_type": "code",
   "execution_count": 23,
   "metadata": {},
   "outputs": [
    {
     "data": {
      "application/vnd.plotly.v1+json": {
       "config": {
        "plotlyServerURL": "https://plot.ly"
       },
       "data": [
        {
         "alignmentgroup": "True",
         "hovertemplate": "Role=Advertising and Promotion Executive<br>Education=%{x}<br>Count=%{y}<extra></extra>",
         "legendgroup": "Advertising and Promotion Executive",
         "marker": {
          "color": "#636efa",
          "pattern": {
           "shape": ""
          }
         },
         "name": "Advertising and Promotion Executive",
         "offsetgroup": "Advertising and Promotion Executive",
         "orientation": "v",
         "showlegend": true,
         "textposition": "auto",
         "type": "bar",
         "x": [
          "Middle",
          "Primary",
          "Secondary",
          "Teritary",
          "Uneducated"
         ],
         "xaxis": "x",
         "y": [
          28,
          24,
          37,
          30,
          22
         ],
         "yaxis": "y"
        },
        {
         "alignmentgroup": "True",
         "hovertemplate": "Role=Computer and Information System Executive<br>Education=%{x}<br>Count=%{y}<extra></extra>",
         "legendgroup": "Computer and Information System Executive",
         "marker": {
          "color": "#EF553B",
          "pattern": {
           "shape": ""
          }
         },
         "name": "Computer and Information System Executive",
         "offsetgroup": "Computer and Information System Executive",
         "orientation": "v",
         "showlegend": true,
         "textposition": "auto",
         "type": "bar",
         "x": [
          "Middle",
          "Primary",
          "Secondary",
          "Teritary",
          "Uneducated"
         ],
         "xaxis": "x",
         "y": [
          33,
          34,
          29,
          33,
          31
         ],
         "yaxis": "y"
        },
        {
         "alignmentgroup": "True",
         "hovertemplate": "Role=Marketing and Sales Executive<br>Education=%{x}<br>Count=%{y}<extra></extra>",
         "legendgroup": "Marketing and Sales Executive",
         "marker": {
          "color": "#00cc96",
          "pattern": {
           "shape": ""
          }
         },
         "name": "Marketing and Sales Executive",
         "offsetgroup": "Marketing and Sales Executive",
         "orientation": "v",
         "showlegend": true,
         "textposition": "auto",
         "type": "bar",
         "x": [
          "Middle",
          "Primary",
          "Secondary",
          "Teritary",
          "Uneducated"
         ],
         "xaxis": "x",
         "y": [
          41,
          27,
          24,
          31,
          39
         ],
         "yaxis": "y"
        },
        {
         "alignmentgroup": "True",
         "hovertemplate": "Role=Top Executives<br>Education=%{x}<br>Count=%{y}<extra></extra>",
         "legendgroup": "Top Executives",
         "marker": {
          "color": "#ab63fa",
          "pattern": {
           "shape": ""
          }
         },
         "name": "Top Executives",
         "offsetgroup": "Top Executives",
         "orientation": "v",
         "showlegend": true,
         "textposition": "auto",
         "type": "bar",
         "x": [
          "Middle",
          "Primary",
          "Secondary",
          "Teritary",
          "Uneducated"
         ],
         "xaxis": "x",
         "y": [
          35,
          27,
          35,
          40,
          38
         ],
         "yaxis": "y"
        },
        {
         "alignmentgroup": "True",
         "hovertemplate": "Role=Training and Development Executive<br>Education=%{x}<br>Count=%{y}<extra></extra>",
         "legendgroup": "Training and Development Executive",
         "marker": {
          "color": "#FFA15A",
          "pattern": {
           "shape": ""
          }
         },
         "name": "Training and Development Executive",
         "offsetgroup": "Training and Development Executive",
         "orientation": "v",
         "showlegend": true,
         "textposition": "auto",
         "type": "bar",
         "x": [
          "Middle",
          "Primary",
          "Secondary",
          "Teritary",
          "Uneducated"
         ],
         "xaxis": "x",
         "y": [
          34,
          32,
          36,
          38,
          32
         ],
         "yaxis": "y"
        }
       ],
       "layout": {
        "barmode": "stack",
        "legend": {
         "title": {
          "text": "Role"
         },
         "tracegroupgap": 0
        },
        "template": {
         "data": {
          "bar": [
           {
            "error_x": {
             "color": "#2a3f5f"
            },
            "error_y": {
             "color": "#2a3f5f"
            },
            "marker": {
             "line": {
              "color": "#E5ECF6",
              "width": 0.5
             },
             "pattern": {
              "fillmode": "overlay",
              "size": 10,
              "solidity": 0.2
             }
            },
            "type": "bar"
           }
          ],
          "barpolar": [
           {
            "marker": {
             "line": {
              "color": "#E5ECF6",
              "width": 0.5
             },
             "pattern": {
              "fillmode": "overlay",
              "size": 10,
              "solidity": 0.2
             }
            },
            "type": "barpolar"
           }
          ],
          "carpet": [
           {
            "aaxis": {
             "endlinecolor": "#2a3f5f",
             "gridcolor": "white",
             "linecolor": "white",
             "minorgridcolor": "white",
             "startlinecolor": "#2a3f5f"
            },
            "baxis": {
             "endlinecolor": "#2a3f5f",
             "gridcolor": "white",
             "linecolor": "white",
             "minorgridcolor": "white",
             "startlinecolor": "#2a3f5f"
            },
            "type": "carpet"
           }
          ],
          "choropleth": [
           {
            "colorbar": {
             "outlinewidth": 0,
             "ticks": ""
            },
            "type": "choropleth"
           }
          ],
          "contour": [
           {
            "colorbar": {
             "outlinewidth": 0,
             "ticks": ""
            },
            "colorscale": [
             [
              0,
              "#0d0887"
             ],
             [
              0.1111111111111111,
              "#46039f"
             ],
             [
              0.2222222222222222,
              "#7201a8"
             ],
             [
              0.3333333333333333,
              "#9c179e"
             ],
             [
              0.4444444444444444,
              "#bd3786"
             ],
             [
              0.5555555555555556,
              "#d8576b"
             ],
             [
              0.6666666666666666,
              "#ed7953"
             ],
             [
              0.7777777777777778,
              "#fb9f3a"
             ],
             [
              0.8888888888888888,
              "#fdca26"
             ],
             [
              1,
              "#f0f921"
             ]
            ],
            "type": "contour"
           }
          ],
          "contourcarpet": [
           {
            "colorbar": {
             "outlinewidth": 0,
             "ticks": ""
            },
            "type": "contourcarpet"
           }
          ],
          "heatmap": [
           {
            "colorbar": {
             "outlinewidth": 0,
             "ticks": ""
            },
            "colorscale": [
             [
              0,
              "#0d0887"
             ],
             [
              0.1111111111111111,
              "#46039f"
             ],
             [
              0.2222222222222222,
              "#7201a8"
             ],
             [
              0.3333333333333333,
              "#9c179e"
             ],
             [
              0.4444444444444444,
              "#bd3786"
             ],
             [
              0.5555555555555556,
              "#d8576b"
             ],
             [
              0.6666666666666666,
              "#ed7953"
             ],
             [
              0.7777777777777778,
              "#fb9f3a"
             ],
             [
              0.8888888888888888,
              "#fdca26"
             ],
             [
              1,
              "#f0f921"
             ]
            ],
            "type": "heatmap"
           }
          ],
          "heatmapgl": [
           {
            "colorbar": {
             "outlinewidth": 0,
             "ticks": ""
            },
            "colorscale": [
             [
              0,
              "#0d0887"
             ],
             [
              0.1111111111111111,
              "#46039f"
             ],
             [
              0.2222222222222222,
              "#7201a8"
             ],
             [
              0.3333333333333333,
              "#9c179e"
             ],
             [
              0.4444444444444444,
              "#bd3786"
             ],
             [
              0.5555555555555556,
              "#d8576b"
             ],
             [
              0.6666666666666666,
              "#ed7953"
             ],
             [
              0.7777777777777778,
              "#fb9f3a"
             ],
             [
              0.8888888888888888,
              "#fdca26"
             ],
             [
              1,
              "#f0f921"
             ]
            ],
            "type": "heatmapgl"
           }
          ],
          "histogram": [
           {
            "marker": {
             "pattern": {
              "fillmode": "overlay",
              "size": 10,
              "solidity": 0.2
             }
            },
            "type": "histogram"
           }
          ],
          "histogram2d": [
           {
            "colorbar": {
             "outlinewidth": 0,
             "ticks": ""
            },
            "colorscale": [
             [
              0,
              "#0d0887"
             ],
             [
              0.1111111111111111,
              "#46039f"
             ],
             [
              0.2222222222222222,
              "#7201a8"
             ],
             [
              0.3333333333333333,
              "#9c179e"
             ],
             [
              0.4444444444444444,
              "#bd3786"
             ],
             [
              0.5555555555555556,
              "#d8576b"
             ],
             [
              0.6666666666666666,
              "#ed7953"
             ],
             [
              0.7777777777777778,
              "#fb9f3a"
             ],
             [
              0.8888888888888888,
              "#fdca26"
             ],
             [
              1,
              "#f0f921"
             ]
            ],
            "type": "histogram2d"
           }
          ],
          "histogram2dcontour": [
           {
            "colorbar": {
             "outlinewidth": 0,
             "ticks": ""
            },
            "colorscale": [
             [
              0,
              "#0d0887"
             ],
             [
              0.1111111111111111,
              "#46039f"
             ],
             [
              0.2222222222222222,
              "#7201a8"
             ],
             [
              0.3333333333333333,
              "#9c179e"
             ],
             [
              0.4444444444444444,
              "#bd3786"
             ],
             [
              0.5555555555555556,
              "#d8576b"
             ],
             [
              0.6666666666666666,
              "#ed7953"
             ],
             [
              0.7777777777777778,
              "#fb9f3a"
             ],
             [
              0.8888888888888888,
              "#fdca26"
             ],
             [
              1,
              "#f0f921"
             ]
            ],
            "type": "histogram2dcontour"
           }
          ],
          "mesh3d": [
           {
            "colorbar": {
             "outlinewidth": 0,
             "ticks": ""
            },
            "type": "mesh3d"
           }
          ],
          "parcoords": [
           {
            "line": {
             "colorbar": {
              "outlinewidth": 0,
              "ticks": ""
             }
            },
            "type": "parcoords"
           }
          ],
          "pie": [
           {
            "automargin": true,
            "type": "pie"
           }
          ],
          "scatter": [
           {
            "fillpattern": {
             "fillmode": "overlay",
             "size": 10,
             "solidity": 0.2
            },
            "type": "scatter"
           }
          ],
          "scatter3d": [
           {
            "line": {
             "colorbar": {
              "outlinewidth": 0,
              "ticks": ""
             }
            },
            "marker": {
             "colorbar": {
              "outlinewidth": 0,
              "ticks": ""
             }
            },
            "type": "scatter3d"
           }
          ],
          "scattercarpet": [
           {
            "marker": {
             "colorbar": {
              "outlinewidth": 0,
              "ticks": ""
             }
            },
            "type": "scattercarpet"
           }
          ],
          "scattergeo": [
           {
            "marker": {
             "colorbar": {
              "outlinewidth": 0,
              "ticks": ""
             }
            },
            "type": "scattergeo"
           }
          ],
          "scattergl": [
           {
            "marker": {
             "colorbar": {
              "outlinewidth": 0,
              "ticks": ""
             }
            },
            "type": "scattergl"
           }
          ],
          "scattermapbox": [
           {
            "marker": {
             "colorbar": {
              "outlinewidth": 0,
              "ticks": ""
             }
            },
            "type": "scattermapbox"
           }
          ],
          "scatterpolar": [
           {
            "marker": {
             "colorbar": {
              "outlinewidth": 0,
              "ticks": ""
             }
            },
            "type": "scatterpolar"
           }
          ],
          "scatterpolargl": [
           {
            "marker": {
             "colorbar": {
              "outlinewidth": 0,
              "ticks": ""
             }
            },
            "type": "scatterpolargl"
           }
          ],
          "scatterternary": [
           {
            "marker": {
             "colorbar": {
              "outlinewidth": 0,
              "ticks": ""
             }
            },
            "type": "scatterternary"
           }
          ],
          "surface": [
           {
            "colorbar": {
             "outlinewidth": 0,
             "ticks": ""
            },
            "colorscale": [
             [
              0,
              "#0d0887"
             ],
             [
              0.1111111111111111,
              "#46039f"
             ],
             [
              0.2222222222222222,
              "#7201a8"
             ],
             [
              0.3333333333333333,
              "#9c179e"
             ],
             [
              0.4444444444444444,
              "#bd3786"
             ],
             [
              0.5555555555555556,
              "#d8576b"
             ],
             [
              0.6666666666666666,
              "#ed7953"
             ],
             [
              0.7777777777777778,
              "#fb9f3a"
             ],
             [
              0.8888888888888888,
              "#fdca26"
             ],
             [
              1,
              "#f0f921"
             ]
            ],
            "type": "surface"
           }
          ],
          "table": [
           {
            "cells": {
             "fill": {
              "color": "#EBF0F8"
             },
             "line": {
              "color": "white"
             }
            },
            "header": {
             "fill": {
              "color": "#C8D4E3"
             },
             "line": {
              "color": "white"
             }
            },
            "type": "table"
           }
          ]
         },
         "layout": {
          "annotationdefaults": {
           "arrowcolor": "#2a3f5f",
           "arrowhead": 0,
           "arrowwidth": 1
          },
          "autotypenumbers": "strict",
          "coloraxis": {
           "colorbar": {
            "outlinewidth": 0,
            "ticks": ""
           }
          },
          "colorscale": {
           "diverging": [
            [
             0,
             "#8e0152"
            ],
            [
             0.1,
             "#c51b7d"
            ],
            [
             0.2,
             "#de77ae"
            ],
            [
             0.3,
             "#f1b6da"
            ],
            [
             0.4,
             "#fde0ef"
            ],
            [
             0.5,
             "#f7f7f7"
            ],
            [
             0.6,
             "#e6f5d0"
            ],
            [
             0.7,
             "#b8e186"
            ],
            [
             0.8,
             "#7fbc41"
            ],
            [
             0.9,
             "#4d9221"
            ],
            [
             1,
             "#276419"
            ]
           ],
           "sequential": [
            [
             0,
             "#0d0887"
            ],
            [
             0.1111111111111111,
             "#46039f"
            ],
            [
             0.2222222222222222,
             "#7201a8"
            ],
            [
             0.3333333333333333,
             "#9c179e"
            ],
            [
             0.4444444444444444,
             "#bd3786"
            ],
            [
             0.5555555555555556,
             "#d8576b"
            ],
            [
             0.6666666666666666,
             "#ed7953"
            ],
            [
             0.7777777777777778,
             "#fb9f3a"
            ],
            [
             0.8888888888888888,
             "#fdca26"
            ],
            [
             1,
             "#f0f921"
            ]
           ],
           "sequentialminus": [
            [
             0,
             "#0d0887"
            ],
            [
             0.1111111111111111,
             "#46039f"
            ],
            [
             0.2222222222222222,
             "#7201a8"
            ],
            [
             0.3333333333333333,
             "#9c179e"
            ],
            [
             0.4444444444444444,
             "#bd3786"
            ],
            [
             0.5555555555555556,
             "#d8576b"
            ],
            [
             0.6666666666666666,
             "#ed7953"
            ],
            [
             0.7777777777777778,
             "#fb9f3a"
            ],
            [
             0.8888888888888888,
             "#fdca26"
            ],
            [
             1,
             "#f0f921"
            ]
           ]
          },
          "colorway": [
           "#636efa",
           "#EF553B",
           "#00cc96",
           "#ab63fa",
           "#FFA15A",
           "#19d3f3",
           "#FF6692",
           "#B6E880",
           "#FF97FF",
           "#FECB52"
          ],
          "font": {
           "color": "#2a3f5f"
          },
          "geo": {
           "bgcolor": "white",
           "lakecolor": "white",
           "landcolor": "#E5ECF6",
           "showlakes": true,
           "showland": true,
           "subunitcolor": "white"
          },
          "hoverlabel": {
           "align": "left"
          },
          "hovermode": "closest",
          "mapbox": {
           "style": "light"
          },
          "paper_bgcolor": "white",
          "plot_bgcolor": "#E5ECF6",
          "polar": {
           "angularaxis": {
            "gridcolor": "white",
            "linecolor": "white",
            "ticks": ""
           },
           "bgcolor": "#E5ECF6",
           "radialaxis": {
            "gridcolor": "white",
            "linecolor": "white",
            "ticks": ""
           }
          },
          "scene": {
           "xaxis": {
            "backgroundcolor": "#E5ECF6",
            "gridcolor": "white",
            "gridwidth": 2,
            "linecolor": "white",
            "showbackground": true,
            "ticks": "",
            "zerolinecolor": "white"
           },
           "yaxis": {
            "backgroundcolor": "#E5ECF6",
            "gridcolor": "white",
            "gridwidth": 2,
            "linecolor": "white",
            "showbackground": true,
            "ticks": "",
            "zerolinecolor": "white"
           },
           "zaxis": {
            "backgroundcolor": "#E5ECF6",
            "gridcolor": "white",
            "gridwidth": 2,
            "linecolor": "white",
            "showbackground": true,
            "ticks": "",
            "zerolinecolor": "white"
           }
          },
          "shapedefaults": {
           "line": {
            "color": "#2a3f5f"
           }
          },
          "ternary": {
           "aaxis": {
            "gridcolor": "white",
            "linecolor": "white",
            "ticks": ""
           },
           "baxis": {
            "gridcolor": "white",
            "linecolor": "white",
            "ticks": ""
           },
           "bgcolor": "#E5ECF6",
           "caxis": {
            "gridcolor": "white",
            "linecolor": "white",
            "ticks": ""
           }
          },
          "title": {
           "x": 0.05
          },
          "xaxis": {
           "automargin": true,
           "gridcolor": "white",
           "linecolor": "white",
           "ticks": "",
           "title": {
            "standoff": 15
           },
           "zerolinecolor": "white",
           "zerolinewidth": 2
          },
          "yaxis": {
           "automargin": true,
           "gridcolor": "white",
           "linecolor": "white",
           "ticks": "",
           "title": {
            "standoff": 15
           },
           "zerolinecolor": "white",
           "zerolinewidth": 2
          }
         }
        },
        "title": {
         "text": "Demographic Distribution"
        },
        "xaxis": {
         "anchor": "y",
         "domain": [
          0,
          1
         ],
         "title": {
          "text": "Education"
         }
        },
        "yaxis": {
         "anchor": "x",
         "domain": [
          0,
          1
         ],
         "title": {
          "text": "Count"
         }
        }
       }
      }
     },
     "metadata": {},
     "output_type": "display_data"
    }
   ],
   "source": [
    "# edu.columns = ['Education', 'Count']\n",
    "# role.columns = ['Role', 'Count']\n",
    "# lower.columns = ['Lower Income in Dollars', 'Count']\n",
    "# upper.columns = ['Upper Income in Dollars','Count']\n",
    "grouped_df = df.groupby(['Education', 'Role']).size().reset_index(name='Count')\n",
    "stacked_fig = px.bar(grouped_df, x='Education', y='Count', color='Role', title='Demographic Distribution',\n",
    "                      barmode='stack')\n",
    "stacked_fig.show()"
   ]
  },
  {
   "cell_type": "code",
   "execution_count": null,
   "metadata": {},
   "outputs": [],
   "source": []
  }
 ],
 "metadata": {
  "kernelspec": {
   "display_name": "Python 3",
   "language": "python",
   "name": "python3"
  },
  "language_info": {
   "codemirror_mode": {
    "name": "ipython",
    "version": 3
   },
   "file_extension": ".py",
   "mimetype": "text/x-python",
   "name": "python",
   "nbconvert_exporter": "python",
   "pygments_lexer": "ipython3",
   "version": "3.11.3"
  }
 },
 "nbformat": 4,
 "nbformat_minor": 2
}
